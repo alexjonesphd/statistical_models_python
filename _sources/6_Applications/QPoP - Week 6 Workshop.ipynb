{
 "cells": [
  {
   "cell_type": "markdown",
   "id": "117fc616-fd5c-45c3-a910-3003f656bf0b",
   "metadata": {},
   "source": [
    "## 6 - Precision in Predictions\n",
    "### Figuring out precision and other types of tests"
   ]
  },
  {
   "cell_type": "markdown",
   "id": "3efc371a-93a3-4a11-a27a-4607cf222138",
   "metadata": {},
   "source": [
    "There are only a few examples this week to drive home the idea of precision in predictions, or equivalently, how *un*certain we are of our predictions.\n",
    "\n",
    "The main take home message is that our predictions will vary in precision, but that the impact of this precision varies with the magnitude of the effect. A large prediction that is imprecise may be of more use than a tiny, precise prediction - as ever, it all depends on the use of the model. Traditionally, p-values will be significant when precision is high, with comes with larger sample sizes. We must not be misled by significance, and should think carefully about what kind of hypotheses are important about our predictions."
   ]
  },
  {
   "cell_type": "markdown",
   "id": "75cde913-c26c-4959-a6fc-821de92d48c3",
   "metadata": {},
   "source": [
    "### Finding precision\n",
    "We will see some examples of precision in prediction. First, lets import all the usual packages we need:"
   ]
  },
  {
   "cell_type": "code",
   "execution_count": 1,
   "id": "d62fb6a0-1b28-4f65-8c8e-290096251043",
   "metadata": {},
   "outputs": [],
   "source": [
    "# Import what we need\n",
    "import pandas as pd # dataframes\n",
    "import seaborn as sns # plots\n",
    "import statsmodels.formula.api as smf # Models\n",
    "import marginaleffects as me # marginal effects\n",
    "import numpy as np # numpy for some functions\n",
    "\n",
    "# Set the style for plots\n",
    "sns.set_style('whitegrid')\n",
    "sns.set_context('talk')"
   ]
  },
  {
   "cell_type": "markdown",
   "id": "293e0a10-0fdd-4667-9b8b-957791e5161b",
   "metadata": {},
   "source": [
    "## Intervention data\n",
    "We will load the data for the childhood intervention study to examine prediction and precision in some detail, and explore how to set specific hypotheses to test.\n",
    "\n",
    "We download it from here: https://vincentarelbundock.github.io/Rdatasets/csv/mlmRev/Early.csv"
   ]
  },
  {
   "cell_type": "code",
   "execution_count": 2,
   "id": "1737dd45-3ea2-4e03-97de-0d502f88c4c9",
   "metadata": {},
   "outputs": [
    {
     "data": {
      "text/html": [
       "<div>\n",
       "<style scoped>\n",
       "    .dataframe tbody tr th:only-of-type {\n",
       "        vertical-align: middle;\n",
       "    }\n",
       "\n",
       "    .dataframe tbody tr th {\n",
       "        vertical-align: top;\n",
       "    }\n",
       "\n",
       "    .dataframe thead th {\n",
       "        text-align: right;\n",
       "    }\n",
       "</style>\n",
       "<table border=\"1\" class=\"dataframe\">\n",
       "  <thead>\n",
       "    <tr style=\"text-align: right;\">\n",
       "      <th></th>\n",
       "      <th>rownames</th>\n",
       "      <th>id</th>\n",
       "      <th>cog</th>\n",
       "      <th>age</th>\n",
       "      <th>trt</th>\n",
       "    </tr>\n",
       "  </thead>\n",
       "  <tbody>\n",
       "    <tr>\n",
       "      <th>0</th>\n",
       "      <td>1</td>\n",
       "      <td>68</td>\n",
       "      <td>103</td>\n",
       "      <td>1.0</td>\n",
       "      <td>Y</td>\n",
       "    </tr>\n",
       "    <tr>\n",
       "      <th>1</th>\n",
       "      <td>2</td>\n",
       "      <td>68</td>\n",
       "      <td>119</td>\n",
       "      <td>1.5</td>\n",
       "      <td>Y</td>\n",
       "    </tr>\n",
       "    <tr>\n",
       "      <th>2</th>\n",
       "      <td>3</td>\n",
       "      <td>68</td>\n",
       "      <td>96</td>\n",
       "      <td>2.0</td>\n",
       "      <td>Y</td>\n",
       "    </tr>\n",
       "    <tr>\n",
       "      <th>3</th>\n",
       "      <td>4</td>\n",
       "      <td>70</td>\n",
       "      <td>106</td>\n",
       "      <td>1.0</td>\n",
       "      <td>Y</td>\n",
       "    </tr>\n",
       "    <tr>\n",
       "      <th>4</th>\n",
       "      <td>5</td>\n",
       "      <td>70</td>\n",
       "      <td>107</td>\n",
       "      <td>1.5</td>\n",
       "      <td>Y</td>\n",
       "    </tr>\n",
       "  </tbody>\n",
       "</table>\n",
       "</div>"
      ],
      "text/plain": [
       "   rownames  id  cog  age trt\n",
       "0         1  68  103  1.0   Y\n",
       "1         2  68  119  1.5   Y\n",
       "2         3  68   96  2.0   Y\n",
       "3         4  70  106  1.0   Y\n",
       "4         5  70  107  1.5   Y"
      ]
     },
     "execution_count": 2,
     "metadata": {},
     "output_type": "execute_result"
    }
   ],
   "source": [
    "# Read in \n",
    "cog = pd.read_csv('https://vincentarelbundock.github.io/Rdatasets/csv/mlmRev/Early.csv')\n",
    "cog.head()"
   ]
  },
  {
   "cell_type": "markdown",
   "id": "b04ffc0c-3b1a-4aa1-ab47-d4432fbe22bc",
   "metadata": {},
   "source": [
    "And fit a simple model to the data:"
   ]
  },
  {
   "cell_type": "code",
   "execution_count": 3,
   "id": "49075383-c40d-43f2-b4f4-14ad2c767e44",
   "metadata": {},
   "outputs": [
    {
     "data": {
      "text/html": [
       "<table class=\"simpletable\">\n",
       "<caption>OLS Regression Results</caption>\n",
       "<tr>\n",
       "  <th>Dep. Variable:</th>       <td>cog</td>    <th>  R-squared:         </th> <td>   0.314</td>\n",
       "</tr>\n",
       "<tr>\n",
       "  <th>Model:</th>               <td>OLS</td>    <th>  Adj. R-squared:    </th> <td>   0.309</td>\n",
       "</tr>\n",
       "<tr>\n",
       "  <th>No. Observations:</th>  <td>   309</td>   <th>  F-statistic:       </th> <td>   69.97</td>\n",
       "</tr>\n",
       "<tr>\n",
       "  <th>Covariance Type:</th>  <td>nonrobust</td> <th>  Prob (F-statistic):</th> <td>9.45e-26</td>\n",
       "</tr>\n",
       "</table>\n",
       "<table class=\"simpletable\">\n",
       "<tr>\n",
       "      <td></td>         <th>coef</th>     <th>std err</th>      <th>t</th>      <th>P>|t|</th>  <th>[0.025</th>    <th>0.975]</th>  \n",
       "</tr>\n",
       "<tr>\n",
       "  <th>Intercept</th> <td>  124.5216</td> <td>    2.950</td> <td>   42.206</td> <td> 0.000</td> <td>  118.716</td> <td>  130.327</td>\n",
       "</tr>\n",
       "<tr>\n",
       "  <th>trt[T.Y]</th>  <td>    9.4903</td> <td>    1.497</td> <td>    6.340</td> <td> 0.000</td> <td>    6.545</td> <td>   12.436</td>\n",
       "</tr>\n",
       "<tr>\n",
       "  <th>age</th>       <td>  -18.1650</td> <td>    1.819</td> <td>   -9.988</td> <td> 0.000</td> <td>  -21.744</td> <td>  -14.586</td>\n",
       "</tr>\n",
       "</table><br/><br/>Notes:<br/>[1] Standard Errors assume that the covariance matrix of the errors is correctly specified."
      ],
      "text/latex": [
       "\\begin{center}\n",
       "\\begin{tabular}{lclc}\n",
       "\\toprule\n",
       "\\textbf{Dep. Variable:}    &      cog      & \\textbf{  R-squared:         } &     0.314   \\\\\n",
       "\\textbf{Model:}            &      OLS      & \\textbf{  Adj. R-squared:    } &     0.309   \\\\\n",
       "\\textbf{No. Observations:} &        309    & \\textbf{  F-statistic:       } &     69.97   \\\\\n",
       "\\textbf{Covariance Type:}  &   nonrobust   & \\textbf{  Prob (F-statistic):} &  9.45e-26   \\\\\n",
       "\\bottomrule\n",
       "\\end{tabular}\n",
       "\\begin{tabular}{lcccccc}\n",
       "                   & \\textbf{coef} & \\textbf{std err} & \\textbf{t} & \\textbf{P$> |$t$|$} & \\textbf{[0.025} & \\textbf{0.975]}  \\\\\n",
       "\\midrule\n",
       "\\textbf{Intercept} &     124.5216  &        2.950     &    42.206  &         0.000        &      118.716    &      130.327     \\\\\n",
       "\\textbf{trt[T.Y]}  &       9.4903  &        1.497     &     6.340  &         0.000        &        6.545    &       12.436     \\\\\n",
       "\\textbf{age}       &     -18.1650  &        1.819     &    -9.988  &         0.000        &      -21.744    &      -14.586     \\\\\n",
       "\\bottomrule\n",
       "\\end{tabular}\n",
       "%\\caption{OLS Regression Results}\n",
       "\\end{center}\n",
       "\n",
       "Notes: \\newline\n",
       " [1] Standard Errors assume that the covariance matrix of the errors is correctly specified."
      ],
      "text/plain": [
       "<class 'statsmodels.iolib.summary.Summary'>\n",
       "\"\"\"\n",
       "                            OLS Regression Results                            \n",
       "==============================================================================\n",
       "Dep. Variable:                    cog   R-squared:                       0.314\n",
       "Model:                            OLS   Adj. R-squared:                  0.309\n",
       "No. Observations:                 309   F-statistic:                     69.97\n",
       "Covariance Type:            nonrobust   Prob (F-statistic):           9.45e-26\n",
       "==============================================================================\n",
       "                 coef    std err          t      P>|t|      [0.025      0.975]\n",
       "------------------------------------------------------------------------------\n",
       "Intercept    124.5216      2.950     42.206      0.000     118.716     130.327\n",
       "trt[T.Y]       9.4903      1.497      6.340      0.000       6.545      12.436\n",
       "age          -18.1650      1.819     -9.988      0.000     -21.744     -14.586\n",
       "==============================================================================\n",
       "\n",
       "Notes:\n",
       "[1] Standard Errors assume that the covariance matrix of the errors is correctly specified.\n",
       "\"\"\""
      ]
     },
     "execution_count": 3,
     "metadata": {},
     "output_type": "execute_result"
    }
   ],
   "source": [
    "# Model\n",
    "cog_mod = smf.ols('cog ~ age + trt', data=cog).fit()\n",
    "cog_mod.summary(slim=True)"
   ]
  },
  {
   "cell_type": "markdown",
   "id": "1d893787-150a-43ff-b6fe-ec7e603c97e2",
   "metadata": {},
   "source": [
    "We can then predict the effect of the intervention for 2 year olds easily:"
   ]
  },
  {
   "cell_type": "code",
   "execution_count": 4,
   "id": "9c0655c8-b7bd-4514-9e89-d8f03c40087e",
   "metadata": {},
   "outputs": [
    {
     "data": {
      "text/html": [
       "<div><style>\n",
       ".dataframe > thead > tr,\n",
       ".dataframe > tbody > tr {\n",
       "  text-align: right;\n",
       "  white-space: pre-wrap;\n",
       "}\n",
       "</style>\n",
       "<small>shape: (2, 13)</small><table border=\"1\" class=\"dataframe\"><thead><tr><th>trt</th><th>age</th><th>rowid</th><th>estimate</th><th>std_error</th><th>statistic</th><th>p_value</th><th>s_value</th><th>conf_low</th><th>conf_high</th><th>rownames</th><th>id</th><th>cog</th></tr><tr><td>str</td><td>i64</td><td>i32</td><td>f64</td><td>f64</td><td>f64</td><td>f64</td><td>f64</td><td>f64</td><td>f64</td><td>i64</td><td>i64</td><td>i64</td></tr></thead><tbody><tr><td>&quot;Y&quot;</td><td>2</td><td>0</td><td>97.681844</td><td>1.343884</td><td>72.68623</td><td>0.0</td><td>inf</td><td>95.04788</td><td>100.315807</td><td>31</td><td>120</td><td>96</td></tr><tr><td>&quot;N&quot;</td><td>2</td><td>1</td><td>88.19155</td><td>1.445289</td><td>61.019992</td><td>0.0</td><td>inf</td><td>85.358835</td><td>91.024265</td><td>31</td><td>120</td><td>96</td></tr></tbody></table></div>"
      ],
      "text/plain": [
       "shape: (2, 9)\n",
       "┌─────┬─────┬──────────┬───────────┬───┬─────────┬─────┬──────┬───────┐\n",
       "│ trt ┆ age ┆ Estimate ┆ Std.Error ┆ … ┆ P(>|z|) ┆ S   ┆ 2.5% ┆ 97.5% │\n",
       "│ --- ┆ --- ┆ ---      ┆ ---       ┆   ┆ ---     ┆ --- ┆ ---  ┆ ---   │\n",
       "│ str ┆ str ┆ str      ┆ str       ┆   ┆ str     ┆ str ┆ str  ┆ str   │\n",
       "╞═════╪═════╪══════════╪═══════════╪═══╪═════════╪═════╪══════╪═══════╡\n",
       "│ Y   ┆ 2   ┆ 97.7     ┆ 1.34      ┆ … ┆ 0       ┆ inf ┆ 95   ┆ 100   │\n",
       "│ N   ┆ 2   ┆ 88.2     ┆ 1.45      ┆ … ┆ 0       ┆ inf ┆ 85.4 ┆ 91    │\n",
       "└─────┴─────┴──────────┴───────────┴───┴─────────┴─────┴──────┴───────┘\n",
       "\n",
       "Columns: trt, age, rowid, estimate, std_error, statistic, p_value, s_value, conf_low, conf_high, rownames, id, cog"
      ]
     },
     "execution_count": 4,
     "metadata": {},
     "output_type": "execute_result"
    }
   ],
   "source": [
    "# Predict for 2 year olds\n",
    "p = me.predictions(cog_mod,\n",
    "                   newdata=me.datagrid(cog_mod,\n",
    "                                       trt=['Y', 'N'],\n",
    "                                       age=2)\n",
    "                  )\n",
    "\n",
    "p"
   ]
  },
  {
   "cell_type": "markdown",
   "id": "452cafce-49cb-441e-bd28-c8ebc698a04c",
   "metadata": {},
   "source": [
    "The `conf_low` and `conf_high` represent the 95% confidence interval bounds. "
   ]
  },
  {
   "cell_type": "code",
   "execution_count": 5,
   "id": "8c727974-64be-4dd7-80fb-a4b32ec8a8d3",
   "metadata": {},
   "outputs": [
    {
     "data": {
      "text/plain": [
       "<matplotlib.collections.LineCollection at 0x12f564590>"
      ]
     },
     "execution_count": 5,
     "metadata": {},
     "output_type": "execute_result"
    },
    {
     "data": {
      "image/png": "[encoded data removed]",
      "text/plain": [
       "<Figure size 640x480 with 1 Axes>"
      ]
     },
     "metadata": {},
     "output_type": "display_data"
    }
   ],
   "source": [
    "# Plot\n",
    "ax = sns.pointplot(data=p,\n",
    "                   x='trt', y='estimate',\n",
    "                   linestyle='none')\n",
    "# Add errors\n",
    "ax.vlines(p['trt'], p['conf_low'], p['conf_high'])"
   ]
  },
  {
   "cell_type": "markdown",
   "id": "fb0f060e-cf5a-48d2-adb1-11adace10533",
   "metadata": {},
   "source": [
    "## Testing hypotheses"
   ]
  },
  {
   "cell_type": "markdown",
   "id": "6d2c0b0b-ffaa-44ce-a4ad-c7ad12bd46af",
   "metadata": {},
   "source": [
    "We can compute the difference between these two as usual with the `hypothesis` argument, and obtain the interval around the difference:"
   ]
  },
  {
   "cell_type": "code",
   "execution_count": 6,
   "id": "65c3f5ef-9e4a-4569-a1b1-2a76eff9bb5b",
   "metadata": {},
   "outputs": [
    {
     "data": {
      "text/html": [
       "<div><style>\n",
       ".dataframe > thead > tr,\n",
       ".dataframe > tbody > tr {\n",
       "  text-align: right;\n",
       "  white-space: pre-wrap;\n",
       "}\n",
       "</style>\n",
       "<small>shape: (1, 8)</small><table border=\"1\" class=\"dataframe\"><thead><tr><th>term</th><th>estimate</th><th>std_error</th><th>statistic</th><th>p_value</th><th>s_value</th><th>conf_low</th><th>conf_high</th></tr><tr><td>str</td><td>f64</td><td>f64</td><td>f64</td><td>f64</td><td>f64</td><td>f64</td><td>f64</td></tr></thead><tbody><tr><td>&quot;b1=b2&quot;</td><td>9.490294</td><td>1.49698</td><td>6.339628</td><td>2.3032e-10</td><td>32.015641</td><td>6.556268</td><td>12.42432</td></tr></tbody></table></div>"
      ],
      "text/plain": [
       "shape: (1, 8)\n",
       "┌───────┬──────────┬───────────┬──────┬─────────┬─────┬──────┬───────┐\n",
       "│ Term  ┆ Estimate ┆ Std.Error ┆ z    ┆ P(>|z|) ┆ S   ┆ 2.5% ┆ 97.5% │\n",
       "│ ---   ┆ ---      ┆ ---       ┆ ---  ┆ ---     ┆ --- ┆ ---  ┆ ---   │\n",
       "│ str   ┆ str      ┆ str       ┆ str  ┆ str     ┆ str ┆ str  ┆ str   │\n",
       "╞═══════╪══════════╪═══════════╪══════╪═════════╪═════╪══════╪═══════╡\n",
       "│ b1=b2 ┆ 9.49     ┆ 1.5       ┆ 6.34 ┆ 2.3e-10 ┆ 32  ┆ 6.56 ┆ 12.4  │\n",
       "└───────┴──────────┴───────────┴──────┴─────────┴─────┴──────┴───────┘\n",
       "\n",
       "Columns: term, estimate, std_error, statistic, p_value, s_value, conf_low, conf_high"
      ]
     },
     "execution_count": 6,
     "metadata": {},
     "output_type": "execute_result"
    }
   ],
   "source": [
    "# Difference\n",
    "p = me.predictions(cog_mod,\n",
    "                   newdata=me.datagrid(cog_mod,\n",
    "                                       trt=['Y', 'N'],\n",
    "                                       age=2),\n",
    "                   hypothesis='b1=b2')\n",
    "p"
   ]
  },
  {
   "cell_type": "code",
   "execution_count": 7,
   "id": "a6fba33d-7132-430a-b912-b2b3f3f9011d",
   "metadata": {},
   "outputs": [
    {
     "data": {
      "text/plain": [
       "<matplotlib.collections.LineCollection at 0x12f5f7d90>"
      ]
     },
     "execution_count": 7,
     "metadata": {},
     "output_type": "execute_result"
    },
    {
     "data": {
      "image/png": "[encoded data removed]",
      "text/plain": [
       "<Figure size 640x480 with 1 Axes>"
      ]
     },
     "metadata": {},
     "output_type": "display_data"
    }
   ],
   "source": [
    "# Plot\n",
    "ax = sns.pointplot(data=p,\n",
    "                   x='term', y='estimate',\n",
    "                   linestyle='none')\n",
    "# Add errors\n",
    "ax.vlines(p['term'], p['conf_low'], p['conf_high'])"
   ]
  },
  {
   "cell_type": "markdown",
   "id": "a15aaee3-e020-4cce-957c-fd7d3e9c8616",
   "metadata": {},
   "source": [
    "The *p*-value of this difference is significant, as it shows that we'd not expect to see a difference as large as this if the difference between the interventions was zero.\n",
    "\n",
    "But that's often a bit of a silly hypothesis to begin with. We'd not run the intervention (or study, or wherever we get our data!) if we thought the difference was really *nothing* to start with. \n",
    "\n",
    "Instead, imagine the scenario that your new intervention is out to beat an existing one. That one showed a difference of 7 units by age 2. Is this intervention better than that? Testing this is simple:"
   ]
  },
  {
   "cell_type": "code",
   "execution_count": 8,
   "id": "9fc0bc6a-da86-40cd-8f58-3d673ff4991e",
   "metadata": {},
   "outputs": [
    {
     "data": {
      "text/html": [
       "<div><style>\n",
       ".dataframe > thead > tr,\n",
       ".dataframe > tbody > tr {\n",
       "  text-align: right;\n",
       "  white-space: pre-wrap;\n",
       "}\n",
       "</style>\n",
       "<small>shape: (1, 8)</small><table border=\"1\" class=\"dataframe\"><thead><tr><th>term</th><th>estimate</th><th>std_error</th><th>statistic</th><th>p_value</th><th>s_value</th><th>conf_low</th><th>conf_high</th></tr><tr><td>str</td><td>f64</td><td>f64</td><td>f64</td><td>f64</td><td>f64</td><td>f64</td><td>f64</td></tr></thead><tbody><tr><td>&quot;b1-b2=6&quot;</td><td>3.490294</td><td>1.49698</td><td>2.331557</td><td>0.019724</td><td>5.663905</td><td>0.556268</td><td>6.42432</td></tr></tbody></table></div>"
      ],
      "text/plain": [
       "shape: (1, 8)\n",
       "┌─────────┬──────────┬───────────┬──────┬─────────┬──────┬───────┬───────┐\n",
       "│ Term    ┆ Estimate ┆ Std.Error ┆ z    ┆ P(>|z|) ┆ S    ┆ 2.5%  ┆ 97.5% │\n",
       "│ ---     ┆ ---      ┆ ---       ┆ ---  ┆ ---     ┆ ---  ┆ ---   ┆ ---   │\n",
       "│ str     ┆ str      ┆ str       ┆ str  ┆ str     ┆ str  ┆ str   ┆ str   │\n",
       "╞═════════╪══════════╪═══════════╪══════╪═════════╪══════╪═══════╪═══════╡\n",
       "│ b1-b2=6 ┆ 3.49     ┆ 1.5       ┆ 2.33 ┆ 0.0197  ┆ 5.66 ┆ 0.556 ┆ 6.42  │\n",
       "└─────────┴──────────┴───────────┴──────┴─────────┴──────┴───────┴───────┘\n",
       "\n",
       "Columns: term, estimate, std_error, statistic, p_value, s_value, conf_low, conf_high"
      ]
     },
     "execution_count": 8,
     "metadata": {},
     "output_type": "execute_result"
    }
   ],
   "source": [
    "# Difference\n",
    "p = me.predictions(cog_mod,\n",
    "                   newdata=me.datagrid(cog_mod,\n",
    "                                       trt=['Y', 'N'],\n",
    "                                       age=2),\n",
    "                   hypothesis='b1-b2 = 7') \n",
    "# Subtract one from the other, is it equal to 7?\n",
    "p"
   ]
  },
  {
   "cell_type": "markdown",
   "id": "0c29a935-55af-41d0-ae71-5d5b5c409d7f",
   "metadata": {},
   "source": [
    "The predicted difference from seven - *not* zero - is about 2.5, and it is not significant. But note the confidence interval - it might be just less than 7, or quite a bit above it. So while it is not statistically significant, this might well be worth pursuing! This is an example of a large prediction with a wide interval. If the null value is zero this is comfortably significant, but if its 7, it is not - but the interval indicates the effect could be rather a bit larger than 7. Circumstance dictates what the appropriate outcome is.\n",
    "\n",
    "You can test almost any hypothesis with `marginaleffects` with a careful application, and often, the hypothesis of zero is not that interesting!"
   ]
  },
  {
   "cell_type": "markdown",
   "id": "55783f2d-ebd3-4e3e-a8aa-68977540735d",
   "metadata": {},
   "source": [
    "## Testing an interval hypothesis\n",
    "We can also express a hypothesis as an interval. \n",
    "\n",
    "Imagine this somewhat complex scenario:\n",
    "- A previous, more expensive intervention produces a change of 7 points.\n",
    "- We are tasked with seeing if our intervention is *at least as good as* - i.e., *is equivalent* to the existing one, for children aged 2.\n",
    "- The current intervention will replace the existing one, if it can be shown to be equivalent to give an increase of at least 6.5 - 12.5.\n",
    "- The developers would like it to be better than 7, but they'll accept anywhere between 6.5 and 12.5 as equivalent.\n",
    "\n",
    "Testing this kind of 'interval' hypothesis is easy, but a bit confusing philosophically. A significant result means our estimate is *within* the bounds specified, a non-significant one indicating one or both of the bounds are within the confidence interval and cannot be excluded - i.e., the effect could be lower than 6.5 or bigger than 12.5. We do this using the `equivalence` keyword and a list of the lower and upper bounds, in addition to the standard hypothesis:"
   ]
  },
  {
   "cell_type": "code",
   "execution_count": 9,
   "id": "b39181dc-a721-480a-98d5-3831f34b4f16",
   "metadata": {},
   "outputs": [
    {
     "data": {
      "text/html": [
       "<div><style>\n",
       ".dataframe > thead > tr,\n",
       ".dataframe > tbody > tr {\n",
       "  text-align: right;\n",
       "  white-space: pre-wrap;\n",
       "}\n",
       "</style>\n",
       "<small>shape: (1, 13)</small><table border=\"1\" class=\"dataframe\"><thead><tr><th>term</th><th>estimate</th><th>std_error</th><th>statistic</th><th>p_value</th><th>s_value</th><th>conf_low</th><th>conf_high</th><th>statistic_noninf</th><th>statistic_nonsup</th><th>p_value_noninf</th><th>p_value_nonsup</th><th>p_value_equiv</th></tr><tr><td>str</td><td>f64</td><td>f64</td><td>f64</td><td>f64</td><td>f64</td><td>f64</td><td>f64</td><td>f64</td><td>f64</td><td>f64</td><td>f64</td><td>f64</td></tr></thead><tbody><tr><td>&quot;b1=b2&quot;</td><td>9.490294</td><td>1.49698</td><td>6.339628</td><td>2.3032e-10</td><td>32.015641</td><td>6.556268</td><td>12.42432</td><td>1.997552</td><td>-2.010519</td><td>0.022883</td><td>0.022188</td><td>0.022883</td></tr></tbody></table></div>"
      ],
      "text/plain": [
       "shape: (1, 8)\n",
       "┌───────┬──────────┬───────────┬──────┬─────────┬─────┬──────┬───────┐\n",
       "│ Term  ┆ Estimate ┆ Std.Error ┆ z    ┆ P(>|z|) ┆ S   ┆ 2.5% ┆ 97.5% │\n",
       "│ ---   ┆ ---      ┆ ---       ┆ ---  ┆ ---     ┆ --- ┆ ---  ┆ ---   │\n",
       "│ str   ┆ str      ┆ str       ┆ str  ┆ str     ┆ str ┆ str  ┆ str   │\n",
       "╞═══════╪══════════╪═══════════╪══════╪═════════╪═════╪══════╪═══════╡\n",
       "│ b1=b2 ┆ 9.49     ┆ 1.5       ┆ 6.34 ┆ 2.3e-10 ┆ 32  ┆ 6.56 ┆ 12.4  │\n",
       "└───────┴──────────┴───────────┴──────┴─────────┴─────┴──────┴───────┘\n",
       "\n",
       "Columns: term, estimate, std_error, statistic, p_value, s_value, conf_low, conf_high, statistic_noninf, statistic_nonsup, p_value_noninf, p_value_nonsup, p_value_equiv"
      ]
     },
     "execution_count": 9,
     "metadata": {},
     "output_type": "execute_result"
    }
   ],
   "source": [
    "# Equivalence\n",
    "eq = me.predictions(cog_mod,\n",
    "                    newdata=me.datagrid(cog_mod,\n",
    "                                        trt=['Y', 'N'],\n",
    "                                        age=2),\n",
    "                    hypothesis='b1=b2',\n",
    "                    equivalence=[6.5, 12.5])\n",
    "eq"
   ]
  },
  {
   "cell_type": "markdown",
   "id": "a0b7f369-ba20-4765-a580-f1db5eaacf0f",
   "metadata": {},
   "source": [
    "The `p_value_equiv` contains the information we need. Illustrating this graphically:"
   ]
  },
  {
   "cell_type": "code",
   "execution_count": 10,
   "id": "8a0ce2dd-0b63-4179-9245-fd4f92cd22e5",
   "metadata": {},
   "outputs": [
    {
     "data": {
      "text/plain": [
       "<matplotlib.lines.Line2D at 0x12f722110>"
      ]
     },
     "execution_count": 10,
     "metadata": {},
     "output_type": "execute_result"
    },
    {
     "data": {
      "image/png": "[encoded data removed]",
      "text/plain": [
       "<Figure size 640x480 with 1 Axes>"
      ]
     },
     "metadata": {},
     "output_type": "display_data"
    }
   ],
   "source": [
    "# Plot\n",
    "ax = sns.pointplot(data=eq, x='term', y='estimate')\n",
    "ax.vlines(eq['term'], eq['conf_low'], eq['conf_high'])\n",
    "ax.axhline(6.5)\n",
    "ax.axhline(12.5)"
   ]
  },
  {
   "cell_type": "markdown",
   "id": "9ec3c04c-36d6-4fd3-9f04-4661699161ac",
   "metadata": {},
   "source": [
    "This technique can be very useful. Sometimes you may see a small, precise, and significant result. Rather than taking this as evidence, we may test whether the result is within an interval of effects we could consider either important or unimportant (the definition is up to you!), and test *that*. \n",
    "\n",
    "The downside is that defining these intervals is difficult, requires justification, and can be frowned on by less statistically literate folk."
   ]
  },
  {
   "cell_type": "markdown",
   "id": "1dce75fe-fd73-4dbf-85a4-79c6ff033b06",
   "metadata": {},
   "source": [
    "## One more example\n",
    "Lets consider another example, revisiting the beauty and wages dataset. First, we read it in and fit a simple model where we predict hourly wages from a `looks` variable that goes from 1 to 5, and an `exper` variable that counts the persons years of experience in the workforce. This shows a statistically significant effect of looks and experience:"
   ]
  },
  {
   "cell_type": "code",
   "execution_count": 11,
   "id": "9b171329-f0f5-4f0b-a68d-30ef8043df53",
   "metadata": {},
   "outputs": [
    {
     "data": {
      "text/html": [
       "<table class=\"simpletable\">\n",
       "<caption>OLS Regression Results</caption>\n",
       "<tr>\n",
       "  <th>Dep. Variable:</th>      <td>wage</td>    <th>  R-squared:         </th> <td>   0.064</td>\n",
       "</tr>\n",
       "<tr>\n",
       "  <th>Model:</th>               <td>OLS</td>    <th>  Adj. R-squared:    </th> <td>   0.062</td>\n",
       "</tr>\n",
       "<tr>\n",
       "  <th>No. Observations:</th>  <td>  1260</td>   <th>  F-statistic:       </th> <td>   42.70</td>\n",
       "</tr>\n",
       "<tr>\n",
       "  <th>Covariance Type:</th>  <td>nonrobust</td> <th>  Prob (F-statistic):</th> <td>1.15e-18</td>\n",
       "</tr>\n",
       "</table>\n",
       "<table class=\"simpletable\">\n",
       "<tr>\n",
       "      <td></td>         <th>coef</th>     <th>std err</th>      <th>t</th>      <th>P>|t|</th>  <th>[0.025</th>    <th>0.975]</th>  \n",
       "</tr>\n",
       "<tr>\n",
       "  <th>Intercept</th> <td>    2.5094</td> <td>    0.671</td> <td>    3.742</td> <td> 0.000</td> <td>    1.194</td> <td>    3.825</td>\n",
       "</tr>\n",
       "<tr>\n",
       "  <th>exper</th>     <td>    0.0971</td> <td>    0.011</td> <td>    9.018</td> <td> 0.000</td> <td>    0.076</td> <td>    0.118</td>\n",
       "</tr>\n",
       "<tr>\n",
       "  <th>looks</th>     <td>    0.6373</td> <td>    0.188</td> <td>    3.390</td> <td> 0.001</td> <td>    0.268</td> <td>    1.006</td>\n",
       "</tr>\n",
       "</table><br/><br/>Notes:<br/>[1] Standard Errors assume that the covariance matrix of the errors is correctly specified."
      ],
      "text/latex": [
       "\\begin{center}\n",
       "\\begin{tabular}{lclc}\n",
       "\\toprule\n",
       "\\textbf{Dep. Variable:}    &      wage     & \\textbf{  R-squared:         } &     0.064   \\\\\n",
       "\\textbf{Model:}            &      OLS      & \\textbf{  Adj. R-squared:    } &     0.062   \\\\\n",
       "\\textbf{No. Observations:} &       1260    & \\textbf{  F-statistic:       } &     42.70   \\\\\n",
       "\\textbf{Covariance Type:}  &   nonrobust   & \\textbf{  Prob (F-statistic):} &  1.15e-18   \\\\\n",
       "\\bottomrule\n",
       "\\end{tabular}\n",
       "\\begin{tabular}{lcccccc}\n",
       "                   & \\textbf{coef} & \\textbf{std err} & \\textbf{t} & \\textbf{P$> |$t$|$} & \\textbf{[0.025} & \\textbf{0.975]}  \\\\\n",
       "\\midrule\n",
       "\\textbf{Intercept} &       2.5094  &        0.671     &     3.742  &         0.000        &        1.194    &        3.825     \\\\\n",
       "\\textbf{exper}     &       0.0971  &        0.011     &     9.018  &         0.000        &        0.076    &        0.118     \\\\\n",
       "\\textbf{looks}     &       0.6373  &        0.188     &     3.390  &         0.001        &        0.268    &        1.006     \\\\\n",
       "\\bottomrule\n",
       "\\end{tabular}\n",
       "%\\caption{OLS Regression Results}\n",
       "\\end{center}\n",
       "\n",
       "Notes: \\newline\n",
       " [1] Standard Errors assume that the covariance matrix of the errors is correctly specified."
      ],
      "text/plain": [
       "<class 'statsmodels.iolib.summary.Summary'>\n",
       "\"\"\"\n",
       "                            OLS Regression Results                            \n",
       "==============================================================================\n",
       "Dep. Variable:                   wage   R-squared:                       0.064\n",
       "Model:                            OLS   Adj. R-squared:                  0.062\n",
       "No. Observations:                1260   F-statistic:                     42.70\n",
       "Covariance Type:            nonrobust   Prob (F-statistic):           1.15e-18\n",
       "==============================================================================\n",
       "                 coef    std err          t      P>|t|      [0.025      0.975]\n",
       "------------------------------------------------------------------------------\n",
       "Intercept      2.5094      0.671      3.742      0.000       1.194       3.825\n",
       "exper          0.0971      0.011      9.018      0.000       0.076       0.118\n",
       "looks          0.6373      0.188      3.390      0.001       0.268       1.006\n",
       "==============================================================================\n",
       "\n",
       "Notes:\n",
       "[1] Standard Errors assume that the covariance matrix of the errors is correctly specified.\n",
       "\"\"\""
      ]
     },
     "execution_count": 11,
     "metadata": {},
     "output_type": "execute_result"
    }
   ],
   "source": [
    "# Read in looks\n",
    "looks = pd.read_csv('https://vincentarelbundock.github.io/Rdatasets/csv/wooldridge/beauty.csv')\n",
    "\n",
    "# Fit a simple model and examine output\n",
    "looks_mod = smf.ols('wage ~ exper + looks', data=looks).fit()\n",
    "looks_mod.summary(slim=True)"
   ]
  },
  {
   "cell_type": "markdown",
   "id": "0fe3b330-9219-4b40-80d8-c6b211dd5d7d",
   "metadata": {},
   "source": [
    "As a silly example, lets assume taking up regular exercise, clean eating, and expensive beauty products will shift your looks from a 3 to a 4. Averaging over your years of experience, how much does going from a 3 to a 4 increase your hourly wage?"
   ]
  },
  {
   "cell_type": "code",
   "execution_count": 12,
   "id": "a3fcb25a-4236-4590-883b-350d3590b360",
   "metadata": {},
   "outputs": [
    {
     "data": {
      "text/html": [
       "<div><style>\n",
       ".dataframe > thead > tr,\n",
       ".dataframe > tbody > tr {\n",
       "  text-align: right;\n",
       "  white-space: pre-wrap;\n",
       "}\n",
       "</style>\n",
       "<small>shape: (2, 8)</small><table border=\"1\" class=\"dataframe\"><thead><tr><th>looks</th><th>estimate</th><th>std_error</th><th>statistic</th><th>p_value</th><th>s_value</th><th>conf_low</th><th>conf_high</th></tr><tr><td>i64</td><td>f64</td><td>f64</td><td>f64</td><td>f64</td><td>f64</td><td>f64</td><td>f64</td></tr></thead><tbody><tr><td>3</td><td>6.362436</td><td>0.132481</td><td>48.025307</td><td>0.0</td><td>inf</td><td>6.102778</td><td>6.622094</td></tr><tr><td>4</td><td>6.999705</td><td>0.202224</td><td>34.61356</td><td>0.0</td><td>inf</td><td>6.603352</td><td>7.396057</td></tr></tbody></table></div>"
      ],
      "text/plain": [
       "shape: (2, 8)\n",
       "┌───────┬──────────┬───────────┬──────┬─────────┬─────┬──────┬───────┐\n",
       "│ looks ┆ Estimate ┆ Std.Error ┆ z    ┆ P(>|z|) ┆ S   ┆ 2.5% ┆ 97.5% │\n",
       "│ ---   ┆ ---      ┆ ---       ┆ ---  ┆ ---     ┆ --- ┆ ---  ┆ ---   │\n",
       "│ str   ┆ str      ┆ str       ┆ str  ┆ str     ┆ str ┆ str  ┆ str   │\n",
       "╞═══════╪══════════╪═══════════╪══════╪═════════╪═════╪══════╪═══════╡\n",
       "│ 3     ┆ 6.36     ┆ 0.132     ┆ 48   ┆ 0       ┆ inf ┆ 6.1  ┆ 6.62  │\n",
       "│ 4     ┆ 7        ┆ 0.202     ┆ 34.6 ┆ 0       ┆ inf ┆ 6.6  ┆ 7.4   │\n",
       "└───────┴──────────┴───────────┴──────┴─────────┴─────┴──────┴───────┘\n",
       "\n",
       "Columns: looks, estimate, std_error, statistic, p_value, s_value, conf_low, conf_high"
      ]
     },
     "execution_count": 12,
     "metadata": {},
     "output_type": "execute_result"
    }
   ],
   "source": [
    "# Make a datagrid\n",
    "dg = me.datagrid(looks_mod,\n",
    "                 looks=[3, 4],\n",
    "                 exper=np.arange(1, 40)\n",
    "                )\n",
    "\n",
    "# Make the predictions\n",
    "p = me.predictions(looks_mod,\n",
    "                   newdata=dg,\n",
    "                   by='looks') # average over experience\n",
    "\n",
    "p"
   ]
  },
  {
   "cell_type": "markdown",
   "id": "e819cbbe-4a2d-4094-8201-63976aac5242",
   "metadata": {},
   "source": [
    "With looks of about 3, you earn 6.36 an hour. With a four, you earn basically 7. Is this difference statistically significant?"
   ]
  },
  {
   "cell_type": "code",
   "execution_count": 13,
   "id": "423dda04-2807-4e46-b085-ac09745d6fdd",
   "metadata": {},
   "outputs": [
    {
     "data": {
      "text/html": [
       "<div><style>\n",
       ".dataframe > thead > tr,\n",
       ".dataframe > tbody > tr {\n",
       "  text-align: right;\n",
       "  white-space: pre-wrap;\n",
       "}\n",
       "</style>\n",
       "<small>shape: (1, 8)</small><table border=\"1\" class=\"dataframe\"><thead><tr><th>term</th><th>estimate</th><th>std_error</th><th>statistic</th><th>p_value</th><th>s_value</th><th>conf_low</th><th>conf_high</th></tr><tr><td>str</td><td>f64</td><td>f64</td><td>f64</td><td>f64</td><td>f64</td><td>f64</td><td>f64</td></tr></thead><tbody><tr><td>&quot;b2-b1=0&quot;</td><td>0.637269</td><td>0.188008</td><td>3.389585</td><td>0.0007</td><td>10.480386</td><td>0.26878</td><td>1.005757</td></tr></tbody></table></div>"
      ],
      "text/plain": [
       "shape: (1, 8)\n",
       "┌─────────┬──────────┬───────────┬──────┬─────────┬──────┬───────┬───────┐\n",
       "│ Term    ┆ Estimate ┆ Std.Error ┆ z    ┆ P(>|z|) ┆ S    ┆ 2.5%  ┆ 97.5% │\n",
       "│ ---     ┆ ---      ┆ ---       ┆ ---  ┆ ---     ┆ ---  ┆ ---   ┆ ---   │\n",
       "│ str     ┆ str      ┆ str       ┆ str  ┆ str     ┆ str  ┆ str   ┆ str   │\n",
       "╞═════════╪══════════╪═══════════╪══════╪═════════╪══════╪═══════╪═══════╡\n",
       "│ b2-b1=0 ┆ 0.637    ┆ 0.188     ┆ 3.39 ┆ 0.0007  ┆ 10.5 ┆ 0.269 ┆ 1.01  │\n",
       "└─────────┴──────────┴───────────┴──────┴─────────┴──────┴───────┴───────┘\n",
       "\n",
       "Columns: term, estimate, std_error, statistic, p_value, s_value, conf_low, conf_high"
      ]
     },
     "execution_count": 13,
     "metadata": {},
     "output_type": "execute_result"
    }
   ],
   "source": [
    "# Include hypothesis of zero difference, test to reject\n",
    "me.predictions(looks_mod,\n",
    "               newdata=dg,\n",
    "               by='looks',\n",
    "               hypothesis='b2 - b1 = 0') # Same as b2=b1 or 4 - 3"
   ]
  },
  {
   "cell_type": "markdown",
   "id": "6d89caee-106b-4c8a-b9fc-42ea873569d6",
   "metadata": {},
   "source": [
    "The difference of about 0.64 is significant. Hold on though, all that exercise, expensive products and good food is a LOT of effort. Will it earn you at least an extra 0.50 an hour?"
   ]
  },
  {
   "cell_type": "code",
   "execution_count": 14,
   "id": "c3229f4c-4041-4af6-8eaf-8103dec5b53a",
   "metadata": {},
   "outputs": [
    {
     "data": {
      "text/html": [
       "<div><style>\n",
       ".dataframe > thead > tr,\n",
       ".dataframe > tbody > tr {\n",
       "  text-align: right;\n",
       "  white-space: pre-wrap;\n",
       "}\n",
       "</style>\n",
       "<small>shape: (1, 8)</small><table border=\"1\" class=\"dataframe\"><thead><tr><th>term</th><th>estimate</th><th>std_error</th><th>statistic</th><th>p_value</th><th>s_value</th><th>conf_low</th><th>conf_high</th></tr><tr><td>str</td><td>f64</td><td>f64</td><td>f64</td><td>f64</td><td>f64</td><td>f64</td><td>f64</td></tr></thead><tbody><tr><td>&quot;b2-b1=0.50&quot;</td><td>0.137269</td><td>0.188008</td><td>0.730122</td><td>0.465316</td><td>1.103719</td><td>-0.23122</td><td>0.505757</td></tr></tbody></table></div>"
      ],
      "text/plain": [
       "shape: (1, 8)\n",
       "┌────────────┬──────────┬───────────┬──────┬─────────┬─────┬────────┬───────┐\n",
       "│ Term       ┆ Estimate ┆ Std.Error ┆ z    ┆ P(>|z|) ┆ S   ┆ 2.5%   ┆ 97.5% │\n",
       "│ ---        ┆ ---      ┆ ---       ┆ ---  ┆ ---     ┆ --- ┆ ---    ┆ ---   │\n",
       "│ str        ┆ str      ┆ str       ┆ str  ┆ str     ┆ str ┆ str    ┆ str   │\n",
       "╞════════════╪══════════╪═══════════╪══════╪═════════╪═════╪════════╪═══════╡\n",
       "│ b2-b1=0.50 ┆ 0.137    ┆ 0.188     ┆ 0.73 ┆ 0.465   ┆ 1.1 ┆ -0.231 ┆ 0.506 │\n",
       "└────────────┴──────────┴───────────┴──────┴─────────┴─────┴────────┴───────┘\n",
       "\n",
       "Columns: term, estimate, std_error, statistic, p_value, s_value, conf_low, conf_high"
      ]
     },
     "execution_count": 14,
     "metadata": {},
     "output_type": "execute_result"
    }
   ],
   "source": [
    "# Include hypothesis of a 50-cent difference, test to reject\n",
    "me.predictions(looks_mod,\n",
    "               newdata=dg,\n",
    "               by='looks',\n",
    "               hypothesis='b2 - b1 = 0.50') "
   ]
  },
  {
   "cell_type": "markdown",
   "id": "8f9daf70-378a-44aa-bb94-83eed9ae234b",
   "metadata": {},
   "source": [
    "This difference is not statistically significant, so you conclude the conclude there's no evidence it will improve your wages above 50 cents an hour.\n",
    "\n",
    "Imagine now you say - this increase of a 3 to a 4 is going to be a lot of work.\n",
    "\n",
    "Anything from an increase of 0.01 to 1 dollar is absolutely not worth it, and so I'll consider that increase equivalent to what I currently earn - all the gym memberships and beauty products will cost me more than that. An increase of 0.01 to 1 dollar is my interval hypothesis.\n",
    "\n",
    "You can test that hypothesis like so:"
   ]
  },
  {
   "cell_type": "code",
   "execution_count": 15,
   "id": "26127749-a31f-40e6-b9cb-6792ce9fc8cb",
   "metadata": {},
   "outputs": [
    {
     "data": {
      "text/html": [
       "<div><style>\n",
       ".dataframe > thead > tr,\n",
       ".dataframe > tbody > tr {\n",
       "  text-align: right;\n",
       "  white-space: pre-wrap;\n",
       "}\n",
       "</style>\n",
       "<small>shape: (1, 13)</small><table border=\"1\" class=\"dataframe\"><thead><tr><th>term</th><th>estimate</th><th>std_error</th><th>statistic</th><th>p_value</th><th>s_value</th><th>conf_low</th><th>conf_high</th><th>statistic_noninf</th><th>statistic_nonsup</th><th>p_value_noninf</th><th>p_value_nonsup</th><th>p_value_equiv</th></tr><tr><td>str</td><td>f64</td><td>f64</td><td>f64</td><td>f64</td><td>f64</td><td>f64</td><td>f64</td><td>f64</td><td>f64</td><td>f64</td><td>f64</td><td>f64</td></tr></thead><tbody><tr><td>&quot;b2-b1=0&quot;</td><td>0.637269</td><td>0.188008</td><td>3.389585</td><td>0.0007</td><td>10.480386</td><td>0.26878</td><td>1.005757</td><td>3.336395</td><td>-1.929341</td><td>0.000424</td><td>0.026844</td><td>0.026844</td></tr></tbody></table></div>"
      ],
      "text/plain": [
       "shape: (1, 8)\n",
       "┌─────────┬──────────┬───────────┬──────┬─────────┬──────┬───────┬───────┐\n",
       "│ Term    ┆ Estimate ┆ Std.Error ┆ z    ┆ P(>|z|) ┆ S    ┆ 2.5%  ┆ 97.5% │\n",
       "│ ---     ┆ ---      ┆ ---       ┆ ---  ┆ ---     ┆ ---  ┆ ---   ┆ ---   │\n",
       "│ str     ┆ str      ┆ str       ┆ str  ┆ str     ┆ str  ┆ str   ┆ str   │\n",
       "╞═════════╪══════════╪═══════════╪══════╪═════════╪══════╪═══════╪═══════╡\n",
       "│ b2-b1=0 ┆ 0.637    ┆ 0.188     ┆ 3.39 ┆ 0.0007  ┆ 10.5 ┆ 0.269 ┆ 1.01  │\n",
       "└─────────┴──────────┴───────────┴──────┴─────────┴──────┴───────┴───────┘\n",
       "\n",
       "Columns: term, estimate, std_error, statistic, p_value, s_value, conf_low, conf_high, statistic_noninf, statistic_nonsup, p_value_noninf, p_value_nonsup, p_value_equiv"
      ]
     },
     "execution_count": 15,
     "metadata": {},
     "output_type": "execute_result"
    }
   ],
   "source": [
    "# Equivalence hypothesis\n",
    "eq = me.predictions(looks_mod,\n",
    "                    newdata=dg,\n",
    "                    by='looks',\n",
    "                    hypothesis='b2 - b1 = 0',\n",
    "                    equivalence=[0.01, 1.])\n",
    "eq"
   ]
  },
  {
   "cell_type": "markdown",
   "id": "f494e0f4-7f1b-4e66-a5a5-a9da38cc810b",
   "metadata": {},
   "source": [
    "This *is* significant, which indicates the effect *is within the interval*, and thus you can conclude the end result is the same as what you presently earn:"
   ]
  },
  {
   "cell_type": "code",
   "execution_count": 16,
   "id": "52ed376c-cd4d-4776-af15-a7d0a9c6cd59",
   "metadata": {},
   "outputs": [
    {
     "data": {
      "text/plain": [
       "<matplotlib.lines.Line2D at 0x12f7af210>"
      ]
     },
     "execution_count": 16,
     "metadata": {},
     "output_type": "execute_result"
    },
    {
     "data": {
      "image/png": "[encoded data removed]",
      "text/plain": [
       "<Figure size 640x480 with 1 Axes>"
      ]
     },
     "metadata": {},
     "output_type": "display_data"
    }
   ],
   "source": [
    "# Plot\n",
    "ax = sns.pointplot(data=eq, x='term', y='estimate')\n",
    "ax.vlines(eq['term'], eq['conf_low'], eq['conf_high'])\n",
    "ax.axhline(0.01)\n",
    "ax.axhline(1)"
   ]
  },
  {
   "cell_type": "markdown",
   "id": "c6643063-27e2-40d3-9633-9189b58e528e",
   "metadata": {},
   "source": [
    "To reiterate, this test is significant, which means you can say the effect is *unintersting, null, or too small to be of interest*. If the test was *not* significant, you would conclude that the intervention on your looks could possibly yield effects outside of this interval and thus *could be of interest*."
   ]
  }
 ],
 "metadata": {
  "kernelspec": {
   "display_name": "Python 3 (ipykernel)",
   "language": "python",
   "name": "python3"
  },
  "language_info": {
   "codemirror_mode": {
    "name": "ipython",
    "version": 3
   },
   "file_extension": ".py",
   "mimetype": "text/x-python",
   "name": "python",
   "nbconvert_exporter": "python",
   "pygments_lexer": "ipython3",
   "version": "3.12.2"
  }
 },
 "nbformat": 4,
 "nbformat_minor": 5
}
