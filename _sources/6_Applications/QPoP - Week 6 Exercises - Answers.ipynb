{
 "cells": [
  {
   "cell_type": "markdown",
   "id": "14ce8697-1094-4d83-83fe-1ff0921faa84",
   "metadata": {},
   "source": [
    "# Quantitative Perspectives on Psychology\n",
    "## Week 6 - Precision in prediction and assessment\n",
    "### Example assessment exercises"
   ]
  },
  {
   "cell_type": "markdown",
   "id": "53dfaad6-0d90-49cb-ae34-613e22042f1d",
   "metadata": {},
   "source": [
    "We will focus on some relevant exercises that pull together the content from the previous chapters, leveraging all of the skills you have learned so far, and offer some challenges in terms of interpretation as well as coding."
   ]
  },
  {
   "cell_type": "markdown",
   "id": "466c8d15-d6f5-4b3a-bbb8-c0ed2aeabfb9",
   "metadata": {},
   "source": [
    "## Starting off\n",
    "As usual, import all the libraries and tools we've used so far, including things like the `rmse` function so we can check assumptions with GLMs."
   ]
  },
  {
   "cell_type": "code",
   "execution_count": 1,
   "id": "aee7d558-b197-4fdd-a600-5bfc12e83128",
   "metadata": {
    "editable": true,
    "slideshow": {
     "slide_type": ""
    },
    "tags": [
     "hide-input"
    ]
   },
   "outputs": [],
   "source": [
    "# Your answer here\n",
    "import pandas as pd\n",
    "import pingouin as pg\n",
    "import statsmodels.formula.api as smf\n",
    "import seaborn as sns\n",
    "import marginaleffects as me\n",
    "import numpy as np\n",
    "import statsmodels.tools.eval_measures as measures\n",
    "\n",
    "sns.set_style('whitegrid')"
   ]
  },
  {
   "cell_type": "markdown",
   "id": "ddb9f8a7-fe42-446f-939f-cfea9eeaad43",
   "metadata": {},
   "source": [
    "# Case Study One\n",
    "## Men's faces convey information about their bodies and their behavior - what you see is what you get\n",
    "### Shoup & Gallup, 2008, Evolutionary Psychology\n",
    "We will first consider this manuscript and its associated data. \n",
    "\n",
    "You can find the manuscript here, and I suggest giving it a read before beginning: https://journals.sagepub.com/doi/full/10.1177/147470490800600311\n",
    "When you are ready, the data can be found here: https://vincentarelbundock.github.io/Rdatasets/csv/Stat2Data/Faces.csv\n",
    "\n",
    "The paper reports a few correlations between its variables of shoulder to height ratio, number of sexual partners, facial attractiveness, and grip strength. Correlations alone are uninteresting, because they are not really a specified model, and they do not allow us to make claims about the influence of certain predictors while we hold others constant. \n",
    "\n",
    "The authors do report a regression model in the paper. Can you read in the data and fit this regression model (don't worry about the 'semi-partial' correlation content)?"
   ]
  },
  {
   "cell_type": "markdown",
   "id": "a5d7ba60-97e3-4696-8ebc-1a1dcf02fe56",
   "metadata": {},
   "source": [
    "### a. Fitting models"
   ]
  },
  {
   "cell_type": "code",
   "execution_count": 2,
   "id": "f53aa9b3-9ad7-4d98-ad74-b00f23f2fe91",
   "metadata": {
    "editable": true,
    "slideshow": {
     "slide_type": ""
    },
    "tags": [
     "hide-input"
    ]
   },
   "outputs": [
    {
     "data": {
      "text/html": [
       "<div>\n",
       "<style scoped>\n",
       "    .dataframe tbody tr th:only-of-type {\n",
       "        vertical-align: middle;\n",
       "    }\n",
       "\n",
       "    .dataframe tbody tr th {\n",
       "        vertical-align: top;\n",
       "    }\n",
       "\n",
       "    .dataframe thead th {\n",
       "        text-align: right;\n",
       "    }\n",
       "</style>\n",
       "<table border=\"1\" class=\"dataframe\">\n",
       "  <thead>\n",
       "    <tr style=\"text-align: right;\">\n",
       "      <th></th>\n",
       "      <th>rownames</th>\n",
       "      <th>MaxGripStrength</th>\n",
       "      <th>SHR</th>\n",
       "      <th>Partners</th>\n",
       "      <th>Attractive</th>\n",
       "      <th>AgeFirstSex</th>\n",
       "    </tr>\n",
       "  </thead>\n",
       "  <tbody>\n",
       "    <tr>\n",
       "      <th>0</th>\n",
       "      <td>1</td>\n",
       "      <td>44.0</td>\n",
       "      <td>1.352</td>\n",
       "      <td>36</td>\n",
       "      <td>2.333</td>\n",
       "      <td>15.0</td>\n",
       "    </tr>\n",
       "    <tr>\n",
       "      <th>1</th>\n",
       "      <td>2</td>\n",
       "      <td>58.0</td>\n",
       "      <td>1.349</td>\n",
       "      <td>4</td>\n",
       "      <td>2.375</td>\n",
       "      <td>15.0</td>\n",
       "    </tr>\n",
       "    <tr>\n",
       "      <th>2</th>\n",
       "      <td>3</td>\n",
       "      <td>57.0</td>\n",
       "      <td>1.431</td>\n",
       "      <td>5</td>\n",
       "      <td>1.857</td>\n",
       "      <td>14.0</td>\n",
       "    </tr>\n",
       "    <tr>\n",
       "      <th>3</th>\n",
       "      <td>4</td>\n",
       "      <td>48.0</td>\n",
       "      <td>1.405</td>\n",
       "      <td>6</td>\n",
       "      <td>2.125</td>\n",
       "      <td>18.0</td>\n",
       "    </tr>\n",
       "    <tr>\n",
       "      <th>4</th>\n",
       "      <td>5</td>\n",
       "      <td>34.0</td>\n",
       "      <td>1.307</td>\n",
       "      <td>3</td>\n",
       "      <td>2.500</td>\n",
       "      <td>14.0</td>\n",
       "    </tr>\n",
       "  </tbody>\n",
       "</table>\n",
       "</div>"
      ],
      "text/plain": [
       "   rownames  MaxGripStrength    SHR  Partners  Attractive  AgeFirstSex\n",
       "0         1             44.0  1.352        36       2.333         15.0\n",
       "1         2             58.0  1.349         4       2.375         15.0\n",
       "2         3             57.0  1.431         5       1.857         14.0\n",
       "3         4             48.0  1.405         6       2.125         18.0\n",
       "4         5             34.0  1.307         3       2.500         14.0"
      ]
     },
     "metadata": {},
     "output_type": "display_data"
    },
    {
     "data": {
      "text/html": [
       "<table class=\"simpletable\">\n",
       "<caption>OLS Regression Results</caption>\n",
       "<tr>\n",
       "  <th>Dep. Variable:</th>    <td>Attractive</td> <th>  R-squared:         </th> <td>   0.331</td>\n",
       "</tr>\n",
       "<tr>\n",
       "  <th>Model:</th>                <td>OLS</td>    <th>  Adj. R-squared:    </th> <td>   0.272</td>\n",
       "</tr>\n",
       "<tr>\n",
       "  <th>No. Observations:</th>   <td>    38</td>   <th>  F-statistic:       </th> <td>   5.614</td>\n",
       "</tr>\n",
       "<tr>\n",
       "  <th>Covariance Type:</th>   <td>nonrobust</td> <th>  Prob (F-statistic):</th>  <td>0.00308</td>\n",
       "</tr>\n",
       "</table>\n",
       "<table class=\"simpletable\">\n",
       "<tr>\n",
       "         <td></td>            <th>coef</th>     <th>std err</th>      <th>t</th>      <th>P>|t|</th>  <th>[0.025</th>    <th>0.975]</th>  \n",
       "</tr>\n",
       "<tr>\n",
       "  <th>Intercept</th>       <td>   -0.8901</td> <td>    0.996</td> <td>   -0.893</td> <td> 0.378</td> <td>   -2.915</td> <td>    1.135</td>\n",
       "</tr>\n",
       "<tr>\n",
       "  <th>SHR</th>             <td>    2.2248</td> <td>    0.797</td> <td>    2.790</td> <td> 0.009</td> <td>    0.604</td> <td>    3.845</td>\n",
       "</tr>\n",
       "<tr>\n",
       "  <th>MaxGripStrength</th> <td>    0.0059</td> <td>    0.011</td> <td>    0.545</td> <td> 0.590</td> <td>   -0.016</td> <td>    0.028</td>\n",
       "</tr>\n",
       "<tr>\n",
       "  <th>Partners</th>        <td>    0.0188</td> <td>    0.012</td> <td>    1.590</td> <td> 0.121</td> <td>   -0.005</td> <td>    0.043</td>\n",
       "</tr>\n",
       "</table><br/><br/>Notes:<br/>[1] Standard Errors assume that the covariance matrix of the errors is correctly specified."
      ],
      "text/latex": [
       "\\begin{center}\n",
       "\\begin{tabular}{lclc}\n",
       "\\toprule\n",
       "\\textbf{Dep. Variable:}    &   Attractive  & \\textbf{  R-squared:         } &     0.331   \\\\\n",
       "\\textbf{Model:}            &      OLS      & \\textbf{  Adj. R-squared:    } &     0.272   \\\\\n",
       "\\textbf{No. Observations:} &         38    & \\textbf{  F-statistic:       } &     5.614   \\\\\n",
       "\\textbf{Covariance Type:}  &   nonrobust   & \\textbf{  Prob (F-statistic):} &  0.00308    \\\\\n",
       "\\bottomrule\n",
       "\\end{tabular}\n",
       "\\begin{tabular}{lcccccc}\n",
       "                         & \\textbf{coef} & \\textbf{std err} & \\textbf{t} & \\textbf{P$> |$t$|$} & \\textbf{[0.025} & \\textbf{0.975]}  \\\\\n",
       "\\midrule\n",
       "\\textbf{Intercept}       &      -0.8901  &        0.996     &    -0.893  &         0.378        &       -2.915    &        1.135     \\\\\n",
       "\\textbf{SHR}             &       2.2248  &        0.797     &     2.790  &         0.009        &        0.604    &        3.845     \\\\\n",
       "\\textbf{MaxGripStrength} &       0.0059  &        0.011     &     0.545  &         0.590        &       -0.016    &        0.028     \\\\\n",
       "\\textbf{Partners}        &       0.0188  &        0.012     &     1.590  &         0.121        &       -0.005    &        0.043     \\\\\n",
       "\\bottomrule\n",
       "\\end{tabular}\n",
       "%\\caption{OLS Regression Results}\n",
       "\\end{center}\n",
       "\n",
       "Notes: \\newline\n",
       " [1] Standard Errors assume that the covariance matrix of the errors is correctly specified."
      ],
      "text/plain": [
       "<class 'statsmodels.iolib.summary.Summary'>\n",
       "\"\"\"\n",
       "                            OLS Regression Results                            \n",
       "==============================================================================\n",
       "Dep. Variable:             Attractive   R-squared:                       0.331\n",
       "Model:                            OLS   Adj. R-squared:                  0.272\n",
       "No. Observations:                  38   F-statistic:                     5.614\n",
       "Covariance Type:            nonrobust   Prob (F-statistic):            0.00308\n",
       "===================================================================================\n",
       "                      coef    std err          t      P>|t|      [0.025      0.975]\n",
       "-----------------------------------------------------------------------------------\n",
       "Intercept          -0.8901      0.996     -0.893      0.378      -2.915       1.135\n",
       "SHR                 2.2248      0.797      2.790      0.009       0.604       3.845\n",
       "MaxGripStrength     0.0059      0.011      0.545      0.590      -0.016       0.028\n",
       "Partners            0.0188      0.012      1.590      0.121      -0.005       0.043\n",
       "===================================================================================\n",
       "\n",
       "Notes:\n",
       "[1] Standard Errors assume that the covariance matrix of the errors is correctly specified.\n",
       "\"\"\""
      ]
     },
     "execution_count": 2,
     "metadata": {},
     "output_type": "execute_result"
    }
   ],
   "source": [
    "# Your answer here\n",
    "# Read in data\n",
    "faces = pd.read_csv('https://vincentarelbundock.github.io/Rdatasets/csv/Stat2Data/Faces.csv')\n",
    "display(faces.head())\n",
    "\n",
    "# Fit the model as described\n",
    "model = smf.ols('Attractive ~ SHR + MaxGripStrength + Partners', data=faces).fit()\n",
    "model.summary(slim=True)"
   ]
  },
  {
   "cell_type": "markdown",
   "id": "890d8d4f-9a6a-4e56-a28c-e25f3f578ce2",
   "metadata": {},
   "source": [
    "If you have successfully specified the model, you should see a similar set of coefficients as the 'B' reported in the paper. We can interpret this then as a one-unit increase in shoulder to hip ratio increasing attractiveness by 2.22 points. This is somewhat difficult to interpret though, as these particular variables (attractiveness and shoulder-hip ratio) are in rather abstract units (unlike grip strength and number of partners). Can you instead standardise all the values so that it recreates the 'β' coefficients, which represent changes in standard deviations?"
   ]
  },
  {
   "cell_type": "code",
   "execution_count": 3,
   "id": "fb239605-7d97-4fec-abfe-7eafbf7f6d28",
   "metadata": {
    "editable": true,
    "slideshow": {
     "slide_type": ""
    },
    "tags": [
     "hide-input"
    ]
   },
   "outputs": [
    {
     "data": {
      "text/html": [
       "<table class=\"simpletable\">\n",
       "<caption>OLS Regression Results</caption>\n",
       "<tr>\n",
       "  <th>Dep. Variable:</th>    <td>scale(Attractive)</td> <th>  R-squared:         </th> <td>   0.331</td>\n",
       "</tr>\n",
       "<tr>\n",
       "  <th>Model:</th>                   <td>OLS</td>        <th>  Adj. R-squared:    </th> <td>   0.272</td>\n",
       "</tr>\n",
       "<tr>\n",
       "  <th>No. Observations:</th>      <td>    38</td>       <th>  F-statistic:       </th> <td>   5.614</td>\n",
       "</tr>\n",
       "<tr>\n",
       "  <th>Covariance Type:</th>      <td>nonrobust</td>     <th>  Prob (F-statistic):</th>  <td>0.00308</td>\n",
       "</tr>\n",
       "</table>\n",
       "<table class=\"simpletable\">\n",
       "<tr>\n",
       "             <td></td>               <th>coef</th>     <th>std err</th>      <th>t</th>      <th>P>|t|</th>  <th>[0.025</th>    <th>0.975]</th>  \n",
       "</tr>\n",
       "<tr>\n",
       "  <th>Intercept</th>              <td> 5.796e-16</td> <td>    0.140</td> <td> 4.13e-15</td> <td> 1.000</td> <td>   -0.285</td> <td>    0.285</td>\n",
       "</tr>\n",
       "<tr>\n",
       "  <th>scale(SHR)</th>             <td>    0.4263</td> <td>    0.153</td> <td>    2.790</td> <td> 0.009</td> <td>    0.116</td> <td>    0.737</td>\n",
       "</tr>\n",
       "<tr>\n",
       "  <th>scale(MaxGripStrength)</th> <td>    0.0855</td> <td>    0.157</td> <td>    0.545</td> <td> 0.590</td> <td>   -0.233</td> <td>    0.404</td>\n",
       "</tr>\n",
       "<tr>\n",
       "  <th>scale(Partners)</th>        <td>    0.2368</td> <td>    0.149</td> <td>    1.590</td> <td> 0.121</td> <td>   -0.066</td> <td>    0.540</td>\n",
       "</tr>\n",
       "</table><br/><br/>Notes:<br/>[1] Standard Errors assume that the covariance matrix of the errors is correctly specified."
      ],
      "text/latex": [
       "\\begin{center}\n",
       "\\begin{tabular}{lclc}\n",
       "\\toprule\n",
       "\\textbf{Dep. Variable:}         & scale(Attractive) & \\textbf{  R-squared:         } &     0.331   \\\\\n",
       "\\textbf{Model:}                 &        OLS        & \\textbf{  Adj. R-squared:    } &     0.272   \\\\\n",
       "\\textbf{No. Observations:}      &           38      & \\textbf{  F-statistic:       } &     5.614   \\\\\n",
       "\\textbf{Covariance Type:}       &     nonrobust     & \\textbf{  Prob (F-statistic):} &  0.00308    \\\\\n",
       "\\bottomrule\n",
       "\\end{tabular}\n",
       "\\begin{tabular}{lcccccc}\n",
       "                                & \\textbf{coef} & \\textbf{std err} & \\textbf{t} & \\textbf{P$> |$t$|$} & \\textbf{[0.025} & \\textbf{0.975]}  \\\\\n",
       "\\midrule\n",
       "\\textbf{Intercept}              &    5.796e-16  &        0.140     &  4.13e-15  &         1.000        &       -0.285    &        0.285     \\\\\n",
       "\\textbf{scale(SHR)}             &       0.4263  &        0.153     &     2.790  &         0.009        &        0.116    &        0.737     \\\\\n",
       "\\textbf{scale(MaxGripStrength)} &       0.0855  &        0.157     &     0.545  &         0.590        &       -0.233    &        0.404     \\\\\n",
       "\\textbf{scale(Partners)}        &       0.2368  &        0.149     &     1.590  &         0.121        &       -0.066    &        0.540     \\\\\n",
       "\\bottomrule\n",
       "\\end{tabular}\n",
       "%\\caption{OLS Regression Results}\n",
       "\\end{center}\n",
       "\n",
       "Notes: \\newline\n",
       " [1] Standard Errors assume that the covariance matrix of the errors is correctly specified."
      ],
      "text/plain": [
       "<class 'statsmodels.iolib.summary.Summary'>\n",
       "\"\"\"\n",
       "                            OLS Regression Results                            \n",
       "==============================================================================\n",
       "Dep. Variable:      scale(Attractive)   R-squared:                       0.331\n",
       "Model:                            OLS   Adj. R-squared:                  0.272\n",
       "No. Observations:                  38   F-statistic:                     5.614\n",
       "Covariance Type:            nonrobust   Prob (F-statistic):            0.00308\n",
       "==========================================================================================\n",
       "                             coef    std err          t      P>|t|      [0.025      0.975]\n",
       "------------------------------------------------------------------------------------------\n",
       "Intercept               5.796e-16      0.140   4.13e-15      1.000      -0.285       0.285\n",
       "scale(SHR)                 0.4263      0.153      2.790      0.009       0.116       0.737\n",
       "scale(MaxGripStrength)     0.0855      0.157      0.545      0.590      -0.233       0.404\n",
       "scale(Partners)            0.2368      0.149      1.590      0.121      -0.066       0.540\n",
       "==========================================================================================\n",
       "\n",
       "Notes:\n",
       "[1] Standard Errors assume that the covariance matrix of the errors is correctly specified.\n",
       "\"\"\""
      ]
     },
     "execution_count": 3,
     "metadata": {},
     "output_type": "execute_result"
    }
   ],
   "source": [
    "# Your answer here\n",
    "# Fit the model as described\n",
    "model_s = smf.ols('scale(Attractive) ~ scale(SHR) + scale(MaxGripStrength) + scale(Partners)', data=faces).fit()\n",
    "model_s.summary(slim=True)"
   ]
  },
  {
   "cell_type": "markdown",
   "id": "35f88893-57c1-44e8-8278-3a299e06451b",
   "metadata": {},
   "source": [
    "These two models are absolutely equivalent, we have just altered the meaning of the coefficients. If you have done this correctly and the values match, then you've just replicated an analysis in a published article. Well done!\n",
    "\n",
    "### b. Model checking\n",
    "Next, we should check the assumptions of:\n",
    "- Linearity\n",
    "- Homoscedasticity\n",
    "- Normality of residuals\n",
    "\n",
    "We can see each row belongs to only one male, so the independence assumption is fine. We will return to *validity* later. First, check the linearity assumption graphically by plotting the variables used in the regression against each other (can be done simply in `seaborn`)."
   ]
  },
  {
   "cell_type": "code",
   "execution_count": 4,
   "id": "bedbba5b-a76f-40f1-89d4-11c66bacda2b",
   "metadata": {
    "editable": true,
    "slideshow": {
     "slide_type": ""
    },
    "tags": [
     "hide-input"
    ]
   },
   "outputs": [
    {
     "data": {
      "text/plain": [
       "<seaborn.axisgrid.PairGrid at 0x103a177d0>"
      ]
     },
     "execution_count": 4,
     "metadata": {},
     "output_type": "execute_result"
    },
    {
     "data": {
      "image/png": "[encoded data removed]",
      "text/plain": [
       "<Figure size 1000x1000 with 20 Axes>"
      ]
     },
     "metadata": {},
     "output_type": "display_data"
    }
   ],
   "source": [
    "# Your answer here\n",
    "sns.pairplot(faces[['Attractive', 'SHR', 'MaxGripStrength', 'Partners']])"
   ]
  },
  {
   "cell_type": "markdown",
   "id": "8ad5b7dc-7510-4102-ad87-df9c626c279e",
   "metadata": {},
   "source": [
    "Next, check the assumption of heteroscedasticity from the fitted model - you can use either instance you've made."
   ]
  },
  {
   "cell_type": "code",
   "execution_count": 5,
   "id": "158e6bc3-0c69-4426-b667-40365bef6b87",
   "metadata": {
    "editable": true,
    "slideshow": {
     "slide_type": ""
    },
    "tags": [
     "hide-input"
    ]
   },
   "outputs": [
    {
     "data": {
      "text/plain": [
       "<matplotlib.lines.Line2D at 0x14f768990>"
      ]
     },
     "execution_count": 5,
     "metadata": {},
     "output_type": "execute_result"
    },
    {
     "data": {
      "image/png": "[encoded data removed]",
      "text/plain": [
       "<Figure size 640x480 with 1 Axes>"
      ]
     },
     "metadata": {},
     "output_type": "display_data"
    }
   ],
   "source": [
    "# Your answer here\n",
    "axis = sns.scatterplot(x=model.fittedvalues, \n",
    "                       y=model.resid, alpha=.5) # scatter is easy\n",
    "axis.set(xlabel='Predicted Values', ylabel='Residual') # Renaming \n",
    "axis.axhline(0) # Adding a horizontal line at zero"
   ]
  },
  {
   "cell_type": "markdown",
   "id": "643ee8ca-f07c-4a5b-91b6-df2219943e4f",
   "metadata": {},
   "source": [
    "Finally, check the normality of residuals. You can do this graphically, and with a statistical test. Again, either model is fine. "
   ]
  },
  {
   "cell_type": "code",
   "execution_count": 6,
   "id": "584f5322-15a3-4229-a8f1-a1a4bce48442",
   "metadata": {
    "editable": true,
    "slideshow": {
     "slide_type": ""
    },
    "tags": [
     "hide-input"
    ]
   },
   "outputs": [
    {
     "data": {
      "text/plain": [
       "ShapiroResult(statistic=0.9684099822188909, pvalue=0.35074616263990327)"
      ]
     },
     "execution_count": 6,
     "metadata": {},
     "output_type": "execute_result"
    },
    {
     "data": {
      "image/png": "[encoded data removed]",
      "text/plain": [
       "<Figure size 640x480 with 1 Axes>"
      ]
     },
     "metadata": {},
     "output_type": "display_data"
    }
   ],
   "source": [
    "# Your answer here\n",
    "sns.histplot(model.resid, kde=True)\n",
    "\n",
    "from scipy.stats import shapiro\n",
    "shapiro(model.resid)"
   ]
  },
  {
   "cell_type": "markdown",
   "id": "267818b9-d087-46c4-810d-0ba88b6d7439",
   "metadata": {},
   "source": [
    "In your view, are the assumptions all met? "
   ]
  },
  {
   "cell_type": "markdown",
   "id": "aa828163-e7e8-46f4-ac52-daee48cae754",
   "metadata": {},
   "source": [
    "### c. Model evaluation\n",
    "Before we interrogate the model further, the authors claim in the abstract good things about the variance explained by the model. We've seen how that isn't the best way to evaluate a model. Compute the RMSE for both your initial and second, standardised model to get a sense of how 'wrong' the model is.\n",
    "\n",
    "Hint - for either model, you can access the dependent variable used via `your_model_variable.model.endog`. This is a copy of the data the model is trying to predict and can be handy in the use case of when you let the formula specification transform things."
   ]
  },
  {
   "cell_type": "code",
   "execution_count": 7,
   "id": "ee12a709-41e7-4b9c-a2e9-534e92053e74",
   "metadata": {
    "editable": true,
    "slideshow": {
     "slide_type": ""
    },
    "tags": [
     "hide-input"
    ]
   },
   "outputs": [
    {
     "data": {
      "text/plain": [
       "0.5117926409212918"
      ]
     },
     "metadata": {},
     "output_type": "display_data"
    },
    {
     "data": {
      "text/plain": [
       "0.8177619301857805"
      ]
     },
     "metadata": {},
     "output_type": "display_data"
    }
   ],
   "source": [
    "# Your answer here\n",
    "display(\n",
    "    measures.rmse(model.model.endog,\n",
    "                  model.fittedvalues),\n",
    "    measures.rmse(model_s.model.endog,\n",
    "                  model_s.fittedvalues)\n",
    ")\n",
    "    "
   ]
  },
  {
   "cell_type": "markdown",
   "id": "8c992cee-8ebf-464e-881f-7b41be079447",
   "metadata": {},
   "source": [
    "One of your results will be for the non-standardised model, which tells you how wrong the model is, on average, in terms of 1-7 attractiveness rating scale points. The other result for the standardised model will be for the z-scored attractiveness rating scale.\n",
    "\n",
    "In your view, is this a sufficiently accurate model? How wrong on average is it for raw scores and for standardised scores?"
   ]
  },
  {
   "cell_type": "markdown",
   "id": "1cca0921-f1e5-4ad7-8322-a3ba2b65984c",
   "metadata": {},
   "source": [
    "### d. Interpreting model predictions\n",
    "Rather than focus on the coefficients, we will continue to interpret the predictions of this model, as we have done for many others.\n",
    "\n",
    "Using the unstandardised model, consider tqo males.\n",
    "- One has a SHR of 1, meaning his shoulders and waist are the same width entirely, like a barrel!\n",
    "- One has a SHR of 1.25, his shoulders being 25% wider than his waist, approaching the inverted triangle shape.\n",
    "\n",
    "For these tqo example males, we can consider them to have the full range of sexual partners and grip strength we see in the data, and we will average over those variables to obtain the marginal predictions of SHR. Can you create a datagrid that will produce this?"
   ]
  },
  {
   "cell_type": "code",
   "execution_count": 8,
   "id": "6ed822ec-6d5d-40a9-bbce-e2a6e6e82581",
   "metadata": {
    "editable": true,
    "slideshow": {
     "slide_type": ""
    },
    "tags": [
     "hide-input"
    ]
   },
   "outputs": [
    {
     "data": {
      "text/html": [
       "<div><style>\n",
       ".dataframe > thead > tr,\n",
       ".dataframe > tbody > tr {\n",
       "  text-align: right;\n",
       "  white-space: pre-wrap;\n",
       "}\n",
       "</style>\n",
       "<small>shape: (696, 6)</small><table border=\"1\" class=\"dataframe\"><thead><tr><th>SHR</th><th>MaxGripStrength</th><th>Partners</th><th>rownames</th><th>Attractive</th><th>AgeFirstSex</th></tr><tr><td>f64</td><td>f64</td><td>i64</td><td>i64</td><td>f64</td><td>f64</td></tr></thead><tbody><tr><td>1.0</td><td>44.0</td><td>36</td><td>15</td><td>2.435447</td><td>16.16129</td></tr><tr><td>1.0</td><td>44.0</td><td>4</td><td>15</td><td>2.435447</td><td>16.16129</td></tr><tr><td>1.0</td><td>44.0</td><td>5</td><td>15</td><td>2.435447</td><td>16.16129</td></tr><tr><td>1.0</td><td>44.0</td><td>6</td><td>15</td><td>2.435447</td><td>16.16129</td></tr><tr><td>1.0</td><td>44.0</td><td>3</td><td>15</td><td>2.435447</td><td>16.16129</td></tr><tr><td>&hellip;</td><td>&hellip;</td><td>&hellip;</td><td>&hellip;</td><td>&hellip;</td><td>&hellip;</td></tr><tr><td>1.25</td><td>41.0</td><td>8</td><td>15</td><td>2.435447</td><td>16.16129</td></tr><tr><td>1.25</td><td>41.0</td><td>2</td><td>15</td><td>2.435447</td><td>16.16129</td></tr><tr><td>1.25</td><td>41.0</td><td>35</td><td>15</td><td>2.435447</td><td>16.16129</td></tr><tr><td>1.25</td><td>41.0</td><td>11</td><td>15</td><td>2.435447</td><td>16.16129</td></tr><tr><td>1.25</td><td>41.0</td><td>16</td><td>15</td><td>2.435447</td><td>16.16129</td></tr></tbody></table></div>"
      ],
      "text/plain": [
       "shape: (696, 6)\n",
       "┌──────┬─────────────────┬──────────┬──────────┬────────────┬─────────────┐\n",
       "│ SHR  ┆ MaxGripStrength ┆ Partners ┆ rownames ┆ Attractive ┆ AgeFirstSex │\n",
       "│ ---  ┆ ---             ┆ ---      ┆ ---      ┆ ---        ┆ ---         │\n",
       "│ f64  ┆ f64             ┆ i64      ┆ i64      ┆ f64        ┆ f64         │\n",
       "╞══════╪═════════════════╪══════════╪══════════╪════════════╪═════════════╡\n",
       "│ 1.0  ┆ 44.0            ┆ 36       ┆ 15       ┆ 2.435447   ┆ 16.16129    │\n",
       "│ 1.0  ┆ 44.0            ┆ 4        ┆ 15       ┆ 2.435447   ┆ 16.16129    │\n",
       "│ 1.0  ┆ 44.0            ┆ 5        ┆ 15       ┆ 2.435447   ┆ 16.16129    │\n",
       "│ 1.0  ┆ 44.0            ┆ 6        ┆ 15       ┆ 2.435447   ┆ 16.16129    │\n",
       "│ 1.0  ┆ 44.0            ┆ 3        ┆ 15       ┆ 2.435447   ┆ 16.16129    │\n",
       "│ …    ┆ …               ┆ …        ┆ …        ┆ …          ┆ …           │\n",
       "│ 1.25 ┆ 41.0            ┆ 8        ┆ 15       ┆ 2.435447   ┆ 16.16129    │\n",
       "│ 1.25 ┆ 41.0            ┆ 2        ┆ 15       ┆ 2.435447   ┆ 16.16129    │\n",
       "│ 1.25 ┆ 41.0            ┆ 35       ┆ 15       ┆ 2.435447   ┆ 16.16129    │\n",
       "│ 1.25 ┆ 41.0            ┆ 11       ┆ 15       ┆ 2.435447   ┆ 16.16129    │\n",
       "│ 1.25 ┆ 41.0            ┆ 16       ┆ 15       ┆ 2.435447   ┆ 16.16129    │\n",
       "└──────┴─────────────────┴──────────┴──────────┴────────────┴─────────────┘"
      ]
     },
     "execution_count": 8,
     "metadata": {},
     "output_type": "execute_result"
    }
   ],
   "source": [
    "# Your answer here\n",
    "dg = me.datagrid(model,\n",
    "                 SHR=[1., 1.25],\n",
    "                 MaxGripStrength=faces['MaxGripStrength'].unique(),\n",
    "                 Partners=faces['Partners'].unique())\n",
    "\n",
    "dg"
   ]
  },
  {
   "cell_type": "markdown",
   "id": "135622dc-472b-44df-aa32-053d35f4d87b",
   "metadata": {},
   "source": [
    "Once you have this, make the predictions for it, and average them by SHR, and plot the estimates. A big bonus if you can add the error bars as well."
   ]
  },
  {
   "cell_type": "code",
   "execution_count": 9,
   "id": "a945c691-2861-4c3e-a420-164a46457fb5",
   "metadata": {
    "editable": true,
    "slideshow": {
     "slide_type": ""
    },
    "tags": [
     "hide-input"
    ]
   },
   "outputs": [
    {
     "data": {
      "text/plain": [
       "<matplotlib.collections.LineCollection at 0x152165210>"
      ]
     },
     "execution_count": 9,
     "metadata": {},
     "output_type": "execute_result"
    },
    {
     "data": {
      "image/png": "[encoded data removed]",
      "text/plain": [
       "<Figure size 640x480 with 1 Axes>"
      ]
     },
     "metadata": {},
     "output_type": "display_data"
    }
   ],
   "source": [
    "# Your answer here\n",
    "p = me.predictions(model,\n",
    "                   newdata=dg,\n",
    "                   by='SHR')\n",
    "\n",
    "# Plot\n",
    "ax = sns.scatterplot(data=p, x='SHR', y='estimate')\n",
    "ax.vlines(p['SHR'], p['conf_low'], p['conf_high'])"
   ]
  },
  {
   "cell_type": "markdown",
   "id": "5e494817-dcb5-4f86-89a6-6d3ddd2bcbfc",
   "metadata": {},
   "source": [
    "Now, conduct a null-hypothesis test of the differences between all three males - i.e. comparing all three males to each other. Are any more physically attractive than the rest?"
   ]
  },
  {
   "cell_type": "code",
   "execution_count": 10,
   "id": "ba1f5d13-7c80-4e81-a13c-58b6bb8e9b92",
   "metadata": {
    "editable": true,
    "slideshow": {
     "slide_type": ""
    },
    "tags": [
     "hide-input"
    ]
   },
   "outputs": [
    {
     "data": {
      "text/html": [
       "<div><style>\n",
       ".dataframe > thead > tr,\n",
       ".dataframe > tbody > tr {\n",
       "  text-align: right;\n",
       "  white-space: pre-wrap;\n",
       "}\n",
       "</style>\n",
       "<small>shape: (1, 8)</small><table border=\"1\" class=\"dataframe\"><thead><tr><th>term</th><th>estimate</th><th>std_error</th><th>statistic</th><th>p_value</th><th>s_value</th><th>conf_low</th><th>conf_high</th></tr><tr><td>str</td><td>f64</td><td>f64</td><td>f64</td><td>f64</td><td>f64</td><td>f64</td><td>f64</td></tr></thead><tbody><tr><td>&quot;Row 1 - Row 2&quot;</td><td>-0.556204</td><td>0.199335</td><td>-2.790292</td><td>0.005266</td><td>7.569062</td><td>-0.946895</td><td>-0.165514</td></tr></tbody></table></div>"
      ],
      "text/plain": [
       "shape: (1, 8)\n",
       "┌───────────────┬──────────┬───────────┬───────┬─────────┬──────┬────────┬────────┐\n",
       "│ Term          ┆ Estimate ┆ Std.Error ┆ z     ┆ P(>|z|) ┆ S    ┆ 2.5%   ┆ 97.5%  │\n",
       "│ ---           ┆ ---      ┆ ---       ┆ ---   ┆ ---     ┆ ---  ┆ ---    ┆ ---    │\n",
       "│ str           ┆ str      ┆ str       ┆ str   ┆ str     ┆ str  ┆ str    ┆ str    │\n",
       "╞═══════════════╪══════════╪═══════════╪═══════╪═════════╪══════╪════════╪════════╡\n",
       "│ Row 1 - Row 2 ┆ -0.556   ┆ 0.199     ┆ -2.79 ┆ 0.00527 ┆ 7.57 ┆ -0.947 ┆ -0.166 │\n",
       "└───────────────┴──────────┴───────────┴───────┴─────────┴──────┴────────┴────────┘\n",
       "\n",
       "Columns: term, estimate, std_error, statistic, p_value, s_value, conf_low, conf_high"
      ]
     },
     "execution_count": 10,
     "metadata": {},
     "output_type": "execute_result"
    }
   ],
   "source": [
    "# Your answer here\n",
    "p = me.predictions(model,\n",
    "                   newdata=dg,\n",
    "                   by='SHR',\n",
    "                   hypothesis='pairwise')\n",
    "p"
   ]
  },
  {
   "cell_type": "markdown",
   "id": "149ab96c-5339-4d19-a436-3e4f5e3e24b4",
   "metadata": {},
   "source": [
    "The results indicate that the step up in SHR does indeed increase physical attractiveness, and the estimate is around 0.55 rating scale units. \n",
    "\n",
    "Consider that this null hypothesis of zero difference might not be very compelling. Let's instead test the hypothesis that the increase in SHR increases attractiveness by *at least* 0.20 rating scale units. "
   ]
  },
  {
   "cell_type": "code",
   "execution_count": 11,
   "id": "ff7eb0a0-75e4-455a-970d-7038933c0da4",
   "metadata": {
    "editable": true,
    "slideshow": {
     "slide_type": ""
    },
    "tags": [
     "hide-input"
    ]
   },
   "outputs": [
    {
     "data": {
      "text/html": [
       "<div><style>\n",
       ".dataframe > thead > tr,\n",
       ".dataframe > tbody > tr {\n",
       "  text-align: right;\n",
       "  white-space: pre-wrap;\n",
       "}\n",
       "</style>\n",
       "<small>shape: (1, 8)</small><table border=\"1\" class=\"dataframe\"><thead><tr><th>term</th><th>estimate</th><th>std_error</th><th>statistic</th><th>p_value</th><th>s_value</th><th>conf_low</th><th>conf_high</th></tr><tr><td>str</td><td>f64</td><td>f64</td><td>f64</td><td>f64</td><td>f64</td><td>f64</td><td>f64</td></tr></thead><tbody><tr><td>&quot;(b2-b1)=0.2&quot;</td><td>0.356204</td><td>0.199335</td><td>1.786958</td><td>0.073944</td><td>3.757419</td><td>-0.034486</td><td>0.746895</td></tr></tbody></table></div>"
      ],
      "text/plain": [
       "shape: (1, 8)\n",
       "┌─────────────┬──────────┬───────────┬──────┬─────────┬──────┬─────────┬───────┐\n",
       "│ Term        ┆ Estimate ┆ Std.Error ┆ z    ┆ P(>|z|) ┆ S    ┆ 2.5%    ┆ 97.5% │\n",
       "│ ---         ┆ ---      ┆ ---       ┆ ---  ┆ ---     ┆ ---  ┆ ---     ┆ ---   │\n",
       "│ str         ┆ str      ┆ str       ┆ str  ┆ str     ┆ str  ┆ str     ┆ str   │\n",
       "╞═════════════╪══════════╪═══════════╪══════╪═════════╪══════╪═════════╪═══════╡\n",
       "│ (b2-b1)=0.2 ┆ 0.356    ┆ 0.199     ┆ 1.79 ┆ 0.0739  ┆ 3.76 ┆ -0.0345 ┆ 0.747 │\n",
       "└─────────────┴──────────┴───────────┴──────┴─────────┴──────┴─────────┴───────┘\n",
       "\n",
       "Columns: term, estimate, std_error, statistic, p_value, s_value, conf_low, conf_high"
      ]
     },
     "execution_count": 11,
     "metadata": {},
     "output_type": "execute_result"
    }
   ],
   "source": [
    "# Your answer here\n",
    "p = me.predictions(model,\n",
    "                   newdata=dg,\n",
    "                   by='SHR',\n",
    "                   hypothesis='(b2-b1)=0.2')\n",
    "p"
   ]
  },
  {
   "cell_type": "markdown",
   "id": "d66c983d-9e08-492f-9545-d9343a8efe27",
   "metadata": {},
   "source": [
    "Does this increase in SHR alter attractiveness ratings by at *least* 0.2 rating scale units? Not quite, according to the model. "
   ]
  },
  {
   "cell_type": "markdown",
   "id": "f79cbfd6-33f6-453b-9cd0-d7b99ff972c3",
   "metadata": {},
   "source": [
    "### e. Model validity\n",
    "So far we have seen that a step up from 1 to 1.25 SHR, averaged over sexual partners and hand grip strength, leads to an increase of about half a rating scale point. This difference is not significant when consdering an effect of about 0.2 units - whether or not that is a useful null hypothesis is of course a theoretical discussion, but it is worth considering.\n",
    "\n",
    "There is one final, conceptual issue with the analysis as completed in the paper, and it is quite important from a theoretical perspective. \n",
    "\n",
    "Consider the structure of the model we have examined, and consider the introduction of the paper in terms of how it discusses the findings/theory.  Can you propose an alternative model that makes more sense? This is a difficult question, but take some time to consider."
   ]
  },
  {
   "cell_type": "code",
   "execution_count": 12,
   "id": "a1e6cb6f-44fc-48c9-972f-60632a566d27",
   "metadata": {
    "editable": true,
    "slideshow": {
     "slide_type": ""
    },
    "tags": [
     "hide-input"
    ]
   },
   "outputs": [],
   "source": [
    "# Your answer here\n",
    "# The issue is that the authors talk about attractiveness predicting measures of strength/body size, and sexual behaviour.\n",
    "# they use those measures to predict attractiveness, but this only partially makes sense. \n",
    "# How can number of sexual partners predict facial attractiveness, adjusted for other variables?\n",
    "# this is like saying - having more sexual partners makes you better looking. \n",
    "# But its much more logical to consider that being better looking means you have more sexual partners.\n",
    "# So the model is mis-specified; instead they should be predicting number of partners from the body traits."
   ]
  },
  {
   "cell_type": "markdown",
   "id": "c427518d-5013-4e61-b843-ade461ac821b",
   "metadata": {},
   "source": [
    "If you've figured it out, can you fit the more theoretically correct model to the data?"
   ]
  },
  {
   "cell_type": "code",
   "execution_count": 13,
   "id": "dc12db8c-7498-4fea-b95e-0db64ae8f6db",
   "metadata": {
    "editable": true,
    "slideshow": {
     "slide_type": ""
    },
    "tags": [
     "hide-input"
    ]
   },
   "outputs": [
    {
     "data": {
      "text/html": [
       "<table class=\"simpletable\">\n",
       "<caption>OLS Regression Results</caption>\n",
       "<tr>\n",
       "  <th>Dep. Variable:</th>    <td>Partners</td>  <th>  R-squared:         </th> <td>   0.175</td>\n",
       "</tr>\n",
       "<tr>\n",
       "  <th>Model:</th>               <td>OLS</td>    <th>  Adj. R-squared:    </th> <td>   0.102</td>\n",
       "</tr>\n",
       "<tr>\n",
       "  <th>No. Observations:</th>  <td>    38</td>   <th>  F-statistic:       </th> <td>   2.400</td>\n",
       "</tr>\n",
       "<tr>\n",
       "  <th>Covariance Type:</th>  <td>nonrobust</td> <th>  Prob (F-statistic):</th>  <td>0.0849</td> \n",
       "</tr>\n",
       "</table>\n",
       "<table class=\"simpletable\">\n",
       "<tr>\n",
       "         <td></td>            <th>coef</th>     <th>std err</th>      <th>t</th>      <th>P>|t|</th>  <th>[0.025</th>    <th>0.975]</th>  \n",
       "</tr>\n",
       "<tr>\n",
       "  <th>Intercept</th>       <td>  -11.9806</td> <td>   13.977</td> <td>   -0.857</td> <td> 0.397</td> <td>  -40.386</td> <td>   16.425</td>\n",
       "</tr>\n",
       "<tr>\n",
       "  <th>SHR</th>             <td>   -0.6747</td> <td>   12.389</td> <td>   -0.054</td> <td> 0.957</td> <td>  -25.851</td> <td>   24.502</td>\n",
       "</tr>\n",
       "<tr>\n",
       "  <th>MaxGripStrength</th> <td>    0.1961</td> <td>    0.148</td> <td>    1.327</td> <td> 0.193</td> <td>   -0.104</td> <td>    0.497</td>\n",
       "</tr>\n",
       "<tr>\n",
       "  <th>Attractive</th>      <td>    3.6876</td> <td>    2.319</td> <td>    1.590</td> <td> 0.121</td> <td>   -1.025</td> <td>    8.400</td>\n",
       "</tr>\n",
       "</table><br/><br/>Notes:<br/>[1] Standard Errors assume that the covariance matrix of the errors is correctly specified."
      ],
      "text/latex": [
       "\\begin{center}\n",
       "\\begin{tabular}{lclc}\n",
       "\\toprule\n",
       "\\textbf{Dep. Variable:}    &    Partners   & \\textbf{  R-squared:         } &     0.175   \\\\\n",
       "\\textbf{Model:}            &      OLS      & \\textbf{  Adj. R-squared:    } &     0.102   \\\\\n",
       "\\textbf{No. Observations:} &         38    & \\textbf{  F-statistic:       } &     2.400   \\\\\n",
       "\\textbf{Covariance Type:}  &   nonrobust   & \\textbf{  Prob (F-statistic):} &   0.0849    \\\\\n",
       "\\bottomrule\n",
       "\\end{tabular}\n",
       "\\begin{tabular}{lcccccc}\n",
       "                         & \\textbf{coef} & \\textbf{std err} & \\textbf{t} & \\textbf{P$> |$t$|$} & \\textbf{[0.025} & \\textbf{0.975]}  \\\\\n",
       "\\midrule\n",
       "\\textbf{Intercept}       &     -11.9806  &       13.977     &    -0.857  &         0.397        &      -40.386    &       16.425     \\\\\n",
       "\\textbf{SHR}             &      -0.6747  &       12.389     &    -0.054  &         0.957        &      -25.851    &       24.502     \\\\\n",
       "\\textbf{MaxGripStrength} &       0.1961  &        0.148     &     1.327  &         0.193        &       -0.104    &        0.497     \\\\\n",
       "\\textbf{Attractive}      &       3.6876  &        2.319     &     1.590  &         0.121        &       -1.025    &        8.400     \\\\\n",
       "\\bottomrule\n",
       "\\end{tabular}\n",
       "%\\caption{OLS Regression Results}\n",
       "\\end{center}\n",
       "\n",
       "Notes: \\newline\n",
       " [1] Standard Errors assume that the covariance matrix of the errors is correctly specified."
      ],
      "text/plain": [
       "<class 'statsmodels.iolib.summary.Summary'>\n",
       "\"\"\"\n",
       "                            OLS Regression Results                            \n",
       "==============================================================================\n",
       "Dep. Variable:               Partners   R-squared:                       0.175\n",
       "Model:                            OLS   Adj. R-squared:                  0.102\n",
       "No. Observations:                  38   F-statistic:                     2.400\n",
       "Covariance Type:            nonrobust   Prob (F-statistic):             0.0849\n",
       "===================================================================================\n",
       "                      coef    std err          t      P>|t|      [0.025      0.975]\n",
       "-----------------------------------------------------------------------------------\n",
       "Intercept         -11.9806     13.977     -0.857      0.397     -40.386      16.425\n",
       "SHR                -0.6747     12.389     -0.054      0.957     -25.851      24.502\n",
       "MaxGripStrength     0.1961      0.148      1.327      0.193      -0.104       0.497\n",
       "Attractive          3.6876      2.319      1.590      0.121      -1.025       8.400\n",
       "===================================================================================\n",
       "\n",
       "Notes:\n",
       "[1] Standard Errors assume that the covariance matrix of the errors is correctly specified.\n",
       "\"\"\""
      ]
     },
     "execution_count": 13,
     "metadata": {},
     "output_type": "execute_result"
    }
   ],
   "source": [
    "# Your answer here\n",
    "m3 = smf.ols('Partners ~ SHR + MaxGripStrength + Attractive', data=faces).fit()\n",
    "m3.summary(slim=True)"
   ]
  },
  {
   "cell_type": "markdown",
   "id": "64e65d4f-ce97-44f3-8296-ef5ff777c894",
   "metadata": {},
   "source": [
    "# Case Study Two\n",
    "## Women can judge sexual unfaithfulness from unfamiliar men's faces\n",
    "### Rhodes, Morley, & Simmons, 2013\n",
    "In the next study, we will examine the central claim from this manuscript. \n",
    "\n",
    "The manuscript is available from Canvas, and the data can be found here when you are ready: https://vincentarelbundock.github.io/Rdatasets/csv/Stat2Data/FaithfulFaces.csv\n",
    "\n",
    "The first thing you might notice is that much of the analysis does not make sense! I agree. Unlike the first paper, to test the central claim here, we are going to have to do our own analysis. First, lets download the data, read it in, and print the top 10 and bottom 10 rows."
   ]
  },
  {
   "cell_type": "code",
   "execution_count": 14,
   "id": "989b8b35-a079-43a3-b177-5cff1e8e2ff5",
   "metadata": {
    "editable": true,
    "slideshow": {
     "slide_type": ""
    },
    "tags": [
     "hide-input"
    ]
   },
   "outputs": [
    {
     "data": {
      "text/html": [
       "<div>\n",
       "<style scoped>\n",
       "    .dataframe tbody tr th:only-of-type {\n",
       "        vertical-align: middle;\n",
       "    }\n",
       "\n",
       "    .dataframe tbody tr th {\n",
       "        vertical-align: top;\n",
       "    }\n",
       "\n",
       "    .dataframe thead th {\n",
       "        text-align: right;\n",
       "    }\n",
       "</style>\n",
       "<table border=\"1\" class=\"dataframe\">\n",
       "  <thead>\n",
       "    <tr style=\"text-align: right;\">\n",
       "      <th></th>\n",
       "      <th>rownames</th>\n",
       "      <th>SexDimorph</th>\n",
       "      <th>Attract</th>\n",
       "      <th>Cheater</th>\n",
       "      <th>Trust</th>\n",
       "      <th>Faithful</th>\n",
       "      <th>FaceSex</th>\n",
       "      <th>RaterSex</th>\n",
       "    </tr>\n",
       "  </thead>\n",
       "  <tbody>\n",
       "    <tr>\n",
       "      <th>0</th>\n",
       "      <td>1</td>\n",
       "      <td>4.900</td>\n",
       "      <td>2.000</td>\n",
       "      <td>1</td>\n",
       "      <td>4.118</td>\n",
       "      <td>6.294</td>\n",
       "      <td>F</td>\n",
       "      <td>M</td>\n",
       "    </tr>\n",
       "    <tr>\n",
       "      <th>1</th>\n",
       "      <td>2</td>\n",
       "      <td>2.583</td>\n",
       "      <td>2.083</td>\n",
       "      <td>1</td>\n",
       "      <td>4.000</td>\n",
       "      <td>6.588</td>\n",
       "      <td>F</td>\n",
       "      <td>M</td>\n",
       "    </tr>\n",
       "    <tr>\n",
       "      <th>2</th>\n",
       "      <td>3</td>\n",
       "      <td>4.300</td>\n",
       "      <td>2.667</td>\n",
       "      <td>1</td>\n",
       "      <td>3.941</td>\n",
       "      <td>5.824</td>\n",
       "      <td>F</td>\n",
       "      <td>M</td>\n",
       "    </tr>\n",
       "    <tr>\n",
       "      <th>3</th>\n",
       "      <td>4</td>\n",
       "      <td>4.083</td>\n",
       "      <td>2.917</td>\n",
       "      <td>0</td>\n",
       "      <td>4.118</td>\n",
       "      <td>5.412</td>\n",
       "      <td>F</td>\n",
       "      <td>M</td>\n",
       "    </tr>\n",
       "    <tr>\n",
       "      <th>4</th>\n",
       "      <td>5</td>\n",
       "      <td>4.500</td>\n",
       "      <td>3.500</td>\n",
       "      <td>0</td>\n",
       "      <td>3.235</td>\n",
       "      <td>4.000</td>\n",
       "      <td>F</td>\n",
       "      <td>M</td>\n",
       "    </tr>\n",
       "  </tbody>\n",
       "</table>\n",
       "</div>"
      ],
      "text/plain": [
       "   rownames  SexDimorph  Attract  Cheater  Trust  Faithful FaceSex RaterSex\n",
       "0         1       4.900    2.000        1  4.118     6.294       F        M\n",
       "1         2       2.583    2.083        1  4.000     6.588       F        M\n",
       "2         3       4.300    2.667        1  3.941     5.824       F        M\n",
       "3         4       4.083    2.917        0  4.118     5.412       F        M\n",
       "4         5       4.500    3.500        0  3.235     4.000       F        M"
      ]
     },
     "metadata": {},
     "output_type": "display_data"
    },
    {
     "data": {
      "text/html": [
       "<div>\n",
       "<style scoped>\n",
       "    .dataframe tbody tr th:only-of-type {\n",
       "        vertical-align: middle;\n",
       "    }\n",
       "\n",
       "    .dataframe tbody tr th {\n",
       "        vertical-align: top;\n",
       "    }\n",
       "\n",
       "    .dataframe thead th {\n",
       "        text-align: right;\n",
       "    }\n",
       "</style>\n",
       "<table border=\"1\" class=\"dataframe\">\n",
       "  <thead>\n",
       "    <tr style=\"text-align: right;\">\n",
       "      <th></th>\n",
       "      <th>rownames</th>\n",
       "      <th>SexDimorph</th>\n",
       "      <th>Attract</th>\n",
       "      <th>Cheater</th>\n",
       "      <th>Trust</th>\n",
       "      <th>Faithful</th>\n",
       "      <th>FaceSex</th>\n",
       "      <th>RaterSex</th>\n",
       "    </tr>\n",
       "  </thead>\n",
       "  <tbody>\n",
       "    <tr>\n",
       "      <th>165</th>\n",
       "      <td>166</td>\n",
       "      <td>3.833</td>\n",
       "      <td>4.167</td>\n",
       "      <td>0</td>\n",
       "      <td>5.294</td>\n",
       "      <td>5.471</td>\n",
       "      <td>M</td>\n",
       "      <td>F</td>\n",
       "    </tr>\n",
       "    <tr>\n",
       "      <th>166</th>\n",
       "      <td>167</td>\n",
       "      <td>3.083</td>\n",
       "      <td>2.583</td>\n",
       "      <td>1</td>\n",
       "      <td>5.294</td>\n",
       "      <td>5.824</td>\n",
       "      <td>M</td>\n",
       "      <td>F</td>\n",
       "    </tr>\n",
       "    <tr>\n",
       "      <th>167</th>\n",
       "      <td>168</td>\n",
       "      <td>5.250</td>\n",
       "      <td>2.917</td>\n",
       "      <td>0</td>\n",
       "      <td>3.000</td>\n",
       "      <td>3.824</td>\n",
       "      <td>M</td>\n",
       "      <td>F</td>\n",
       "    </tr>\n",
       "    <tr>\n",
       "      <th>168</th>\n",
       "      <td>169</td>\n",
       "      <td>4.750</td>\n",
       "      <td>2.333</td>\n",
       "      <td>0</td>\n",
       "      <td>3.000</td>\n",
       "      <td>3.824</td>\n",
       "      <td>M</td>\n",
       "      <td>F</td>\n",
       "    </tr>\n",
       "    <tr>\n",
       "      <th>169</th>\n",
       "      <td>170</td>\n",
       "      <td>5.167</td>\n",
       "      <td>3.833</td>\n",
       "      <td>0</td>\n",
       "      <td>2.941</td>\n",
       "      <td>3.353</td>\n",
       "      <td>M</td>\n",
       "      <td>F</td>\n",
       "    </tr>\n",
       "  </tbody>\n",
       "</table>\n",
       "</div>"
      ],
      "text/plain": [
       "     rownames  SexDimorph  Attract  Cheater  Trust  Faithful FaceSex RaterSex\n",
       "165       166       3.833    4.167        0  5.294     5.471       M        F\n",
       "166       167       3.083    2.583        1  5.294     5.824       M        F\n",
       "167       168       5.250    2.917        0  3.000     3.824       M        F\n",
       "168       169       4.750    2.333        0  3.000     3.824       M        F\n",
       "169       170       5.167    3.833        0  2.941     3.353       M        F"
      ]
     },
     "metadata": {},
     "output_type": "display_data"
    }
   ],
   "source": [
    "# Your answer here\n",
    "faith = pd.read_csv('https://vincentarelbundock.github.io/Rdatasets/csv/Stat2Data/FaithfulFaces.csv')\n",
    "\n",
    "display(faith.head(), faith.tail())"
   ]
  },
  {
   "cell_type": "markdown",
   "id": "283c9110-3265-4c84-9341-0a59ae7be6db",
   "metadata": {},
   "source": [
    "The data contains a dichotomous variable, `Cheater` that codes whether the face belonged to someone who had admitted to infidelity. There are other variables such as `Trust` - how trustworthy that face appears, `Faithful` - ratings of faithfulness, `Attract` - how attractive the face was judged to be, and `RaterSex` - whether the face was rated by females or males. `FaceSex` is irrelevant because female participants rated only male faces and vice versa.\n",
    "\n",
    "The specific claim here is that females can accurately perceive infidelity from men's faces, presumably via their ratings of faithfulness, and this is to be compared to males. \n",
    "\n",
    "Fit the appropriate model to the data that allows us to predict the `Cheater` variable from faithfulness and participant sex. This will need to test the difference between males and females and faithfulness ratings, so an interaction is needed (check 'model 1' in the paper for a clue).\n",
    "\n",
    "Once done, print the summary."
   ]
  },
  {
   "cell_type": "code",
   "execution_count": 15,
   "id": "839936a8-abe3-45a9-a058-4b27254a4307",
   "metadata": {
    "editable": true,
    "slideshow": {
     "slide_type": ""
    },
    "tags": [
     "hide-input"
    ]
   },
   "outputs": [
    {
     "name": "stdout",
     "output_type": "stream",
     "text": [
      "Optimization terminated successfully.\n",
      "         Current function value: 0.596754\n",
      "         Iterations 5\n"
     ]
    },
    {
     "data": {
      "text/html": [
       "<table class=\"simpletable\">\n",
       "<caption>Probit Regression Results</caption>\n",
       "<tr>\n",
       "  <th>Dep. Variable:</th>        <td>Cheater</td>     <th>  No. Observations:  </th>  <td>   170</td> \n",
       "</tr>\n",
       "<tr>\n",
       "  <th>Model:</th>                <td>Probit</td>      <th>  Df Residuals:      </th>  <td>   166</td> \n",
       "</tr>\n",
       "<tr>\n",
       "  <th>Method:</th>                 <td>MLE</td>       <th>  Df Model:          </th>  <td>     3</td> \n",
       "</tr>\n",
       "<tr>\n",
       "  <th>Date:</th>            <td>Fri, 30 Aug 2024</td> <th>  Pseudo R-squ.:     </th>  <td>0.01493</td>\n",
       "</tr>\n",
       "<tr>\n",
       "  <th>Time:</th>                <td>21:15:15</td>     <th>  Log-Likelihood:    </th> <td> -101.45</td>\n",
       "</tr>\n",
       "<tr>\n",
       "  <th>converged:</th>             <td>True</td>       <th>  LL-Null:           </th> <td> -102.99</td>\n",
       "</tr>\n",
       "<tr>\n",
       "  <th>Covariance Type:</th>     <td>nonrobust</td>    <th>  LLR p-value:       </th>  <td>0.3803</td> \n",
       "</tr>\n",
       "</table>\n",
       "<table class=\"simpletable\">\n",
       "<tr>\n",
       "             <td></td>               <th>coef</th>     <th>std err</th>      <th>z</th>      <th>P>|z|</th>  <th>[0.025</th>    <th>0.975]</th>  \n",
       "</tr>\n",
       "<tr>\n",
       "  <th>Intercept</th>              <td>    0.7160</td> <td>    0.729</td> <td>    0.982</td> <td> 0.326</td> <td>   -0.713</td> <td>    2.145</td>\n",
       "</tr>\n",
       "<tr>\n",
       "  <th>RaterSex[T.M]</th>          <td>   -1.2827</td> <td>    1.276</td> <td>   -1.006</td> <td> 0.315</td> <td>   -3.783</td> <td>    1.217</td>\n",
       "</tr>\n",
       "<tr>\n",
       "  <th>Faithful</th>               <td>   -0.2597</td> <td>    0.153</td> <td>   -1.698</td> <td> 0.089</td> <td>   -0.559</td> <td>    0.040</td>\n",
       "</tr>\n",
       "<tr>\n",
       "  <th>Faithful:RaterSex[T.M]</th> <td>    0.2571</td> <td>    0.241</td> <td>    1.066</td> <td> 0.287</td> <td>   -0.216</td> <td>    0.730</td>\n",
       "</tr>\n",
       "</table>"
      ],
      "text/latex": [
       "\\begin{center}\n",
       "\\begin{tabular}{lclc}\n",
       "\\toprule\n",
       "\\textbf{Dep. Variable:}         &     Cheater      & \\textbf{  No. Observations:  } &      170    \\\\\n",
       "\\textbf{Model:}                 &      Probit      & \\textbf{  Df Residuals:      } &      166    \\\\\n",
       "\\textbf{Method:}                &       MLE        & \\textbf{  Df Model:          } &        3    \\\\\n",
       "\\textbf{Date:}                  & Fri, 30 Aug 2024 & \\textbf{  Pseudo R-squ.:     } &  0.01493    \\\\\n",
       "\\textbf{Time:}                  &     21:15:15     & \\textbf{  Log-Likelihood:    } &   -101.45   \\\\\n",
       "\\textbf{converged:}             &       True       & \\textbf{  LL-Null:           } &   -102.99   \\\\\n",
       "\\textbf{Covariance Type:}       &    nonrobust     & \\textbf{  LLR p-value:       } &   0.3803    \\\\\n",
       "\\bottomrule\n",
       "\\end{tabular}\n",
       "\\begin{tabular}{lcccccc}\n",
       "                                & \\textbf{coef} & \\textbf{std err} & \\textbf{z} & \\textbf{P$> |$z$|$} & \\textbf{[0.025} & \\textbf{0.975]}  \\\\\n",
       "\\midrule\n",
       "\\textbf{Intercept}              &       0.7160  &        0.729     &     0.982  &         0.326        &       -0.713    &        2.145     \\\\\n",
       "\\textbf{RaterSex[T.M]}          &      -1.2827  &        1.276     &    -1.006  &         0.315        &       -3.783    &        1.217     \\\\\n",
       "\\textbf{Faithful}               &      -0.2597  &        0.153     &    -1.698  &         0.089        &       -0.559    &        0.040     \\\\\n",
       "\\textbf{Faithful:RaterSex[T.M]} &       0.2571  &        0.241     &     1.066  &         0.287        &       -0.216    &        0.730     \\\\\n",
       "\\bottomrule\n",
       "\\end{tabular}\n",
       "%\\caption{Probit Regression Results}\n",
       "\\end{center}"
      ],
      "text/plain": [
       "<class 'statsmodels.iolib.summary.Summary'>\n",
       "\"\"\"\n",
       "                          Probit Regression Results                           \n",
       "==============================================================================\n",
       "Dep. Variable:                Cheater   No. Observations:                  170\n",
       "Model:                         Probit   Df Residuals:                      166\n",
       "Method:                           MLE   Df Model:                            3\n",
       "Date:                Fri, 30 Aug 2024   Pseudo R-squ.:                 0.01493\n",
       "Time:                        21:15:15   Log-Likelihood:                -101.45\n",
       "converged:                       True   LL-Null:                       -102.99\n",
       "Covariance Type:            nonrobust   LLR p-value:                    0.3803\n",
       "==========================================================================================\n",
       "                             coef    std err          z      P>|z|      [0.025      0.975]\n",
       "------------------------------------------------------------------------------------------\n",
       "Intercept                  0.7160      0.729      0.982      0.326      -0.713       2.145\n",
       "RaterSex[T.M]             -1.2827      1.276     -1.006      0.315      -3.783       1.217\n",
       "Faithful                  -0.2597      0.153     -1.698      0.089      -0.559       0.040\n",
       "Faithful:RaterSex[T.M]     0.2571      0.241      1.066      0.287      -0.216       0.730\n",
       "==========================================================================================\n",
       "\"\"\""
      ]
     },
     "execution_count": 15,
     "metadata": {},
     "output_type": "execute_result"
    }
   ],
   "source": [
    "# Your answer here\n",
    "model = smf.probit('Cheater ~ Faithful * RaterSex', data=faith).fit()\n",
    "model.summary()"
   ]
  },
  {
   "cell_type": "markdown",
   "id": "722790a4-ec36-4581-bac2-83572007840e",
   "metadata": {},
   "source": [
    "With the model fitted, make predictions for male and female raters, for faces of faithfulness ratings of 1 through to 9. Plot those outcomes."
   ]
  },
  {
   "cell_type": "code",
   "execution_count": 16,
   "id": "b905d9ee-f5f5-4041-999f-06ed4c6f517e",
   "metadata": {
    "editable": true,
    "slideshow": {
     "slide_type": ""
    },
    "tags": [
     "hide-input"
    ]
   },
   "outputs": [
    {
     "data": {
      "text/plain": [
       "<Axes: xlabel='Faithful', ylabel='estimate'>"
      ]
     },
     "execution_count": 16,
     "metadata": {},
     "output_type": "execute_result"
    },
    {
     "data": {
      "image/png": "[encoded data removed]",
      "text/plain": [
       "<Figure size 640x480 with 1 Axes>"
      ]
     },
     "metadata": {},
     "output_type": "display_data"
    }
   ],
   "source": [
    "# Your answer here\n",
    "dg = me.datagrid(model, \n",
    "                 RaterSex=['M', 'F'],\n",
    "                 Faithful=np.arange(1, 10))\n",
    "\n",
    "# Predict\n",
    "p = me.predictions(model, newdata=dg)\n",
    "\n",
    "# Plot\n",
    "sns.lineplot(data=p,\n",
    "             x='Faithful', \n",
    "             y='estimate',\n",
    "             hue='RaterSex')"
   ]
  },
  {
   "cell_type": "markdown",
   "id": "752e08a9-379d-4cea-bcc0-5399f83e8403",
   "metadata": {},
   "source": [
    "From examining the plot, what looks to be happening? Is the pattern at least from the plot similar to what the article claims?"
   ]
  },
  {
   "cell_type": "code",
   "execution_count": 17,
   "id": "05e30a89-bf93-4195-8a41-e981aa549265",
   "metadata": {
    "editable": true,
    "slideshow": {
     "slide_type": ""
    },
    "tags": [
     "hide-input"
    ]
   },
   "outputs": [],
   "source": [
    "# Your answer here\n",
    "# Yes - it suggests that cheating accuracy is highest for females who make low faithfulness ratings. Males don't have any accuracy across the board."
   ]
  },
  {
   "cell_type": "markdown",
   "id": "d517fe0e-872f-4f72-b172-bb4253f09221",
   "metadata": {},
   "source": [
    "Given the appearance of the plot, can we get an estimate of the slopes of both of the lines? This will tell us the unique relationship between faithfulness ratings for males and females."
   ]
  },
  {
   "cell_type": "code",
   "execution_count": 18,
   "id": "cb717d91-0fa8-49fa-ab25-a76bb341265d",
   "metadata": {
    "editable": true,
    "slideshow": {
     "slide_type": ""
    },
    "tags": [
     "hide-input"
    ]
   },
   "outputs": [
    {
     "data": {
      "text/html": [
       "<div><style>\n",
       ".dataframe > thead > tr,\n",
       ".dataframe > tbody > tr {\n",
       "  text-align: right;\n",
       "  white-space: pre-wrap;\n",
       "}\n",
       "</style>\n",
       "<small>shape: (2, 10)</small><table border=\"1\" class=\"dataframe\"><thead><tr><th>RaterSex</th><th>term</th><th>contrast</th><th>estimate</th><th>std_error</th><th>statistic</th><th>p_value</th><th>s_value</th><th>conf_low</th><th>conf_high</th></tr><tr><td>str</td><td>str</td><td>str</td><td>f64</td><td>f64</td><td>f64</td><td>f64</td><td>f64</td><td>f64</td><td>f64</td></tr></thead><tbody><tr><td>&quot;F&quot;</td><td>&quot;Faithful&quot;</td><td>&quot;mean(dY/dX)&quot;</td><td>-0.075793</td><td>0.031296</td><td>-2.421799</td><td>0.015444</td><td>6.016821</td><td>-0.137133</td><td>-0.014454</td></tr><tr><td>&quot;M&quot;</td><td>&quot;Faithful&quot;</td><td>&quot;mean(dY/dX)&quot;</td><td>-0.00089</td><td>0.062949</td><td>-0.01414</td><td>0.988718</td><td>0.016369</td><td>-0.124267</td><td>0.122487</td></tr></tbody></table></div>"
      ],
      "text/plain": [
       "shape: (2, 10)\n",
       "┌──────────┬──────────┬─────────────┬──────────┬───┬─────────┬────────┬────────┬─────────┐\n",
       "│ RaterSex ┆ Term     ┆ Contrast    ┆ Estimate ┆ … ┆ P(>|z|) ┆ S      ┆ 2.5%   ┆ 97.5%   │\n",
       "│ ---      ┆ ---      ┆ ---         ┆ ---      ┆   ┆ ---     ┆ ---    ┆ ---    ┆ ---     │\n",
       "│ str      ┆ str      ┆ str         ┆ str      ┆   ┆ str     ┆ str    ┆ str    ┆ str     │\n",
       "╞══════════╪══════════╪═════════════╪══════════╪═══╪═════════╪════════╪════════╪═════════╡\n",
       "│ F        ┆ Faithful ┆ mean(dY/dX) ┆ -0.0758  ┆ … ┆ 0.0154  ┆ 6.02   ┆ -0.137 ┆ -0.0145 │\n",
       "│ M        ┆ Faithful ┆ mean(dY/dX) ┆ -0.00089 ┆ … ┆ 0.989   ┆ 0.0164 ┆ -0.124 ┆ 0.122   │\n",
       "└──────────┴──────────┴─────────────┴──────────┴───┴─────────┴────────┴────────┴─────────┘\n",
       "\n",
       "Columns: RaterSex, term, contrast, estimate, std_error, statistic, p_value, s_value, conf_low, conf_high"
      ]
     },
     "execution_count": 18,
     "metadata": {},
     "output_type": "execute_result"
    }
   ],
   "source": [
    "# Your answer here\n",
    "slopes = me.slopes(model,\n",
    "                   newdata=dg,\n",
    "                   variables='Faithful',\n",
    "                   by='RaterSex')\n",
    "slopes"
   ]
  },
  {
   "cell_type": "markdown",
   "id": "cba9e34e-18e6-4ed3-99d5-f5ae52232ebb",
   "metadata": {},
   "source": [
    "If you've successfully estimate the slopes, conduct a hypothesis test to see if they are statistically significantly different."
   ]
  },
  {
   "cell_type": "code",
   "execution_count": 19,
   "id": "c524f78a-92a3-49b5-8887-c91df379eede",
   "metadata": {
    "editable": true,
    "slideshow": {
     "slide_type": ""
    },
    "tags": [
     "hide-input"
    ]
   },
   "outputs": [
    {
     "data": {
      "text/html": [
       "<div><style>\n",
       ".dataframe > thead > tr,\n",
       ".dataframe > tbody > tr {\n",
       "  text-align: right;\n",
       "  white-space: pre-wrap;\n",
       "}\n",
       "</style>\n",
       "<small>shape: (1, 8)</small><table border=\"1\" class=\"dataframe\"><thead><tr><th>term</th><th>estimate</th><th>std_error</th><th>statistic</th><th>p_value</th><th>s_value</th><th>conf_low</th><th>conf_high</th></tr><tr><td>str</td><td>f64</td><td>f64</td><td>f64</td><td>f64</td><td>f64</td><td>f64</td><td>f64</td></tr></thead><tbody><tr><td>&quot;Row 1 - Row 2&quot;</td><td>-0.074903</td><td>0.070291</td><td>-1.065619</td><td>0.286596</td><td>1.802909</td><td>-0.21267</td><td>0.062864</td></tr></tbody></table></div>"
      ],
      "text/plain": [
       "shape: (1, 8)\n",
       "┌───────────────┬──────────┬───────────┬───────┬─────────┬─────┬────────┬────────┐\n",
       "│ Term          ┆ Estimate ┆ Std.Error ┆ z     ┆ P(>|z|) ┆ S   ┆ 2.5%   ┆ 97.5%  │\n",
       "│ ---           ┆ ---      ┆ ---       ┆ ---   ┆ ---     ┆ --- ┆ ---    ┆ ---    │\n",
       "│ str           ┆ str      ┆ str       ┆ str   ┆ str     ┆ str ┆ str    ┆ str    │\n",
       "╞═══════════════╪══════════╪═══════════╪═══════╪═════════╪═════╪════════╪════════╡\n",
       "│ Row 1 - Row 2 ┆ -0.0749  ┆ 0.0703    ┆ -1.07 ┆ 0.287   ┆ 1.8 ┆ -0.213 ┆ 0.0629 │\n",
       "└───────────────┴──────────┴───────────┴───────┴─────────┴─────┴────────┴────────┘\n",
       "\n",
       "Columns: term, estimate, std_error, statistic, p_value, s_value, conf_low, conf_high"
      ]
     },
     "execution_count": 19,
     "metadata": {},
     "output_type": "execute_result"
    }
   ],
   "source": [
    "# Your answer here\n",
    "me.slopes(model,\n",
    "          newdata=dg,\n",
    "          variables='Faithful',\n",
    "          by='RaterSex',\n",
    "          hypothesis='pairwise')"
   ]
  },
  {
   "cell_type": "markdown",
   "id": "d16f3477-5e35-4427-8626-802fa993ca00",
   "metadata": {},
   "source": [
    "The answer appears to be incompatible with the claim of the manuscript.\n",
    "\n",
    "Let us be at least charitable to the authors. Have the model make a prediction about the probability of a face being a cheater, given males and females rate it with a faithfulness of 1, the lowest possible rating. Is there a difference there?"
   ]
  },
  {
   "cell_type": "code",
   "execution_count": 20,
   "id": "f8dc13ef-ac08-4d55-ab2a-835c411b3fd4",
   "metadata": {
    "editable": true,
    "slideshow": {
     "slide_type": ""
    },
    "tags": [
     "hide-input"
    ]
   },
   "outputs": [
    {
     "data": {
      "text/html": [
       "<div><style>\n",
       ".dataframe > thead > tr,\n",
       ".dataframe > tbody > tr {\n",
       "  text-align: right;\n",
       "  white-space: pre-wrap;\n",
       "}\n",
       "</style>\n",
       "<small>shape: (2, 16)</small><table border=\"1\" class=\"dataframe\"><thead><tr><th>RaterSex</th><th>Faithful</th><th>rowid</th><th>estimate</th><th>std_error</th><th>statistic</th><th>p_value</th><th>s_value</th><th>conf_low</th><th>conf_high</th><th>rownames</th><th>SexDimorph</th><th>Attract</th><th>Cheater</th><th>Trust</th><th>FaceSex</th></tr><tr><td>str</td><td>i64</td><td>i32</td><td>f64</td><td>f64</td><td>f64</td><td>f64</td><td>f64</td><td>f64</td><td>f64</td><td>i64</td><td>f64</td><td>f64</td><td>i64</td><td>f64</td><td>str</td></tr></thead><tbody><tr><td>&quot;M&quot;</td><td>1</td><td>0</td><td>0.284553</td><td>0.292498</td><td>0.972837</td><td>0.330634</td><td>1.596691</td><td>-0.288732</td><td>0.857837</td><td>156</td><td>4.162171</td><td>2.9927</td><td>0</td><td>4.323206</td><td>&quot;M&quot;</td></tr><tr><td>&quot;F&quot;</td><td>1</td><td>1</td><td>0.675911</td><td>0.208502</td><td>3.241746</td><td>0.001188</td><td>9.717251</td><td>0.267254</td><td>1.084567</td><td>156</td><td>4.162171</td><td>2.9927</td><td>0</td><td>4.323206</td><td>&quot;M&quot;</td></tr></tbody></table></div>"
      ],
      "text/plain": [
       "shape: (2, 9)\n",
       "┌──────────┬──────────┬──────────┬───────────┬───┬─────────┬──────┬────────┬───────┐\n",
       "│ RaterSex ┆ Faithful ┆ Estimate ┆ Std.Error ┆ … ┆ P(>|z|) ┆ S    ┆ 2.5%   ┆ 97.5% │\n",
       "│ ---      ┆ ---      ┆ ---      ┆ ---       ┆   ┆ ---     ┆ ---  ┆ ---    ┆ ---   │\n",
       "│ str      ┆ str      ┆ str      ┆ str       ┆   ┆ str     ┆ str  ┆ str    ┆ str   │\n",
       "╞══════════╪══════════╪══════════╪═══════════╪═══╪═════════╪══════╪════════╪═══════╡\n",
       "│ M        ┆ 1        ┆ 0.285    ┆ 0.292     ┆ … ┆ 0.331   ┆ 1.6  ┆ -0.289 ┆ 0.858 │\n",
       "│ F        ┆ 1        ┆ 0.676    ┆ 0.209     ┆ … ┆ 0.00119 ┆ 9.72 ┆ 0.267  ┆ 1.08  │\n",
       "└──────────┴──────────┴──────────┴───────────┴───┴─────────┴──────┴────────┴───────┘\n",
       "\n",
       "Columns: RaterSex, Faithful, rowid, estimate, std_error, statistic, p_value, s_value, conf_low, conf_high, rownames, SexDimorph, Attract, Cheater, Trust, FaceSex"
      ]
     },
     "metadata": {},
     "output_type": "display_data"
    },
    {
     "data": {
      "text/html": [
       "<div><style>\n",
       ".dataframe > thead > tr,\n",
       ".dataframe > tbody > tr {\n",
       "  text-align: right;\n",
       "  white-space: pre-wrap;\n",
       "}\n",
       "</style>\n",
       "<small>shape: (1, 8)</small><table border=\"1\" class=\"dataframe\"><thead><tr><th>term</th><th>estimate</th><th>std_error</th><th>statistic</th><th>p_value</th><th>s_value</th><th>conf_low</th><th>conf_high</th></tr><tr><td>str</td><td>f64</td><td>f64</td><td>f64</td><td>f64</td><td>f64</td><td>f64</td><td>f64</td></tr></thead><tbody><tr><td>&quot;b1=b2&quot;</td><td>-0.391358</td><td>0.359205</td><td>-1.089513</td><td>0.275928</td><td>1.857639</td><td>-1.095387</td><td>0.31267</td></tr></tbody></table></div>"
      ],
      "text/plain": [
       "shape: (1, 8)\n",
       "┌───────┬──────────┬───────────┬───────┬─────────┬──────┬──────┬───────┐\n",
       "│ Term  ┆ Estimate ┆ Std.Error ┆ z     ┆ P(>|z|) ┆ S    ┆ 2.5% ┆ 97.5% │\n",
       "│ ---   ┆ ---      ┆ ---       ┆ ---   ┆ ---     ┆ ---  ┆ ---  ┆ ---   │\n",
       "│ str   ┆ str      ┆ str       ┆ str   ┆ str     ┆ str  ┆ str  ┆ str   │\n",
       "╞═══════╪══════════╪═══════════╪═══════╪═════════╪══════╪══════╪═══════╡\n",
       "│ b1=b2 ┆ -0.391   ┆ 0.359     ┆ -1.09 ┆ 0.276   ┆ 1.86 ┆ -1.1 ┆ 0.313 │\n",
       "└───────┴──────────┴───────────┴───────┴─────────┴──────┴──────┴───────┘\n",
       "\n",
       "Columns: term, estimate, std_error, statistic, p_value, s_value, conf_low, conf_high"
      ]
     },
     "metadata": {},
     "output_type": "display_data"
    }
   ],
   "source": [
    "# Your answer here\n",
    "dg = me.datagrid(model,\n",
    "                 RaterSex=['M', 'F'],\n",
    "                 Faithful=[1])\n",
    "\n",
    "# Predict\n",
    "display(me.predictions(model, newdata=dg))\n",
    "\n",
    "# Contrast\n",
    "display(me.predictions(model, newdata=dg, hypothesis='b1=b2'))"
   ]
  },
  {
   "cell_type": "markdown",
   "id": "0688b743-fa7a-43e9-b613-82049c32fd37",
   "metadata": {},
   "source": [
    "Not even at the lowest level of accuracy is there a sex difference.\n",
    "\n",
    "Repeat the predictions for males and females above, at the lowest level of faithfulness rating. Before taking the difference, set the null hypothesis to .50. This will tell us whether the predictions are actually better than chance or not. So now we are focusing not on the difference between males and females, but on the absolute probability their low faithfulness rating corresponds to a face that has actually cheated is better than a 50/50 coin flip."
   ]
  },
  {
   "cell_type": "code",
   "execution_count": 21,
   "id": "115d31fd-e361-4a22-a361-eac493789b2b",
   "metadata": {
    "editable": true,
    "slideshow": {
     "slide_type": ""
    },
    "tags": [
     "hide-input"
    ]
   },
   "outputs": [
    {
     "data": {
      "text/html": [
       "<div><style>\n",
       ".dataframe > thead > tr,\n",
       ".dataframe > tbody > tr {\n",
       "  text-align: right;\n",
       "  white-space: pre-wrap;\n",
       "}\n",
       "</style>\n",
       "<small>shape: (2, 16)</small><table border=\"1\" class=\"dataframe\"><thead><tr><th>RaterSex</th><th>Faithful</th><th>rowid</th><th>estimate</th><th>std_error</th><th>statistic</th><th>p_value</th><th>s_value</th><th>conf_low</th><th>conf_high</th><th>rownames</th><th>SexDimorph</th><th>Attract</th><th>Cheater</th><th>Trust</th><th>FaceSex</th></tr><tr><td>str</td><td>i64</td><td>i32</td><td>f64</td><td>f64</td><td>f64</td><td>f64</td><td>f64</td><td>f64</td><td>f64</td><td>i64</td><td>f64</td><td>f64</td><td>i64</td><td>f64</td><td>str</td></tr></thead><tbody><tr><td>&quot;M&quot;</td><td>1</td><td>0</td><td>0.284553</td><td>0.292498</td><td>-0.736579</td><td>0.461379</td><td>1.115977</td><td>-0.288732</td><td>0.857837</td><td>156</td><td>4.162171</td><td>2.9927</td><td>0</td><td>4.323206</td><td>&quot;M&quot;</td></tr><tr><td>&quot;F&quot;</td><td>1</td><td>1</td><td>0.675911</td><td>0.208502</td><td>0.843689</td><td>0.398843</td><td>1.326105</td><td>0.267254</td><td>1.084567</td><td>156</td><td>4.162171</td><td>2.9927</td><td>0</td><td>4.323206</td><td>&quot;M&quot;</td></tr></tbody></table></div>"
      ],
      "text/plain": [
       "shape: (2, 9)\n",
       "┌──────────┬──────────┬──────────┬───────────┬───┬─────────┬──────┬────────┬───────┐\n",
       "│ RaterSex ┆ Faithful ┆ Estimate ┆ Std.Error ┆ … ┆ P(>|z|) ┆ S    ┆ 2.5%   ┆ 97.5% │\n",
       "│ ---      ┆ ---      ┆ ---      ┆ ---       ┆   ┆ ---     ┆ ---  ┆ ---    ┆ ---   │\n",
       "│ str      ┆ str      ┆ str      ┆ str       ┆   ┆ str     ┆ str  ┆ str    ┆ str   │\n",
       "╞══════════╪══════════╪══════════╪═══════════╪═══╪═════════╪══════╪════════╪═══════╡\n",
       "│ M        ┆ 1        ┆ 0.285    ┆ 0.292     ┆ … ┆ 0.461   ┆ 1.12 ┆ -0.289 ┆ 0.858 │\n",
       "│ F        ┆ 1        ┆ 0.676    ┆ 0.209     ┆ … ┆ 0.399   ┆ 1.33 ┆ 0.267  ┆ 1.08  │\n",
       "└──────────┴──────────┴──────────┴───────────┴───┴─────────┴──────┴────────┴───────┘\n",
       "\n",
       "Columns: RaterSex, Faithful, rowid, estimate, std_error, statistic, p_value, s_value, conf_low, conf_high, rownames, SexDimorph, Attract, Cheater, Trust, FaceSex"
      ]
     },
     "metadata": {},
     "output_type": "display_data"
    }
   ],
   "source": [
    "# Your answer here\n",
    "# Predict, just set hypothesis to .50\n",
    "display(me.predictions(model, newdata=dg, hypothesis=.50))"
   ]
  },
  {
   "cell_type": "markdown",
   "id": "4b7c9892-26b9-42a4-bdbe-dbcfe3bb68f7",
   "metadata": {},
   "source": [
    "No luck there either!"
   ]
  }
 ],
 "metadata": {
  "kernelspec": {
   "display_name": "Python 3 (ipykernel)",
   "language": "python",
   "name": "python3"
  },
  "language_info": {
   "codemirror_mode": {
    "name": "ipython",
    "version": 3
   },
   "file_extension": ".py",
   "mimetype": "text/x-python",
   "name": "python",
   "nbconvert_exporter": "python",
   "pygments_lexer": "ipython3",
   "version": "3.12.2"
  }
 },
 "nbformat": 4,
 "nbformat_minor": 5
}
