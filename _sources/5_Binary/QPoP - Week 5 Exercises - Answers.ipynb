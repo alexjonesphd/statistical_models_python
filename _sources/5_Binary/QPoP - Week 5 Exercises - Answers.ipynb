{
 "cells": [
  {
   "cell_type": "markdown",
   "id": "303992b8-5f5c-44af-8ea5-3e2a520ffdde",
   "metadata": {
    "editable": true,
    "slideshow": {
     "slide_type": ""
    },
    "tags": []
   },
   "source": [
    "### Using and understanding probit models - Exercises & Answers"
   ]
  },
  {
   "cell_type": "markdown",
   "id": "2e4cf7dc-4a44-4796-a54f-420b60515fd8",
   "metadata": {},
   "source": [
    "The exercises for this week will ease you into the slightly odd world of probit models. In many ways the logic is the same - we fit the models and interpret the predictions - but since the predictions are probabilities, and a threshold has to be imposed to actually recover a binary outcome, things can be a little trickier. On the whole, these models are a little trickier to understand than a standard GLM, so take care."
   ]
  },
  {
   "cell_type": "markdown",
   "id": "cc169d99-ad30-49b3-8b8f-cc1fda935e3b",
   "metadata": {},
   "source": [
    "## 1. **Iceberg**, right ahead!\n",
    "Our probit regression practice begins by examining the `titanic` dataset. This is a genuine dataset that records the full passenger log of the Titanic, with many interesting variables, including whether a passenger survived the disaster or not. \n",
    "\n",
    "### a. Imports\n",
    "To get started, import the following packages with their usual aliases: `pandas`, `pingouin`, `statsmodels.formula.api`, `seaborn`, `marginaleffects`, and `numpy`."
   ]
  },
  {
   "cell_type": "code",
   "execution_count": 1,
   "id": "21c94a3c-762e-43f1-a2ec-ff4512d5eb20",
   "metadata": {
    "editable": true,
    "slideshow": {
     "slide_type": ""
    },
    "tags": [
     "hide-input"
    ]
   },
   "outputs": [],
   "source": [
    "# Your answer here\n",
    "import pandas as pd\n",
    "import pingouin as pg\n",
    "import statsmodels.formula.api as smf\n",
    "import seaborn as sns\n",
    "import marginaleffects as me\n",
    "import numpy as np\n",
    "\n",
    "sns.set_style('whitegrid')"
   ]
  },
  {
   "cell_type": "markdown",
   "id": "7954a603-33c3-4dc6-8e7f-9eb43f35d57e",
   "metadata": {},
   "source": [
    "### b. Loading up data\n",
    "Load the Titanic dataset from the following link using `pandas` into a variable called `titanic`, then show the top 10 rows. \n",
    "\n",
    "Data: https://vincentarelbundock.github.io/Rdatasets/csv/Stat2Data/Titanic.csv\n",
    "\n",
    "The dataset is fairly self explanatory, but you can find a more detailed description here:\n",
    "https://vincentarelbundock.github.io/Rdatasets/doc/Stat2Data/Titanic.html"
   ]
  },
  {
   "cell_type": "code",
   "execution_count": 2,
   "id": "c40b539a-fa48-4888-873f-247f2481296d",
   "metadata": {
    "editable": true,
    "slideshow": {
     "slide_type": ""
    },
    "tags": [
     "hide-input"
    ]
   },
   "outputs": [
    {
     "data": {
      "text/html": [
       "<div>\n",
       "<style scoped>\n",
       "    .dataframe tbody tr th:only-of-type {\n",
       "        vertical-align: middle;\n",
       "    }\n",
       "\n",
       "    .dataframe tbody tr th {\n",
       "        vertical-align: top;\n",
       "    }\n",
       "\n",
       "    .dataframe thead th {\n",
       "        text-align: right;\n",
       "    }\n",
       "</style>\n",
       "<table border=\"1\" class=\"dataframe\">\n",
       "  <thead>\n",
       "    <tr style=\"text-align: right;\">\n",
       "      <th></th>\n",
       "      <th>rownames</th>\n",
       "      <th>Name</th>\n",
       "      <th>PClass</th>\n",
       "      <th>Age</th>\n",
       "      <th>Sex</th>\n",
       "      <th>Survived</th>\n",
       "      <th>SexCode</th>\n",
       "    </tr>\n",
       "  </thead>\n",
       "  <tbody>\n",
       "    <tr>\n",
       "      <th>0</th>\n",
       "      <td>1</td>\n",
       "      <td>Allen, Miss Elisabeth Walton</td>\n",
       "      <td>1st</td>\n",
       "      <td>29.00</td>\n",
       "      <td>female</td>\n",
       "      <td>1</td>\n",
       "      <td>1</td>\n",
       "    </tr>\n",
       "    <tr>\n",
       "      <th>1</th>\n",
       "      <td>2</td>\n",
       "      <td>Allison, Miss Helen Loraine</td>\n",
       "      <td>1st</td>\n",
       "      <td>2.00</td>\n",
       "      <td>female</td>\n",
       "      <td>0</td>\n",
       "      <td>1</td>\n",
       "    </tr>\n",
       "    <tr>\n",
       "      <th>2</th>\n",
       "      <td>3</td>\n",
       "      <td>Allison, Mr Hudson Joshua Creighton</td>\n",
       "      <td>1st</td>\n",
       "      <td>30.00</td>\n",
       "      <td>male</td>\n",
       "      <td>0</td>\n",
       "      <td>0</td>\n",
       "    </tr>\n",
       "    <tr>\n",
       "      <th>3</th>\n",
       "      <td>4</td>\n",
       "      <td>Allison, Mrs Hudson JC (Bessie Waldo Daniels)</td>\n",
       "      <td>1st</td>\n",
       "      <td>25.00</td>\n",
       "      <td>female</td>\n",
       "      <td>0</td>\n",
       "      <td>1</td>\n",
       "    </tr>\n",
       "    <tr>\n",
       "      <th>4</th>\n",
       "      <td>5</td>\n",
       "      <td>Allison, Master Hudson Trevor</td>\n",
       "      <td>1st</td>\n",
       "      <td>0.92</td>\n",
       "      <td>male</td>\n",
       "      <td>1</td>\n",
       "      <td>0</td>\n",
       "    </tr>\n",
       "    <tr>\n",
       "      <th>5</th>\n",
       "      <td>6</td>\n",
       "      <td>Anderson, Mr Harry</td>\n",
       "      <td>1st</td>\n",
       "      <td>47.00</td>\n",
       "      <td>male</td>\n",
       "      <td>1</td>\n",
       "      <td>0</td>\n",
       "    </tr>\n",
       "    <tr>\n",
       "      <th>6</th>\n",
       "      <td>7</td>\n",
       "      <td>Andrews, Miss Kornelia Theodosia</td>\n",
       "      <td>1st</td>\n",
       "      <td>63.00</td>\n",
       "      <td>female</td>\n",
       "      <td>1</td>\n",
       "      <td>1</td>\n",
       "    </tr>\n",
       "    <tr>\n",
       "      <th>7</th>\n",
       "      <td>8</td>\n",
       "      <td>Andrews, Mr Thomas, jr</td>\n",
       "      <td>1st</td>\n",
       "      <td>39.00</td>\n",
       "      <td>male</td>\n",
       "      <td>0</td>\n",
       "      <td>0</td>\n",
       "    </tr>\n",
       "    <tr>\n",
       "      <th>8</th>\n",
       "      <td>9</td>\n",
       "      <td>Appleton, Mrs Edward Dale (Charlotte Lamson)</td>\n",
       "      <td>1st</td>\n",
       "      <td>58.00</td>\n",
       "      <td>female</td>\n",
       "      <td>1</td>\n",
       "      <td>1</td>\n",
       "    </tr>\n",
       "    <tr>\n",
       "      <th>9</th>\n",
       "      <td>10</td>\n",
       "      <td>Artagaveytia, Mr Ramon</td>\n",
       "      <td>1st</td>\n",
       "      <td>71.00</td>\n",
       "      <td>male</td>\n",
       "      <td>0</td>\n",
       "      <td>0</td>\n",
       "    </tr>\n",
       "  </tbody>\n",
       "</table>\n",
       "</div>"
      ],
      "text/plain": [
       "   rownames                                           Name PClass    Age  \\\n",
       "0         1                   Allen, Miss Elisabeth Walton    1st  29.00   \n",
       "1         2                    Allison, Miss Helen Loraine    1st   2.00   \n",
       "2         3            Allison, Mr Hudson Joshua Creighton    1st  30.00   \n",
       "3         4  Allison, Mrs Hudson JC (Bessie Waldo Daniels)    1st  25.00   \n",
       "4         5                  Allison, Master Hudson Trevor    1st   0.92   \n",
       "5         6                             Anderson, Mr Harry    1st  47.00   \n",
       "6         7               Andrews, Miss Kornelia Theodosia    1st  63.00   \n",
       "7         8                         Andrews, Mr Thomas, jr    1st  39.00   \n",
       "8         9   Appleton, Mrs Edward Dale (Charlotte Lamson)    1st  58.00   \n",
       "9        10                         Artagaveytia, Mr Ramon    1st  71.00   \n",
       "\n",
       "      Sex  Survived  SexCode  \n",
       "0  female         1        1  \n",
       "1  female         0        1  \n",
       "2    male         0        0  \n",
       "3  female         0        1  \n",
       "4    male         1        0  \n",
       "5    male         1        0  \n",
       "6  female         1        1  \n",
       "7    male         0        0  \n",
       "8  female         1        1  \n",
       "9    male         0        0  "
      ]
     },
     "execution_count": 2,
     "metadata": {},
     "output_type": "execute_result"
    }
   ],
   "source": [
    "# Your answer here\n",
    "titanic = pd.read_csv('https://vincentarelbundock.github.io/Rdatasets/csv/Stat2Data/Titanic.csv')\n",
    "titanic.head(10)\n"
   ]
  },
  {
   "cell_type": "markdown",
   "id": "9e2b352c-bc4f-4240-9258-2c83ea4af408",
   "metadata": {},
   "source": [
    "### c. A tiny bit of cleaning\n",
    "The dataset has a missing data value for one of the `PClass` entries, where it is recorded as a * symbol. \n",
    "\n",
    "Remove this by querying the data so that `PClass` is not equal to '*', and reassign this back to the variable `titanic`. \n",
    "\n",
    "Then, drop the missing values in the `Age` column, and reassign this back to the variable `titanic`."
   ]
  },
  {
   "cell_type": "code",
   "execution_count": 3,
   "id": "efcfc500-4b83-4582-864c-6e3def00ce81",
   "metadata": {
    "editable": true,
    "slideshow": {
     "slide_type": ""
    },
    "tags": [
     "hide-input"
    ]
   },
   "outputs": [],
   "source": [
    "# Your answer here\n",
    "titanic = titanic.query('PClass != \"*\"').dropna(how='any', subset='Age')"
   ]
  },
  {
   "cell_type": "markdown",
   "id": "5672c467-b2e9-48d2-a8d7-63496d715aa7",
   "metadata": {},
   "source": [
    "### d. Estimating survival probabilities\n",
    "The sinking of the Titanic is one of the worst maritime disasters in recorded history, with over 1500 deaths. The dataset contains only the passenger manifesto (i.e., crew are not included). Surviving the disaster was not equally likely for all passengers, however - the phrase 'women and children first' may come to mind.\n",
    "\n",
    "Probit regression can help us estimate survival probabilities for the different passenger classes, ages, and sex. \n",
    "\n",
    "Fit a probit model predicted whether a passenger survived from their sex, age, and class, and print the summary:"
   ]
  },
  {
   "cell_type": "code",
   "execution_count": 4,
   "id": "52b74bb4-cfd1-4a14-b219-8d0400402a28",
   "metadata": {
    "editable": true,
    "slideshow": {
     "slide_type": ""
    },
    "tags": [
     "hide-input"
    ]
   },
   "outputs": [
    {
     "name": "stdout",
     "output_type": "stream",
     "text": [
      "Optimization terminated successfully.\n",
      "         Current function value: 0.461503\n",
      "         Iterations 6\n"
     ]
    },
    {
     "data": {
      "text/html": [
       "<table class=\"simpletable\">\n",
       "<caption>Probit Regression Results</caption>\n",
       "<tr>\n",
       "  <th>Dep. Variable:</th>       <td>Survived</td>     <th>  No. Observations:  </th>  <td>   756</td>  \n",
       "</tr>\n",
       "<tr>\n",
       "  <th>Model:</th>                <td>Probit</td>      <th>  Df Residuals:      </th>  <td>   751</td>  \n",
       "</tr>\n",
       "<tr>\n",
       "  <th>Method:</th>                 <td>MLE</td>       <th>  Df Model:          </th>  <td>     4</td>  \n",
       "</tr>\n",
       "<tr>\n",
       "  <th>Date:</th>            <td>Wed, 28 Aug 2024</td> <th>  Pseudo R-squ.:     </th>  <td>0.3196</td>  \n",
       "</tr>\n",
       "<tr>\n",
       "  <th>Time:</th>                <td>14:57:41</td>     <th>  Log-Likelihood:    </th> <td> -348.90</td> \n",
       "</tr>\n",
       "<tr>\n",
       "  <th>converged:</th>             <td>True</td>       <th>  LL-Null:           </th> <td> -512.79</td> \n",
       "</tr>\n",
       "<tr>\n",
       "  <th>Covariance Type:</th>     <td>nonrobust</td>    <th>  LLR p-value:       </th> <td>1.098e-69</td>\n",
       "</tr>\n",
       "</table>\n",
       "<table class=\"simpletable\">\n",
       "<tr>\n",
       "        <td></td>           <th>coef</th>     <th>std err</th>      <th>z</th>      <th>P>|z|</th>  <th>[0.025</th>    <th>0.975]</th>  \n",
       "</tr>\n",
       "<tr>\n",
       "  <th>Intercept</th>     <td>    2.1643</td> <td>    0.217</td> <td>    9.967</td> <td> 0.000</td> <td>    1.739</td> <td>    2.590</td>\n",
       "</tr>\n",
       "<tr>\n",
       "  <th>PClass[T.2nd]</th> <td>   -0.7540</td> <td>    0.152</td> <td>   -4.966</td> <td> 0.000</td> <td>   -1.052</td> <td>   -0.456</td>\n",
       "</tr>\n",
       "<tr>\n",
       "  <th>PClass[T.3rd]</th> <td>   -1.4076</td> <td>    0.150</td> <td>   -9.356</td> <td> 0.000</td> <td>   -1.702</td> <td>   -1.113</td>\n",
       "</tr>\n",
       "<tr>\n",
       "  <th>Sex[T.male]</th>   <td>   -1.5460</td> <td>    0.112</td> <td>  -13.821</td> <td> 0.000</td> <td>   -1.765</td> <td>   -1.327</td>\n",
       "</tr>\n",
       "<tr>\n",
       "  <th>Age</th>           <td>   -0.0221</td> <td>    0.004</td> <td>   -5.130</td> <td> 0.000</td> <td>   -0.031</td> <td>   -0.014</td>\n",
       "</tr>\n",
       "</table>"
      ],
      "text/latex": [
       "\\begin{center}\n",
       "\\begin{tabular}{lclc}\n",
       "\\toprule\n",
       "\\textbf{Dep. Variable:}   &     Survived     & \\textbf{  No. Observations:  } &      756    \\\\\n",
       "\\textbf{Model:}           &      Probit      & \\textbf{  Df Residuals:      } &      751    \\\\\n",
       "\\textbf{Method:}          &       MLE        & \\textbf{  Df Model:          } &        4    \\\\\n",
       "\\textbf{Date:}            & Wed, 28 Aug 2024 & \\textbf{  Pseudo R-squ.:     } &   0.3196    \\\\\n",
       "\\textbf{Time:}            &     14:57:41     & \\textbf{  Log-Likelihood:    } &   -348.90   \\\\\n",
       "\\textbf{converged:}       &       True       & \\textbf{  LL-Null:           } &   -512.79   \\\\\n",
       "\\textbf{Covariance Type:} &    nonrobust     & \\textbf{  LLR p-value:       } & 1.098e-69   \\\\\n",
       "\\bottomrule\n",
       "\\end{tabular}\n",
       "\\begin{tabular}{lcccccc}\n",
       "                       & \\textbf{coef} & \\textbf{std err} & \\textbf{z} & \\textbf{P$> |$z$|$} & \\textbf{[0.025} & \\textbf{0.975]}  \\\\\n",
       "\\midrule\n",
       "\\textbf{Intercept}     &       2.1643  &        0.217     &     9.967  &         0.000        &        1.739    &        2.590     \\\\\n",
       "\\textbf{PClass[T.2nd]} &      -0.7540  &        0.152     &    -4.966  &         0.000        &       -1.052    &       -0.456     \\\\\n",
       "\\textbf{PClass[T.3rd]} &      -1.4076  &        0.150     &    -9.356  &         0.000        &       -1.702    &       -1.113     \\\\\n",
       "\\textbf{Sex[T.male]}   &      -1.5460  &        0.112     &   -13.821  &         0.000        &       -1.765    &       -1.327     \\\\\n",
       "\\textbf{Age}           &      -0.0221  &        0.004     &    -5.130  &         0.000        &       -0.031    &       -0.014     \\\\\n",
       "\\bottomrule\n",
       "\\end{tabular}\n",
       "%\\caption{Probit Regression Results}\n",
       "\\end{center}"
      ],
      "text/plain": [
       "<class 'statsmodels.iolib.summary.Summary'>\n",
       "\"\"\"\n",
       "                          Probit Regression Results                           \n",
       "==============================================================================\n",
       "Dep. Variable:               Survived   No. Observations:                  756\n",
       "Model:                         Probit   Df Residuals:                      751\n",
       "Method:                           MLE   Df Model:                            4\n",
       "Date:                Wed, 28 Aug 2024   Pseudo R-squ.:                  0.3196\n",
       "Time:                        14:57:41   Log-Likelihood:                -348.90\n",
       "converged:                       True   LL-Null:                       -512.79\n",
       "Covariance Type:            nonrobust   LLR p-value:                 1.098e-69\n",
       "=================================================================================\n",
       "                    coef    std err          z      P>|z|      [0.025      0.975]\n",
       "---------------------------------------------------------------------------------\n",
       "Intercept         2.1643      0.217      9.967      0.000       1.739       2.590\n",
       "PClass[T.2nd]    -0.7540      0.152     -4.966      0.000      -1.052      -0.456\n",
       "PClass[T.3rd]    -1.4076      0.150     -9.356      0.000      -1.702      -1.113\n",
       "Sex[T.male]      -1.5460      0.112    -13.821      0.000      -1.765      -1.327\n",
       "Age              -0.0221      0.004     -5.130      0.000      -0.031      -0.014\n",
       "=================================================================================\n",
       "\"\"\""
      ]
     },
     "execution_count": 4,
     "metadata": {},
     "output_type": "execute_result"
    }
   ],
   "source": [
    "# Your answer here\n",
    "titanic_model = smf.probit('Survived ~ PClass + Age + Sex', data=titanic).fit()\n",
    "titanic_model.summary()"
   ]
  },
  {
   "cell_type": "markdown",
   "id": "e5681ddd-4154-4b00-b59d-5869160e2e8e",
   "metadata": {},
   "source": [
    "All of the coefficients are significant, but again, we do not want to dwell on interpreting these. Instead, we should focus on the predictions. Generate a set of predictions for each predictor, to see how survival probability is affected. Bonus points if you can plot them as well."
   ]
  },
  {
   "cell_type": "code",
   "execution_count": 5,
   "id": "f695e492-861c-4ef8-a203-d6df7bdec216",
   "metadata": {
    "editable": true,
    "slideshow": {
     "slide_type": ""
    },
    "tags": [
     "hide-input"
    ]
   },
   "outputs": [
    {
     "data": {
      "text/plain": [
       "<seaborn.axisgrid.FacetGrid at 0x159ed9750>"
      ]
     },
     "execution_count": 5,
     "metadata": {},
     "output_type": "execute_result"
    },
    {
     "data": {
      "image/png": "[encoded data removed]",
      "text/plain": [
       "<Figure size 1073.25x500 with 2 Axes>"
      ]
     },
     "metadata": {},
     "output_type": "display_data"
    }
   ],
   "source": [
    "# Your answer here\n",
    "dg = me.datagrid(titanic_model,\n",
    "                 PClass=['1st', '2nd', '3rd'],\n",
    "                 Sex=['male', 'female'],\n",
    "                 Age=np.arange(0, 90))\n",
    "\n",
    "# Predict\n",
    "preds = me.predictions(titanic_model, newdata=dg)\n",
    "\n",
    "# Plot\n",
    "sns.relplot(data=preds,\n",
    "            x='Age', y='estimate',\n",
    "            hue='PClass', col='Sex',\n",
    "            kind='line')"
   ]
  },
  {
   "cell_type": "markdown",
   "id": "004b2f0b-c9a3-48df-ba2b-edf746089fa0",
   "metadata": {},
   "source": [
    "This story is not apparent at all from the coefficients. Younger individuals had a higher chance of survival, as did women, which is particularly pronounced for higher-class passengers. \n",
    "\n",
    "Let's check the importance of these differences. \n",
    "\n",
    "Use `marginaleffects` to contrast the differences in survival probability for females and males, regardless of class and age (i.e., the marginal effect of sex)."
   ]
  },
  {
   "cell_type": "code",
   "execution_count": 6,
   "id": "dc6ac360-319f-421f-8d77-2be441df3f91",
   "metadata": {
    "editable": true,
    "slideshow": {
     "slide_type": ""
    },
    "tags": [
     "hide-input"
    ]
   },
   "outputs": [
    {
     "data": {
      "text/html": [
       "<div><style>\n",
       ".dataframe > thead > tr,\n",
       ".dataframe > tbody > tr {\n",
       "  text-align: right;\n",
       "  white-space: pre-wrap;\n",
       "}\n",
       "</style>\n",
       "<small>shape: (2, 8)</small><table border=\"1\" class=\"dataframe\"><thead><tr><th>Sex</th><th>estimate</th><th>std_error</th><th>statistic</th><th>p_value</th><th>s_value</th><th>conf_low</th><th>conf_high</th></tr><tr><td>str</td><td>f64</td><td>f64</td><td>f64</td><td>f64</td><td>f64</td><td>f64</td><td>f64</td></tr></thead><tbody><tr><td>&quot;female&quot;</td><td>0.637297</td><td>0.034537</td><td>18.452395</td><td>0.0</td><td>inf</td><td>0.569605</td><td>0.704989</td></tr><tr><td>&quot;male&quot;</td><td>0.202482</td><td>0.015936</td><td>12.706124</td><td>0.0</td><td>inf</td><td>0.171248</td><td>0.233715</td></tr></tbody></table></div>"
      ],
      "text/plain": [
       "shape: (2, 8)\n",
       "┌────────┬──────────┬───────────┬──────┬─────────┬─────┬───────┬───────┐\n",
       "│ Sex    ┆ Estimate ┆ Std.Error ┆ z    ┆ P(>|z|) ┆ S   ┆ 2.5%  ┆ 97.5% │\n",
       "│ ---    ┆ ---      ┆ ---       ┆ ---  ┆ ---     ┆ --- ┆ ---   ┆ ---   │\n",
       "│ str    ┆ str      ┆ str       ┆ str  ┆ str     ┆ str ┆ str   ┆ str   │\n",
       "╞════════╪══════════╪═══════════╪══════╪═════════╪═════╪═══════╪═══════╡\n",
       "│ female ┆ 0.637    ┆ 0.0345    ┆ 18.5 ┆ 0       ┆ inf ┆ 0.57  ┆ 0.705 │\n",
       "│ male   ┆ 0.202    ┆ 0.0159    ┆ 12.7 ┆ 0       ┆ inf ┆ 0.171 ┆ 0.234 │\n",
       "└────────┴──────────┴───────────┴──────┴─────────┴─────┴───────┴───────┘\n",
       "\n",
       "Columns: Sex, estimate, std_error, statistic, p_value, s_value, conf_low, conf_high"
      ]
     },
     "metadata": {},
     "output_type": "display_data"
    },
    {
     "data": {
      "text/html": [
       "<div><style>\n",
       ".dataframe > thead > tr,\n",
       ".dataframe > tbody > tr {\n",
       "  text-align: right;\n",
       "  white-space: pre-wrap;\n",
       "}\n",
       "</style>\n",
       "<small>shape: (1, 8)</small><table border=\"1\" class=\"dataframe\"><thead><tr><th>term</th><th>estimate</th><th>std_error</th><th>statistic</th><th>p_value</th><th>s_value</th><th>conf_low</th><th>conf_high</th></tr><tr><td>str</td><td>f64</td><td>f64</td><td>f64</td><td>f64</td><td>f64</td><td>f64</td><td>f64</td></tr></thead><tbody><tr><td>&quot;Row 1 - Row 2&quot;</td><td>0.434815</td><td>0.037036</td><td>11.740354</td><td>0.0</td><td>inf</td><td>0.362226</td><td>0.507404</td></tr></tbody></table></div>"
      ],
      "text/plain": [
       "shape: (1, 8)\n",
       "┌───────────────┬──────────┬───────────┬──────┬─────────┬─────┬───────┬───────┐\n",
       "│ Term          ┆ Estimate ┆ Std.Error ┆ z    ┆ P(>|z|) ┆ S   ┆ 2.5%  ┆ 97.5% │\n",
       "│ ---           ┆ ---      ┆ ---       ┆ ---  ┆ ---     ┆ --- ┆ ---   ┆ ---   │\n",
       "│ str           ┆ str      ┆ str       ┆ str  ┆ str     ┆ str ┆ str   ┆ str   │\n",
       "╞═══════════════╪══════════╪═══════════╪══════╪═════════╪═════╪═══════╪═══════╡\n",
       "│ Row 1 - Row 2 ┆ 0.435    ┆ 0.037     ┆ 11.7 ┆ 0       ┆ inf ┆ 0.362 ┆ 0.507 │\n",
       "└───────────────┴──────────┴───────────┴──────┴─────────┴─────┴───────┴───────┘\n",
       "\n",
       "Columns: term, estimate, std_error, statistic, p_value, s_value, conf_low, conf_high"
      ]
     },
     "execution_count": 6,
     "metadata": {},
     "output_type": "execute_result"
    }
   ],
   "source": [
    "# Your code here\n",
    "# marginal effects here\n",
    "display(\n",
    "    me.predictions(titanic_model,\n",
    "               newdata=dg,\n",
    "               by=['Sex'])\n",
    ")\n",
    "\n",
    "# Contrast here\n",
    "me.predictions(titanic_model,\n",
    "               newdata=dg,\n",
    "               by=['Sex'],\n",
    "               hypothesis='pairwise')"
   ]
  },
  {
   "cell_type": "markdown",
   "id": "4e849631-0f0e-4bef-8411-2dd4b03ce891",
   "metadata": {},
   "source": [
    "What about the marginal effects of passenger class? What are the probabilities of survival for those in each of the three classes, and do they differ significantly from one another?"
   ]
  },
  {
   "cell_type": "code",
   "execution_count": 7,
   "id": "df356244-37ed-4b11-a82c-8eee2d324740",
   "metadata": {
    "editable": true,
    "slideshow": {
     "slide_type": ""
    },
    "tags": [
     "hide-input"
    ]
   },
   "outputs": [
    {
     "data": {
      "text/html": [
       "<div><style>\n",
       ".dataframe > thead > tr,\n",
       ".dataframe > tbody > tr {\n",
       "  text-align: right;\n",
       "  white-space: pre-wrap;\n",
       "}\n",
       "</style>\n",
       "<small>shape: (3, 8)</small><table border=\"1\" class=\"dataframe\"><thead><tr><th>PClass</th><th>estimate</th><th>std_error</th><th>statistic</th><th>p_value</th><th>s_value</th><th>conf_low</th><th>conf_high</th></tr><tr><td>str</td><td>f64</td><td>f64</td><td>f64</td><td>f64</td><td>f64</td><td>f64</td><td>f64</td></tr></thead><tbody><tr><td>&quot;1st&quot;</td><td>0.61146</td><td>0.02734</td><td>22.364725</td><td>0.0</td><td>inf</td><td>0.557874</td><td>0.665046</td></tr><tr><td>&quot;2nd&quot;</td><td>0.405421</td><td>0.032443</td><td>12.496293</td><td>0.0</td><td>inf</td><td>0.341833</td><td>0.469009</td></tr><tr><td>&quot;3rd&quot;</td><td>0.242787</td><td>0.024009</td><td>10.11215</td><td>0.0</td><td>inf</td><td>0.195729</td><td>0.289845</td></tr></tbody></table></div>"
      ],
      "text/plain": [
       "shape: (3, 8)\n",
       "┌────────┬──────────┬───────────┬──────┬─────────┬─────┬───────┬───────┐\n",
       "│ PClass ┆ Estimate ┆ Std.Error ┆ z    ┆ P(>|z|) ┆ S   ┆ 2.5%  ┆ 97.5% │\n",
       "│ ---    ┆ ---      ┆ ---       ┆ ---  ┆ ---     ┆ --- ┆ ---   ┆ ---   │\n",
       "│ str    ┆ str      ┆ str       ┆ str  ┆ str     ┆ str ┆ str   ┆ str   │\n",
       "╞════════╪══════════╪═══════════╪══════╪═════════╪═════╪═══════╪═══════╡\n",
       "│ 1st    ┆ 0.611    ┆ 0.0273    ┆ 22.4 ┆ 0       ┆ inf ┆ 0.558 ┆ 0.665 │\n",
       "│ 2nd    ┆ 0.405    ┆ 0.0324    ┆ 12.5 ┆ 0       ┆ inf ┆ 0.342 ┆ 0.469 │\n",
       "│ 3rd    ┆ 0.243    ┆ 0.024     ┆ 10.1 ┆ 0       ┆ inf ┆ 0.196 ┆ 0.29  │\n",
       "└────────┴──────────┴───────────┴──────┴─────────┴─────┴───────┴───────┘\n",
       "\n",
       "Columns: PClass, estimate, std_error, statistic, p_value, s_value, conf_low, conf_high"
      ]
     },
     "metadata": {},
     "output_type": "display_data"
    },
    {
     "data": {
      "text/html": [
       "<div><style>\n",
       ".dataframe > thead > tr,\n",
       ".dataframe > tbody > tr {\n",
       "  text-align: right;\n",
       "  white-space: pre-wrap;\n",
       "}\n",
       "</style>\n",
       "<small>shape: (3, 8)</small><table border=\"1\" class=\"dataframe\"><thead><tr><th>term</th><th>estimate</th><th>std_error</th><th>statistic</th><th>p_value</th><th>s_value</th><th>conf_low</th><th>conf_high</th></tr><tr><td>str</td><td>f64</td><td>f64</td><td>f64</td><td>f64</td><td>f64</td><td>f64</td><td>f64</td></tr></thead><tbody><tr><td>&quot;Row 1 - Row 2&quot;</td><td>0.206039</td><td>0.0389</td><td>5.296636</td><td>1.1796e-7</td><td>23.015252</td><td>0.129797</td><td>0.282282</td></tr><tr><td>&quot;Row 1 - Row 3&quot;</td><td>0.368673</td><td>0.032987</td><td>11.176456</td><td>0.0</td><td>inf</td><td>0.304021</td><td>0.433326</td></tr><tr><td>&quot;Row 2 - Row 3&quot;</td><td>0.162634</td><td>0.033226</td><td>4.894787</td><td>9.8412e-7</td><td>19.954661</td><td>0.097512</td><td>0.227756</td></tr></tbody></table></div>"
      ],
      "text/plain": [
       "shape: (3, 8)\n",
       "┌───────────────┬──────────┬───────────┬──────┬──────────┬─────┬────────┬───────┐\n",
       "│ Term          ┆ Estimate ┆ Std.Error ┆ z    ┆ P(>|z|)  ┆ S   ┆ 2.5%   ┆ 97.5% │\n",
       "│ ---           ┆ ---      ┆ ---       ┆ ---  ┆ ---      ┆ --- ┆ ---    ┆ ---   │\n",
       "│ str           ┆ str      ┆ str       ┆ str  ┆ str      ┆ str ┆ str    ┆ str   │\n",
       "╞═══════════════╪══════════╪═══════════╪══════╪══════════╪═════╪════════╪═══════╡\n",
       "│ Row 1 - Row 2 ┆ 0.206    ┆ 0.0389    ┆ 5.3  ┆ 1.18e-07 ┆ 23  ┆ 0.13   ┆ 0.282 │\n",
       "│ Row 1 - Row 3 ┆ 0.369    ┆ 0.033     ┆ 11.2 ┆ 0        ┆ inf ┆ 0.304  ┆ 0.433 │\n",
       "│ Row 2 - Row 3 ┆ 0.163    ┆ 0.0332    ┆ 4.89 ┆ 9.84e-07 ┆ 20  ┆ 0.0975 ┆ 0.228 │\n",
       "└───────────────┴──────────┴───────────┴──────┴──────────┴─────┴────────┴───────┘\n",
       "\n",
       "Columns: term, estimate, std_error, statistic, p_value, s_value, conf_low, conf_high"
      ]
     },
     "execution_count": 7,
     "metadata": {},
     "output_type": "execute_result"
    }
   ],
   "source": [
    "# Your code here\n",
    "display(\n",
    "    me.predictions(titanic_model,\n",
    "                   newdata=dg,\n",
    "                   by=['PClass'])\n",
    ")\n",
    "\n",
    "# Contrast here\n",
    "me.predictions(titanic_model,\n",
    "               newdata=dg,\n",
    "               by=['PClass'],\n",
    "               hypothesis='pairwise')"
   ]
  },
  {
   "cell_type": "markdown",
   "id": "9e9c7c61-1843-4cce-8cbd-854f900fba07",
   "metadata": {},
   "source": [
    "What about the marginal slope of age? How did probability of survival change with a 1-year increase in age, regardless of passenger sex and class? Hint - since you have just one variable of interest here, you should use `avg_slopes` rather than `slopes`, which will helpfully average across the results for you. "
   ]
  },
  {
   "cell_type": "code",
   "execution_count": 8,
   "id": "74ad1d33-1cf9-4361-96f4-ac7278333a20",
   "metadata": {
    "editable": true,
    "slideshow": {
     "slide_type": ""
    },
    "tags": [
     "hide-input"
    ]
   },
   "outputs": [
    {
     "data": {
      "text/html": [
       "<div><style>\n",
       ".dataframe > thead > tr,\n",
       ".dataframe > tbody > tr {\n",
       "  text-align: right;\n",
       "  white-space: pre-wrap;\n",
       "}\n",
       "</style>\n",
       "<small>shape: (1, 9)</small><table border=\"1\" class=\"dataframe\"><thead><tr><th>term</th><th>contrast</th><th>estimate</th><th>std_error</th><th>statistic</th><th>p_value</th><th>s_value</th><th>conf_low</th><th>conf_high</th></tr><tr><td>str</td><td>str</td><td>f64</td><td>f64</td><td>f64</td><td>f64</td><td>f64</td><td>f64</td><td>f64</td></tr></thead><tbody><tr><td>&quot;Age&quot;</td><td>&quot;mean(dY/dX)&quot;</td><td>-0.005577</td><td>0.00087</td><td>-6.40739</td><td>1.4803e-10</td><td>32.653374</td><td>-0.007283</td><td>-0.003871</td></tr></tbody></table></div>"
      ],
      "text/plain": [
       "shape: (1, 9)\n",
       "┌──────┬─────────────┬──────────┬───────────┬───┬──────────┬──────┬──────────┬──────────┐\n",
       "│ Term ┆ Contrast    ┆ Estimate ┆ Std.Error ┆ … ┆ P(>|z|)  ┆ S    ┆ 2.5%     ┆ 97.5%    │\n",
       "│ ---  ┆ ---         ┆ ---      ┆ ---       ┆   ┆ ---      ┆ ---  ┆ ---      ┆ ---      │\n",
       "│ str  ┆ str         ┆ str      ┆ str       ┆   ┆ str      ┆ str  ┆ str      ┆ str      │\n",
       "╞══════╪═════════════╪══════════╪═══════════╪═══╪══════════╪══════╪══════════╪══════════╡\n",
       "│ Age  ┆ mean(dY/dX) ┆ -0.00558 ┆ 0.00087   ┆ … ┆ 1.48e-10 ┆ 32.7 ┆ -0.00728 ┆ -0.00387 │\n",
       "└──────┴─────────────┴──────────┴───────────┴───┴──────────┴──────┴──────────┴──────────┘\n",
       "\n",
       "Columns: term, contrast, estimate, std_error, statistic, p_value, s_value, conf_low, conf_high"
      ]
     },
     "execution_count": 8,
     "metadata": {},
     "output_type": "execute_result"
    }
   ],
   "source": [
    "# Your answer here\n",
    "me.avg_slopes(titanic_model, newdata=dg, variables='Age')"
   ]
  },
  {
   "cell_type": "markdown",
   "id": "00cbcc28-c31f-477f-aebe-8d1da54c4ae5",
   "metadata": {},
   "source": [
    "### e. Individualised survival estimates\n",
    "\n",
    "Based on your model, who was more likely to survive the Titanic disaster out of the following three people:\n",
    "1. A 10 year old female from the second class\n",
    "2. A 30 year old male from first class\n",
    "3. A 60 year old female from first class\n",
    "4. A 1 year old male from third class\n",
    "\n",
    "Hint - you may find using `datagrid` gives you more than what you need here, so you could specify your `newdata` through a simple DataFrame. Try it and see. Once you obtain the four predictions, you can use a different argument to `hypothesis` - try using 'reference' to see if you can compare all predictions to that of a 10 year old second class female."
   ]
  },
  {
   "cell_type": "code",
   "execution_count": 9,
   "id": "7025fc94-a82c-4cbe-8afd-ceec243a99a1",
   "metadata": {
    "editable": true,
    "slideshow": {
     "slide_type": ""
    },
    "tags": [
     "hide-input"
    ]
   },
   "outputs": [
    {
     "data": {
      "text/html": [
       "<div><style>\n",
       ".dataframe > thead > tr,\n",
       ".dataframe > tbody > tr {\n",
       "  text-align: right;\n",
       "  white-space: pre-wrap;\n",
       "}\n",
       "</style>\n",
       "<small>shape: (4, 11)</small><table border=\"1\" class=\"dataframe\"><thead><tr><th>rowid</th><th>estimate</th><th>std_error</th><th>statistic</th><th>p_value</th><th>s_value</th><th>conf_low</th><th>conf_high</th><th>Age</th><th>Sex</th><th>PClass</th></tr><tr><td>i32</td><td>f64</td><td>f64</td><td>f64</td><td>f64</td><td>f64</td><td>f64</td><td>f64</td><td>i64</td><td>str</td><td>str</td></tr></thead><tbody><tr><td>0</td><td>0.882865</td><td>0.028276</td><td>31.222681</td><td>0.0</td><td>inf</td><td>0.827444</td><td>0.938286</td><td>10</td><td>&quot;female&quot;</td><td>&quot;2nd&quot;</td></tr><tr><td>1</td><td>0.482342</td><td>0.044893</td><td>10.74414</td><td>0.0</td><td>inf</td><td>0.394352</td><td>0.570331</td><td>30</td><td>&quot;male&quot;</td><td>&quot;1st&quot;</td></tr><tr><td>2</td><td>0.799332</td><td>0.041966</td><td>19.046915</td><td>0.0</td><td>inf</td><td>0.717079</td><td>0.881585</td><td>60</td><td>&quot;female&quot;</td><td>&quot;1st&quot;</td></tr><tr><td>3</td><td>0.208569</td><td>0.039494</td><td>5.280984</td><td>1.2849e-7</td><td>22.891818</td><td>0.131161</td><td>0.285976</td><td>1</td><td>&quot;male&quot;</td><td>&quot;3rd&quot;</td></tr></tbody></table></div>"
      ],
      "text/plain": [
       "shape: (4, 7)\n",
       "┌──────────┬───────────┬──────┬──────────┬──────┬───────┬───────┐\n",
       "│ Estimate ┆ Std.Error ┆ z    ┆ P(>|z|)  ┆ S    ┆ 2.5%  ┆ 97.5% │\n",
       "│ ---      ┆ ---       ┆ ---  ┆ ---      ┆ ---  ┆ ---   ┆ ---   │\n",
       "│ str      ┆ str       ┆ str  ┆ str      ┆ str  ┆ str   ┆ str   │\n",
       "╞══════════╪═══════════╪══════╪══════════╪══════╪═══════╪═══════╡\n",
       "│ 0.883    ┆ 0.0283    ┆ 31.2 ┆ 0        ┆ inf  ┆ 0.827 ┆ 0.938 │\n",
       "│ 0.482    ┆ 0.0449    ┆ 10.7 ┆ 0        ┆ inf  ┆ 0.394 ┆ 0.57  │\n",
       "│ 0.799    ┆ 0.042     ┆ 19   ┆ 0        ┆ inf  ┆ 0.717 ┆ 0.882 │\n",
       "│ 0.209    ┆ 0.0395    ┆ 5.28 ┆ 1.28e-07 ┆ 22.9 ┆ 0.131 ┆ 0.286 │\n",
       "└──────────┴───────────┴──────┴──────────┴──────┴───────┴───────┘\n",
       "\n",
       "Columns: rowid, estimate, std_error, statistic, p_value, s_value, conf_low, conf_high, Age, Sex, PClass"
      ]
     },
     "metadata": {},
     "output_type": "display_data"
    },
    {
     "data": {
      "text/html": [
       "<div><style>\n",
       ".dataframe > thead > tr,\n",
       ".dataframe > tbody > tr {\n",
       "  text-align: right;\n",
       "  white-space: pre-wrap;\n",
       "}\n",
       "</style>\n",
       "<small>shape: (3, 8)</small><table border=\"1\" class=\"dataframe\"><thead><tr><th>term</th><th>estimate</th><th>std_error</th><th>statistic</th><th>p_value</th><th>s_value</th><th>conf_low</th><th>conf_high</th></tr><tr><td>str</td><td>f64</td><td>f64</td><td>f64</td><td>f64</td><td>f64</td><td>f64</td><td>f64</td></tr></thead><tbody><tr><td>&quot;Row 2 - Row 1&quot;</td><td>-0.400524</td><td>0.051269</td><td>-7.812249</td><td>5.5511e-15</td><td>47.356144</td><td>-0.501008</td><td>-0.300039</td></tr><tr><td>&quot;Row 3 - Row 1&quot;</td><td>-0.083533</td><td>0.051703</td><td>-1.615623</td><td>0.106176</td><td>3.235471</td><td>-0.18487</td><td>0.017804</td></tr><tr><td>&quot;Row 4 - Row 1&quot;</td><td>-0.674296</td><td>0.043832</td><td>-15.383747</td><td>0.0</td><td>inf</td><td>-0.760205</td><td>-0.588388</td></tr></tbody></table></div>"
      ],
      "text/plain": [
       "shape: (3, 8)\n",
       "┌───────────────┬──────────┬───────────┬───────┬──────────┬──────┬────────┬────────┐\n",
       "│ Term          ┆ Estimate ┆ Std.Error ┆ z     ┆ P(>|z|)  ┆ S    ┆ 2.5%   ┆ 97.5%  │\n",
       "│ ---           ┆ ---      ┆ ---       ┆ ---   ┆ ---      ┆ ---  ┆ ---    ┆ ---    │\n",
       "│ str           ┆ str      ┆ str       ┆ str   ┆ str      ┆ str  ┆ str    ┆ str    │\n",
       "╞═══════════════╪══════════╪═══════════╪═══════╪══════════╪══════╪════════╪════════╡\n",
       "│ Row 2 - Row 1 ┆ -0.401   ┆ 0.0513    ┆ -7.81 ┆ 5.55e-15 ┆ 47.4 ┆ -0.501 ┆ -0.3   │\n",
       "│ Row 3 - Row 1 ┆ -0.0835  ┆ 0.0517    ┆ -1.62 ┆ 0.106    ┆ 3.24 ┆ -0.185 ┆ 0.0178 │\n",
       "│ Row 4 - Row 1 ┆ -0.674   ┆ 0.0438    ┆ -15.4 ┆ 0        ┆ inf  ┆ -0.76  ┆ -0.588 │\n",
       "└───────────────┴──────────┴───────────┴───────┴──────────┴──────┴────────┴────────┘\n",
       "\n",
       "Columns: term, estimate, std_error, statistic, p_value, s_value, conf_low, conf_high"
      ]
     },
     "metadata": {},
     "output_type": "display_data"
    }
   ],
   "source": [
    "# Your answer here\n",
    "# Option 1 - create a dataframe\n",
    "dg = pd.DataFrame({'Age': [10, 30, 60, 1],\n",
    "                   'Sex': ['female', 'male', 'female', 'male'],\n",
    "                   'PClass': ['2nd', '1st', '1st', '3rd']})\n",
    "\n",
    "# Predict\n",
    "opt1 = me.predictions(titanic_model, newdata=dg)\n",
    "display(opt1)\n",
    "\n",
    "# Opt1 contrast\n",
    "display(me.predictions(titanic_model, newdata=dg, hypothesis='reference'))"
   ]
  },
  {
   "cell_type": "markdown",
   "id": "730edd18-88fd-45e6-a76d-590ed57da1fb",
   "metadata": {},
   "source": [
    "### f. Evaluating the model\n",
    "Compute the phi coefficient for the model examine its magnitude. How good is this (higher is better)?"
   ]
  },
  {
   "cell_type": "code",
   "execution_count": 10,
   "id": "4be97584-a646-4dc6-ab45-2883e4499935",
   "metadata": {
    "editable": true,
    "slideshow": {
     "slide_type": ""
    },
    "tags": [
     "hide-input"
    ]
   },
   "outputs": [
    {
     "data": {
      "text/html": [
       "<div>\n",
       "<style scoped>\n",
       "    .dataframe tbody tr th:only-of-type {\n",
       "        vertical-align: middle;\n",
       "    }\n",
       "\n",
       "    .dataframe tbody tr th {\n",
       "        vertical-align: top;\n",
       "    }\n",
       "\n",
       "    .dataframe thead th {\n",
       "        text-align: right;\n",
       "    }\n",
       "</style>\n",
       "<table border=\"1\" class=\"dataframe\">\n",
       "  <thead>\n",
       "    <tr style=\"text-align: right;\">\n",
       "      <th></th>\n",
       "      <th>n</th>\n",
       "      <th>r</th>\n",
       "      <th>CI95%</th>\n",
       "      <th>p-val</th>\n",
       "      <th>BF10</th>\n",
       "      <th>power</th>\n",
       "    </tr>\n",
       "  </thead>\n",
       "  <tbody>\n",
       "    <tr>\n",
       "      <th>pearson</th>\n",
       "      <td>756</td>\n",
       "      <td>0.557665</td>\n",
       "      <td>[0.51, 0.6]</td>\n",
       "      <td>5.325949e-63</td>\n",
       "      <td>3.067e+59</td>\n",
       "      <td>1.0</td>\n",
       "    </tr>\n",
       "  </tbody>\n",
       "</table>\n",
       "</div>"
      ],
      "text/plain": [
       "           n         r        CI95%         p-val       BF10  power\n",
       "pearson  756  0.557665  [0.51, 0.6]  5.325949e-63  3.067e+59    1.0"
      ]
     },
     "execution_count": 10,
     "metadata": {},
     "output_type": "execute_result"
    }
   ],
   "source": [
    "# Your answer here\n",
    "# Get predictions for all datapoints\n",
    "preds = me.predictions(titanic_model)\n",
    "\n",
    "# Binarise\n",
    "binary = np.digitize(preds['estimate'], [.5])\n",
    "\n",
    "# Correlate\n",
    "pg.corr(binary, titanic['Survived'])"
   ]
  },
  {
   "cell_type": "markdown",
   "id": "f67bcd46-f238-40e6-a284-ddff8f946da7",
   "metadata": {},
   "source": [
    "## 2. The Challenger Disaster\n",
    "Probit regression is really morbid, isn't it? Lets continue with another example.\n",
    "\n",
    "The Challenger was a space shuttle that exploded shortly after launch in 1986, killing all seven astronauts on board. The cause of the explosion was traced back to a simple mechanical fault in the form of a rubber O-ring in the fuselage. In normal temperatures, these O-rings kept extremely powerful and flammable rocket fuel from the booster, allowing the fuel to enter when needed. In low temperatures, they became brittle, allowing fuel to leak into the booster in greater quantities. \n",
    "\n",
    "What is very tragic about this example is that the data was there to suggest it all along - engineers had stated that the O-rings failed in low temperatures, but those in charge of the operation pressed forward with the launch date.\n",
    "\n",
    "The recorded engineer data can be downloaded here: https://vincentarelbundock.github.io/Rdatasets/csv/openintro/orings.csv\n",
    "\n",
    "And a short description is here:\n",
    "https://vincentarelbundock.github.io/Rdatasets/doc/openintro/orings.html\n",
    "\n",
    "Read in the dataset into a dataframe called `oring` and display it."
   ]
  },
  {
   "cell_type": "code",
   "execution_count": 11,
   "id": "904c2943-c1ca-4857-a333-25b753ca67d8",
   "metadata": {
    "editable": true,
    "slideshow": {
     "slide_type": ""
    },
    "tags": [
     "hide-input"
    ]
   },
   "outputs": [
    {
     "data": {
      "text/html": [
       "<div>\n",
       "<style scoped>\n",
       "    .dataframe tbody tr th:only-of-type {\n",
       "        vertical-align: middle;\n",
       "    }\n",
       "\n",
       "    .dataframe tbody tr th {\n",
       "        vertical-align: top;\n",
       "    }\n",
       "\n",
       "    .dataframe thead th {\n",
       "        text-align: right;\n",
       "    }\n",
       "</style>\n",
       "<table border=\"1\" class=\"dataframe\">\n",
       "  <thead>\n",
       "    <tr style=\"text-align: right;\">\n",
       "      <th></th>\n",
       "      <th>rownames</th>\n",
       "      <th>mission</th>\n",
       "      <th>temperature</th>\n",
       "      <th>damaged</th>\n",
       "      <th>undamaged</th>\n",
       "    </tr>\n",
       "  </thead>\n",
       "  <tbody>\n",
       "    <tr>\n",
       "      <th>0</th>\n",
       "      <td>1</td>\n",
       "      <td>1</td>\n",
       "      <td>53</td>\n",
       "      <td>5</td>\n",
       "      <td>1</td>\n",
       "    </tr>\n",
       "    <tr>\n",
       "      <th>1</th>\n",
       "      <td>2</td>\n",
       "      <td>2</td>\n",
       "      <td>57</td>\n",
       "      <td>1</td>\n",
       "      <td>5</td>\n",
       "    </tr>\n",
       "    <tr>\n",
       "      <th>2</th>\n",
       "      <td>3</td>\n",
       "      <td>3</td>\n",
       "      <td>58</td>\n",
       "      <td>1</td>\n",
       "      <td>5</td>\n",
       "    </tr>\n",
       "    <tr>\n",
       "      <th>3</th>\n",
       "      <td>4</td>\n",
       "      <td>4</td>\n",
       "      <td>63</td>\n",
       "      <td>1</td>\n",
       "      <td>5</td>\n",
       "    </tr>\n",
       "    <tr>\n",
       "      <th>4</th>\n",
       "      <td>5</td>\n",
       "      <td>5</td>\n",
       "      <td>66</td>\n",
       "      <td>0</td>\n",
       "      <td>6</td>\n",
       "    </tr>\n",
       "    <tr>\n",
       "      <th>5</th>\n",
       "      <td>6</td>\n",
       "      <td>6</td>\n",
       "      <td>67</td>\n",
       "      <td>0</td>\n",
       "      <td>6</td>\n",
       "    </tr>\n",
       "    <tr>\n",
       "      <th>6</th>\n",
       "      <td>7</td>\n",
       "      <td>7</td>\n",
       "      <td>67</td>\n",
       "      <td>0</td>\n",
       "      <td>6</td>\n",
       "    </tr>\n",
       "    <tr>\n",
       "      <th>7</th>\n",
       "      <td>8</td>\n",
       "      <td>8</td>\n",
       "      <td>67</td>\n",
       "      <td>0</td>\n",
       "      <td>6</td>\n",
       "    </tr>\n",
       "    <tr>\n",
       "      <th>8</th>\n",
       "      <td>9</td>\n",
       "      <td>9</td>\n",
       "      <td>68</td>\n",
       "      <td>0</td>\n",
       "      <td>6</td>\n",
       "    </tr>\n",
       "    <tr>\n",
       "      <th>9</th>\n",
       "      <td>10</td>\n",
       "      <td>10</td>\n",
       "      <td>69</td>\n",
       "      <td>0</td>\n",
       "      <td>6</td>\n",
       "    </tr>\n",
       "    <tr>\n",
       "      <th>10</th>\n",
       "      <td>11</td>\n",
       "      <td>11</td>\n",
       "      <td>70</td>\n",
       "      <td>1</td>\n",
       "      <td>5</td>\n",
       "    </tr>\n",
       "    <tr>\n",
       "      <th>11</th>\n",
       "      <td>12</td>\n",
       "      <td>12</td>\n",
       "      <td>70</td>\n",
       "      <td>0</td>\n",
       "      <td>6</td>\n",
       "    </tr>\n",
       "    <tr>\n",
       "      <th>12</th>\n",
       "      <td>13</td>\n",
       "      <td>13</td>\n",
       "      <td>70</td>\n",
       "      <td>1</td>\n",
       "      <td>5</td>\n",
       "    </tr>\n",
       "    <tr>\n",
       "      <th>13</th>\n",
       "      <td>14</td>\n",
       "      <td>14</td>\n",
       "      <td>70</td>\n",
       "      <td>0</td>\n",
       "      <td>6</td>\n",
       "    </tr>\n",
       "    <tr>\n",
       "      <th>14</th>\n",
       "      <td>15</td>\n",
       "      <td>15</td>\n",
       "      <td>72</td>\n",
       "      <td>0</td>\n",
       "      <td>6</td>\n",
       "    </tr>\n",
       "    <tr>\n",
       "      <th>15</th>\n",
       "      <td>16</td>\n",
       "      <td>16</td>\n",
       "      <td>73</td>\n",
       "      <td>0</td>\n",
       "      <td>6</td>\n",
       "    </tr>\n",
       "    <tr>\n",
       "      <th>16</th>\n",
       "      <td>17</td>\n",
       "      <td>17</td>\n",
       "      <td>75</td>\n",
       "      <td>0</td>\n",
       "      <td>6</td>\n",
       "    </tr>\n",
       "    <tr>\n",
       "      <th>17</th>\n",
       "      <td>18</td>\n",
       "      <td>18</td>\n",
       "      <td>75</td>\n",
       "      <td>1</td>\n",
       "      <td>5</td>\n",
       "    </tr>\n",
       "    <tr>\n",
       "      <th>18</th>\n",
       "      <td>19</td>\n",
       "      <td>19</td>\n",
       "      <td>76</td>\n",
       "      <td>0</td>\n",
       "      <td>6</td>\n",
       "    </tr>\n",
       "    <tr>\n",
       "      <th>19</th>\n",
       "      <td>20</td>\n",
       "      <td>20</td>\n",
       "      <td>76</td>\n",
       "      <td>0</td>\n",
       "      <td>6</td>\n",
       "    </tr>\n",
       "    <tr>\n",
       "      <th>20</th>\n",
       "      <td>21</td>\n",
       "      <td>21</td>\n",
       "      <td>78</td>\n",
       "      <td>0</td>\n",
       "      <td>6</td>\n",
       "    </tr>\n",
       "    <tr>\n",
       "      <th>21</th>\n",
       "      <td>22</td>\n",
       "      <td>22</td>\n",
       "      <td>79</td>\n",
       "      <td>0</td>\n",
       "      <td>6</td>\n",
       "    </tr>\n",
       "    <tr>\n",
       "      <th>22</th>\n",
       "      <td>23</td>\n",
       "      <td>23</td>\n",
       "      <td>81</td>\n",
       "      <td>0</td>\n",
       "      <td>6</td>\n",
       "    </tr>\n",
       "  </tbody>\n",
       "</table>\n",
       "</div>"
      ],
      "text/plain": [
       "    rownames  mission  temperature  damaged  undamaged\n",
       "0          1        1           53        5          1\n",
       "1          2        2           57        1          5\n",
       "2          3        3           58        1          5\n",
       "3          4        4           63        1          5\n",
       "4          5        5           66        0          6\n",
       "5          6        6           67        0          6\n",
       "6          7        7           67        0          6\n",
       "7          8        8           67        0          6\n",
       "8          9        9           68        0          6\n",
       "9         10       10           69        0          6\n",
       "10        11       11           70        1          5\n",
       "11        12       12           70        0          6\n",
       "12        13       13           70        1          5\n",
       "13        14       14           70        0          6\n",
       "14        15       15           72        0          6\n",
       "15        16       16           73        0          6\n",
       "16        17       17           75        0          6\n",
       "17        18       18           75        1          5\n",
       "18        19       19           76        0          6\n",
       "19        20       20           76        0          6\n",
       "20        21       21           78        0          6\n",
       "21        22       22           79        0          6\n",
       "22        23       23           81        0          6"
      ]
     },
     "execution_count": 11,
     "metadata": {},
     "output_type": "execute_result"
    }
   ],
   "source": [
    "# Your answer here\n",
    "oring = pd.read_csv('https://vincentarelbundock.github.io/Rdatasets/csv/openintro/orings.csv')\n",
    "oring"
   ]
  },
  {
   "cell_type": "markdown",
   "id": "d19f7ab8-860a-4548-a693-23c2775502a1",
   "metadata": {},
   "source": [
    "There are two columns of interest here. The first is `temperature`, displaying the temperature on the day of the test flight, and `damaged`, which records the number (out of six) of the damaged O-rings. Before we fit a model, create a new column in the dataframe called `any_damage` which should have a 1 where there is 1 or more in the `damaged` column, and a zero elsewhere. You already know the function that will do this."
   ]
  },
  {
   "cell_type": "code",
   "execution_count": 12,
   "id": "bc3decc5-497b-4164-b966-ebd3c6a4c9d7",
   "metadata": {
    "editable": true,
    "slideshow": {
     "slide_type": ""
    },
    "tags": [
     "hide-input"
    ]
   },
   "outputs": [],
   "source": [
    "# Your answer here\n",
    "oring['any_damage'] = np.digitize(oring['damaged'], [1])"
   ]
  },
  {
   "cell_type": "markdown",
   "id": "acf04804-bd40-48f2-b95a-c2645e1a9b88",
   "metadata": {},
   "source": [
    "Once you have done that, fit a simple probit model that predicts `any_damage` from `temperature`. Show the summary."
   ]
  },
  {
   "cell_type": "code",
   "execution_count": 13,
   "id": "c7436cc8-54c8-4709-b331-869911594c15",
   "metadata": {
    "editable": true,
    "slideshow": {
     "slide_type": ""
    },
    "tags": [
     "hide-input"
    ]
   },
   "outputs": [
    {
     "name": "stdout",
     "output_type": "stream",
     "text": [
      "Optimization terminated successfully.\n",
      "         Current function value: 0.442994\n",
      "         Iterations 6\n"
     ]
    },
    {
     "data": {
      "text/html": [
       "<table class=\"simpletable\">\n",
       "<caption>Probit Regression Results</caption>\n",
       "<tr>\n",
       "  <th>Dep. Variable:</th>      <td>any_damage</td>    <th>  No. Observations:  </th>  <td>    23</td> \n",
       "</tr>\n",
       "<tr>\n",
       "  <th>Model:</th>                <td>Probit</td>      <th>  Df Residuals:      </th>  <td>    21</td> \n",
       "</tr>\n",
       "<tr>\n",
       "  <th>Method:</th>                 <td>MLE</td>       <th>  Df Model:          </th>  <td>     1</td> \n",
       "</tr>\n",
       "<tr>\n",
       "  <th>Date:</th>            <td>Wed, 28 Aug 2024</td> <th>  Pseudo R-squ.:     </th>  <td>0.2791</td> \n",
       "</tr>\n",
       "<tr>\n",
       "  <th>Time:</th>                <td>14:57:41</td>     <th>  Log-Likelihood:    </th> <td> -10.189</td>\n",
       "</tr>\n",
       "<tr>\n",
       "  <th>converged:</th>             <td>True</td>       <th>  LL-Null:           </th> <td> -14.134</td>\n",
       "</tr>\n",
       "<tr>\n",
       "  <th>Covariance Type:</th>     <td>nonrobust</td>    <th>  LLR p-value:       </th> <td>0.004972</td>\n",
       "</tr>\n",
       "</table>\n",
       "<table class=\"simpletable\">\n",
       "<tr>\n",
       "       <td></td>          <th>coef</th>     <th>std err</th>      <th>z</th>      <th>P>|z|</th>  <th>[0.025</th>    <th>0.975]</th>  \n",
       "</tr>\n",
       "<tr>\n",
       "  <th>Intercept</th>   <td>    8.7750</td> <td>    4.029</td> <td>    2.178</td> <td> 0.029</td> <td>    0.879</td> <td>   16.671</td>\n",
       "</tr>\n",
       "<tr>\n",
       "  <th>temperature</th> <td>   -0.1351</td> <td>    0.058</td> <td>   -2.314</td> <td> 0.021</td> <td>   -0.250</td> <td>   -0.021</td>\n",
       "</tr>\n",
       "</table>"
      ],
      "text/latex": [
       "\\begin{center}\n",
       "\\begin{tabular}{lclc}\n",
       "\\toprule\n",
       "\\textbf{Dep. Variable:}   &   any\\_damage    & \\textbf{  No. Observations:  } &       23    \\\\\n",
       "\\textbf{Model:}           &      Probit      & \\textbf{  Df Residuals:      } &       21    \\\\\n",
       "\\textbf{Method:}          &       MLE        & \\textbf{  Df Model:          } &        1    \\\\\n",
       "\\textbf{Date:}            & Wed, 28 Aug 2024 & \\textbf{  Pseudo R-squ.:     } &   0.2791    \\\\\n",
       "\\textbf{Time:}            &     14:57:41     & \\textbf{  Log-Likelihood:    } &   -10.189   \\\\\n",
       "\\textbf{converged:}       &       True       & \\textbf{  LL-Null:           } &   -14.134   \\\\\n",
       "\\textbf{Covariance Type:} &    nonrobust     & \\textbf{  LLR p-value:       } &  0.004972   \\\\\n",
       "\\bottomrule\n",
       "\\end{tabular}\n",
       "\\begin{tabular}{lcccccc}\n",
       "                     & \\textbf{coef} & \\textbf{std err} & \\textbf{z} & \\textbf{P$> |$z$|$} & \\textbf{[0.025} & \\textbf{0.975]}  \\\\\n",
       "\\midrule\n",
       "\\textbf{Intercept}   &       8.7750  &        4.029     &     2.178  &         0.029        &        0.879    &       16.671     \\\\\n",
       "\\textbf{temperature} &      -0.1351  &        0.058     &    -2.314  &         0.021        &       -0.250    &       -0.021     \\\\\n",
       "\\bottomrule\n",
       "\\end{tabular}\n",
       "%\\caption{Probit Regression Results}\n",
       "\\end{center}"
      ],
      "text/plain": [
       "<class 'statsmodels.iolib.summary.Summary'>\n",
       "\"\"\"\n",
       "                          Probit Regression Results                           \n",
       "==============================================================================\n",
       "Dep. Variable:             any_damage   No. Observations:                   23\n",
       "Model:                         Probit   Df Residuals:                       21\n",
       "Method:                           MLE   Df Model:                            1\n",
       "Date:                Wed, 28 Aug 2024   Pseudo R-squ.:                  0.2791\n",
       "Time:                        14:57:41   Log-Likelihood:                -10.189\n",
       "converged:                       True   LL-Null:                       -14.134\n",
       "Covariance Type:            nonrobust   LLR p-value:                  0.004972\n",
       "===============================================================================\n",
       "                  coef    std err          z      P>|z|      [0.025      0.975]\n",
       "-------------------------------------------------------------------------------\n",
       "Intercept       8.7750      4.029      2.178      0.029       0.879      16.671\n",
       "temperature    -0.1351      0.058     -2.314      0.021      -0.250      -0.021\n",
       "===============================================================================\n",
       "\"\"\""
      ]
     },
     "execution_count": 13,
     "metadata": {},
     "output_type": "execute_result"
    }
   ],
   "source": [
    "# Your answer here\n",
    "oring_model = smf.probit('any_damage ~ temperature', data=oring).fit()\n",
    "oring_model.summary()"
   ]
  },
  {
   "cell_type": "markdown",
   "id": "8c83dee0-b76d-4d45-b4b9-2e77f6a7541d",
   "metadata": {},
   "source": [
    "Notice that this is a very small dataset, and the coefficient for temperature is not particularly fairly weak. Compute the phi coefficient for this model."
   ]
  },
  {
   "cell_type": "code",
   "execution_count": 14,
   "id": "6f859ca0-5224-412c-9e24-9c9129aba481",
   "metadata": {
    "editable": true,
    "slideshow": {
     "slide_type": ""
    },
    "tags": [
     "hide-input"
    ]
   },
   "outputs": [
    {
     "data": {
      "text/html": [
       "<div>\n",
       "<style scoped>\n",
       "    .dataframe tbody tr th:only-of-type {\n",
       "        vertical-align: middle;\n",
       "    }\n",
       "\n",
       "    .dataframe tbody tr th {\n",
       "        vertical-align: top;\n",
       "    }\n",
       "\n",
       "    .dataframe thead th {\n",
       "        text-align: right;\n",
       "    }\n",
       "</style>\n",
       "<table border=\"1\" class=\"dataframe\">\n",
       "  <thead>\n",
       "    <tr style=\"text-align: right;\">\n",
       "      <th></th>\n",
       "      <th>n</th>\n",
       "      <th>r</th>\n",
       "      <th>CI95%</th>\n",
       "      <th>p-val</th>\n",
       "      <th>BF10</th>\n",
       "      <th>power</th>\n",
       "    </tr>\n",
       "  </thead>\n",
       "  <tbody>\n",
       "    <tr>\n",
       "      <th>pearson</th>\n",
       "      <td>23</td>\n",
       "      <td>0.693688</td>\n",
       "      <td>[0.39, 0.86]</td>\n",
       "      <td>0.000242</td>\n",
       "      <td>144.722</td>\n",
       "      <td>0.973117</td>\n",
       "    </tr>\n",
       "  </tbody>\n",
       "</table>\n",
       "</div>"
      ],
      "text/plain": [
       "          n         r         CI95%     p-val     BF10     power\n",
       "pearson  23  0.693688  [0.39, 0.86]  0.000242  144.722  0.973117"
      ]
     },
     "execution_count": 14,
     "metadata": {},
     "output_type": "execute_result"
    }
   ],
   "source": [
    "# Your answer here\n",
    "# Get predictions for all datapoints\n",
    "preds = me.predictions(oring_model)\n",
    "\n",
    "# Binarise\n",
    "binary = np.digitize(preds['estimate'], [.5])\n",
    "\n",
    "# Correlate\n",
    "pg.corr(binary, oring['any_damage'])"
   ]
  },
  {
   "cell_type": "markdown",
   "id": "4dc4b3b5-8bcc-4683-b998-713bb9c32d3d",
   "metadata": {},
   "source": [
    "Plot the predictions of the model, showing how probability of damage changes with temperature."
   ]
  },
  {
   "cell_type": "code",
   "execution_count": 15,
   "id": "5d270866-6956-4bb3-ac24-65fd79b8cdf7",
   "metadata": {
    "editable": true,
    "slideshow": {
     "slide_type": ""
    },
    "tags": [
     "hide-input"
    ]
   },
   "outputs": [
    {
     "data": {
      "text/plain": [
       "<Axes: xlabel='temperature', ylabel='estimate'>"
      ]
     },
     "execution_count": 15,
     "metadata": {},
     "output_type": "execute_result"
    },
    {
     "data": {
      "image/png": "[encoded data removed]",
      "text/plain": [
       "<Figure size 640x480 with 1 Axes>"
      ]
     },
     "metadata": {},
     "output_type": "display_data"
    }
   ],
   "source": [
    "# Your answer here\n",
    "# Get predictions\n",
    "preds = me.predictions(oring_model)\n",
    "\n",
    "sns.lineplot(data=preds,\n",
    "             x='temperature', y='estimate')"
   ]
  },
  {
   "cell_type": "markdown",
   "id": "496214d7-52ae-4b85-b3fd-3dde8a6a8533",
   "metadata": {},
   "source": [
    "On the morning of the disaster, when the shuttle launched, the temperature was 36 degrees Fahrenheit.\n",
    "\n",
    "What probability does the model give for any kind of O-ring damage for this event?"
   ]
  },
  {
   "cell_type": "code",
   "execution_count": 16,
   "id": "2c443afc-a9ca-4f7d-8c2e-ae9b198a936f",
   "metadata": {
    "editable": true,
    "slideshow": {
     "slide_type": ""
    },
    "tags": [
     "hide-input"
    ]
   },
   "outputs": [
    {
     "data": {
      "text/html": [
       "<div><style>\n",
       ".dataframe > thead > tr,\n",
       ".dataframe > tbody > tr {\n",
       "  text-align: right;\n",
       "  white-space: pre-wrap;\n",
       "}\n",
       "</style>\n",
       "<small>shape: (1, 14)</small><table border=\"1\" class=\"dataframe\"><thead><tr><th>temperature</th><th>rowid</th><th>estimate</th><th>std_error</th><th>statistic</th><th>p_value</th><th>s_value</th><th>conf_low</th><th>conf_high</th><th>rownames</th><th>mission</th><th>damaged</th><th>undamaged</th><th>any_damage</th></tr><tr><td>i64</td><td>i32</td><td>f64</td><td>f64</td><td>f64</td><td>f64</td><td>f64</td><td>f64</td><td>f64</td><td>i64</td><td>i64</td><td>i64</td><td>i64</td><td>i64</td></tr></thead><tbody><tr><td>36</td><td>0</td><td>0.999954</td><td>0.000368</td><td>2713.616681</td><td>0.0</td><td>inf</td><td>0.999232</td><td>1.000676</td><td>20</td><td>16</td><td>0</td><td>6</td><td>0</td></tr></tbody></table></div>"
      ],
      "text/plain": [
       "shape: (1, 8)\n",
       "┌─────────────┬──────────┬───────────┬──────────┬─────────┬─────┬───────┬───────┐\n",
       "│ temperature ┆ Estimate ┆ Std.Error ┆ z        ┆ P(>|z|) ┆ S   ┆ 2.5%  ┆ 97.5% │\n",
       "│ ---         ┆ ---      ┆ ---       ┆ ---      ┆ ---     ┆ --- ┆ ---   ┆ ---   │\n",
       "│ str         ┆ str      ┆ str       ┆ str      ┆ str     ┆ str ┆ str   ┆ str   │\n",
       "╞═════════════╪══════════╪═══════════╪══════════╪═════════╪═════╪═══════╪═══════╡\n",
       "│ 36          ┆ 1        ┆ 0.000368  ┆ 2.71e+03 ┆ 0       ┆ inf ┆ 0.999 ┆ 1     │\n",
       "└─────────────┴──────────┴───────────┴──────────┴─────────┴─────┴───────┴───────┘\n",
       "\n",
       "Columns: temperature, rowid, estimate, std_error, statistic, p_value, s_value, conf_low, conf_high, rownames, mission, damaged, undamaged, any_damage"
      ]
     },
     "execution_count": 16,
     "metadata": {},
     "output_type": "execute_result"
    }
   ],
   "source": [
    "# Your answer here\n",
    "me.predictions(oring_model, newdata=me.datagrid(oring_model, temperature=36))"
   ]
  },
  {
   "cell_type": "markdown",
   "id": "09b30431-63bf-491c-91d7-19881086bd1d",
   "metadata": {},
   "source": [
    "## 3. Marginally significant meta-scientific statistics\n",
    "Effects are either statistically significant, or they are not. Historically, researchers in psychology would refer to hypothesis tests that are just above the .05 threshold as 'marginally significant', a practice that is heavily frowned upon these days in light of the replication crisis. \n",
    "\n",
    "In 2016, [Pritschet, Powell, & Horne, 2016](https://journals.sagepub.com/doi/10.1177/0956797616645672) carried out an analysis of just over 1,500 articles in three different areas of psychology (social, cognitive, and developmental), over the past four decades, and examined whether articles used the term 'marginally significant'. This interesting dataset allows us to essentially examine a cultural trend in psychological science in terms of the language used. \n",
    "\n",
    "For this exercise, we will fit a probit regression to this data and examine the probability of this phrase appearing over time and in different fields. First, you will need to do some data detective work - follow the link above to the paper, and then head to the OSF page linked in the paper. There, you'll find an Excel file titled `marginals psych science revision_corrections.xlsx`. Download this and then place it in the same folder as this notebook. Read it in using `pandas`, which has a `.read_excel` function, and show the top 10 rows. "
   ]
  },
  {
   "cell_type": "code",
   "execution_count": 17,
   "id": "7fb8cc61-e717-40a5-8d3e-97dc577ab0a3",
   "metadata": {
    "editable": true,
    "slideshow": {
     "slide_type": ""
    },
    "tags": [
     "hide-input"
    ]
   },
   "outputs": [],
   "source": [
    "# Your answer here\n",
    "marginals = pd.read_excel('marginals psych science revision_corrections.xlsx')"
   ]
  },
  {
   "cell_type": "markdown",
   "id": "0ba554e6-b445-4680-96f2-ab5a72fabe3e",
   "metadata": {},
   "source": [
    "The first thing we need to do is rename some columns, as we can't work *easily* with these column names. \n",
    "\n",
    "Create a dictionary that has the keys 'Number of Experiments' and 'Marginals Yes/No' (the existing column names) and the values 'n_exps' and 'marginal_yes' (the new names). Call it `newcols`, then use the `.rename` method on your dataframe to alter the column names. Make sure to overwrite the dataframe so the names actually stick! You may need to refer to Week 1's content to figure this out."
   ]
  },
  {
   "cell_type": "code",
   "execution_count": 18,
   "id": "2485361f-9d4a-47f6-aa96-644ebd6e96b3",
   "metadata": {
    "editable": true,
    "slideshow": {
     "slide_type": ""
    },
    "tags": [
     "hide-input"
    ]
   },
   "outputs": [],
   "source": [
    "# Your answer here\n",
    "newcols = {'Number of Experiments': 'n_exps', 'Marginals Yes/No': 'marginal_yes'}\n",
    "marginals = marginals.rename(columns=newcols)"
   ]
  },
  {
   "cell_type": "markdown",
   "id": "841c2583-cf16-473c-9f48-1f1cf6cfc777",
   "metadata": {},
   "source": [
    "Next, we need to replace the values in the `Field` column so they are no longer numbers but represent the actual fields (this makes it easier for us to interpret the outcome, but it is not fully required). You can again make a dictionary that has the numbers 1, 2, and 3 to the values 'Cognitive', 'Developmental', and 'Social'. Then you can use the `.replace` method to recode the values in the `Field` column. Again, reassign the dataframe so the changes stick!"
   ]
  },
  {
   "cell_type": "code",
   "execution_count": 19,
   "id": "9ee2b0ba-ce69-4468-9da7-c52418b1146e",
   "metadata": {
    "editable": true,
    "slideshow": {
     "slide_type": ""
    },
    "tags": [
     "hide-input"
    ]
   },
   "outputs": [],
   "source": [
    "# Your answer here\n",
    "newfields = {1: 'Cognitive', 2: 'Developmental', 3: 'Social'}\n",
    "marginals = marginals.replace({'Field': newfields})"
   ]
  },
  {
   "cell_type": "markdown",
   "id": "0aefd5be-35a5-46ae-8b6b-bb90cd4f01e2",
   "metadata": {},
   "source": [
    "Now filter the data so that the number of experiments is 1 or more (there are some papers that don't have any statistics, e.g. commentaries). Again, reassign the dataframe. As a final step, just take the columns `marginal_yes`, `Year`, `Field`, and `n_exps` out to use."
   ]
  },
  {
   "cell_type": "code",
   "execution_count": 20,
   "id": "e6e4b257-727e-4b47-a58d-34603cc442b7",
   "metadata": {
    "editable": true,
    "slideshow": {
     "slide_type": ""
    },
    "tags": [
     "hide-input"
    ]
   },
   "outputs": [],
   "source": [
    "# Your answer here\n",
    "marginals = marginals.query('n_exps > 0')\n",
    "marginals = marginals[['marginal_yes', 'Year', 'Field', 'n_exps']]"
   ]
  },
  {
   "cell_type": "markdown",
   "id": "76e8aa9d-aeea-448e-9f46-1544df1b849c",
   "metadata": {},
   "source": [
    "Now fit a probit regression to this data that predicts whether a paper contains the phrase 'marginally significant' from Year, Field, and number of experiments. This examines whether different fields use the phrase at different rates, whether it has changed over time, and whether papers with more studies are more likely to use it. Call it `marginal_mod`, and print the summary."
   ]
  },
  {
   "cell_type": "code",
   "execution_count": 21,
   "id": "c3929033-0db7-4157-8a05-82e7cecf9f9e",
   "metadata": {
    "editable": true,
    "slideshow": {
     "slide_type": ""
    },
    "tags": [
     "hide-input"
    ]
   },
   "outputs": [
    {
     "name": "stdout",
     "output_type": "stream",
     "text": [
      "Optimization terminated successfully.\n",
      "         Current function value: 0.597290\n",
      "         Iterations 5\n"
     ]
    },
    {
     "data": {
      "text/html": [
       "<table class=\"simpletable\">\n",
       "<caption>Probit Regression Results</caption>\n",
       "<tr>\n",
       "  <th>Dep. Variable:</th>     <td>marginal_yes</td>   <th>  No. Observations:  </th>  <td>  1469</td>  \n",
       "</tr>\n",
       "<tr>\n",
       "  <th>Model:</th>                <td>Probit</td>      <th>  Df Residuals:      </th>  <td>  1464</td>  \n",
       "</tr>\n",
       "<tr>\n",
       "  <th>Method:</th>                 <td>MLE</td>       <th>  Df Model:          </th>  <td>     4</td>  \n",
       "</tr>\n",
       "<tr>\n",
       "  <th>Date:</th>            <td>Wed, 28 Aug 2024</td> <th>  Pseudo R-squ.:     </th>  <td>0.07556</td> \n",
       "</tr>\n",
       "<tr>\n",
       "  <th>Time:</th>                <td>14:57:42</td>     <th>  Log-Likelihood:    </th> <td> -877.42</td> \n",
       "</tr>\n",
       "<tr>\n",
       "  <th>converged:</th>             <td>True</td>       <th>  LL-Null:           </th> <td> -949.13</td> \n",
       "</tr>\n",
       "<tr>\n",
       "  <th>Covariance Type:</th>     <td>nonrobust</td>    <th>  LLR p-value:       </th> <td>5.202e-30</td>\n",
       "</tr>\n",
       "</table>\n",
       "<table class=\"simpletable\">\n",
       "<tr>\n",
       "             <td></td>               <th>coef</th>     <th>std err</th>      <th>z</th>      <th>P>|z|</th>  <th>[0.025</th>    <th>0.975]</th>  \n",
       "</tr>\n",
       "<tr>\n",
       "  <th>Intercept</th>              <td>  -40.1238</td> <td>    5.205</td> <td>   -7.709</td> <td> 0.000</td> <td>  -50.325</td> <td>  -29.923</td>\n",
       "</tr>\n",
       "<tr>\n",
       "  <th>Field[T.Developmental]</th> <td>   -0.0067</td> <td>    0.162</td> <td>   -0.041</td> <td> 0.967</td> <td>   -0.323</td> <td>    0.310</td>\n",
       "</tr>\n",
       "<tr>\n",
       "  <th>Field[T.Social]</th>        <td>    0.3672</td> <td>    0.151</td> <td>    2.426</td> <td> 0.015</td> <td>    0.071</td> <td>    0.664</td>\n",
       "</tr>\n",
       "<tr>\n",
       "  <th>Year</th>                   <td>    0.0197</td> <td>    0.003</td> <td>    7.525</td> <td> 0.000</td> <td>    0.015</td> <td>    0.025</td>\n",
       "</tr>\n",
       "<tr>\n",
       "  <th>n_exps</th>                 <td>    0.1164</td> <td>    0.027</td> <td>    4.303</td> <td> 0.000</td> <td>    0.063</td> <td>    0.169</td>\n",
       "</tr>\n",
       "</table>"
      ],
      "text/latex": [
       "\\begin{center}\n",
       "\\begin{tabular}{lclc}\n",
       "\\toprule\n",
       "\\textbf{Dep. Variable:}         &  marginal\\_yes   & \\textbf{  No. Observations:  } &     1469    \\\\\n",
       "\\textbf{Model:}                 &      Probit      & \\textbf{  Df Residuals:      } &     1464    \\\\\n",
       "\\textbf{Method:}                &       MLE        & \\textbf{  Df Model:          } &        4    \\\\\n",
       "\\textbf{Date:}                  & Wed, 28 Aug 2024 & \\textbf{  Pseudo R-squ.:     } &  0.07556    \\\\\n",
       "\\textbf{Time:}                  &     14:57:42     & \\textbf{  Log-Likelihood:    } &   -877.42   \\\\\n",
       "\\textbf{converged:}             &       True       & \\textbf{  LL-Null:           } &   -949.13   \\\\\n",
       "\\textbf{Covariance Type:}       &    nonrobust     & \\textbf{  LLR p-value:       } & 5.202e-30   \\\\\n",
       "\\bottomrule\n",
       "\\end{tabular}\n",
       "\\begin{tabular}{lcccccc}\n",
       "                                & \\textbf{coef} & \\textbf{std err} & \\textbf{z} & \\textbf{P$> |$z$|$} & \\textbf{[0.025} & \\textbf{0.975]}  \\\\\n",
       "\\midrule\n",
       "\\textbf{Intercept}              &     -40.1238  &        5.205     &    -7.709  &         0.000        &      -50.325    &      -29.923     \\\\\n",
       "\\textbf{Field[T.Developmental]} &      -0.0067  &        0.162     &    -0.041  &         0.967        &       -0.323    &        0.310     \\\\\n",
       "\\textbf{Field[T.Social]}        &       0.3672  &        0.151     &     2.426  &         0.015        &        0.071    &        0.664     \\\\\n",
       "\\textbf{Year}                   &       0.0197  &        0.003     &     7.525  &         0.000        &        0.015    &        0.025     \\\\\n",
       "\\textbf{n\\_exps}                &       0.1164  &        0.027     &     4.303  &         0.000        &        0.063    &        0.169     \\\\\n",
       "\\bottomrule\n",
       "\\end{tabular}\n",
       "%\\caption{Probit Regression Results}\n",
       "\\end{center}"
      ],
      "text/plain": [
       "<class 'statsmodels.iolib.summary.Summary'>\n",
       "\"\"\"\n",
       "                          Probit Regression Results                           \n",
       "==============================================================================\n",
       "Dep. Variable:           marginal_yes   No. Observations:                 1469\n",
       "Model:                         Probit   Df Residuals:                     1464\n",
       "Method:                           MLE   Df Model:                            4\n",
       "Date:                Wed, 28 Aug 2024   Pseudo R-squ.:                 0.07556\n",
       "Time:                        14:57:42   Log-Likelihood:                -877.42\n",
       "converged:                       True   LL-Null:                       -949.13\n",
       "Covariance Type:            nonrobust   LLR p-value:                 5.202e-30\n",
       "==========================================================================================\n",
       "                             coef    std err          z      P>|z|      [0.025      0.975]\n",
       "------------------------------------------------------------------------------------------\n",
       "Intercept                -40.1238      5.205     -7.709      0.000     -50.325     -29.923\n",
       "Field[T.Developmental]    -0.0067      0.162     -0.041      0.967      -0.323       0.310\n",
       "Field[T.Social]            0.3672      0.151      2.426      0.015       0.071       0.664\n",
       "Year                       0.0197      0.003      7.525      0.000       0.015       0.025\n",
       "n_exps                     0.1164      0.027      4.303      0.000       0.063       0.169\n",
       "==========================================================================================\n",
       "\"\"\""
      ]
     },
     "execution_count": 21,
     "metadata": {},
     "output_type": "execute_result"
    }
   ],
   "source": [
    "# Your answer here\n",
    "marginal_mod = smf.probit('marginal_yes ~ Year + Field + n_exps', data=marginals).fit()\n",
    "marginal_mod.summary()"
   ]
  },
  {
   "cell_type": "markdown",
   "id": "fd7e4e8b-b703-4571-a01f-85b2d7941e60",
   "metadata": {},
   "source": [
    "Generate a set of predictions for this data. This is a little tricky but `numpy` can help. You will need:\n",
    "- Each of the fields\n",
    "- Years from 1970 to 2010 (DO NOT TYPE EACH NUMBER OUT INDIVIDUALLY!)\n",
    "- The number of experiments, from 1 to 10 (these are what are observed in the data).\n",
    "\n",
    "Create a datagrid and generate these predictions."
   ]
  },
  {
   "cell_type": "code",
   "execution_count": 22,
   "id": "7d6f7cef-158e-48ca-aa72-5a5ab8fbfa3c",
   "metadata": {
    "editable": true,
    "slideshow": {
     "slide_type": ""
    },
    "tags": [
     "hide-input"
    ]
   },
   "outputs": [],
   "source": [
    "# Your answer here\n",
    "dg = me.datagrid(marginal_mod,\n",
    "                 Year=np.arange(1970, 2011),\n",
    "                 n_exps=np.arange(1, 11),\n",
    "                 Field=['Cognitive', 'Developmental', 'Social'])"
   ]
  },
  {
   "cell_type": "markdown",
   "id": "590deff2-33ac-4c31-b36b-bed0094fa27f",
   "metadata": {},
   "source": [
    "Plot these predictions. It should have year on the X axis, the probability of the phrase on the Y, separate lines for the number of experiments, and separate plots for each field (use `relplot`). Can you add a reference line to the plot at .5?"
   ]
  },
  {
   "cell_type": "code",
   "execution_count": 23,
   "id": "8df485cb-815c-457f-8645-fb35aeb72f53",
   "metadata": {
    "editable": true,
    "slideshow": {
     "slide_type": ""
    },
    "tags": [
     "hide-input"
    ]
   },
   "outputs": [
    {
     "data": {
      "text/plain": [
       "<seaborn.axisgrid.FacetGrid at 0x15a69e190>"
      ]
     },
     "execution_count": 23,
     "metadata": {},
     "output_type": "execute_result"
    },
    {
     "data": {
      "image/png": "[encoded data removed]",
      "text/plain": [
       "<Figure size 1565.5x500 with 3 Axes>"
      ]
     },
     "metadata": {},
     "output_type": "display_data"
    }
   ],
   "source": [
    "# Your answer here\n",
    "preds = me.predictions(marginal_mod, newdata=dg)\n",
    "\n",
    "# Plot\n",
    "sns.relplot(data=preds,\n",
    "            x='Year', y='estimate',\n",
    "            hue='n_exps', col='Field',\n",
    "            kind='line').refline(y=.5)"
   ]
  },
  {
   "cell_type": "markdown",
   "id": "deeaa088-57b2-4364-b8ce-46f2ee1df787",
   "metadata": {},
   "source": [
    "Using your datagrid, or by developing one you might need, test the following hypotheses:\n",
    "\n",
    "1. Regardless of time or number of experiments, which field is most guilty of using the phrase?"
   ]
  },
  {
   "cell_type": "code",
   "execution_count": 24,
   "id": "8d6d6ee5-5155-4da4-bbca-e59bd54f458d",
   "metadata": {
    "editable": true,
    "slideshow": {
     "slide_type": ""
    },
    "tags": [
     "hide-input"
    ]
   },
   "outputs": [
    {
     "data": {
      "text/html": [
       "<div><style>\n",
       ".dataframe > thead > tr,\n",
       ".dataframe > tbody > tr {\n",
       "  text-align: right;\n",
       "  white-space: pre-wrap;\n",
       "}\n",
       "</style>\n",
       "<small>shape: (3, 8)</small><table border=\"1\" class=\"dataframe\"><thead><tr><th>Field</th><th>estimate</th><th>std_error</th><th>statistic</th><th>p_value</th><th>s_value</th><th>conf_low</th><th>conf_high</th></tr><tr><td>str</td><td>f64</td><td>f64</td><td>f64</td><td>f64</td><td>f64</td><td>f64</td><td>f64</td></tr></thead><tbody><tr><td>&quot;Cognitive&quot;</td><td>0.42801</td><td>0.05757</td><td>7.434588</td><td>1.0481e-13</td><td>43.117357</td><td>0.315174</td><td>0.540845</td></tr><tr><td>&quot;Developmental&quot;</td><td>0.425579</td><td>0.047817</td><td>8.900135</td><td>0.0</td><td>inf</td><td>0.331859</td><td>0.519299</td></tr><tr><td>&quot;Social&quot;</td><td>0.562763</td><td>0.035215</td><td>15.980838</td><td>0.0</td><td>inf</td><td>0.493743</td><td>0.631782</td></tr></tbody></table></div>"
      ],
      "text/plain": [
       "shape: (3, 8)\n",
       "┌───────────────┬──────────┬───────────┬──────┬──────────┬──────┬───────┬───────┐\n",
       "│ Field         ┆ Estimate ┆ Std.Error ┆ z    ┆ P(>|z|)  ┆ S    ┆ 2.5%  ┆ 97.5% │\n",
       "│ ---           ┆ ---      ┆ ---       ┆ ---  ┆ ---      ┆ ---  ┆ ---   ┆ ---   │\n",
       "│ str           ┆ str      ┆ str       ┆ str  ┆ str      ┆ str  ┆ str   ┆ str   │\n",
       "╞═══════════════╪══════════╪═══════════╪══════╪══════════╪══════╪═══════╪═══════╡\n",
       "│ Cognitive     ┆ 0.428    ┆ 0.0576    ┆ 7.43 ┆ 1.05e-13 ┆ 43.1 ┆ 0.315 ┆ 0.541 │\n",
       "│ Developmental ┆ 0.426    ┆ 0.0478    ┆ 8.9  ┆ 0        ┆ inf  ┆ 0.332 ┆ 0.519 │\n",
       "│ Social        ┆ 0.563    ┆ 0.0352    ┆ 16   ┆ 0        ┆ inf  ┆ 0.494 ┆ 0.632 │\n",
       "└───────────────┴──────────┴───────────┴──────┴──────────┴──────┴───────┴───────┘\n",
       "\n",
       "Columns: Field, estimate, std_error, statistic, p_value, s_value, conf_low, conf_high"
      ]
     },
     "execution_count": 24,
     "metadata": {},
     "output_type": "execute_result"
    }
   ],
   "source": [
    "# Your answer here\n",
    "me.predictions(marginal_mod, \n",
    "               newdata=dg,\n",
    "               by=['Field'])"
   ]
  },
  {
   "cell_type": "markdown",
   "id": "d45eca42-e883-4242-a925-ec380d6ea4db",
   "metadata": {},
   "source": [
    "2. In 2010, what number of experiments in social psychology led to the highest probability of using the phrase? At which point was the highest value statistically significant from others (you can use the 'sequential' argument to `hypothesis` for this!)"
   ]
  },
  {
   "cell_type": "code",
   "execution_count": 25,
   "id": "532a2029-275d-4782-b3ae-34a5a4c02275",
   "metadata": {
    "editable": true,
    "slideshow": {
     "slide_type": ""
    },
    "tags": [
     "hide-input"
    ]
   },
   "outputs": [
    {
     "data": {
      "text/html": [
       "<div><style>\n",
       ".dataframe > thead > tr,\n",
       ".dataframe > tbody > tr {\n",
       "  text-align: right;\n",
       "  white-space: pre-wrap;\n",
       "}\n",
       "</style>\n",
       "<small>shape: (9, 8)</small><table border=\"1\" class=\"dataframe\"><thead><tr><th>term</th><th>estimate</th><th>std_error</th><th>statistic</th><th>p_value</th><th>s_value</th><th>conf_low</th><th>conf_high</th></tr><tr><td>str</td><td>f64</td><td>f64</td><td>f64</td><td>f64</td><td>f64</td><td>f64</td><td>f64</td></tr></thead><tbody><tr><td>&quot;Row 2 - Row 1&quot;</td><td>0.046179</td><td>0.010886</td><td>4.242234</td><td>0.000022</td><td>15.463599</td><td>0.024844</td><td>0.067515</td></tr><tr><td>&quot;Row 3 - Row 2&quot;</td><td>0.045337</td><td>0.010624</td><td>4.267511</td><td>0.00002</td><td>15.626575</td><td>0.024515</td><td>0.066159</td></tr><tr><td>&quot;Row 4 - Row 3&quot;</td><td>0.043911</td><td>0.009966</td><td>4.406169</td><td>0.000011</td><td>16.536303</td><td>0.024379</td><td>0.063444</td></tr><tr><td>&quot;Row 5 - Row 4&quot;</td><td>0.041959</td><td>0.008966</td><td>4.679607</td><td>0.000003</td><td>18.40838</td><td>0.024385</td><td>0.059533</td></tr><tr><td>&quot;Row 6 - Row 5&quot;</td><td>0.039554</td><td>0.007702</td><td>5.135353</td><td>2.8161e-7</td><td>21.759773</td><td>0.024458</td><td>0.054651</td></tr><tr><td>&quot;Row 7 - Row 6&quot;</td><td>0.036786</td><td>0.00627</td><td>5.867274</td><td>4.4302e-9</td><td>27.749991</td><td>0.024498</td><td>0.049075</td></tr><tr><td>&quot;Row 8 - Row 7&quot;</td><td>0.033752</td><td>0.004781</td><td>7.059261</td><td>1.6740e-12</td><td>39.119843</td><td>0.024381</td><td>0.043123</td></tr><tr><td>&quot;Row 9 - Row 8&quot;</td><td>0.030552</td><td>0.003378</td><td>9.044419</td><td>0.0</td><td>inf</td><td>0.023931</td><td>0.037172</td></tr><tr><td>&quot;Row 10 - Row 9&quot;</td><td>0.027283</td><td>0.002284</td><td>11.944306</td><td>0.0</td><td>inf</td><td>0.022806</td><td>0.03176</td></tr></tbody></table></div>"
      ],
      "text/plain": [
       "shape: (9, 8)\n",
       "┌────────────────┬──────────┬───────────┬──────┬──────────┬──────┬────────┬────────┐\n",
       "│ Term           ┆ Estimate ┆ Std.Error ┆ z    ┆ P(>|z|)  ┆ S    ┆ 2.5%   ┆ 97.5%  │\n",
       "│ ---            ┆ ---      ┆ ---       ┆ ---  ┆ ---      ┆ ---  ┆ ---    ┆ ---    │\n",
       "│ str            ┆ str      ┆ str       ┆ str  ┆ str      ┆ str  ┆ str    ┆ str    │\n",
       "╞════════════════╪══════════╪═══════════╪══════╪══════════╪══════╪════════╪════════╡\n",
       "│ Row 2 - Row 1  ┆ 0.0462   ┆ 0.0109    ┆ 4.24 ┆ 2.21e-05 ┆ 15.5 ┆ 0.0248 ┆ 0.0675 │\n",
       "│ Row 3 - Row 2  ┆ 0.0453   ┆ 0.0106    ┆ 4.27 ┆ 1.98e-05 ┆ 15.6 ┆ 0.0245 ┆ 0.0662 │\n",
       "│ Row 4 - Row 3  ┆ 0.0439   ┆ 0.00997   ┆ 4.41 ┆ 1.05e-05 ┆ 16.5 ┆ 0.0244 ┆ 0.0634 │\n",
       "│ Row 5 - Row 4  ┆ 0.042    ┆ 0.00897   ┆ 4.68 ┆ 2.87e-06 ┆ 18.4 ┆ 0.0244 ┆ 0.0595 │\n",
       "│ Row 6 - Row 5  ┆ 0.0396   ┆ 0.0077    ┆ 5.14 ┆ 2.82e-07 ┆ 21.8 ┆ 0.0245 ┆ 0.0547 │\n",
       "│ Row 7 - Row 6  ┆ 0.0368   ┆ 0.00627   ┆ 5.87 ┆ 4.43e-09 ┆ 27.7 ┆ 0.0245 ┆ 0.0491 │\n",
       "│ Row 8 - Row 7  ┆ 0.0338   ┆ 0.00478   ┆ 7.06 ┆ 1.67e-12 ┆ 39.1 ┆ 0.0244 ┆ 0.0431 │\n",
       "│ Row 9 - Row 8  ┆ 0.0306   ┆ 0.00338   ┆ 9.04 ┆ 0        ┆ inf  ┆ 0.0239 ┆ 0.0372 │\n",
       "│ Row 10 - Row 9 ┆ 0.0273   ┆ 0.00228   ┆ 11.9 ┆ 0        ┆ inf  ┆ 0.0228 ┆ 0.0318 │\n",
       "└────────────────┴──────────┴───────────┴──────┴──────────┴──────┴────────┴────────┘\n",
       "\n",
       "Columns: term, estimate, std_error, statistic, p_value, s_value, conf_low, conf_high"
      ]
     },
     "execution_count": 25,
     "metadata": {},
     "output_type": "execute_result"
    }
   ],
   "source": [
    "# Your answer here\n",
    "me.predictions(marginal_mod,\n",
    "               newdata=me.datagrid(marginal_mod, \n",
    "                                   Year=2010, \n",
    "                                   Field='Social', \n",
    "                                   n_exps=np.arange(1, 11)),\n",
    "               hypothesis='sequential')"
   ]
  },
  {
   "cell_type": "markdown",
   "id": "c6e4654a-d34f-4e32-9443-e369a2b95fec",
   "metadata": {},
   "source": [
    "3. For each field, what is the difference between the probability of use in 2010 and 2000, averaging over the number of experiments? You may need to run it a few times to compare each field."
   ]
  },
  {
   "cell_type": "code",
   "execution_count": 26,
   "id": "1c635286-c85e-42e5-bfe5-81a144832e2f",
   "metadata": {
    "editable": true,
    "slideshow": {
     "slide_type": ""
    },
    "tags": [
     "hide-input"
    ]
   },
   "outputs": [
    {
     "data": {
      "text/html": [
       "<div><style>\n",
       ".dataframe > thead > tr,\n",
       ".dataframe > tbody > tr {\n",
       "  text-align: right;\n",
       "  white-space: pre-wrap;\n",
       "}\n",
       "</style>\n",
       "<small>shape: (1, 8)</small><table border=\"1\" class=\"dataframe\"><thead><tr><th>term</th><th>estimate</th><th>std_error</th><th>statistic</th><th>p_value</th><th>s_value</th><th>conf_low</th><th>conf_high</th></tr><tr><td>str</td><td>f64</td><td>f64</td><td>f64</td><td>f64</td><td>f64</td><td>f64</td><td>f64</td></tr></thead><tbody><tr><td>&quot;b1=b4&quot;</td><td>-0.074131</td><td>0.01057</td><td>-7.013193</td><td>2.3295e-12</td><td>38.643135</td><td>-0.094849</td><td>-0.053414</td></tr></tbody></table></div>"
      ],
      "text/plain": [
       "shape: (1, 8)\n",
       "┌───────┬──────────┬───────────┬───────┬──────────┬──────┬─────────┬─────────┐\n",
       "│ Term  ┆ Estimate ┆ Std.Error ┆ z     ┆ P(>|z|)  ┆ S    ┆ 2.5%    ┆ 97.5%   │\n",
       "│ ---   ┆ ---      ┆ ---       ┆ ---   ┆ ---      ┆ ---  ┆ ---     ┆ ---     │\n",
       "│ str   ┆ str      ┆ str       ┆ str   ┆ str      ┆ str  ┆ str     ┆ str     │\n",
       "╞═══════╪══════════╪═══════════╪═══════╪══════════╪══════╪═════════╪═════════╡\n",
       "│ b1=b4 ┆ -0.0741  ┆ 0.0106    ┆ -7.01 ┆ 2.33e-12 ┆ 38.6 ┆ -0.0948 ┆ -0.0534 │\n",
       "└───────┴──────────┴───────────┴───────┴──────────┴──────┴─────────┴─────────┘\n",
       "\n",
       "Columns: term, estimate, std_error, statistic, p_value, s_value, conf_low, conf_high"
      ]
     },
     "execution_count": 26,
     "metadata": {},
     "output_type": "execute_result"
    }
   ],
   "source": [
    "# Your answer here\n",
    "me.predictions(marginal_mod,\n",
    "               newdata=me.datagrid(marginal_mod,\n",
    "                                   Year=[2000, 2010],\n",
    "                                   Field=['Cognitive', 'Developmental', 'Social'],\n",
    "                                   n_exps=np.arange(1, 11)),\n",
    "               by=['Year', 'Field'], # averages over experiments\n",
    "               hypothesis='b1=b4' # e.g., for Cognitive, this is the comparison\n",
    "              )"
   ]
  },
  {
   "cell_type": "markdown",
   "id": "370de054-a1b1-4f5a-b063-902b26faa1b7",
   "metadata": {},
   "source": [
    "4. In developmental psychology, what combination of year and number of experiments has a probability *significantly* grater than .6 of using the phrase?\n",
    "\n",
    "This is a very tricky one. You will need to specify the right data grid, and rather than specifying a string to `hypothesis`, you can pass\n",
    "a float value. Then you will need to convert your output to pandas and filter it appropriately - this is difficult, but this is an extremely specific hypothesis.\n",
    "\n",
    "Nevertheless, this is the kind of science you can do by leveraging linear models."
   ]
  },
  {
   "cell_type": "code",
   "execution_count": 27,
   "id": "66d7a8ff-0f88-4b86-83dd-ba5c7fbf0d80",
   "metadata": {
    "editable": true,
    "slideshow": {
     "slide_type": ""
    },
    "tags": [
     "hide-input"
    ]
   },
   "outputs": [
    {
     "data": {
      "text/html": [
       "<div>\n",
       "<style scoped>\n",
       "    .dataframe tbody tr th:only-of-type {\n",
       "        vertical-align: middle;\n",
       "    }\n",
       "\n",
       "    .dataframe tbody tr th {\n",
       "        vertical-align: top;\n",
       "    }\n",
       "\n",
       "    .dataframe thead th {\n",
       "        text-align: right;\n",
       "    }\n",
       "</style>\n",
       "<table border=\"1\" class=\"dataframe\">\n",
       "  <thead>\n",
       "    <tr style=\"text-align: right;\">\n",
       "      <th></th>\n",
       "      <th>Field</th>\n",
       "      <th>Year</th>\n",
       "      <th>n_exps</th>\n",
       "      <th>rowid</th>\n",
       "      <th>estimate</th>\n",
       "      <th>std_error</th>\n",
       "      <th>statistic</th>\n",
       "      <th>p_value</th>\n",
       "      <th>s_value</th>\n",
       "      <th>conf_low</th>\n",
       "      <th>conf_high</th>\n",
       "      <th>marginal_yes</th>\n",
       "    </tr>\n",
       "  </thead>\n",
       "  <tbody>\n",
       "    <tr>\n",
       "      <th>389</th>\n",
       "      <td>Developmental</td>\n",
       "      <td>2008</td>\n",
       "      <td>10</td>\n",
       "      <td>389</td>\n",
       "      <td>0.750526</td>\n",
       "      <td>0.073478</td>\n",
       "      <td>2.048579</td>\n",
       "      <td>0.040503</td>\n",
       "      <td>4.625816</td>\n",
       "      <td>0.606511</td>\n",
       "      <td>0.894540</td>\n",
       "      <td>0</td>\n",
       "    </tr>\n",
       "    <tr>\n",
       "      <th>399</th>\n",
       "      <td>Developmental</td>\n",
       "      <td>2009</td>\n",
       "      <td>10</td>\n",
       "      <td>399</td>\n",
       "      <td>0.756750</td>\n",
       "      <td>0.072383</td>\n",
       "      <td>2.165564</td>\n",
       "      <td>0.030345</td>\n",
       "      <td>5.042420</td>\n",
       "      <td>0.614882</td>\n",
       "      <td>0.898619</td>\n",
       "      <td>0</td>\n",
       "    </tr>\n",
       "    <tr>\n",
       "      <th>409</th>\n",
       "      <td>Developmental</td>\n",
       "      <td>2010</td>\n",
       "      <td>10</td>\n",
       "      <td>409</td>\n",
       "      <td>0.762890</td>\n",
       "      <td>0.071286</td>\n",
       "      <td>2.285035</td>\n",
       "      <td>0.022311</td>\n",
       "      <td>5.486114</td>\n",
       "      <td>0.623173</td>\n",
       "      <td>0.902607</td>\n",
       "      <td>0</td>\n",
       "    </tr>\n",
       "  </tbody>\n",
       "</table>\n",
       "</div>"
      ],
      "text/plain": [
       "             Field  Year  n_exps  rowid  estimate  std_error  statistic  \\\n",
       "389  Developmental  2008      10    389  0.750526   0.073478   2.048579   \n",
       "399  Developmental  2009      10    399  0.756750   0.072383   2.165564   \n",
       "409  Developmental  2010      10    409  0.762890   0.071286   2.285035   \n",
       "\n",
       "      p_value   s_value  conf_low  conf_high  marginal_yes  \n",
       "389  0.040503  4.625816  0.606511   0.894540             0  \n",
       "399  0.030345  5.042420  0.614882   0.898619             0  \n",
       "409  0.022311  5.486114  0.623173   0.902607             0  "
      ]
     },
     "execution_count": 27,
     "metadata": {},
     "output_type": "execute_result"
    }
   ],
   "source": [
    "# Your answer here\n",
    "# Get predictions\n",
    "ps = me.predictions(marginal_mod,\n",
    "                    newdata=me.datagrid(marginal_mod,\n",
    "                                        Field='Developmental',\n",
    "                                        Year=np.arange(1970, 2011),\n",
    "                                        n_exps=np.arange(1, 11)),\n",
    "                    hypothesis=.6)\n",
    "\n",
    "# Now filter\n",
    "ps.to_pandas().query('statistic > 0 and p_value < .05')"
   ]
  },
  {
   "cell_type": "markdown",
   "id": "cafa6378-7b4b-4b38-89ea-1e1602f39f92",
   "metadata": {},
   "source": [
    "5. Averaging across all years, for which combination of number of experiments and fields show a significantly-greater-than-.50 chance of using the phrase?"
   ]
  },
  {
   "cell_type": "code",
   "execution_count": 28,
   "id": "4219f4f4-75f4-48bc-90d7-ede7db4984b2",
   "metadata": {
    "editable": true,
    "slideshow": {
     "slide_type": ""
    },
    "tags": [
     "hide-input"
    ]
   },
   "outputs": [
    {
     "data": {
      "text/html": [
       "<div>\n",
       "<style scoped>\n",
       "    .dataframe tbody tr th:only-of-type {\n",
       "        vertical-align: middle;\n",
       "    }\n",
       "\n",
       "    .dataframe tbody tr th {\n",
       "        vertical-align: top;\n",
       "    }\n",
       "\n",
       "    .dataframe thead th {\n",
       "        text-align: right;\n",
       "    }\n",
       "</style>\n",
       "<table border=\"1\" class=\"dataframe\">\n",
       "  <thead>\n",
       "    <tr style=\"text-align: right;\">\n",
       "      <th></th>\n",
       "      <th>Field</th>\n",
       "      <th>n_exps</th>\n",
       "      <th>estimate</th>\n",
       "      <th>std_error</th>\n",
       "      <th>statistic</th>\n",
       "      <th>p_value</th>\n",
       "      <th>s_value</th>\n",
       "      <th>conf_low</th>\n",
       "      <th>conf_high</th>\n",
       "    </tr>\n",
       "  </thead>\n",
       "  <tbody>\n",
       "    <tr>\n",
       "      <th>5</th>\n",
       "      <td>Social</td>\n",
       "      <td>6</td>\n",
       "      <td>0.588244</td>\n",
       "      <td>0.042696</td>\n",
       "      <td>2.066821</td>\n",
       "      <td>0.038751</td>\n",
       "      <td>4.689621</td>\n",
       "      <td>0.504562</td>\n",
       "      <td>0.671927</td>\n",
       "    </tr>\n",
       "    <tr>\n",
       "      <th>6</th>\n",
       "      <td>Social</td>\n",
       "      <td>7</td>\n",
       "      <td>0.631692</td>\n",
       "      <td>0.050721</td>\n",
       "      <td>2.596420</td>\n",
       "      <td>0.009420</td>\n",
       "      <td>6.730044</td>\n",
       "      <td>0.532281</td>\n",
       "      <td>0.731102</td>\n",
       "    </tr>\n",
       "    <tr>\n",
       "      <th>7</th>\n",
       "      <td>Social</td>\n",
       "      <td>8</td>\n",
       "      <td>0.673518</td>\n",
       "      <td>0.057668</td>\n",
       "      <td>3.008925</td>\n",
       "      <td>0.002622</td>\n",
       "      <td>8.575258</td>\n",
       "      <td>0.560491</td>\n",
       "      <td>0.786545</td>\n",
       "    </tr>\n",
       "    <tr>\n",
       "      <th>8</th>\n",
       "      <td>Social</td>\n",
       "      <td>9</td>\n",
       "      <td>0.713270</td>\n",
       "      <td>0.063214</td>\n",
       "      <td>3.373783</td>\n",
       "      <td>0.000741</td>\n",
       "      <td>10.397408</td>\n",
       "      <td>0.589373</td>\n",
       "      <td>0.837167</td>\n",
       "    </tr>\n",
       "    <tr>\n",
       "      <th>9</th>\n",
       "      <td>Social</td>\n",
       "      <td>10</td>\n",
       "      <td>0.750570</td>\n",
       "      <td>0.067164</td>\n",
       "      <td>3.730709</td>\n",
       "      <td>0.000191</td>\n",
       "      <td>12.354578</td>\n",
       "      <td>0.618931</td>\n",
       "      <td>0.882210</td>\n",
       "    </tr>\n",
       "  </tbody>\n",
       "</table>\n",
       "</div>"
      ],
      "text/plain": [
       "    Field  n_exps  estimate  std_error  statistic   p_value    s_value  \\\n",
       "5  Social       6  0.588244   0.042696   2.066821  0.038751   4.689621   \n",
       "6  Social       7  0.631692   0.050721   2.596420  0.009420   6.730044   \n",
       "7  Social       8  0.673518   0.057668   3.008925  0.002622   8.575258   \n",
       "8  Social       9  0.713270   0.063214   3.373783  0.000741  10.397408   \n",
       "9  Social      10  0.750570   0.067164   3.730709  0.000191  12.354578   \n",
       "\n",
       "   conf_low  conf_high  \n",
       "5  0.504562   0.671927  \n",
       "6  0.532281   0.731102  \n",
       "7  0.560491   0.786545  \n",
       "8  0.589373   0.837167  \n",
       "9  0.618931   0.882210  "
      ]
     },
     "execution_count": 28,
     "metadata": {},
     "output_type": "execute_result"
    }
   ],
   "source": [
    "# Your answer here\n",
    "# Get predictions\n",
    "ps = me.predictions(marginal_mod,\n",
    "                    newdata=me.datagrid(marginal_mod,\n",
    "                                        Field='Social',\n",
    "                                        Year=np.arange(1970, 2011),\n",
    "                                        n_exps=np.arange(1, 11)),\n",
    "                    by=['Field', 'n_exps'],\n",
    "                    hypothesis=.5)\n",
    "\n",
    "# Now filter\n",
    "ps.to_pandas().query('statistic > 0 and p_value < .05')"
   ]
  },
  {
   "cell_type": "markdown",
   "id": "45773f52-e1fb-4566-ae4f-c71ca56b67c4",
   "metadata": {},
   "source": [
    "Social psychology papers with 6 or more studies are, across time, most likely to use the phrase!"
   ]
  }
 ],
 "metadata": {
  "kernelspec": {
   "display_name": "Python 3 (ipykernel)",
   "language": "python",
   "name": "python3"
  },
  "language_info": {
   "codemirror_mode": {
    "name": "ipython",
    "version": 3
   },
   "file_extension": ".py",
   "mimetype": "text/x-python",
   "name": "python",
   "nbconvert_exporter": "python",
   "pygments_lexer": "ipython3",
   "version": "3.12.2"
  }
 },
 "nbformat": 4,
 "nbformat_minor": 5
}
