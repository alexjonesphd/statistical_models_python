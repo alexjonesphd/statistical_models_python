{
 "cells": [
  {
   "cell_type": "markdown",
   "id": "a5b2d48a-bce2-4f9e-bc77-a99d1f7cbd26",
   "metadata": {},
   "source": [
    "## 4 - The art of prediction\n",
    "### Asking scientific questions of models"
   ]
  },
  {
   "cell_type": "markdown",
   "id": "85d10d91-f701-4ef5-bd1e-821fd5a81b22",
   "metadata": {
    "editable": true,
    "slideshow": {
     "slide_type": ""
    },
    "tags": []
   },
   "source": [
    "This week we have a very important topic to cover - using a model to generate predictions, and for us to test our scientific theories on those model-based predictions. \n",
    "\n",
    "This is likely one of the most important sessions we will cover, as it provides the basis for how to interact with models and have them answer our questons. We will cover:\n",
    "- Generating conditional predictions from a model\n",
    "- Generating marginal predictions and testing comparisons and slopes of those values\n",
    "- Translating our natural-language queries into statistical terms\n"
   ]
  },
  {
   "cell_type": "markdown",
   "id": "64b24728-d557-44d0-9f15-c3d0d89df9c9",
   "metadata": {
    "editable": true,
    "slideshow": {
     "slide_type": ""
    },
    "tags": []
   },
   "source": [
    "### The `marginaleffects` package\n",
    "Much of the heavy lifting of our foray into predictions will be handled by a new package, called `marginaleffects`. This is a new Python package and can take a little getting used to, but it is very powerful. We'll explore how to use it and which of its functions we use to turn our questions into answers.\n",
    "\n",
    "Lets import everything we need, including `marginaleffects`, which we will call `me`."
   ]
  },
  {
   "cell_type": "code",
   "execution_count": 1,
   "id": "c234ef3e-f825-48cb-bec2-3e065f169649",
   "metadata": {
    "editable": true,
    "slideshow": {
     "slide_type": ""
    },
    "tags": []
   },
   "outputs": [],
   "source": [
    "# Import most of what we need\n",
    "import pandas as pd # dataframes\n",
    "import seaborn as sns # plots\n",
    "import statsmodels.formula.api as smf # Models\n",
    "import marginaleffects as me # marginal effects\n",
    "\n",
    "# Set the style for plots\n",
    "sns.set_style('whitegrid') # a different theme!\n",
    "sns.set_context('talk')"
   ]
  },
  {
   "cell_type": "markdown",
   "id": "372c0aa7-e196-4f43-a414-5e13079ac378",
   "metadata": {
    "editable": true,
    "slideshow": {
     "slide_type": ""
    },
    "tags": []
   },
   "source": [
    "### Fitting a model\n",
    "We will work through some examples with the `affairs` dataset, fitting models of varying complexity and using conditional and marginal predictions to understand the implications and answer our questions.\n",
    "\n",
    "First, let's load in the dataset, and use `statsmodels` to fit a simple model, akin to a t-test, which looks at whether those with and without children have higher marital satisfaction:"
   ]
  },
  {
   "cell_type": "code",
   "execution_count": 2,
   "id": "8fa06949-f4be-4cd2-90cd-f03326b5e1e3",
   "metadata": {},
   "outputs": [
    {
     "data": {
      "text/html": [
       "<table class=\"simpletable\">\n",
       "<caption>OLS Regression Results</caption>\n",
       "<tr>\n",
       "  <th>Dep. Variable:</th>     <td>rating</td>   <th>  R-squared:         </th> <td>   0.039</td>\n",
       "</tr>\n",
       "<tr>\n",
       "  <th>Model:</th>               <td>OLS</td>    <th>  Adj. R-squared:    </th> <td>   0.037</td>\n",
       "</tr>\n",
       "<tr>\n",
       "  <th>No. Observations:</th>  <td>   601</td>   <th>  F-statistic:       </th> <td>   24.00</td>\n",
       "</tr>\n",
       "<tr>\n",
       "  <th>Covariance Type:</th>  <td>nonrobust</td> <th>  Prob (F-statistic):</th> <td>1.24e-06</td>\n",
       "</tr>\n",
       "</table>\n",
       "<table class=\"simpletable\">\n",
       "<tr>\n",
       "         <td></td>            <th>coef</th>     <th>std err</th>      <th>t</th>      <th>P>|t|</th>  <th>[0.025</th>    <th>0.975]</th>  \n",
       "</tr>\n",
       "<tr>\n",
       "  <th>Intercept</th>       <td>    4.2749</td> <td>    0.083</td> <td>   51.635</td> <td> 0.000</td> <td>    4.112</td> <td>    4.437</td>\n",
       "</tr>\n",
       "<tr>\n",
       "  <th>children[T.yes]</th> <td>   -0.4795</td> <td>    0.098</td> <td>   -4.899</td> <td> 0.000</td> <td>   -0.672</td> <td>   -0.287</td>\n",
       "</tr>\n",
       "</table><br/><br/>Notes:<br/>[1] Standard Errors assume that the covariance matrix of the errors is correctly specified."
      ],
      "text/latex": [
       "\\begin{center}\n",
       "\\begin{tabular}{lclc}\n",
       "\\toprule\n",
       "\\textbf{Dep. Variable:}    &     rating    & \\textbf{  R-squared:         } &     0.039   \\\\\n",
       "\\textbf{Model:}            &      OLS      & \\textbf{  Adj. R-squared:    } &     0.037   \\\\\n",
       "\\textbf{No. Observations:} &        601    & \\textbf{  F-statistic:       } &     24.00   \\\\\n",
       "\\textbf{Covariance Type:}  &   nonrobust   & \\textbf{  Prob (F-statistic):} &  1.24e-06   \\\\\n",
       "\\bottomrule\n",
       "\\end{tabular}\n",
       "\\begin{tabular}{lcccccc}\n",
       "                         & \\textbf{coef} & \\textbf{std err} & \\textbf{t} & \\textbf{P$> |$t$|$} & \\textbf{[0.025} & \\textbf{0.975]}  \\\\\n",
       "\\midrule\n",
       "\\textbf{Intercept}       &       4.2749  &        0.083     &    51.635  &         0.000        &        4.112    &        4.437     \\\\\n",
       "\\textbf{children[T.yes]} &      -0.4795  &        0.098     &    -4.899  &         0.000        &       -0.672    &       -0.287     \\\\\n",
       "\\bottomrule\n",
       "\\end{tabular}\n",
       "%\\caption{OLS Regression Results}\n",
       "\\end{center}\n",
       "\n",
       "Notes: \\newline\n",
       " [1] Standard Errors assume that the covariance matrix of the errors is correctly specified."
      ],
      "text/plain": [
       "<class 'statsmodels.iolib.summary.Summary'>\n",
       "\"\"\"\n",
       "                            OLS Regression Results                            \n",
       "==============================================================================\n",
       "Dep. Variable:                 rating   R-squared:                       0.039\n",
       "Model:                            OLS   Adj. R-squared:                  0.037\n",
       "No. Observations:                 601   F-statistic:                     24.00\n",
       "Covariance Type:            nonrobust   Prob (F-statistic):           1.24e-06\n",
       "===================================================================================\n",
       "                      coef    std err          t      P>|t|      [0.025      0.975]\n",
       "-----------------------------------------------------------------------------------\n",
       "Intercept           4.2749      0.083     51.635      0.000       4.112       4.437\n",
       "children[T.yes]    -0.4795      0.098     -4.899      0.000      -0.672      -0.287\n",
       "===================================================================================\n",
       "\n",
       "Notes:\n",
       "[1] Standard Errors assume that the covariance matrix of the errors is correctly specified.\n",
       "\"\"\""
      ]
     },
     "metadata": {},
     "output_type": "display_data"
    }
   ],
   "source": [
    "# First read in the data\n",
    "affairs = pd.read_csv('https://vincentarelbundock.github.io/Rdatasets/csv/AER/Affairs.csv')\n",
    "\n",
    "# Fit the simple model\n",
    "simple_model = smf.ols('rating ~ children', data=affairs).fit()\n",
    "\n",
    "# Simple summary\n",
    "display(simple_model.summary(slim=True))"
   ]
  },
  {
   "cell_type": "markdown",
   "id": "0545b8a7-4a42-4c2d-9ef2-e5bdaf6a601a",
   "metadata": {},
   "source": [
    "### Using `marginaleffects` to get predictions\n",
    "With a fitted model, lets see some of the ways we can use `marginaleffects` to get some results.\n",
    "\n",
    "The first function is `me.predictions`, which is very general and returns a prediction for each datapoint that went into the data! Let's see how this works. `marginaleffects` returns a different type of dataframe (not a pandas one) so we just use the `to_pandas()` methods."
   ]
  },
  {
   "cell_type": "code",
   "execution_count": 3,
   "id": "c84bd354-67df-48e3-8f02-bceb87a4cf0f",
   "metadata": {},
   "outputs": [
    {
     "data": {
      "text/html": [
       "<div>\n",
       "<style scoped>\n",
       "    .dataframe tbody tr th:only-of-type {\n",
       "        vertical-align: middle;\n",
       "    }\n",
       "\n",
       "    .dataframe tbody tr th {\n",
       "        vertical-align: top;\n",
       "    }\n",
       "\n",
       "    .dataframe thead th {\n",
       "        text-align: right;\n",
       "    }\n",
       "</style>\n",
       "<table border=\"1\" class=\"dataframe\">\n",
       "  <thead>\n",
       "    <tr style=\"text-align: right;\">\n",
       "      <th></th>\n",
       "      <th>rowid</th>\n",
       "      <th>estimate</th>\n",
       "      <th>std_error</th>\n",
       "      <th>statistic</th>\n",
       "      <th>p_value</th>\n",
       "      <th>s_value</th>\n",
       "      <th>conf_low</th>\n",
       "      <th>conf_high</th>\n",
       "      <th>rownames</th>\n",
       "      <th>affairs</th>\n",
       "      <th>gender</th>\n",
       "      <th>age</th>\n",
       "      <th>yearsmarried</th>\n",
       "      <th>children</th>\n",
       "      <th>religiousness</th>\n",
       "      <th>education</th>\n",
       "      <th>occupation</th>\n",
       "      <th>rating</th>\n",
       "    </tr>\n",
       "  </thead>\n",
       "  <tbody>\n",
       "    <tr>\n",
       "      <th>0</th>\n",
       "      <td>0</td>\n",
       "      <td>4.274854</td>\n",
       "      <td>0.082790</td>\n",
       "      <td>51.634708</td>\n",
       "      <td>0.0</td>\n",
       "      <td>inf</td>\n",
       "      <td>4.112588</td>\n",
       "      <td>4.437120</td>\n",
       "      <td>4</td>\n",
       "      <td>0</td>\n",
       "      <td>male</td>\n",
       "      <td>37.0</td>\n",
       "      <td>10.0</td>\n",
       "      <td>no</td>\n",
       "      <td>3</td>\n",
       "      <td>18</td>\n",
       "      <td>7</td>\n",
       "      <td>4</td>\n",
       "    </tr>\n",
       "    <tr>\n",
       "      <th>1</th>\n",
       "      <td>1</td>\n",
       "      <td>4.274854</td>\n",
       "      <td>0.082790</td>\n",
       "      <td>51.634708</td>\n",
       "      <td>0.0</td>\n",
       "      <td>inf</td>\n",
       "      <td>4.112588</td>\n",
       "      <td>4.437120</td>\n",
       "      <td>5</td>\n",
       "      <td>0</td>\n",
       "      <td>female</td>\n",
       "      <td>27.0</td>\n",
       "      <td>4.0</td>\n",
       "      <td>no</td>\n",
       "      <td>4</td>\n",
       "      <td>14</td>\n",
       "      <td>6</td>\n",
       "      <td>4</td>\n",
       "    </tr>\n",
       "    <tr>\n",
       "      <th>2</th>\n",
       "      <td>2</td>\n",
       "      <td>3.795349</td>\n",
       "      <td>0.052209</td>\n",
       "      <td>72.695638</td>\n",
       "      <td>0.0</td>\n",
       "      <td>inf</td>\n",
       "      <td>3.693022</td>\n",
       "      <td>3.897676</td>\n",
       "      <td>11</td>\n",
       "      <td>0</td>\n",
       "      <td>female</td>\n",
       "      <td>32.0</td>\n",
       "      <td>15.0</td>\n",
       "      <td>yes</td>\n",
       "      <td>1</td>\n",
       "      <td>12</td>\n",
       "      <td>1</td>\n",
       "      <td>4</td>\n",
       "    </tr>\n",
       "  </tbody>\n",
       "</table>\n",
       "</div>"
      ],
      "text/plain": [
       "   rowid  estimate  std_error  statistic  p_value  s_value  conf_low  \\\n",
       "0      0  4.274854   0.082790  51.634708      0.0      inf  4.112588   \n",
       "1      1  4.274854   0.082790  51.634708      0.0      inf  4.112588   \n",
       "2      2  3.795349   0.052209  72.695638      0.0      inf  3.693022   \n",
       "\n",
       "   conf_high  rownames  affairs  gender   age  yearsmarried children  \\\n",
       "0   4.437120         4        0    male  37.0          10.0       no   \n",
       "1   4.437120         5        0  female  27.0           4.0       no   \n",
       "2   3.897676        11        0  female  32.0          15.0      yes   \n",
       "\n",
       "   religiousness  education  occupation  rating  \n",
       "0              3         18           7       4  \n",
       "1              4         14           6       4  \n",
       "2              1         12           1       4  "
      ]
     },
     "execution_count": 3,
     "metadata": {},
     "output_type": "execute_result"
    }
   ],
   "source": [
    "# Demonstrate prediction\n",
    "me.predictions(simple_model).to_pandas().head(3) # Predict for the fitted model"
   ]
  },
  {
   "cell_type": "markdown",
   "id": "a74b1f4f-b0ae-4845-8a1d-4b6065536f69",
   "metadata": {},
   "source": [
    "Notice here we obtain, for each row/observation that went into the model:\n",
    "\n",
    "- an estimate (the prediction)\n",
    "- the std error\n",
    "- the t-statistic\n",
    "- the p-value (is it different from zero?)\n",
    "- s-value (we can ignore)\n",
    "- conf_low, conf_high - 95% confidence interval bounds\n",
    "\n",
    "... and the rest of the dataset so we can see what went in!"
   ]
  },
  {
   "cell_type": "markdown",
   "id": "e87ae160-a6ee-4e01-a154-fd59d5a9a70d",
   "metadata": {},
   "source": [
    "This is great and can be very useful, but we want to use the model to *predict* an outcome for the values of its predictors. That is, we want to know, given someone has children, what is their satisfaction? What about if they do not have children? These are **conditional** predictions!\n",
    "\n",
    "To do this, we have to ask the model to give us its predictions, given its inputs. We need to generate our inputs, which we can do using the very powerful `me.datagrid` function. Lets explore this."
   ]
  },
  {
   "cell_type": "markdown",
   "id": "cbbe43d1-cfdb-49a5-8fdf-62785041e131",
   "metadata": {},
   "source": [
    "### Generating inputs to get the right outputs\n",
    "`me.datagrid` allows us to specify the values of the predictors we want the models outputs for, in a simple way. We use the `me.datagrid` function, and the first argument is the name of the model, and the remaining arguments are the names of the predictors and the values we'd like them to take, specified in a list (and the values *must* be the same as what went into the model).\n",
    "\n",
    "So to generate a 'datagrid' (think - a set of questions we want to ask) for someone with and without children, we can do this:"
   ]
  },
  {
   "cell_type": "code",
   "execution_count": 4,
   "id": "da3489ac-8a27-4c5d-8f91-7f6ae20f2b3f",
   "metadata": {},
   "outputs": [
    {
     "data": {
      "text/html": [
       "<div>\n",
       "<style scoped>\n",
       "    .dataframe tbody tr th:only-of-type {\n",
       "        vertical-align: middle;\n",
       "    }\n",
       "\n",
       "    .dataframe tbody tr th {\n",
       "        vertical-align: top;\n",
       "    }\n",
       "\n",
       "    .dataframe thead th {\n",
       "        text-align: right;\n",
       "    }\n",
       "</style>\n",
       "<table border=\"1\" class=\"dataframe\">\n",
       "  <thead>\n",
       "    <tr style=\"text-align: right;\">\n",
       "      <th></th>\n",
       "      <th>children</th>\n",
       "      <th>rownames</th>\n",
       "      <th>affairs</th>\n",
       "      <th>gender</th>\n",
       "      <th>age</th>\n",
       "      <th>yearsmarried</th>\n",
       "      <th>religiousness</th>\n",
       "      <th>education</th>\n",
       "      <th>occupation</th>\n",
       "      <th>rating</th>\n",
       "    </tr>\n",
       "  </thead>\n",
       "  <tbody>\n",
       "    <tr>\n",
       "      <th>0</th>\n",
       "      <td>yes</td>\n",
       "      <td>807</td>\n",
       "      <td>0</td>\n",
       "      <td>female</td>\n",
       "      <td>32.487521</td>\n",
       "      <td>8.177696</td>\n",
       "      <td>4</td>\n",
       "      <td>14</td>\n",
       "      <td>5</td>\n",
       "      <td>5</td>\n",
       "    </tr>\n",
       "    <tr>\n",
       "      <th>1</th>\n",
       "      <td>no</td>\n",
       "      <td>807</td>\n",
       "      <td>0</td>\n",
       "      <td>female</td>\n",
       "      <td>32.487521</td>\n",
       "      <td>8.177696</td>\n",
       "      <td>4</td>\n",
       "      <td>14</td>\n",
       "      <td>5</td>\n",
       "      <td>5</td>\n",
       "    </tr>\n",
       "  </tbody>\n",
       "</table>\n",
       "</div>"
      ],
      "text/plain": [
       "  children  rownames  affairs  gender        age  yearsmarried  religiousness  \\\n",
       "0      yes       807        0  female  32.487521      8.177696              4   \n",
       "1       no       807        0  female  32.487521      8.177696              4   \n",
       "\n",
       "   education  occupation  rating  \n",
       "0         14           5       5  \n",
       "1         14           5       5  "
      ]
     },
     "metadata": {},
     "output_type": "display_data"
    }
   ],
   "source": [
    "# Demonstrate datagrid\n",
    "inputs = me.datagrid(simple_model,\n",
    "                     children=['yes', 'no'])\n",
    "\n",
    "display(inputs.to_pandas())"
   ]
  },
  {
   "cell_type": "markdown",
   "id": "ac8e9c15-f357-4b22-a985-c1b1e6191dff",
   "metadata": {},
   "source": [
    "This basically generates data, based on the original data the model saw, that varies only in the predictor we are interested in - see the `children` column has 'yes', and 'no', rows, but is the same on everything else. We can then pass this onto the `me.predictions` function as part of the `newdata` argument, and obtain our conditional predictions!"
   ]
  },
  {
   "cell_type": "code",
   "execution_count": 5,
   "id": "ce52f837-544e-402b-97e9-a686b0669386",
   "metadata": {},
   "outputs": [
    {
     "data": {
      "text/html": [
       "<div>\n",
       "<style scoped>\n",
       "    .dataframe tbody tr th:only-of-type {\n",
       "        vertical-align: middle;\n",
       "    }\n",
       "\n",
       "    .dataframe tbody tr th {\n",
       "        vertical-align: top;\n",
       "    }\n",
       "\n",
       "    .dataframe thead th {\n",
       "        text-align: right;\n",
       "    }\n",
       "</style>\n",
       "<table border=\"1\" class=\"dataframe\">\n",
       "  <thead>\n",
       "    <tr style=\"text-align: right;\">\n",
       "      <th></th>\n",
       "      <th>children</th>\n",
       "      <th>rowid</th>\n",
       "      <th>estimate</th>\n",
       "      <th>std_error</th>\n",
       "      <th>statistic</th>\n",
       "      <th>p_value</th>\n",
       "      <th>s_value</th>\n",
       "      <th>conf_low</th>\n",
       "      <th>conf_high</th>\n",
       "      <th>rownames</th>\n",
       "      <th>affairs</th>\n",
       "      <th>gender</th>\n",
       "      <th>age</th>\n",
       "      <th>yearsmarried</th>\n",
       "      <th>religiousness</th>\n",
       "      <th>education</th>\n",
       "      <th>occupation</th>\n",
       "      <th>rating</th>\n",
       "    </tr>\n",
       "  </thead>\n",
       "  <tbody>\n",
       "    <tr>\n",
       "      <th>0</th>\n",
       "      <td>yes</td>\n",
       "      <td>0</td>\n",
       "      <td>3.795349</td>\n",
       "      <td>0.052209</td>\n",
       "      <td>72.695638</td>\n",
       "      <td>0.0</td>\n",
       "      <td>inf</td>\n",
       "      <td>3.693022</td>\n",
       "      <td>3.897676</td>\n",
       "      <td>807</td>\n",
       "      <td>0</td>\n",
       "      <td>female</td>\n",
       "      <td>32.487521</td>\n",
       "      <td>8.177696</td>\n",
       "      <td>4</td>\n",
       "      <td>14</td>\n",
       "      <td>5</td>\n",
       "      <td>5</td>\n",
       "    </tr>\n",
       "    <tr>\n",
       "      <th>1</th>\n",
       "      <td>no</td>\n",
       "      <td>1</td>\n",
       "      <td>4.274854</td>\n",
       "      <td>0.082790</td>\n",
       "      <td>51.634708</td>\n",
       "      <td>0.0</td>\n",
       "      <td>inf</td>\n",
       "      <td>4.112588</td>\n",
       "      <td>4.437120</td>\n",
       "      <td>807</td>\n",
       "      <td>0</td>\n",
       "      <td>female</td>\n",
       "      <td>32.487521</td>\n",
       "      <td>8.177696</td>\n",
       "      <td>4</td>\n",
       "      <td>14</td>\n",
       "      <td>5</td>\n",
       "      <td>5</td>\n",
       "    </tr>\n",
       "  </tbody>\n",
       "</table>\n",
       "</div>"
      ],
      "text/plain": [
       "  children  rowid  estimate  std_error  statistic  p_value  s_value  conf_low  \\\n",
       "0      yes      0  3.795349   0.052209  72.695638      0.0      inf  3.693022   \n",
       "1       no      1  4.274854   0.082790  51.634708      0.0      inf  4.112588   \n",
       "\n",
       "   conf_high  rownames  affairs  gender        age  yearsmarried  \\\n",
       "0   3.897676       807        0  female  32.487521      8.177696   \n",
       "1   4.437120       807        0  female  32.487521      8.177696   \n",
       "\n",
       "   religiousness  education  occupation  rating  \n",
       "0              4         14           5       5  \n",
       "1              4         14           5       5  "
      ]
     },
     "metadata": {},
     "output_type": "display_data"
    }
   ],
   "source": [
    "# Obtain conditional predictions\n",
    "cond_pred = me.predictions(simple_model, newdata=inputs)\n",
    "display(cond_pred.to_pandas())"
   ]
  },
  {
   "cell_type": "markdown",
   "id": "d121c86d-56ad-48d6-81a8-a5f72ae3e163",
   "metadata": {},
   "source": [
    "The `estimate` column reveals those with children have lower happiness than those without. "
   ]
  },
  {
   "cell_type": "markdown",
   "id": "ad724ccf-5461-43ca-a6b8-b0d32d14fb83",
   "metadata": {},
   "source": [
    "### Comparing predictions\n",
    "We now see the mean satisfaction for marriage with children is 3.79, and without, it is 4.27. Now we may wish to know whether that difference is interesting. We can compare those values with a hypothesis test to work out the difference between them, and whether it is significant or not. This is achieved using the `hypothesis` argument, which takes varied inputs. We will see some complex ones later, but if we set this to the string `'pairwise'`, we will obtain a test of the difference between those predictions, as it will compare each row to every other row in the output!"
   ]
  },
  {
   "cell_type": "code",
   "execution_count": 6,
   "id": "bda8f04e-18d4-4470-9f26-a02527aca426",
   "metadata": {},
   "outputs": [
    {
     "data": {
      "text/html": [
       "<div><style>\n",
       ".dataframe > thead > tr,\n",
       ".dataframe > tbody > tr {\n",
       "  text-align: right;\n",
       "  white-space: pre-wrap;\n",
       "}\n",
       "</style>\n",
       "<small>shape: (1, 8)</small><table border=\"1\" class=\"dataframe\"><thead><tr><th>term</th><th>estimate</th><th>std_error</th><th>statistic</th><th>p_value</th><th>s_value</th><th>conf_low</th><th>conf_high</th></tr><tr><td>str</td><td>f64</td><td>f64</td><td>f64</td><td>f64</td><td>f64</td><td>f64</td><td>f64</td></tr></thead><tbody><tr><td>&quot;Row 1 - Row 2&quot;</td><td>-0.479505</td><td>0.097877</td><td>-4.899035</td><td>9.6308e-7</td><td>19.985837</td><td>-0.671341</td><td>-0.287669</td></tr></tbody></table></div>"
      ],
      "text/plain": [
       "shape: (1, 8)\n",
       "┌───────────────┬──────────┬───────────┬──────┬──────────┬─────┬────────┬────────┐\n",
       "│ Term          ┆ Estimate ┆ Std.Error ┆ z    ┆ P(>|z|)  ┆ S   ┆ 2.5%   ┆ 97.5%  │\n",
       "│ ---           ┆ ---      ┆ ---       ┆ ---  ┆ ---      ┆ --- ┆ ---    ┆ ---    │\n",
       "│ str           ┆ str      ┆ str       ┆ str  ┆ str      ┆ str ┆ str    ┆ str    │\n",
       "╞═══════════════╪══════════╪═══════════╪══════╪══════════╪═════╪════════╪════════╡\n",
       "│ Row 1 - Row 2 ┆ -0.48    ┆ 0.0979    ┆ -4.9 ┆ 9.63e-07 ┆ 20  ┆ -0.671 ┆ -0.288 │\n",
       "└───────────────┴──────────┴───────────┴──────┴──────────┴─────┴────────┴────────┘\n",
       "\n",
       "Columns: term, estimate, std_error, statistic, p_value, s_value, conf_low, conf_high"
      ]
     },
     "execution_count": 6,
     "metadata": {},
     "output_type": "execute_result"
    }
   ],
   "source": [
    "# Difference between our predictions\n",
    "me.predictions(simple_model, \n",
    "               newdata=inputs, \n",
    "               hypothesis='pairwise')"
   ]
  },
  {
   "cell_type": "markdown",
   "id": "5a39fcdd-5d12-460c-8815-827ebbb92e7e",
   "metadata": {},
   "source": [
    "Amazingly and beautifully, this estimate is equal to the coefficient in the model! This is our test of interest, and we derived it entirely from a model - are those with children more satisfied in their marrige? No."
   ]
  },
  {
   "cell_type": "markdown",
   "id": "df14eb06-1f69-4a85-9b29-5053c642d09b",
   "metadata": {},
   "source": [
    "### More complex models, the same approach\n",
    "While traditional approaches would require us to use our flow-chart to figure out which test to use, model-based inference makes tackling more complex problems easy. \n",
    "\n",
    "Lets extend the model to include the `yearsmarried` predictor. We will test whether the difference between those with and without children is present even when we adjust for the length of time they are married."
   ]
  },
  {
   "cell_type": "code",
   "execution_count": 7,
   "id": "086da90e-cf1f-446a-8116-903f56e87a3e",
   "metadata": {},
   "outputs": [
    {
     "data": {
      "text/html": [
       "<table class=\"simpletable\">\n",
       "<caption>OLS Regression Results</caption>\n",
       "<tr>\n",
       "  <th>Dep. Variable:</th>     <td>rating</td>   <th>  R-squared:         </th> <td>   0.064</td>\n",
       "</tr>\n",
       "<tr>\n",
       "  <th>Model:</th>               <td>OLS</td>    <th>  Adj. R-squared:    </th> <td>   0.061</td>\n",
       "</tr>\n",
       "<tr>\n",
       "  <th>No. Observations:</th>  <td>   601</td>   <th>  F-statistic:       </th> <td>   20.43</td>\n",
       "</tr>\n",
       "<tr>\n",
       "  <th>Covariance Type:</th>  <td>nonrobust</td> <th>  Prob (F-statistic):</th> <td>2.63e-09</td>\n",
       "</tr>\n",
       "</table>\n",
       "<table class=\"simpletable\">\n",
       "<tr>\n",
       "           <td></td>              <th>coef</th>     <th>std err</th>      <th>t</th>      <th>P>|t|</th>  <th>[0.025</th>    <th>0.975]</th>  \n",
       "</tr>\n",
       "<tr>\n",
       "  <th>Intercept</th>           <td>    4.0801</td> <td>    0.095</td> <td>   42.960</td> <td> 0.000</td> <td>    3.894</td> <td>    4.267</td>\n",
       "</tr>\n",
       "<tr>\n",
       "  <th>children[T.yes]</th>     <td>   -0.2073</td> <td>    0.118</td> <td>   -1.758</td> <td> 0.079</td> <td>   -0.439</td> <td>    0.024</td>\n",
       "</tr>\n",
       "<tr>\n",
       "  <th>scale(yearsmarried)</th> <td>   -0.2144</td> <td>    0.053</td> <td>   -4.030</td> <td> 0.000</td> <td>   -0.319</td> <td>   -0.110</td>\n",
       "</tr>\n",
       "</table><br/><br/>Notes:<br/>[1] Standard Errors assume that the covariance matrix of the errors is correctly specified."
      ],
      "text/latex": [
       "\\begin{center}\n",
       "\\begin{tabular}{lclc}\n",
       "\\toprule\n",
       "\\textbf{Dep. Variable:}      &     rating    & \\textbf{  R-squared:         } &     0.064   \\\\\n",
       "\\textbf{Model:}              &      OLS      & \\textbf{  Adj. R-squared:    } &     0.061   \\\\\n",
       "\\textbf{No. Observations:}   &        601    & \\textbf{  F-statistic:       } &     20.43   \\\\\n",
       "\\textbf{Covariance Type:}    &   nonrobust   & \\textbf{  Prob (F-statistic):} &  2.63e-09   \\\\\n",
       "\\bottomrule\n",
       "\\end{tabular}\n",
       "\\begin{tabular}{lcccccc}\n",
       "                             & \\textbf{coef} & \\textbf{std err} & \\textbf{t} & \\textbf{P$> |$t$|$} & \\textbf{[0.025} & \\textbf{0.975]}  \\\\\n",
       "\\midrule\n",
       "\\textbf{Intercept}           &       4.0801  &        0.095     &    42.960  &         0.000        &        3.894    &        4.267     \\\\\n",
       "\\textbf{children[T.yes]}     &      -0.2073  &        0.118     &    -1.758  &         0.079        &       -0.439    &        0.024     \\\\\n",
       "\\textbf{scale(yearsmarried)} &      -0.2144  &        0.053     &    -4.030  &         0.000        &       -0.319    &       -0.110     \\\\\n",
       "\\bottomrule\n",
       "\\end{tabular}\n",
       "%\\caption{OLS Regression Results}\n",
       "\\end{center}\n",
       "\n",
       "Notes: \\newline\n",
       " [1] Standard Errors assume that the covariance matrix of the errors is correctly specified."
      ],
      "text/plain": [
       "<class 'statsmodels.iolib.summary.Summary'>\n",
       "\"\"\"\n",
       "                            OLS Regression Results                            \n",
       "==============================================================================\n",
       "Dep. Variable:                 rating   R-squared:                       0.064\n",
       "Model:                            OLS   Adj. R-squared:                  0.061\n",
       "No. Observations:                 601   F-statistic:                     20.43\n",
       "Covariance Type:            nonrobust   Prob (F-statistic):           2.63e-09\n",
       "=======================================================================================\n",
       "                          coef    std err          t      P>|t|      [0.025      0.975]\n",
       "---------------------------------------------------------------------------------------\n",
       "Intercept               4.0801      0.095     42.960      0.000       3.894       4.267\n",
       "children[T.yes]        -0.2073      0.118     -1.758      0.079      -0.439       0.024\n",
       "scale(yearsmarried)    -0.2144      0.053     -4.030      0.000      -0.319      -0.110\n",
       "=======================================================================================\n",
       "\n",
       "Notes:\n",
       "[1] Standard Errors assume that the covariance matrix of the errors is correctly specified.\n",
       "\"\"\""
      ]
     },
     "execution_count": 7,
     "metadata": {},
     "output_type": "execute_result"
    }
   ],
   "source": [
    "# Build a new model\n",
    "model2 = smf.ols('rating ~ children + scale(yearsmarried)', data=affairs).fit() # note 'scale'\n",
    "model2.summary(slim=True)"
   ]
  },
  {
   "cell_type": "markdown",
   "id": "67b276bd-cf5c-43f4-8f11-015ba2ed67f8",
   "metadata": {},
   "source": [
    "If we want to make *marginal predictions*, that is a prediction while we hold other variables constant, we simply *leave out* the variables we want to hold constant. We repeat the same procedure as before:"
   ]
  },
  {
   "cell_type": "code",
   "execution_count": 8,
   "id": "aacbb967-ae14-432e-8707-ea67115cf2ae",
   "metadata": {},
   "outputs": [
    {
     "data": {
      "text/plain": [
       "'Predict this'"
      ]
     },
     "metadata": {},
     "output_type": "display_data"
    },
    {
     "data": {
      "text/html": [
       "<div><style>\n",
       ".dataframe > thead > tr,\n",
       ".dataframe > tbody > tr {\n",
       "  text-align: right;\n",
       "  white-space: pre-wrap;\n",
       "}\n",
       "</style>\n",
       "<small>shape: (2, 10)</small><table border=\"1\" class=\"dataframe\"><thead><tr><th>children</th><th>yearsmarried</th><th>rownames</th><th>affairs</th><th>gender</th><th>age</th><th>religiousness</th><th>education</th><th>occupation</th><th>rating</th></tr><tr><td>str</td><td>i64</td><td>i64</td><td>i64</td><td>str</td><td>f64</td><td>i64</td><td>i64</td><td>i64</td><td>i64</td></tr></thead><tbody><tr><td>&quot;yes&quot;</td><td>10</td><td>1843</td><td>0</td><td>&quot;female&quot;</td><td>32.487521</td><td>4</td><td>14</td><td>5</td><td>5</td></tr><tr><td>&quot;no&quot;</td><td>10</td><td>1843</td><td>0</td><td>&quot;female&quot;</td><td>32.487521</td><td>4</td><td>14</td><td>5</td><td>5</td></tr></tbody></table></div>"
      ],
      "text/plain": [
       "shape: (2, 10)\n",
       "┌──────────┬──────────────┬──────────┬─────────┬───┬─────────────┬───────────┬────────────┬────────┐\n",
       "│ children ┆ yearsmarried ┆ rownames ┆ affairs ┆ … ┆ religiousne ┆ education ┆ occupation ┆ rating │\n",
       "│ ---      ┆ ---          ┆ ---      ┆ ---     ┆   ┆ ss          ┆ ---       ┆ ---        ┆ ---    │\n",
       "│ str      ┆ i64          ┆ i64      ┆ i64     ┆   ┆ ---         ┆ i64       ┆ i64        ┆ i64    │\n",
       "│          ┆              ┆          ┆         ┆   ┆ i64         ┆           ┆            ┆        │\n",
       "╞══════════╪══════════════╪══════════╪═════════╪═══╪═════════════╪═══════════╪════════════╪════════╡\n",
       "│ yes      ┆ 10           ┆ 1843     ┆ 0       ┆ … ┆ 4           ┆ 14        ┆ 5          ┆ 5      │\n",
       "│ no       ┆ 10           ┆ 1843     ┆ 0       ┆ … ┆ 4           ┆ 14        ┆ 5          ┆ 5      │\n",
       "└──────────┴──────────────┴──────────┴─────────┴───┴─────────────┴───────────┴────────────┴────────┘"
      ]
     },
     "metadata": {},
     "output_type": "display_data"
    },
    {
     "data": {
      "text/plain": [
       "'Predictions'"
      ]
     },
     "metadata": {},
     "output_type": "display_data"
    },
    {
     "data": {
      "text/html": [
       "<div><style>\n",
       ".dataframe > thead > tr,\n",
       ".dataframe > tbody > tr {\n",
       "  text-align: right;\n",
       "  white-space: pre-wrap;\n",
       "}\n",
       "</style>\n",
       "<small>shape: (2, 18)</small><table border=\"1\" class=\"dataframe\"><thead><tr><th>children</th><th>yearsmarried</th><th>rowid</th><th>estimate</th><th>std_error</th><th>statistic</th><th>p_value</th><th>s_value</th><th>conf_low</th><th>conf_high</th><th>rownames</th><th>affairs</th><th>gender</th><th>age</th><th>religiousness</th><th>education</th><th>occupation</th><th>rating</th></tr><tr><td>str</td><td>i64</td><td>i32</td><td>f64</td><td>f64</td><td>f64</td><td>f64</td><td>f64</td><td>f64</td><td>f64</td><td>i64</td><td>i64</td><td>str</td><td>f64</td><td>i64</td><td>i64</td><td>i64</td><td>i64</td></tr></thead><tbody><tr><td>&quot;yes&quot;</td><td>10</td><td>0</td><td>3.802615</td><td>0.051589</td><td>73.710427</td><td>0.0</td><td>inf</td><td>3.701504</td><td>3.903727</td><td>1843</td><td>0</td><td>&quot;female&quot;</td><td>32.487521</td><td>4</td><td>14</td><td>5</td><td>5</td></tr><tr><td>&quot;no&quot;</td><td>10</td><td>1</td><td>4.009898</td><td>0.104915</td><td>38.220416</td><td>0.0</td><td>inf</td><td>3.804269</td><td>4.215528</td><td>1843</td><td>0</td><td>&quot;female&quot;</td><td>32.487521</td><td>4</td><td>14</td><td>5</td><td>5</td></tr></tbody></table></div>"
      ],
      "text/plain": [
       "shape: (2, 9)\n",
       "┌──────────┬──────────────┬──────────┬───────────┬───┬─────────┬─────┬──────┬───────┐\n",
       "│ children ┆ yearsmarried ┆ Estimate ┆ Std.Error ┆ … ┆ P(>|z|) ┆ S   ┆ 2.5% ┆ 97.5% │\n",
       "│ ---      ┆ ---          ┆ ---      ┆ ---       ┆   ┆ ---     ┆ --- ┆ ---  ┆ ---   │\n",
       "│ str      ┆ str          ┆ str      ┆ str       ┆   ┆ str     ┆ str ┆ str  ┆ str   │\n",
       "╞══════════╪══════════════╪══════════╪═══════════╪═══╪═════════╪═════╪══════╪═══════╡\n",
       "│ yes      ┆ 10           ┆ 3.8      ┆ 0.0516    ┆ … ┆ 0       ┆ inf ┆ 3.7  ┆ 3.9   │\n",
       "│ no       ┆ 10           ┆ 4.01     ┆ 0.105     ┆ … ┆ 0       ┆ inf ┆ 3.8  ┆ 4.22  │\n",
       "└──────────┴──────────────┴──────────┴───────────┴───┴─────────┴─────┴──────┴───────┘\n",
       "\n",
       "Columns: children, yearsmarried, rowid, estimate, std_error, statistic, p_value, s_value, conf_low, conf_high, rownames, affairs, gender, age, religiousness, education, occupation, rating"
      ]
     },
     "metadata": {},
     "output_type": "display_data"
    },
    {
     "data": {
      "text/plain": [
       "'The difference:'"
      ]
     },
     "metadata": {},
     "output_type": "display_data"
    },
    {
     "data": {
      "text/html": [
       "<div><style>\n",
       ".dataframe > thead > tr,\n",
       ".dataframe > tbody > tr {\n",
       "  text-align: right;\n",
       "  white-space: pre-wrap;\n",
       "}\n",
       "</style>\n",
       "<small>shape: (1, 8)</small><table border=\"1\" class=\"dataframe\"><thead><tr><th>term</th><th>estimate</th><th>std_error</th><th>statistic</th><th>p_value</th><th>s_value</th><th>conf_low</th><th>conf_high</th></tr><tr><td>str</td><td>f64</td><td>f64</td><td>f64</td><td>f64</td><td>f64</td><td>f64</td><td>f64</td></tr></thead><tbody><tr><td>&quot;Row 1 - Row 2&quot;</td><td>-0.207283</td><td>0.117922</td><td>-1.757793</td><td>0.078783</td><td>3.665976</td><td>-0.438407</td><td>0.02384</td></tr></tbody></table></div>"
      ],
      "text/plain": [
       "shape: (1, 8)\n",
       "┌───────────────┬──────────┬───────────┬───────┬─────────┬──────┬────────┬────────┐\n",
       "│ Term          ┆ Estimate ┆ Std.Error ┆ z     ┆ P(>|z|) ┆ S    ┆ 2.5%   ┆ 97.5%  │\n",
       "│ ---           ┆ ---      ┆ ---       ┆ ---   ┆ ---     ┆ ---  ┆ ---    ┆ ---    │\n",
       "│ str           ┆ str      ┆ str       ┆ str   ┆ str     ┆ str  ┆ str    ┆ str    │\n",
       "╞═══════════════╪══════════╪═══════════╪═══════╪═════════╪══════╪════════╪════════╡\n",
       "│ Row 1 - Row 2 ┆ -0.207   ┆ 0.118     ┆ -1.76 ┆ 0.0788  ┆ 3.67 ┆ -0.438 ┆ 0.0238 │\n",
       "└───────────────┴──────────┴───────────┴───────┴─────────┴──────┴────────┴────────┘\n",
       "\n",
       "Columns: term, estimate, std_error, statistic, p_value, s_value, conf_low, conf_high"
      ]
     },
     "metadata": {},
     "output_type": "display_data"
    }
   ],
   "source": [
    "# Make a datagrid of what we want to know\n",
    "new_datagrid = me.datagrid(model2, children=['yes', 'no'], yearsmarried=[10]) # Notice NO yearsmarried variable\n",
    "display('Predict this', new_datagrid)\n",
    "\n",
    "# Model makes predictions on this\n",
    "new_predictions = me.predictions(model2, newdata=new_datagrid)\n",
    "display('Predictions', new_predictions)\n",
    "\n",
    "# The contrast is done as before\n",
    "contrast = me.predictions(model2, newdata=new_datagrid, hypothesis='pairwise')\n",
    "display('The difference:', contrast)"
   ]
  },
  {
   "cell_type": "markdown",
   "id": "143cba94-17df-405e-ab07-4e8caf551b73",
   "metadata": {},
   "source": [
    "### Exploring interactions with greater complexity\n",
    "A huge bonus of this approach is that it makes answering complex questions seamless. Lets build a model that includes an interaction between children and gender, and includes the `yearsmarried` covariate. That is - whats the difference in marital satisfaction between men and women who do and dont have children, controlling for how long they have been married? \n",
    "\n",
    "This will introduce us to some subtle ways of working with the `me.predictions` and particularly the hypothesis approach."
   ]
  },
  {
   "cell_type": "code",
   "execution_count": 9,
   "id": "7d448893-4e03-4dd2-9a99-1100f5b750a2",
   "metadata": {},
   "outputs": [
    {
     "data": {
      "text/html": [
       "<table class=\"simpletable\">\n",
       "<caption>OLS Regression Results</caption>\n",
       "<tr>\n",
       "  <th>Dep. Variable:</th>     <td>rating</td>   <th>  R-squared:         </th> <td>   0.070</td>\n",
       "</tr>\n",
       "<tr>\n",
       "  <th>Model:</th>               <td>OLS</td>    <th>  Adj. R-squared:    </th> <td>   0.063</td>\n",
       "</tr>\n",
       "<tr>\n",
       "  <th>No. Observations:</th>  <td>   601</td>   <th>  F-statistic:       </th> <td>   11.16</td>\n",
       "</tr>\n",
       "<tr>\n",
       "  <th>Covariance Type:</th>  <td>nonrobust</td> <th>  Prob (F-statistic):</th> <td>9.72e-09</td>\n",
       "</tr>\n",
       "</table>\n",
       "<table class=\"simpletable\">\n",
       "<tr>\n",
       "                 <td></td>                   <th>coef</th>     <th>std err</th>      <th>t</th>      <th>P>|t|</th>  <th>[0.025</th>    <th>0.975]</th>  \n",
       "</tr>\n",
       "<tr>\n",
       "  <th>Intercept</th>                      <td>    4.1985</td> <td>    0.120</td> <td>   35.013</td> <td> 0.000</td> <td>    3.963</td> <td>    4.434</td>\n",
       "</tr>\n",
       "<tr>\n",
       "  <th>gender[T.male]</th>                 <td>   -0.2607</td> <td>    0.166</td> <td>   -1.572</td> <td> 0.116</td> <td>   -0.586</td> <td>    0.065</td>\n",
       "</tr>\n",
       "<tr>\n",
       "  <th>children[T.yes]</th>                <td>   -0.3860</td> <td>    0.150</td> <td>   -2.571</td> <td> 0.010</td> <td>   -0.681</td> <td>   -0.091</td>\n",
       "</tr>\n",
       "<tr>\n",
       "  <th>gender[T.male]:children[T.yes]</th> <td>    0.3751</td> <td>    0.196</td> <td>    1.917</td> <td> 0.056</td> <td>   -0.009</td> <td>    0.759</td>\n",
       "</tr>\n",
       "<tr>\n",
       "  <th>scale(yearsmarried)</th>            <td>   -0.2049</td> <td>    0.053</td> <td>   -3.840</td> <td> 0.000</td> <td>   -0.310</td> <td>   -0.100</td>\n",
       "</tr>\n",
       "</table><br/><br/>Notes:<br/>[1] Standard Errors assume that the covariance matrix of the errors is correctly specified."
      ],
      "text/latex": [
       "\\begin{center}\n",
       "\\begin{tabular}{lclc}\n",
       "\\toprule\n",
       "\\textbf{Dep. Variable:}                 &     rating    & \\textbf{  R-squared:         } &     0.070   \\\\\n",
       "\\textbf{Model:}                         &      OLS      & \\textbf{  Adj. R-squared:    } &     0.063   \\\\\n",
       "\\textbf{No. Observations:}              &        601    & \\textbf{  F-statistic:       } &     11.16   \\\\\n",
       "\\textbf{Covariance Type:}               &   nonrobust   & \\textbf{  Prob (F-statistic):} &  9.72e-09   \\\\\n",
       "\\bottomrule\n",
       "\\end{tabular}\n",
       "\\begin{tabular}{lcccccc}\n",
       "                                        & \\textbf{coef} & \\textbf{std err} & \\textbf{t} & \\textbf{P$> |$t$|$} & \\textbf{[0.025} & \\textbf{0.975]}  \\\\\n",
       "\\midrule\n",
       "\\textbf{Intercept}                      &       4.1985  &        0.120     &    35.013  &         0.000        &        3.963    &        4.434     \\\\\n",
       "\\textbf{gender[T.male]}                 &      -0.2607  &        0.166     &    -1.572  &         0.116        &       -0.586    &        0.065     \\\\\n",
       "\\textbf{children[T.yes]}                &      -0.3860  &        0.150     &    -2.571  &         0.010        &       -0.681    &       -0.091     \\\\\n",
       "\\textbf{gender[T.male]:children[T.yes]} &       0.3751  &        0.196     &     1.917  &         0.056        &       -0.009    &        0.759     \\\\\n",
       "\\textbf{scale(yearsmarried)}            &      -0.2049  &        0.053     &    -3.840  &         0.000        &       -0.310    &       -0.100     \\\\\n",
       "\\bottomrule\n",
       "\\end{tabular}\n",
       "%\\caption{OLS Regression Results}\n",
       "\\end{center}\n",
       "\n",
       "Notes: \\newline\n",
       " [1] Standard Errors assume that the covariance matrix of the errors is correctly specified."
      ],
      "text/plain": [
       "<class 'statsmodels.iolib.summary.Summary'>\n",
       "\"\"\"\n",
       "                            OLS Regression Results                            \n",
       "==============================================================================\n",
       "Dep. Variable:                 rating   R-squared:                       0.070\n",
       "Model:                            OLS   Adj. R-squared:                  0.063\n",
       "No. Observations:                 601   F-statistic:                     11.16\n",
       "Covariance Type:            nonrobust   Prob (F-statistic):           9.72e-09\n",
       "==================================================================================================\n",
       "                                     coef    std err          t      P>|t|      [0.025      0.975]\n",
       "--------------------------------------------------------------------------------------------------\n",
       "Intercept                          4.1985      0.120     35.013      0.000       3.963       4.434\n",
       "gender[T.male]                    -0.2607      0.166     -1.572      0.116      -0.586       0.065\n",
       "children[T.yes]                   -0.3860      0.150     -2.571      0.010      -0.681      -0.091\n",
       "gender[T.male]:children[T.yes]     0.3751      0.196      1.917      0.056      -0.009       0.759\n",
       "scale(yearsmarried)               -0.2049      0.053     -3.840      0.000      -0.310      -0.100\n",
       "==================================================================================================\n",
       "\n",
       "Notes:\n",
       "[1] Standard Errors assume that the covariance matrix of the errors is correctly specified.\n",
       "\"\"\""
      ]
     },
     "metadata": {},
     "output_type": "display_data"
    }
   ],
   "source": [
    "# Specify the model\n",
    "model3 = smf.ols('rating ~ gender * children + scale(yearsmarried)', data=affairs).fit()\n",
    "display(model3.summary(slim=True))"
   ]
  },
  {
   "cell_type": "code",
   "execution_count": 10,
   "id": "c69d3dd0-b02b-4cdd-b804-6a3469e3bf6b",
   "metadata": {},
   "outputs": [
    {
     "data": {
      "text/html": [
       "<div><style>\n",
       ".dataframe > thead > tr,\n",
       ".dataframe > tbody > tr {\n",
       "  text-align: right;\n",
       "  white-space: pre-wrap;\n",
       "}\n",
       "</style>\n",
       "<small>shape: (4, 10)</small><table border=\"1\" class=\"dataframe\"><thead><tr><th>children</th><th>gender</th><th>rownames</th><th>affairs</th><th>age</th><th>yearsmarried</th><th>religiousness</th><th>education</th><th>occupation</th><th>rating</th></tr><tr><td>str</td><td>str</td><td>i64</td><td>i64</td><td>f64</td><td>f64</td><td>i64</td><td>i64</td><td>i64</td><td>i64</td></tr></thead><tbody><tr><td>&quot;yes&quot;</td><td>&quot;male&quot;</td><td>1304</td><td>0</td><td>32.487521</td><td>8.177696</td><td>4</td><td>14</td><td>5</td><td>5</td></tr><tr><td>&quot;yes&quot;</td><td>&quot;female&quot;</td><td>1304</td><td>0</td><td>32.487521</td><td>8.177696</td><td>4</td><td>14</td><td>5</td><td>5</td></tr><tr><td>&quot;no&quot;</td><td>&quot;male&quot;</td><td>1304</td><td>0</td><td>32.487521</td><td>8.177696</td><td>4</td><td>14</td><td>5</td><td>5</td></tr><tr><td>&quot;no&quot;</td><td>&quot;female&quot;</td><td>1304</td><td>0</td><td>32.487521</td><td>8.177696</td><td>4</td><td>14</td><td>5</td><td>5</td></tr></tbody></table></div>"
      ],
      "text/plain": [
       "shape: (4, 10)\n",
       "┌──────────┬────────┬──────────┬─────────┬───┬───────────────┬───────────┬────────────┬────────┐\n",
       "│ children ┆ gender ┆ rownames ┆ affairs ┆ … ┆ religiousness ┆ education ┆ occupation ┆ rating │\n",
       "│ ---      ┆ ---    ┆ ---      ┆ ---     ┆   ┆ ---           ┆ ---       ┆ ---        ┆ ---    │\n",
       "│ str      ┆ str    ┆ i64      ┆ i64     ┆   ┆ i64           ┆ i64       ┆ i64        ┆ i64    │\n",
       "╞══════════╪════════╪══════════╪═════════╪═══╪═══════════════╪═══════════╪════════════╪════════╡\n",
       "│ yes      ┆ male   ┆ 1304     ┆ 0       ┆ … ┆ 4             ┆ 14        ┆ 5          ┆ 5      │\n",
       "│ yes      ┆ female ┆ 1304     ┆ 0       ┆ … ┆ 4             ┆ 14        ┆ 5          ┆ 5      │\n",
       "│ no       ┆ male   ┆ 1304     ┆ 0       ┆ … ┆ 4             ┆ 14        ┆ 5          ┆ 5      │\n",
       "│ no       ┆ female ┆ 1304     ┆ 0       ┆ … ┆ 4             ┆ 14        ┆ 5          ┆ 5      │\n",
       "└──────────┴────────┴──────────┴─────────┴───┴───────────────┴───────────┴────────────┴────────┘"
      ]
     },
     "metadata": {},
     "output_type": "display_data"
    }
   ],
   "source": [
    "# Build a datagrid to answer our question\n",
    "datagrid3 = me.datagrid(model3, \n",
    "                        children=['yes', 'no'], \n",
    "                        gender=['male', 'female'])\n",
    "display(datagrid3)"
   ]
  },
  {
   "cell_type": "code",
   "execution_count": 11,
   "id": "b1b9543d-359d-4cab-952e-28f3d74063c0",
   "metadata": {},
   "outputs": [
    {
     "data": {
      "text/html": [
       "<div><style>\n",
       ".dataframe > thead > tr,\n",
       ".dataframe > tbody > tr {\n",
       "  text-align: right;\n",
       "  white-space: pre-wrap;\n",
       "}\n",
       "</style>\n",
       "<small>shape: (4, 18)</small><table border=\"1\" class=\"dataframe\"><thead><tr><th>children</th><th>gender</th><th>rowid</th><th>estimate</th><th>std_error</th><th>statistic</th><th>p_value</th><th>s_value</th><th>conf_low</th><th>conf_high</th><th>rownames</th><th>affairs</th><th>age</th><th>yearsmarried</th><th>religiousness</th><th>education</th><th>occupation</th><th>rating</th></tr><tr><td>str</td><td>str</td><td>i32</td><td>f64</td><td>f64</td><td>f64</td><td>f64</td><td>f64</td><td>f64</td><td>f64</td><td>i64</td><td>i64</td><td>f64</td><td>f64</td><td>i64</td><td>i64</td><td>i64</td><td>i64</td></tr></thead><tbody><tr><td>&quot;yes&quot;</td><td>&quot;male&quot;</td><td>0</td><td>3.926821</td><td>0.074764</td><td>52.522926</td><td>0.0</td><td>inf</td><td>3.780287</td><td>4.073356</td><td>1304</td><td>0</td><td>32.487521</td><td>8.177696</td><td>4</td><td>14</td><td>5</td><td>5</td></tr><tr><td>&quot;yes&quot;</td><td>&quot;female&quot;</td><td>1</td><td>3.812441</td><td>0.075985</td><td>50.173871</td><td>0.0</td><td>inf</td><td>3.663514</td><td>3.961368</td><td>1304</td><td>0</td><td>32.487521</td><td>8.177696</td><td>4</td><td>14</td><td>5</td><td>5</td></tr><tr><td>&quot;no&quot;</td><td>&quot;male&quot;</td><td>2</td><td>3.937813</td><td>0.132491</td><td>29.721272</td><td>0.0</td><td>inf</td><td>3.678134</td><td>4.197491</td><td>1304</td><td>0</td><td>32.487521</td><td>8.177696</td><td>4</td><td>14</td><td>5</td><td>5</td></tr><tr><td>&quot;no&quot;</td><td>&quot;female&quot;</td><td>3</td><td>4.19849</td><td>0.119912</td><td>35.013104</td><td>0.0</td><td>inf</td><td>3.963467</td><td>4.433513</td><td>1304</td><td>0</td><td>32.487521</td><td>8.177696</td><td>4</td><td>14</td><td>5</td><td>5</td></tr></tbody></table></div>"
      ],
      "text/plain": [
       "shape: (4, 9)\n",
       "┌──────────┬────────┬──────────┬───────────┬───┬─────────┬─────┬──────┬───────┐\n",
       "│ children ┆ gender ┆ Estimate ┆ Std.Error ┆ … ┆ P(>|z|) ┆ S   ┆ 2.5% ┆ 97.5% │\n",
       "│ ---      ┆ ---    ┆ ---      ┆ ---       ┆   ┆ ---     ┆ --- ┆ ---  ┆ ---   │\n",
       "│ str      ┆ str    ┆ str      ┆ str       ┆   ┆ str     ┆ str ┆ str  ┆ str   │\n",
       "╞══════════╪════════╪══════════╪═══════════╪═══╪═════════╪═════╪══════╪═══════╡\n",
       "│ yes      ┆ male   ┆ 3.93     ┆ 0.0748    ┆ … ┆ 0       ┆ inf ┆ 3.78 ┆ 4.07  │\n",
       "│ yes      ┆ female ┆ 3.81     ┆ 0.076     ┆ … ┆ 0       ┆ inf ┆ 3.66 ┆ 3.96  │\n",
       "│ no       ┆ male   ┆ 3.94     ┆ 0.132     ┆ … ┆ 0       ┆ inf ┆ 3.68 ┆ 4.2   │\n",
       "│ no       ┆ female ┆ 4.2      ┆ 0.12      ┆ … ┆ 0       ┆ inf ┆ 3.96 ┆ 4.43  │\n",
       "└──────────┴────────┴──────────┴───────────┴───┴─────────┴─────┴──────┴───────┘\n",
       "\n",
       "Columns: children, gender, rowid, estimate, std_error, statistic, p_value, s_value, conf_low, conf_high, rownames, affairs, age, yearsmarried, religiousness, education, occupation, rating"
      ]
     },
     "metadata": {},
     "output_type": "display_data"
    }
   ],
   "source": [
    "# Obtain predictions\n",
    "predictions3 = me.predictions(model3, newdata=datagrid3)\n",
    "display(predictions3)"
   ]
  },
  {
   "cell_type": "markdown",
   "id": "c87cd937-1451-44cc-abf3-f111355de3d3",
   "metadata": {},
   "source": [
    "We can make a plot of these if we like with `seaborn`."
   ]
  },
  {
   "cell_type": "code",
   "execution_count": 12,
   "id": "b6514a3c-2e03-4c9e-a466-6a16fb28a501",
   "metadata": {},
   "outputs": [
    {
     "data": {
      "text/plain": [
       "<Axes: xlabel='children', ylabel='estimate'>"
      ]
     },
     "execution_count": 12,
     "metadata": {},
     "output_type": "execute_result"
    },
    {
     "data": {
      "image/png": "[encoded data removed]",
      "text/plain": [
       "<Figure size 640x480 with 1 Axes>"
      ]
     },
     "metadata": {},
     "output_type": "display_data"
    }
   ],
   "source": [
    "# visualise\n",
    "sns.lineplot(data=predictions3,\n",
    "             x='children', y='estimate',\n",
    "             hue='gender')"
   ]
  },
  {
   "cell_type": "markdown",
   "id": "43ee1dbe-9715-4511-b1ad-0f65746e270a",
   "metadata": {},
   "source": [
    "The output of our predictions is essentially four rows, one for each combination of gender and child status (e.g. female with children, male without children, and so on). \n",
    "\n",
    "We can ask for specific differences here by indicating the *row labels* to compare and ask whether they are equal. The row labels are prefaced with the letter 'b'. This is a little confusing, so lets see how this works. Here are the predictions again:"
   ]
  },
  {
   "cell_type": "code",
   "execution_count": 13,
   "id": "857cb407-2a35-4500-be2e-f17dac6d544c",
   "metadata": {},
   "outputs": [
    {
     "data": {
      "text/html": [
       "<div><style>\n",
       ".dataframe > thead > tr,\n",
       ".dataframe > tbody > tr {\n",
       "  text-align: right;\n",
       "  white-space: pre-wrap;\n",
       "}\n",
       "</style>\n",
       "<small>shape: (4, 18)</small><table border=\"1\" class=\"dataframe\"><thead><tr><th>children</th><th>gender</th><th>rowid</th><th>estimate</th><th>std_error</th><th>statistic</th><th>p_value</th><th>s_value</th><th>conf_low</th><th>conf_high</th><th>rownames</th><th>affairs</th><th>age</th><th>yearsmarried</th><th>religiousness</th><th>education</th><th>occupation</th><th>rating</th></tr><tr><td>str</td><td>str</td><td>i32</td><td>f64</td><td>f64</td><td>f64</td><td>f64</td><td>f64</td><td>f64</td><td>f64</td><td>i64</td><td>i64</td><td>f64</td><td>f64</td><td>i64</td><td>i64</td><td>i64</td><td>i64</td></tr></thead><tbody><tr><td>&quot;yes&quot;</td><td>&quot;male&quot;</td><td>0</td><td>3.926821</td><td>0.074764</td><td>52.522926</td><td>0.0</td><td>inf</td><td>3.780287</td><td>4.073356</td><td>1304</td><td>0</td><td>32.487521</td><td>8.177696</td><td>4</td><td>14</td><td>5</td><td>5</td></tr><tr><td>&quot;yes&quot;</td><td>&quot;female&quot;</td><td>1</td><td>3.812441</td><td>0.075985</td><td>50.173871</td><td>0.0</td><td>inf</td><td>3.663514</td><td>3.961368</td><td>1304</td><td>0</td><td>32.487521</td><td>8.177696</td><td>4</td><td>14</td><td>5</td><td>5</td></tr><tr><td>&quot;no&quot;</td><td>&quot;male&quot;</td><td>2</td><td>3.937813</td><td>0.132491</td><td>29.721272</td><td>0.0</td><td>inf</td><td>3.678134</td><td>4.197491</td><td>1304</td><td>0</td><td>32.487521</td><td>8.177696</td><td>4</td><td>14</td><td>5</td><td>5</td></tr><tr><td>&quot;no&quot;</td><td>&quot;female&quot;</td><td>3</td><td>4.19849</td><td>0.119912</td><td>35.013104</td><td>0.0</td><td>inf</td><td>3.963467</td><td>4.433513</td><td>1304</td><td>0</td><td>32.487521</td><td>8.177696</td><td>4</td><td>14</td><td>5</td><td>5</td></tr></tbody></table></div>"
      ],
      "text/plain": [
       "shape: (4, 9)\n",
       "┌──────────┬────────┬──────────┬───────────┬───┬─────────┬─────┬──────┬───────┐\n",
       "│ children ┆ gender ┆ Estimate ┆ Std.Error ┆ … ┆ P(>|z|) ┆ S   ┆ 2.5% ┆ 97.5% │\n",
       "│ ---      ┆ ---    ┆ ---      ┆ ---       ┆   ┆ ---     ┆ --- ┆ ---  ┆ ---   │\n",
       "│ str      ┆ str    ┆ str      ┆ str       ┆   ┆ str     ┆ str ┆ str  ┆ str   │\n",
       "╞══════════╪════════╪══════════╪═══════════╪═══╪═════════╪═════╪══════╪═══════╡\n",
       "│ yes      ┆ male   ┆ 3.93     ┆ 0.0748    ┆ … ┆ 0       ┆ inf ┆ 3.78 ┆ 4.07  │\n",
       "│ yes      ┆ female ┆ 3.81     ┆ 0.076     ┆ … ┆ 0       ┆ inf ┆ 3.66 ┆ 3.96  │\n",
       "│ no       ┆ male   ┆ 3.94     ┆ 0.132     ┆ … ┆ 0       ┆ inf ┆ 3.68 ┆ 4.2   │\n",
       "│ no       ┆ female ┆ 4.2      ┆ 0.12      ┆ … ┆ 0       ┆ inf ┆ 3.96 ┆ 4.43  │\n",
       "└──────────┴────────┴──────────┴───────────┴───┴─────────┴─────┴──────┴───────┘\n",
       "\n",
       "Columns: children, gender, rowid, estimate, std_error, statistic, p_value, s_value, conf_low, conf_high, rownames, affairs, age, yearsmarried, religiousness, education, occupation, rating"
      ]
     },
     "execution_count": 13,
     "metadata": {},
     "output_type": "execute_result"
    }
   ],
   "source": [
    "# Predictions\n",
    "me.predictions(model3, \n",
    "               newdata=datagrid3)"
   ]
  },
  {
   "cell_type": "markdown",
   "id": "16092629-48bf-4b4c-92f8-5b2106852cec",
   "metadata": {},
   "source": [
    "If I want to compare males with children (ROW 1) to males without children (ROW 3), then this is the way:"
   ]
  },
  {
   "cell_type": "code",
   "execution_count": 14,
   "id": "37ef143e-b555-4e3a-ac3f-4608acfdb027",
   "metadata": {},
   "outputs": [
    {
     "data": {
      "text/html": [
       "<div><style>\n",
       ".dataframe > thead > tr,\n",
       ".dataframe > tbody > tr {\n",
       "  text-align: right;\n",
       "  white-space: pre-wrap;\n",
       "}\n",
       "</style>\n",
       "<small>shape: (1, 8)</small><table border=\"1\" class=\"dataframe\"><thead><tr><th>term</th><th>estimate</th><th>std_error</th><th>statistic</th><th>p_value</th><th>s_value</th><th>conf_low</th><th>conf_high</th></tr><tr><td>str</td><td>f64</td><td>f64</td><td>f64</td><td>f64</td><td>f64</td><td>f64</td><td>f64</td></tr></thead><tbody><tr><td>&quot;b1=b3&quot;</td><td>-0.010991</td><td>0.156498</td><td>-0.070233</td><td>0.944008</td><td>0.083129</td><td>-0.317722</td><td>0.295739</td></tr></tbody></table></div>"
      ],
      "text/plain": [
       "shape: (1, 8)\n",
       "┌───────┬──────────┬───────────┬─────────┬─────────┬────────┬────────┬───────┐\n",
       "│ Term  ┆ Estimate ┆ Std.Error ┆ z       ┆ P(>|z|) ┆ S      ┆ 2.5%   ┆ 97.5% │\n",
       "│ ---   ┆ ---      ┆ ---       ┆ ---     ┆ ---     ┆ ---    ┆ ---    ┆ ---   │\n",
       "│ str   ┆ str      ┆ str       ┆ str     ┆ str     ┆ str    ┆ str    ┆ str   │\n",
       "╞═══════╪══════════╪═══════════╪═════════╪═════════╪════════╪════════╪═══════╡\n",
       "│ b1=b3 ┆ -0.011   ┆ 0.156     ┆ -0.0702 ┆ 0.944   ┆ 0.0831 ┆ -0.318 ┆ 0.296 │\n",
       "└───────┴──────────┴───────────┴─────────┴─────────┴────────┴────────┴───────┘\n",
       "\n",
       "Columns: term, estimate, std_error, statistic, p_value, s_value, conf_low, conf_high"
      ]
     },
     "execution_count": 14,
     "metadata": {},
     "output_type": "execute_result"
    }
   ],
   "source": [
    "# A specific difference\n",
    "me.predictions(model3, \n",
    "               newdata=datagrid3,\n",
    "               hypothesis='b1 = b3')"
   ]
  },
  {
   "cell_type": "markdown",
   "id": "e8765443-6c1d-44dc-ab79-61e3db86a9a0",
   "metadata": {},
   "source": [
    "Are there differences between females with and without children? That's row 2 and row 4, so:"
   ]
  },
  {
   "cell_type": "code",
   "execution_count": 15,
   "id": "ec4e153a-ca2e-4738-bda2-1a2288f42e4e",
   "metadata": {},
   "outputs": [
    {
     "data": {
      "text/html": [
       "<div><style>\n",
       ".dataframe > thead > tr,\n",
       ".dataframe > tbody > tr {\n",
       "  text-align: right;\n",
       "  white-space: pre-wrap;\n",
       "}\n",
       "</style>\n",
       "<small>shape: (1, 8)</small><table border=\"1\" class=\"dataframe\"><thead><tr><th>term</th><th>estimate</th><th>std_error</th><th>statistic</th><th>p_value</th><th>s_value</th><th>conf_low</th><th>conf_high</th></tr><tr><td>str</td><td>f64</td><td>f64</td><td>f64</td><td>f64</td><td>f64</td><td>f64</td><td>f64</td></tr></thead><tbody><tr><td>&quot;b2=b4&quot;</td><td>-0.386049</td><td>0.150131</td><td>-2.571419</td><td>0.010128</td><td>6.625468</td><td>-0.6803</td><td>-0.091798</td></tr></tbody></table></div>"
      ],
      "text/plain": [
       "shape: (1, 8)\n",
       "┌───────┬──────────┬───────────┬───────┬─────────┬──────┬───────┬─────────┐\n",
       "│ Term  ┆ Estimate ┆ Std.Error ┆ z     ┆ P(>|z|) ┆ S    ┆ 2.5%  ┆ 97.5%   │\n",
       "│ ---   ┆ ---      ┆ ---       ┆ ---   ┆ ---     ┆ ---  ┆ ---   ┆ ---     │\n",
       "│ str   ┆ str      ┆ str       ┆ str   ┆ str     ┆ str  ┆ str   ┆ str     │\n",
       "╞═══════╪══════════╪═══════════╪═══════╪═════════╪══════╪═══════╪═════════╡\n",
       "│ b2=b4 ┆ -0.386   ┆ 0.15      ┆ -2.57 ┆ 0.0101  ┆ 6.63 ┆ -0.68 ┆ -0.0918 │\n",
       "└───────┴──────────┴───────────┴───────┴─────────┴──────┴───────┴─────────┘\n",
       "\n",
       "Columns: term, estimate, std_error, statistic, p_value, s_value, conf_low, conf_high"
      ]
     },
     "execution_count": 15,
     "metadata": {},
     "output_type": "execute_result"
    }
   ],
   "source": [
    "# Another\n",
    "me.predictions(model3, \n",
    "               newdata=datagrid3,\n",
    "               hypothesis='b2 = b4')"
   ]
  },
  {
   "cell_type": "markdown",
   "id": "bc7a83eb-9bc5-4fbb-8a26-2cad82de5ef1",
   "metadata": {},
   "source": [
    "You might also be interested in the difference between men and women, averaged over whether they have children or not. You can ask `marginaleffects` to do this for you by including the variable you wish to target in the 'by' keyword. For example, if I want to see the predictions for men and women averaged across their child status, this is the way:"
   ]
  },
  {
   "cell_type": "code",
   "execution_count": 16,
   "id": "aa097e21-67aa-4bb1-bdb7-3d775645b7ee",
   "metadata": {},
   "outputs": [
    {
     "data": {
      "text/html": [
       "<div><style>\n",
       ".dataframe > thead > tr,\n",
       ".dataframe > tbody > tr {\n",
       "  text-align: right;\n",
       "  white-space: pre-wrap;\n",
       "}\n",
       "</style>\n",
       "<small>shape: (2, 8)</small><table border=\"1\" class=\"dataframe\"><thead><tr><th>gender</th><th>estimate</th><th>std_error</th><th>statistic</th><th>p_value</th><th>s_value</th><th>conf_low</th><th>conf_high</th></tr><tr><td>str</td><td>f64</td><td>f64</td><td>f64</td><td>f64</td><td>f64</td><td>f64</td><td>f64</td></tr></thead><tbody><tr><td>&quot;female&quot;</td><td>4.005465</td><td>0.066644</td><td>60.102161</td><td>0.0</td><td>inf</td><td>3.874845</td><td>4.136086</td></tr><tr><td>&quot;male&quot;</td><td>3.932317</td><td>0.073817</td><td>53.271453</td><td>0.0</td><td>inf</td><td>3.787639</td><td>4.076995</td></tr></tbody></table></div>"
      ],
      "text/plain": [
       "shape: (2, 8)\n",
       "┌────────┬──────────┬───────────┬──────┬─────────┬─────┬──────┬───────┐\n",
       "│ gender ┆ Estimate ┆ Std.Error ┆ z    ┆ P(>|z|) ┆ S   ┆ 2.5% ┆ 97.5% │\n",
       "│ ---    ┆ ---      ┆ ---       ┆ ---  ┆ ---     ┆ --- ┆ ---  ┆ ---   │\n",
       "│ str    ┆ str      ┆ str       ┆ str  ┆ str     ┆ str ┆ str  ┆ str   │\n",
       "╞════════╪══════════╪═══════════╪══════╪═════════╪═════╪══════╪═══════╡\n",
       "│ female ┆ 4.01     ┆ 0.0666    ┆ 60.1 ┆ 0       ┆ inf ┆ 3.87 ┆ 4.14  │\n",
       "│ male   ┆ 3.93     ┆ 0.0738    ┆ 53.3 ┆ 0       ┆ inf ┆ 3.79 ┆ 4.08  │\n",
       "└────────┴──────────┴───────────┴──────┴─────────┴─────┴──────┴───────┘\n",
       "\n",
       "Columns: gender, estimate, std_error, statistic, p_value, s_value, conf_low, conf_high"
      ]
     },
     "metadata": {},
     "output_type": "display_data"
    }
   ],
   "source": [
    "# Averaging over something\n",
    "avg_over = me.predictions(model3,\n",
    "                          newdata=datagrid3,\n",
    "                          by='gender')\n",
    "display(avg_over)"
   ]
  },
  {
   "cell_type": "markdown",
   "id": "b1189642-c031-495b-ae10-819313197958",
   "metadata": {},
   "source": [
    "Testing differences between *those* predictions proceeds as normal:"
   ]
  },
  {
   "cell_type": "code",
   "execution_count": 17,
   "id": "477b5e1d-dbb8-4403-911d-97661c87d890",
   "metadata": {},
   "outputs": [
    {
     "data": {
      "text/html": [
       "<div><style>\n",
       ".dataframe > thead > tr,\n",
       ".dataframe > tbody > tr {\n",
       "  text-align: right;\n",
       "  white-space: pre-wrap;\n",
       "}\n",
       "</style>\n",
       "<small>shape: (1, 8)</small><table border=\"1\" class=\"dataframe\"><thead><tr><th>term</th><th>estimate</th><th>std_error</th><th>statistic</th><th>p_value</th><th>s_value</th><th>conf_low</th><th>conf_high</th></tr><tr><td>str</td><td>f64</td><td>f64</td><td>f64</td><td>f64</td><td>f64</td><td>f64</td><td>f64</td></tr></thead><tbody><tr><td>&quot;b1=b2&quot;</td><td>0.073148</td><td>0.097444</td><td>0.750667</td><td>0.452853</td><td>1.142885</td><td>-0.117839</td><td>0.264136</td></tr></tbody></table></div>"
      ],
      "text/plain": [
       "shape: (1, 8)\n",
       "┌───────┬──────────┬───────────┬───────┬─────────┬──────┬────────┬───────┐\n",
       "│ Term  ┆ Estimate ┆ Std.Error ┆ z     ┆ P(>|z|) ┆ S    ┆ 2.5%   ┆ 97.5% │\n",
       "│ ---   ┆ ---      ┆ ---       ┆ ---   ┆ ---     ┆ ---  ┆ ---    ┆ ---   │\n",
       "│ str   ┆ str      ┆ str       ┆ str   ┆ str     ┆ str  ┆ str    ┆ str   │\n",
       "╞═══════╪══════════╪═══════════╪═══════╪═════════╪══════╪════════╪═══════╡\n",
       "│ b1=b2 ┆ 0.0731   ┆ 0.0974    ┆ 0.751 ┆ 0.453   ┆ 1.14 ┆ -0.118 ┆ 0.264 │\n",
       "└───────┴──────────┴───────────┴───────┴─────────┴──────┴────────┴───────┘\n",
       "\n",
       "Columns: term, estimate, std_error, statistic, p_value, s_value, conf_low, conf_high"
      ]
     },
     "execution_count": 17,
     "metadata": {},
     "output_type": "execute_result"
    }
   ],
   "source": [
    "# Differences\n",
    "me.predictions(model3,\n",
    "               newdata=datagrid3,\n",
    "               by='gender',\n",
    "               hypothesis='b1=b2') # 'pairwise' also works here"
   ]
  },
  {
   "cell_type": "markdown",
   "id": "4002f71d-5648-49f8-a556-964cb5f78183",
   "metadata": {},
   "source": [
    "### Exploring more interactions - categorical and continuous\n",
    "What if we have categorical and continuous predictors interacting, and want to use our marginal effects to understand what is going on?\n",
    "\n",
    "When we are working with continuous variables, we have two options - the comparison approach as we did above, or the simple slopes approach. Lets first explore the comparison approach."
   ]
  },
  {
   "cell_type": "markdown",
   "id": "dc125c1c-aa59-4a14-9258-f400e2d8cc16",
   "metadata": {},
   "source": [
    "#### Exploring more interactions - categorical and continuous - **comparisons** \n",
    "When working with continuous variables and predictions, we need to provide some candidate values across the range of the predictor for the model to work with. Lets see how this works by fitting a model that predicts marital satisfaction from the interaction of gender and years-married. That is, how does satisfaction change for females and males over the course of a marriage?\n",
    "\n",
    "First we fit the model:"
   ]
  },
  {
   "cell_type": "code",
   "execution_count": 18,
   "id": "8f6a3206-5409-447f-b450-ee6c7ee87f5e",
   "metadata": {},
   "outputs": [
    {
     "data": {
      "text/html": [
       "<table class=\"simpletable\">\n",
       "<caption>OLS Regression Results</caption>\n",
       "<tr>\n",
       "  <th>Dep. Variable:</th>     <td>rating</td>   <th>  R-squared:         </th> <td>   0.066</td>\n",
       "</tr>\n",
       "<tr>\n",
       "  <th>Model:</th>               <td>OLS</td>    <th>  Adj. R-squared:    </th> <td>   0.061</td>\n",
       "</tr>\n",
       "<tr>\n",
       "  <th>No. Observations:</th>  <td>   601</td>   <th>  F-statistic:       </th> <td>   14.02</td>\n",
       "</tr>\n",
       "<tr>\n",
       "  <th>Covariance Type:</th>  <td>nonrobust</td> <th>  Prob (F-statistic):</th> <td>7.68e-09</td>\n",
       "</tr>\n",
       "</table>\n",
       "<table class=\"simpletable\">\n",
       "<tr>\n",
       "               <td></td>                  <th>coef</th>     <th>std err</th>      <th>t</th>      <th>P>|t|</th>  <th>[0.025</th>    <th>0.975]</th>  \n",
       "</tr>\n",
       "<tr>\n",
       "  <th>Intercept</th>                   <td>    4.4470</td> <td>    0.105</td> <td>   42.374</td> <td> 0.000</td> <td>    4.241</td> <td>    4.653</td>\n",
       "</tr>\n",
       "<tr>\n",
       "  <th>gender[T.male]</th>              <td>   -0.2668</td> <td>    0.156</td> <td>   -1.715</td> <td> 0.087</td> <td>   -0.572</td> <td>    0.039</td>\n",
       "</tr>\n",
       "<tr>\n",
       "  <th>yearsmarried</th>                <td>   -0.0633</td> <td>    0.011</td> <td>   -5.902</td> <td> 0.000</td> <td>   -0.084</td> <td>   -0.042</td>\n",
       "</tr>\n",
       "<tr>\n",
       "  <th>gender[T.male]:yearsmarried</th> <td>    0.0325</td> <td>    0.016</td> <td>    2.069</td> <td> 0.039</td> <td>    0.002</td> <td>    0.063</td>\n",
       "</tr>\n",
       "</table><br/><br/>Notes:<br/>[1] Standard Errors assume that the covariance matrix of the errors is correctly specified."
      ],
      "text/latex": [
       "\\begin{center}\n",
       "\\begin{tabular}{lclc}\n",
       "\\toprule\n",
       "\\textbf{Dep. Variable:}              &     rating    & \\textbf{  R-squared:         } &     0.066   \\\\\n",
       "\\textbf{Model:}                      &      OLS      & \\textbf{  Adj. R-squared:    } &     0.061   \\\\\n",
       "\\textbf{No. Observations:}           &        601    & \\textbf{  F-statistic:       } &     14.02   \\\\\n",
       "\\textbf{Covariance Type:}            &   nonrobust   & \\textbf{  Prob (F-statistic):} &  7.68e-09   \\\\\n",
       "\\bottomrule\n",
       "\\end{tabular}\n",
       "\\begin{tabular}{lcccccc}\n",
       "                                     & \\textbf{coef} & \\textbf{std err} & \\textbf{t} & \\textbf{P$> |$t$|$} & \\textbf{[0.025} & \\textbf{0.975]}  \\\\\n",
       "\\midrule\n",
       "\\textbf{Intercept}                   &       4.4470  &        0.105     &    42.374  &         0.000        &        4.241    &        4.653     \\\\\n",
       "\\textbf{gender[T.male]}              &      -0.2668  &        0.156     &    -1.715  &         0.087        &       -0.572    &        0.039     \\\\\n",
       "\\textbf{yearsmarried}                &      -0.0633  &        0.011     &    -5.902  &         0.000        &       -0.084    &       -0.042     \\\\\n",
       "\\textbf{gender[T.male]:yearsmarried} &       0.0325  &        0.016     &     2.069  &         0.039        &        0.002    &        0.063     \\\\\n",
       "\\bottomrule\n",
       "\\end{tabular}\n",
       "%\\caption{OLS Regression Results}\n",
       "\\end{center}\n",
       "\n",
       "Notes: \\newline\n",
       " [1] Standard Errors assume that the covariance matrix of the errors is correctly specified."
      ],
      "text/plain": [
       "<class 'statsmodels.iolib.summary.Summary'>\n",
       "\"\"\"\n",
       "                            OLS Regression Results                            \n",
       "==============================================================================\n",
       "Dep. Variable:                 rating   R-squared:                       0.066\n",
       "Model:                            OLS   Adj. R-squared:                  0.061\n",
       "No. Observations:                 601   F-statistic:                     14.02\n",
       "Covariance Type:            nonrobust   Prob (F-statistic):           7.68e-09\n",
       "===============================================================================================\n",
       "                                  coef    std err          t      P>|t|      [0.025      0.975]\n",
       "-----------------------------------------------------------------------------------------------\n",
       "Intercept                       4.4470      0.105     42.374      0.000       4.241       4.653\n",
       "gender[T.male]                 -0.2668      0.156     -1.715      0.087      -0.572       0.039\n",
       "yearsmarried                   -0.0633      0.011     -5.902      0.000      -0.084      -0.042\n",
       "gender[T.male]:yearsmarried     0.0325      0.016      2.069      0.039       0.002       0.063\n",
       "===============================================================================================\n",
       "\n",
       "Notes:\n",
       "[1] Standard Errors assume that the covariance matrix of the errors is correctly specified.\n",
       "\"\"\""
      ]
     },
     "execution_count": 18,
     "metadata": {},
     "output_type": "execute_result"
    }
   ],
   "source": [
    "# New model\n",
    "model4 = smf.ols('rating ~ gender * yearsmarried', data=affairs).fit()\n",
    "model4.summary(slim=True)"
   ]
  },
  {
   "cell_type": "markdown",
   "id": "21b05aa0-8f60-4dd5-9884-00dddf77def3",
   "metadata": {},
   "source": [
    "We need to provide some values for `yearsmarried` for our model to predict for. What should we choose? There's no right or wrong answer - we might have some specific ideas in mind (e.g., 6 months, 2 years, 10 years, and 20 years), or we could provide something like the interquartile range for the `yearsmarried` variable and use those. Pandas can calculate that for us easily. Here we collect the 25th, 50th, and 75th percentiles of years married:"
   ]
  },
  {
   "cell_type": "code",
   "execution_count": 19,
   "id": "ad77ac25-bd97-4733-bd6c-31f28f61b185",
   "metadata": {},
   "outputs": [
    {
     "data": {
      "text/plain": [
       "0.25     4.0\n",
       "0.50     7.0\n",
       "0.75    15.0\n",
       "Name: yearsmarried, dtype: float64"
      ]
     },
     "metadata": {},
     "output_type": "display_data"
    }
   ],
   "source": [
    "# Use pandas to get the quartiles\n",
    "quartiles = affairs['yearsmarried'].quantile([.25, .5, .75])\n",
    "display(quartiles)"
   ]
  },
  {
   "cell_type": "markdown",
   "id": "995d8742-c5ad-4ff3-9106-9f22039fa861",
   "metadata": {},
   "source": [
    "And now we pass those back into the datagrid approach, also asking for predictions on males and females:"
   ]
  },
  {
   "cell_type": "code",
   "execution_count": 20,
   "id": "c8c75789-1a15-4703-ab02-caabdbf62ec4",
   "metadata": {},
   "outputs": [
    {
     "data": {
      "text/html": [
       "<div><style>\n",
       ".dataframe > thead > tr,\n",
       ".dataframe > tbody > tr {\n",
       "  text-align: right;\n",
       "  white-space: pre-wrap;\n",
       "}\n",
       "</style>\n",
       "<small>shape: (6, 10)</small><table border=\"1\" class=\"dataframe\"><thead><tr><th>gender</th><th>yearsmarried</th><th>rownames</th><th>affairs</th><th>age</th><th>children</th><th>religiousness</th><th>education</th><th>occupation</th><th>rating</th></tr><tr><td>str</td><td>f64</td><td>i64</td><td>i64</td><td>f64</td><td>str</td><td>i64</td><td>i64</td><td>i64</td><td>i64</td></tr></thead><tbody><tr><td>&quot;male&quot;</td><td>4.0</td><td>228</td><td>0</td><td>32.487521</td><td>&quot;yes&quot;</td><td>4</td><td>14</td><td>5</td><td>5</td></tr><tr><td>&quot;male&quot;</td><td>7.0</td><td>228</td><td>0</td><td>32.487521</td><td>&quot;yes&quot;</td><td>4</td><td>14</td><td>5</td><td>5</td></tr><tr><td>&quot;male&quot;</td><td>15.0</td><td>228</td><td>0</td><td>32.487521</td><td>&quot;yes&quot;</td><td>4</td><td>14</td><td>5</td><td>5</td></tr><tr><td>&quot;female&quot;</td><td>4.0</td><td>228</td><td>0</td><td>32.487521</td><td>&quot;yes&quot;</td><td>4</td><td>14</td><td>5</td><td>5</td></tr><tr><td>&quot;female&quot;</td><td>7.0</td><td>228</td><td>0</td><td>32.487521</td><td>&quot;yes&quot;</td><td>4</td><td>14</td><td>5</td><td>5</td></tr><tr><td>&quot;female&quot;</td><td>15.0</td><td>228</td><td>0</td><td>32.487521</td><td>&quot;yes&quot;</td><td>4</td><td>14</td><td>5</td><td>5</td></tr></tbody></table></div>"
      ],
      "text/plain": [
       "shape: (6, 10)\n",
       "┌────────┬──────────────┬──────────┬─────────┬───┬───────────────┬───────────┬────────────┬────────┐\n",
       "│ gender ┆ yearsmarried ┆ rownames ┆ affairs ┆ … ┆ religiousness ┆ education ┆ occupation ┆ rating │\n",
       "│ ---    ┆ ---          ┆ ---      ┆ ---     ┆   ┆ ---           ┆ ---       ┆ ---        ┆ ---    │\n",
       "│ str    ┆ f64          ┆ i64      ┆ i64     ┆   ┆ i64           ┆ i64       ┆ i64        ┆ i64    │\n",
       "╞════════╪══════════════╪══════════╪═════════╪═══╪═══════════════╪═══════════╪════════════╪════════╡\n",
       "│ male   ┆ 4.0          ┆ 228      ┆ 0       ┆ … ┆ 4             ┆ 14        ┆ 5          ┆ 5      │\n",
       "│ male   ┆ 7.0          ┆ 228      ┆ 0       ┆ … ┆ 4             ┆ 14        ┆ 5          ┆ 5      │\n",
       "│ male   ┆ 15.0         ┆ 228      ┆ 0       ┆ … ┆ 4             ┆ 14        ┆ 5          ┆ 5      │\n",
       "│ female ┆ 4.0          ┆ 228      ┆ 0       ┆ … ┆ 4             ┆ 14        ┆ 5          ┆ 5      │\n",
       "│ female ┆ 7.0          ┆ 228      ┆ 0       ┆ … ┆ 4             ┆ 14        ┆ 5          ┆ 5      │\n",
       "│ female ┆ 15.0         ┆ 228      ┆ 0       ┆ … ┆ 4             ┆ 14        ┆ 5          ┆ 5      │\n",
       "└────────┴──────────────┴──────────┴─────────┴───┴───────────────┴───────────┴────────────┴────────┘"
      ]
     },
     "metadata": {},
     "output_type": "display_data"
    }
   ],
   "source": [
    "# New datagrid\n",
    "datagrid4 = me.datagrid(model4, \n",
    "                        gender=['male', 'female'],\n",
    "                        yearsmarried=quartiles) # can pass right in\n",
    "\n",
    "display(datagrid4)"
   ]
  },
  {
   "cell_type": "markdown",
   "id": "8f88e6d8-7ef5-4ba4-9a8a-5cd78af0553d",
   "metadata": {},
   "source": [
    "And now we predict:"
   ]
  },
  {
   "cell_type": "code",
   "execution_count": 21,
   "id": "659f0aa1-52af-4c23-8593-9a73dfe7aeee",
   "metadata": {},
   "outputs": [
    {
     "data": {
      "text/html": [
       "<div><style>\n",
       ".dataframe > thead > tr,\n",
       ".dataframe > tbody > tr {\n",
       "  text-align: right;\n",
       "  white-space: pre-wrap;\n",
       "}\n",
       "</style>\n",
       "<small>shape: (6, 18)</small><table border=\"1\" class=\"dataframe\"><thead><tr><th>gender</th><th>yearsmarried</th><th>rowid</th><th>estimate</th><th>std_error</th><th>statistic</th><th>p_value</th><th>s_value</th><th>conf_low</th><th>conf_high</th><th>rownames</th><th>affairs</th><th>age</th><th>children</th><th>religiousness</th><th>education</th><th>occupation</th><th>rating</th></tr><tr><td>str</td><td>f64</td><td>i32</td><td>f64</td><td>f64</td><td>f64</td><td>f64</td><td>f64</td><td>f64</td><td>f64</td><td>i64</td><td>i64</td><td>f64</td><td>str</td><td>i64</td><td>i64</td><td>i64</td><td>i64</td></tr></thead><tbody><tr><td>&quot;male&quot;</td><td>4.0</td><td>0</td><td>4.057067</td><td>0.080599</td><td>50.336419</td><td>0.0</td><td>inf</td><td>3.899096</td><td>4.215038</td><td>228</td><td>0</td><td>32.487521</td><td>&quot;yes&quot;</td><td>4</td><td>14</td><td>5</td><td>5</td></tr><tr><td>&quot;male&quot;</td><td>7.0</td><td>1</td><td>3.964758</td><td>0.065094</td><td>60.90815</td><td>0.0</td><td>inf</td><td>3.837176</td><td>4.09234</td><td>228</td><td>0</td><td>32.487521</td><td>&quot;yes&quot;</td><td>4</td><td>14</td><td>5</td><td>5</td></tr><tr><td>&quot;male&quot;</td><td>15.0</td><td>2</td><td>3.7186</td><td>0.099094</td><td>37.525923</td><td>0.0</td><td>inf</td><td>3.524379</td><td>3.912821</td><td>228</td><td>0</td><td>32.487521</td><td>&quot;yes&quot;</td><td>4</td><td>14</td><td>5</td><td>5</td></tr><tr><td>&quot;female&quot;</td><td>4.0</td><td>3</td><td>4.193857</td><td>0.074039</td><td>56.643673</td><td>0.0</td><td>inf</td><td>4.048742</td><td>4.338971</td><td>228</td><td>0</td><td>32.487521</td><td>&quot;yes&quot;</td><td>4</td><td>14</td><td>5</td><td>5</td></tr><tr><td>&quot;female&quot;</td><td>7.0</td><td>4</td><td>4.004036</td><td>0.061207</td><td>65.418089</td><td>0.0</td><td>inf</td><td>3.884073</td><td>4.123999</td><td>228</td><td>0</td><td>32.487521</td><td>&quot;yes&quot;</td><td>4</td><td>14</td><td>5</td><td>5</td></tr><tr><td>&quot;female&quot;</td><td>15.0</td><td>5</td><td>3.497848</td><td>0.096078</td><td>36.406417</td><td>0.0</td><td>inf</td><td>3.309539</td><td>3.686157</td><td>228</td><td>0</td><td>32.487521</td><td>&quot;yes&quot;</td><td>4</td><td>14</td><td>5</td><td>5</td></tr></tbody></table></div>"
      ],
      "text/plain": [
       "shape: (6, 9)\n",
       "┌────────┬──────────────┬──────────┬───────────┬───┬─────────┬─────┬──────┬───────┐\n",
       "│ gender ┆ yearsmarried ┆ Estimate ┆ Std.Error ┆ … ┆ P(>|z|) ┆ S   ┆ 2.5% ┆ 97.5% │\n",
       "│ ---    ┆ ---          ┆ ---      ┆ ---       ┆   ┆ ---     ┆ --- ┆ ---  ┆ ---   │\n",
       "│ str    ┆ str          ┆ str      ┆ str       ┆   ┆ str     ┆ str ┆ str  ┆ str   │\n",
       "╞════════╪══════════════╪══════════╪═══════════╪═══╪═════════╪═════╪══════╪═══════╡\n",
       "│ male   ┆ 4            ┆ 4.06     ┆ 0.0806    ┆ … ┆ 0       ┆ inf ┆ 3.9  ┆ 4.22  │\n",
       "│ male   ┆ 7            ┆ 3.96     ┆ 0.0651    ┆ … ┆ 0       ┆ inf ┆ 3.84 ┆ 4.09  │\n",
       "│ male   ┆ 15           ┆ 3.72     ┆ 0.0991    ┆ … ┆ 0       ┆ inf ┆ 3.52 ┆ 3.91  │\n",
       "│ female ┆ 4            ┆ 4.19     ┆ 0.074     ┆ … ┆ 0       ┆ inf ┆ 4.05 ┆ 4.34  │\n",
       "│ female ┆ 7            ┆ 4        ┆ 0.0612    ┆ … ┆ 0       ┆ inf ┆ 3.88 ┆ 4.12  │\n",
       "│ female ┆ 15           ┆ 3.5      ┆ 0.0961    ┆ … ┆ 0       ┆ inf ┆ 3.31 ┆ 3.69  │\n",
       "└────────┴──────────────┴──────────┴───────────┴───┴─────────┴─────┴──────┴───────┘\n",
       "\n",
       "Columns: gender, yearsmarried, rowid, estimate, std_error, statistic, p_value, s_value, conf_low, conf_high, rownames, affairs, age, children, religiousness, education, occupation, rating"
      ]
     },
     "metadata": {},
     "output_type": "display_data"
    }
   ],
   "source": [
    "# Predict\n",
    "predictions4 = me.predictions(model4, newdata=datagrid4)\n",
    "display(predictions4)"
   ]
  },
  {
   "cell_type": "markdown",
   "id": "fa80e00d-78f2-4127-b45a-2296d81d4355",
   "metadata": {},
   "source": [
    "We may choose to plot this for interpretability:"
   ]
  },
  {
   "cell_type": "code",
   "execution_count": 22,
   "id": "aa08553e-9a35-4a4c-90b5-3dbc9247613b",
   "metadata": {},
   "outputs": [
    {
     "data": {
      "text/plain": [
       "<Axes: xlabel='yearsmarried', ylabel='estimate'>"
      ]
     },
     "execution_count": 22,
     "metadata": {},
     "output_type": "execute_result"
    },
    {
     "data": {
      "image/png": "[encoded data removed]",
      "text/plain": [
       "<Figure size 640x480 with 1 Axes>"
      ]
     },
     "metadata": {},
     "output_type": "display_data"
    }
   ],
   "source": [
    "# Plot\n",
    "sns.lineplot(data=predictions4,\n",
    "             x='yearsmarried', y='estimate', \n",
    "             hue='gender')"
   ]
  },
  {
   "cell_type": "markdown",
   "id": "9a4718fb-4849-4b58-8d28-e83ac1ad812e",
   "metadata": {},
   "source": [
    "Interpreting the comparisons now proceeds as before. Depending on our questions, we might want to know the differences between men and women at each time point. We do this simply by specifying our hypotheses. Once again here are the predictions:"
   ]
  },
  {
   "cell_type": "code",
   "execution_count": 23,
   "id": "15b6e4b7-a75f-40a9-b786-66a37631e0dc",
   "metadata": {},
   "outputs": [
    {
     "data": {
      "text/html": [
       "<div><style>\n",
       ".dataframe > thead > tr,\n",
       ".dataframe > tbody > tr {\n",
       "  text-align: right;\n",
       "  white-space: pre-wrap;\n",
       "}\n",
       "</style>\n",
       "<small>shape: (6, 18)</small><table border=\"1\" class=\"dataframe\"><thead><tr><th>gender</th><th>yearsmarried</th><th>rowid</th><th>estimate</th><th>std_error</th><th>statistic</th><th>p_value</th><th>s_value</th><th>conf_low</th><th>conf_high</th><th>rownames</th><th>affairs</th><th>age</th><th>children</th><th>religiousness</th><th>education</th><th>occupation</th><th>rating</th></tr><tr><td>str</td><td>f64</td><td>i32</td><td>f64</td><td>f64</td><td>f64</td><td>f64</td><td>f64</td><td>f64</td><td>f64</td><td>i64</td><td>i64</td><td>f64</td><td>str</td><td>i64</td><td>i64</td><td>i64</td><td>i64</td></tr></thead><tbody><tr><td>&quot;male&quot;</td><td>4.0</td><td>0</td><td>4.057067</td><td>0.080599</td><td>50.336419</td><td>0.0</td><td>inf</td><td>3.899096</td><td>4.215038</td><td>228</td><td>0</td><td>32.487521</td><td>&quot;yes&quot;</td><td>4</td><td>14</td><td>5</td><td>5</td></tr><tr><td>&quot;male&quot;</td><td>7.0</td><td>1</td><td>3.964758</td><td>0.065094</td><td>60.90815</td><td>0.0</td><td>inf</td><td>3.837176</td><td>4.09234</td><td>228</td><td>0</td><td>32.487521</td><td>&quot;yes&quot;</td><td>4</td><td>14</td><td>5</td><td>5</td></tr><tr><td>&quot;male&quot;</td><td>15.0</td><td>2</td><td>3.7186</td><td>0.099094</td><td>37.525923</td><td>0.0</td><td>inf</td><td>3.524379</td><td>3.912821</td><td>228</td><td>0</td><td>32.487521</td><td>&quot;yes&quot;</td><td>4</td><td>14</td><td>5</td><td>5</td></tr><tr><td>&quot;female&quot;</td><td>4.0</td><td>3</td><td>4.193857</td><td>0.074039</td><td>56.643673</td><td>0.0</td><td>inf</td><td>4.048742</td><td>4.338971</td><td>228</td><td>0</td><td>32.487521</td><td>&quot;yes&quot;</td><td>4</td><td>14</td><td>5</td><td>5</td></tr><tr><td>&quot;female&quot;</td><td>7.0</td><td>4</td><td>4.004036</td><td>0.061207</td><td>65.418089</td><td>0.0</td><td>inf</td><td>3.884073</td><td>4.123999</td><td>228</td><td>0</td><td>32.487521</td><td>&quot;yes&quot;</td><td>4</td><td>14</td><td>5</td><td>5</td></tr><tr><td>&quot;female&quot;</td><td>15.0</td><td>5</td><td>3.497848</td><td>0.096078</td><td>36.406417</td><td>0.0</td><td>inf</td><td>3.309539</td><td>3.686157</td><td>228</td><td>0</td><td>32.487521</td><td>&quot;yes&quot;</td><td>4</td><td>14</td><td>5</td><td>5</td></tr></tbody></table></div>"
      ],
      "text/plain": [
       "shape: (6, 9)\n",
       "┌────────┬──────────────┬──────────┬───────────┬───┬─────────┬─────┬──────┬───────┐\n",
       "│ gender ┆ yearsmarried ┆ Estimate ┆ Std.Error ┆ … ┆ P(>|z|) ┆ S   ┆ 2.5% ┆ 97.5% │\n",
       "│ ---    ┆ ---          ┆ ---      ┆ ---       ┆   ┆ ---     ┆ --- ┆ ---  ┆ ---   │\n",
       "│ str    ┆ str          ┆ str      ┆ str       ┆   ┆ str     ┆ str ┆ str  ┆ str   │\n",
       "╞════════╪══════════════╪══════════╪═══════════╪═══╪═════════╪═════╪══════╪═══════╡\n",
       "│ male   ┆ 4            ┆ 4.06     ┆ 0.0806    ┆ … ┆ 0       ┆ inf ┆ 3.9  ┆ 4.22  │\n",
       "│ male   ┆ 7            ┆ 3.96     ┆ 0.0651    ┆ … ┆ 0       ┆ inf ┆ 3.84 ┆ 4.09  │\n",
       "│ male   ┆ 15           ┆ 3.72     ┆ 0.0991    ┆ … ┆ 0       ┆ inf ┆ 3.52 ┆ 3.91  │\n",
       "│ female ┆ 4            ┆ 4.19     ┆ 0.074     ┆ … ┆ 0       ┆ inf ┆ 4.05 ┆ 4.34  │\n",
       "│ female ┆ 7            ┆ 4        ┆ 0.0612    ┆ … ┆ 0       ┆ inf ┆ 3.88 ┆ 4.12  │\n",
       "│ female ┆ 15           ┆ 3.5      ┆ 0.0961    ┆ … ┆ 0       ┆ inf ┆ 3.31 ┆ 3.69  │\n",
       "└────────┴──────────────┴──────────┴───────────┴───┴─────────┴─────┴──────┴───────┘\n",
       "\n",
       "Columns: gender, yearsmarried, rowid, estimate, std_error, statistic, p_value, s_value, conf_low, conf_high, rownames, affairs, age, children, religiousness, education, occupation, rating"
      ]
     },
     "metadata": {},
     "output_type": "display_data"
    }
   ],
   "source": [
    "# Predictions\n",
    "display(predictions4)"
   ]
  },
  {
   "cell_type": "markdown",
   "id": "bf5bb614-59dd-4d99-ad1b-d2a665d37ab5",
   "metadata": {},
   "source": [
    "Getting all the comparisons done in one go is a little clunky. We can do it one at a time, e.g:\n",
    "\n",
    "`me.predictions(model4, newdata=datagrid4, hypothesis='b1=b4')`\n",
    "\n",
    "or we could recall which rows we wanted to find the differences of (e.g. row 1 - row 4 compares men and women at 4 years of marriage, and ask for all the pairwise comparisons:\n"
   ]
  },
  {
   "cell_type": "code",
   "execution_count": 24,
   "id": "ea78dbc6-35d0-4550-9b58-94b8a4011389",
   "metadata": {},
   "outputs": [
    {
     "data": {
      "text/html": [
       "<div>\n",
       "<style scoped>\n",
       "    .dataframe tbody tr th:only-of-type {\n",
       "        vertical-align: middle;\n",
       "    }\n",
       "\n",
       "    .dataframe tbody tr th {\n",
       "        vertical-align: top;\n",
       "    }\n",
       "\n",
       "    .dataframe thead th {\n",
       "        text-align: right;\n",
       "    }\n",
       "</style>\n",
       "<table border=\"1\" class=\"dataframe\">\n",
       "  <thead>\n",
       "    <tr style=\"text-align: right;\">\n",
       "      <th></th>\n",
       "      <th>term</th>\n",
       "      <th>estimate</th>\n",
       "      <th>std_error</th>\n",
       "      <th>statistic</th>\n",
       "      <th>p_value</th>\n",
       "      <th>s_value</th>\n",
       "      <th>conf_low</th>\n",
       "      <th>conf_high</th>\n",
       "    </tr>\n",
       "  </thead>\n",
       "  <tbody>\n",
       "    <tr>\n",
       "      <th>0</th>\n",
       "      <td>Row 1 - Row 2</td>\n",
       "      <td>0.092309</td>\n",
       "      <td>0.034453</td>\n",
       "      <td>2.679272</td>\n",
       "      <td>7.378243e-03</td>\n",
       "      <td>7.082507</td>\n",
       "      <td>0.024782</td>\n",
       "      <td>0.159836</td>\n",
       "    </tr>\n",
       "    <tr>\n",
       "      <th>1</th>\n",
       "      <td>Row 1 - Row 3</td>\n",
       "      <td>0.338467</td>\n",
       "      <td>0.126328</td>\n",
       "      <td>2.679272</td>\n",
       "      <td>7.378245e-03</td>\n",
       "      <td>7.082507</td>\n",
       "      <td>0.090869</td>\n",
       "      <td>0.586065</td>\n",
       "    </tr>\n",
       "    <tr>\n",
       "      <th>2</th>\n",
       "      <td>Row 1 - Row 4</td>\n",
       "      <td>-0.136790</td>\n",
       "      <td>0.109444</td>\n",
       "      <td>-1.249861</td>\n",
       "      <td>2.113505e-01</td>\n",
       "      <td>2.242291</td>\n",
       "      <td>-0.351296</td>\n",
       "      <td>0.077717</td>\n",
       "    </tr>\n",
       "    <tr>\n",
       "      <th>3</th>\n",
       "      <td>Row 1 - Row 5</td>\n",
       "      <td>0.053031</td>\n",
       "      <td>0.101205</td>\n",
       "      <td>0.523992</td>\n",
       "      <td>6.002839e-01</td>\n",
       "      <td>0.736283</td>\n",
       "      <td>-0.145328</td>\n",
       "      <td>0.251389</td>\n",
       "    </tr>\n",
       "    <tr>\n",
       "      <th>4</th>\n",
       "      <td>Row 1 - Row 6</td>\n",
       "      <td>0.559219</td>\n",
       "      <td>0.125408</td>\n",
       "      <td>4.459201</td>\n",
       "      <td>8.226583e-06</td>\n",
       "      <td>16.891275</td>\n",
       "      <td>0.313424</td>\n",
       "      <td>0.805014</td>\n",
       "    </tr>\n",
       "    <tr>\n",
       "      <th>5</th>\n",
       "      <td>Row 2 - Row 3</td>\n",
       "      <td>0.246158</td>\n",
       "      <td>0.091875</td>\n",
       "      <td>2.679272</td>\n",
       "      <td>7.378245e-03</td>\n",
       "      <td>7.082507</td>\n",
       "      <td>0.066086</td>\n",
       "      <td>0.426229</td>\n",
       "    </tr>\n",
       "    <tr>\n",
       "      <th>6</th>\n",
       "      <td>Row 2 - Row 4</td>\n",
       "      <td>-0.229099</td>\n",
       "      <td>0.098585</td>\n",
       "      <td>-2.323867</td>\n",
       "      <td>2.013263e-02</td>\n",
       "      <td>5.634321</td>\n",
       "      <td>-0.422323</td>\n",
       "      <td>-0.035875</td>\n",
       "    </tr>\n",
       "    <tr>\n",
       "      <th>7</th>\n",
       "      <td>Row 2 - Row 5</td>\n",
       "      <td>-0.039278</td>\n",
       "      <td>0.089351</td>\n",
       "      <td>-0.439598</td>\n",
       "      <td>6.602280e-01</td>\n",
       "      <td>0.598964</td>\n",
       "      <td>-0.214402</td>\n",
       "      <td>0.135845</td>\n",
       "    </tr>\n",
       "    <tr>\n",
       "      <th>8</th>\n",
       "      <td>Row 2 - Row 6</td>\n",
       "      <td>0.466910</td>\n",
       "      <td>0.116052</td>\n",
       "      <td>4.023267</td>\n",
       "      <td>5.739648e-05</td>\n",
       "      <td>14.088678</td>\n",
       "      <td>0.239451</td>\n",
       "      <td>0.694369</td>\n",
       "    </tr>\n",
       "    <tr>\n",
       "      <th>9</th>\n",
       "      <td>Row 3 - Row 4</td>\n",
       "      <td>-0.475257</td>\n",
       "      <td>0.123699</td>\n",
       "      <td>-3.842037</td>\n",
       "      <td>1.220176e-04</td>\n",
       "      <td>13.000623</td>\n",
       "      <td>-0.717702</td>\n",
       "      <td>-0.232811</td>\n",
       "    </tr>\n",
       "    <tr>\n",
       "      <th>10</th>\n",
       "      <td>Row 3 - Row 5</td>\n",
       "      <td>-0.285436</td>\n",
       "      <td>0.116473</td>\n",
       "      <td>-2.450664</td>\n",
       "      <td>1.425932e-02</td>\n",
       "      <td>6.131952</td>\n",
       "      <td>-0.513719</td>\n",
       "      <td>-0.057153</td>\n",
       "    </tr>\n",
       "    <tr>\n",
       "      <th>11</th>\n",
       "      <td>Row 3 - Row 6</td>\n",
       "      <td>0.220752</td>\n",
       "      <td>0.138024</td>\n",
       "      <td>1.599379</td>\n",
       "      <td>1.097365e-01</td>\n",
       "      <td>3.187885</td>\n",
       "      <td>-0.049769</td>\n",
       "      <td>0.491274</td>\n",
       "    </tr>\n",
       "    <tr>\n",
       "      <th>12</th>\n",
       "      <td>Row 4 - Row 5</td>\n",
       "      <td>0.189821</td>\n",
       "      <td>0.032160</td>\n",
       "      <td>5.902403</td>\n",
       "      <td>3.582456e-09</td>\n",
       "      <td>28.056404</td>\n",
       "      <td>0.126788</td>\n",
       "      <td>0.252853</td>\n",
       "    </tr>\n",
       "    <tr>\n",
       "      <th>13</th>\n",
       "      <td>Row 4 - Row 6</td>\n",
       "      <td>0.696009</td>\n",
       "      <td>0.117920</td>\n",
       "      <td>5.902403</td>\n",
       "      <td>3.582456e-09</td>\n",
       "      <td>28.056404</td>\n",
       "      <td>0.464891</td>\n",
       "      <td>0.927127</td>\n",
       "    </tr>\n",
       "    <tr>\n",
       "      <th>14</th>\n",
       "      <td>Row 5 - Row 6</td>\n",
       "      <td>0.506188</td>\n",
       "      <td>0.085760</td>\n",
       "      <td>5.902403</td>\n",
       "      <td>3.582456e-09</td>\n",
       "      <td>28.056404</td>\n",
       "      <td>0.338102</td>\n",
       "      <td>0.674274</td>\n",
       "    </tr>\n",
       "  </tbody>\n",
       "</table>\n",
       "</div>"
      ],
      "text/plain": [
       "             term  estimate  std_error  statistic       p_value    s_value  \\\n",
       "0   Row 1 - Row 2  0.092309   0.034453   2.679272  7.378243e-03   7.082507   \n",
       "1   Row 1 - Row 3  0.338467   0.126328   2.679272  7.378245e-03   7.082507   \n",
       "2   Row 1 - Row 4 -0.136790   0.109444  -1.249861  2.113505e-01   2.242291   \n",
       "3   Row 1 - Row 5  0.053031   0.101205   0.523992  6.002839e-01   0.736283   \n",
       "4   Row 1 - Row 6  0.559219   0.125408   4.459201  8.226583e-06  16.891275   \n",
       "5   Row 2 - Row 3  0.246158   0.091875   2.679272  7.378245e-03   7.082507   \n",
       "6   Row 2 - Row 4 -0.229099   0.098585  -2.323867  2.013263e-02   5.634321   \n",
       "7   Row 2 - Row 5 -0.039278   0.089351  -0.439598  6.602280e-01   0.598964   \n",
       "8   Row 2 - Row 6  0.466910   0.116052   4.023267  5.739648e-05  14.088678   \n",
       "9   Row 3 - Row 4 -0.475257   0.123699  -3.842037  1.220176e-04  13.000623   \n",
       "10  Row 3 - Row 5 -0.285436   0.116473  -2.450664  1.425932e-02   6.131952   \n",
       "11  Row 3 - Row 6  0.220752   0.138024   1.599379  1.097365e-01   3.187885   \n",
       "12  Row 4 - Row 5  0.189821   0.032160   5.902403  3.582456e-09  28.056404   \n",
       "13  Row 4 - Row 6  0.696009   0.117920   5.902403  3.582456e-09  28.056404   \n",
       "14  Row 5 - Row 6  0.506188   0.085760   5.902403  3.582456e-09  28.056404   \n",
       "\n",
       "    conf_low  conf_high  \n",
       "0   0.024782   0.159836  \n",
       "1   0.090869   0.586065  \n",
       "2  -0.351296   0.077717  \n",
       "3  -0.145328   0.251389  \n",
       "4   0.313424   0.805014  \n",
       "5   0.066086   0.426229  \n",
       "6  -0.422323  -0.035875  \n",
       "7  -0.214402   0.135845  \n",
       "8   0.239451   0.694369  \n",
       "9  -0.717702  -0.232811  \n",
       "10 -0.513719  -0.057153  \n",
       "11 -0.049769   0.491274  \n",
       "12  0.126788   0.252853  \n",
       "13  0.464891   0.927127  \n",
       "14  0.338102   0.674274  "
      ]
     },
     "execution_count": 24,
     "metadata": {},
     "output_type": "execute_result"
    }
   ],
   "source": [
    "# Clunky comparisons\n",
    "me.predictions(model4, \n",
    "               newdata=datagrid4,\n",
    "               hypothesis='pairwise').to_pandas()"
   ]
  },
  {
   "cell_type": "markdown",
   "id": "1af41d99-98df-4c7d-8d25-d1b7d79147ca",
   "metadata": {},
   "source": [
    "This sort of approach is sometimes useful, but a cleaner technique is not to dwell on the individual predictions, but rather to look at the simple slopes!"
   ]
  },
  {
   "cell_type": "markdown",
   "id": "99988025-6d26-4627-886d-9f5ebd34c657",
   "metadata": {},
   "source": [
    "#### Exploring more interactions - categorical and continuous - **slopes** \n",
    "When dealing with situations like this, its almost always better to focus instead on the simple slopes. These represent, quite literally, the slope the continuous variable has at *the level of another variable*, which might be continuous or categorical itself. Its akin to asking this question:\n",
    "\n",
    "- How much does Y change with a 1-unit increase in X, when Z is fixed to a specific category?\n",
    "Or, here:\n",
    "- How much does marital satisfaction change when years married increases by 1 year, when gender is fixed to male or female?\n",
    "\n",
    "This is a much cleaner approach as it removes the need to make lots of comparisons and instead directly checks the associations of a predictor and the dependent variable, fixing one variable at specific value. Lets see how this works, using the `me.slopes` function. First, examining the slopes visually makes it clear something is going on:"
   ]
  },
  {
   "cell_type": "code",
   "execution_count": 25,
   "id": "65201499-f7f6-4238-b93a-ec46226b92fb",
   "metadata": {},
   "outputs": [
    {
     "data": {
      "text/plain": [
       "<Axes: xlabel='yearsmarried', ylabel='estimate'>"
      ]
     },
     "execution_count": 25,
     "metadata": {},
     "output_type": "execute_result"
    },
    {
     "data": {
      "image/png": "[encoded data removed]",
      "text/plain": [
       "<Figure size 640x480 with 1 Axes>"
      ]
     },
     "metadata": {},
     "output_type": "display_data"
    }
   ],
   "source": [
    "# Plot\n",
    "sns.lineplot(data=predictions4,\n",
    "             x='yearsmarried', y='estimate', \n",
    "             hue='gender')"
   ]
  },
  {
   "cell_type": "markdown",
   "id": "18ae853f-8e43-4eec-b71a-f76fb9aa7542",
   "metadata": {},
   "source": [
    "Lets use `me.slopes` to work those out. Notice here we don't actually specify a new data grid, but simply say which variable to figure out the slopes for (`yearsmarried` in this case), and which variable to do this over (`gender`)."
   ]
  },
  {
   "cell_type": "code",
   "execution_count": 26,
   "id": "5134e532-8950-4d41-a795-13af353f43ba",
   "metadata": {},
   "outputs": [
    {
     "data": {
      "text/html": [
       "<div><style>\n",
       ".dataframe > thead > tr,\n",
       ".dataframe > tbody > tr {\n",
       "  text-align: right;\n",
       "  white-space: pre-wrap;\n",
       "}\n",
       "</style>\n",
       "<small>shape: (2, 10)</small><table border=\"1\" class=\"dataframe\"><thead><tr><th>gender</th><th>term</th><th>contrast</th><th>estimate</th><th>std_error</th><th>statistic</th><th>p_value</th><th>s_value</th><th>conf_low</th><th>conf_high</th></tr><tr><td>str</td><td>str</td><td>str</td><td>f64</td><td>f64</td><td>f64</td><td>f64</td><td>f64</td><td>f64</td><td>f64</td></tr></thead><tbody><tr><td>&quot;female&quot;</td><td>&quot;yearsmarried&quot;</td><td>&quot;mean(dY/dX)&quot;</td><td>-0.063274</td><td>0.010686</td><td>-5.921164</td><td>3.1967e-9</td><td>28.220764</td><td>-0.084218</td><td>-0.042329</td></tr><tr><td>&quot;male&quot;</td><td>&quot;yearsmarried&quot;</td><td>&quot;mean(dY/dX)&quot;</td><td>-0.03077</td><td>0.011479</td><td>-2.680526</td><td>0.007351</td><td>7.087913</td><td>-0.053268</td><td>-0.008271</td></tr></tbody></table></div>"
      ],
      "text/plain": [
       "shape: (2, 10)\n",
       "┌────────┬──────────────┬─────────────┬──────────┬───┬─────────┬──────┬─────────┬──────────┐\n",
       "│ gender ┆ Term         ┆ Contrast    ┆ Estimate ┆ … ┆ P(>|z|) ┆ S    ┆ 2.5%    ┆ 97.5%    │\n",
       "│ ---    ┆ ---          ┆ ---         ┆ ---      ┆   ┆ ---     ┆ ---  ┆ ---     ┆ ---      │\n",
       "│ str    ┆ str          ┆ str         ┆ str      ┆   ┆ str     ┆ str  ┆ str     ┆ str      │\n",
       "╞════════╪══════════════╪═════════════╪══════════╪═══╪═════════╪══════╪═════════╪══════════╡\n",
       "│ female ┆ yearsmarried ┆ mean(dY/dX) ┆ -0.0633  ┆ … ┆ 3.2e-09 ┆ 28.2 ┆ -0.0842 ┆ -0.0423  │\n",
       "│ male   ┆ yearsmarried ┆ mean(dY/dX) ┆ -0.0308  ┆ … ┆ 0.00735 ┆ 7.09 ┆ -0.0533 ┆ -0.00827 │\n",
       "└────────┴──────────────┴─────────────┴──────────┴───┴─────────┴──────┴─────────┴──────────┘\n",
       "\n",
       "Columns: gender, term, contrast, estimate, std_error, statistic, p_value, s_value, conf_low, conf_high"
      ]
     },
     "metadata": {},
     "output_type": "display_data"
    }
   ],
   "source": [
    "# slopes\n",
    "slopes = me.slopes(model4, \n",
    "                   variables='yearsmarried', \n",
    "                   by='gender')\n",
    "display(slopes)"
   ]
  },
  {
   "cell_type": "markdown",
   "id": "7650fb88-a29b-4a13-a7d4-df1218facf5d",
   "metadata": {},
   "source": [
    "Aligned with the figure, females show a steeper decline than males (a more negative slope). We can ask whether there is a difference between those slopes in the usual way, e.g."
   ]
  },
  {
   "cell_type": "code",
   "execution_count": 27,
   "id": "baefeb65-0fe5-4f1d-9095-b72d05db7609",
   "metadata": {},
   "outputs": [
    {
     "data": {
      "text/html": [
       "<div><style>\n",
       ".dataframe > thead > tr,\n",
       ".dataframe > tbody > tr {\n",
       "  text-align: right;\n",
       "  white-space: pre-wrap;\n",
       "}\n",
       "</style>\n",
       "<small>shape: (1, 8)</small><table border=\"1\" class=\"dataframe\"><thead><tr><th>term</th><th>estimate</th><th>std_error</th><th>statistic</th><th>p_value</th><th>s_value</th><th>conf_low</th><th>conf_high</th></tr><tr><td>str</td><td>f64</td><td>f64</td><td>f64</td><td>f64</td><td>f64</td><td>f64</td><td>f64</td></tr></thead><tbody><tr><td>&quot;Row 1 - Row 2&quot;</td><td>-0.032504</td><td>0.015699</td><td>-2.070494</td><td>0.038406</td><td>4.702519</td><td>-0.063273</td><td>-0.001735</td></tr></tbody></table></div>"
      ],
      "text/plain": [
       "shape: (1, 8)\n",
       "┌───────────────┬──────────┬───────────┬───────┬─────────┬─────┬─────────┬──────────┐\n",
       "│ Term          ┆ Estimate ┆ Std.Error ┆ z     ┆ P(>|z|) ┆ S   ┆ 2.5%    ┆ 97.5%    │\n",
       "│ ---           ┆ ---      ┆ ---       ┆ ---   ┆ ---     ┆ --- ┆ ---     ┆ ---      │\n",
       "│ str           ┆ str      ┆ str       ┆ str   ┆ str     ┆ str ┆ str     ┆ str      │\n",
       "╞═══════════════╪══════════╪═══════════╪═══════╪═════════╪═════╪═════════╪══════════╡\n",
       "│ Row 1 - Row 2 ┆ -0.0325  ┆ 0.0157    ┆ -2.07 ┆ 0.0384  ┆ 4.7 ┆ -0.0633 ┆ -0.00174 │\n",
       "└───────────────┴──────────┴───────────┴───────┴─────────┴─────┴─────────┴──────────┘\n",
       "\n",
       "Columns: term, estimate, std_error, statistic, p_value, s_value, conf_low, conf_high"
      ]
     },
     "execution_count": 27,
     "metadata": {},
     "output_type": "execute_result"
    }
   ],
   "source": [
    "# Test for differences therein\n",
    "me.slopes(model4, \n",
    "          variables='yearsmarried', \n",
    "          by='gender',\n",
    "          hypothesis='pairwise')"
   ]
  },
  {
   "cell_type": "markdown",
   "id": "150bb983-8a94-4f31-80b6-22f2a4802b38",
   "metadata": {},
   "source": [
    "### Exploring more interactions - continuous and continuous!\n"
   ]
  },
  {
   "cell_type": "markdown",
   "id": "b161f730-3ba3-4b6b-a06a-cd361c583968",
   "metadata": {},
   "source": [
    "Let us now consider a model that has an interaction between two continuous predictors, and how marginal predictions can help us interpret them. Here, we build a model that predicts marital satisfaction from number of years married and education. We are interested in whether those with more education and longer marriages are happier than those with less education.\n",
    "\n",
    "First we fit the model:"
   ]
  },
  {
   "cell_type": "code",
   "execution_count": 28,
   "id": "bcaa88fc-4c46-44e1-bae1-ab3308f1cd7a",
   "metadata": {},
   "outputs": [
    {
     "data": {
      "text/html": [
       "<table class=\"simpletable\">\n",
       "<caption>OLS Regression Results</caption>\n",
       "<tr>\n",
       "  <th>Dep. Variable:</th>     <td>rating</td>   <th>  R-squared:         </th> <td>   0.097</td>\n",
       "</tr>\n",
       "<tr>\n",
       "  <th>Model:</th>               <td>OLS</td>    <th>  Adj. R-squared:    </th> <td>   0.092</td>\n",
       "</tr>\n",
       "<tr>\n",
       "  <th>No. Observations:</th>  <td>   601</td>   <th>  F-statistic:       </th> <td>   21.28</td>\n",
       "</tr>\n",
       "<tr>\n",
       "  <th>Covariance Type:</th>  <td>nonrobust</td> <th>  Prob (F-statistic):</th> <td>4.17e-13</td>\n",
       "</tr>\n",
       "</table>\n",
       "<table class=\"simpletable\">\n",
       "<tr>\n",
       "             <td></td>               <th>coef</th>     <th>std err</th>      <th>t</th>      <th>P>|t|</th>  <th>[0.025</th>    <th>0.975]</th>  \n",
       "</tr>\n",
       "<tr>\n",
       "  <th>Intercept</th>              <td>    5.4446</td> <td>    0.589</td> <td>    9.246</td> <td> 0.000</td> <td>    4.288</td> <td>    6.601</td>\n",
       "</tr>\n",
       "<tr>\n",
       "  <th>yearsmarried</th>           <td>   -0.2574</td> <td>    0.054</td> <td>   -4.798</td> <td> 0.000</td> <td>   -0.363</td> <td>   -0.152</td>\n",
       "</tr>\n",
       "<tr>\n",
       "  <th>education</th>              <td>   -0.0700</td> <td>    0.036</td> <td>   -1.919</td> <td> 0.056</td> <td>   -0.142</td> <td>    0.002</td>\n",
       "</tr>\n",
       "<tr>\n",
       "  <th>yearsmarried:education</th> <td>    0.0130</td> <td>    0.003</td> <td>    3.924</td> <td> 0.000</td> <td>    0.006</td> <td>    0.019</td>\n",
       "</tr>\n",
       "</table><br/><br/>Notes:<br/>[1] Standard Errors assume that the covariance matrix of the errors is correctly specified.<br/>[2] The condition number is large, 2.26e+03. This might indicate that there are<br/>strong multicollinearity or other numerical problems."
      ],
      "text/latex": [
       "\\begin{center}\n",
       "\\begin{tabular}{lclc}\n",
       "\\toprule\n",
       "\\textbf{Dep. Variable:}         &     rating    & \\textbf{  R-squared:         } &     0.097   \\\\\n",
       "\\textbf{Model:}                 &      OLS      & \\textbf{  Adj. R-squared:    } &     0.092   \\\\\n",
       "\\textbf{No. Observations:}      &        601    & \\textbf{  F-statistic:       } &     21.28   \\\\\n",
       "\\textbf{Covariance Type:}       &   nonrobust   & \\textbf{  Prob (F-statistic):} &  4.17e-13   \\\\\n",
       "\\bottomrule\n",
       "\\end{tabular}\n",
       "\\begin{tabular}{lcccccc}\n",
       "                                & \\textbf{coef} & \\textbf{std err} & \\textbf{t} & \\textbf{P$> |$t$|$} & \\textbf{[0.025} & \\textbf{0.975]}  \\\\\n",
       "\\midrule\n",
       "\\textbf{Intercept}              &       5.4446  &        0.589     &     9.246  &         0.000        &        4.288    &        6.601     \\\\\n",
       "\\textbf{yearsmarried}           &      -0.2574  &        0.054     &    -4.798  &         0.000        &       -0.363    &       -0.152     \\\\\n",
       "\\textbf{education}              &      -0.0700  &        0.036     &    -1.919  &         0.056        &       -0.142    &        0.002     \\\\\n",
       "\\textbf{yearsmarried:education} &       0.0130  &        0.003     &     3.924  &         0.000        &        0.006    &        0.019     \\\\\n",
       "\\bottomrule\n",
       "\\end{tabular}\n",
       "%\\caption{OLS Regression Results}\n",
       "\\end{center}\n",
       "\n",
       "Notes: \\newline\n",
       " [1] Standard Errors assume that the covariance matrix of the errors is correctly specified. \\newline\n",
       " [2] The condition number is large, 2.26e+03. This might indicate that there are \\newline\n",
       " strong multicollinearity or other numerical problems."
      ],
      "text/plain": [
       "<class 'statsmodels.iolib.summary.Summary'>\n",
       "\"\"\"\n",
       "                            OLS Regression Results                            \n",
       "==============================================================================\n",
       "Dep. Variable:                 rating   R-squared:                       0.097\n",
       "Model:                            OLS   Adj. R-squared:                  0.092\n",
       "No. Observations:                 601   F-statistic:                     21.28\n",
       "Covariance Type:            nonrobust   Prob (F-statistic):           4.17e-13\n",
       "==========================================================================================\n",
       "                             coef    std err          t      P>|t|      [0.025      0.975]\n",
       "------------------------------------------------------------------------------------------\n",
       "Intercept                  5.4446      0.589      9.246      0.000       4.288       6.601\n",
       "yearsmarried              -0.2574      0.054     -4.798      0.000      -0.363      -0.152\n",
       "education                 -0.0700      0.036     -1.919      0.056      -0.142       0.002\n",
       "yearsmarried:education     0.0130      0.003      3.924      0.000       0.006       0.019\n",
       "==========================================================================================\n",
       "\n",
       "Notes:\n",
       "[1] Standard Errors assume that the covariance matrix of the errors is correctly specified.\n",
       "[2] The condition number is large, 2.26e+03. This might indicate that there are\n",
       "strong multicollinearity or other numerical problems.\n",
       "\"\"\""
      ]
     },
     "execution_count": 28,
     "metadata": {},
     "output_type": "execute_result"
    }
   ],
   "source": [
    "# Model 5\n",
    "model5 = smf.ols('rating ~ yearsmarried * education', data=affairs).fit()\n",
    "model5.summary(slim=True)"
   ]
  },
  {
   "cell_type": "markdown",
   "id": "cfd7578a-0550-4af8-8780-0045958814d9",
   "metadata": {},
   "source": [
    "How should we proceed in terms of inference, given we can see the interaction effect is significant?\n",
    "\n",
    "Much like before, we can select some points on which to compare our variables, and try to interpret the differences between them.\n",
    "\n",
    "Here, I've chosen to predict for marriages of lengths 1, 5, 10, and 20 years, and educational attainment of 10, 12, 18, and 20. "
   ]
  },
  {
   "cell_type": "code",
   "execution_count": 29,
   "id": "04d8009c-5015-4d49-9e49-b938d56f97c9",
   "metadata": {},
   "outputs": [],
   "source": [
    "# Create a datagrid\n",
    "datagrid5 = me.datagrid(model5,\n",
    "                        yearsmarried=[1, 5, 10, 20],\n",
    "                        education=[10, 12, 18, 20])\n",
    "\n",
    "# Generate predictions\n",
    "predictions5 = me.predictions(model5, newdata=datagrid5)"
   ]
  },
  {
   "cell_type": "markdown",
   "id": "34155e1e-5df1-4709-a188-42a8c4d55455",
   "metadata": {},
   "source": [
    "Plotting these predictions will help visualise what's going on."
   ]
  },
  {
   "cell_type": "code",
   "execution_count": 30,
   "id": "5f14d43f-5a11-4f68-a2b9-3fd796bcdc9c",
   "metadata": {},
   "outputs": [
    {
     "data": {
      "text/plain": [
       "<Axes: xlabel='yearsmarried', ylabel='estimate'>"
      ]
     },
     "execution_count": 30,
     "metadata": {},
     "output_type": "execute_result"
    },
    {
     "data": {
      "image/png": "[encoded data removed]",
      "text/plain": [
       "<Figure size 640x480 with 1 Axes>"
      ]
     },
     "metadata": {},
     "output_type": "display_data"
    }
   ],
   "source": [
    "# Plot\n",
    "sns.lineplot(data=predictions5, \n",
    "             x='yearsmarried', y='estimate',\n",
    "             hue='education')"
   ]
  },
  {
   "cell_type": "markdown",
   "id": "d484fc75-333d-4346-813a-e4b0baac2dbc",
   "metadata": {},
   "source": [
    "It is difficult to know where to begin! It is often simpler in these instances to pick one or two points and test differences. \n",
    "\n",
    "Lets say that we want to know whether the difference between educational attainment values 12 and 18 are significantly different at 10 and 20 years of marriage. That is achievable:"
   ]
  },
  {
   "cell_type": "code",
   "execution_count": 31,
   "id": "af1d3b3b-a5bd-4350-b832-1fc00dc8aa1f",
   "metadata": {},
   "outputs": [
    {
     "data": {
      "text/html": [
       "<div><style>\n",
       ".dataframe > thead > tr,\n",
       ".dataframe > tbody > tr {\n",
       "  text-align: right;\n",
       "  white-space: pre-wrap;\n",
       "}\n",
       "</style>\n",
       "<small>shape: (4, 18)</small><table border=\"1\" class=\"dataframe\"><thead><tr><th>yearsmarried</th><th>education</th><th>rowid</th><th>estimate</th><th>std_error</th><th>statistic</th><th>p_value</th><th>s_value</th><th>conf_low</th><th>conf_high</th><th>rownames</th><th>affairs</th><th>gender</th><th>age</th><th>children</th><th>religiousness</th><th>occupation</th><th>rating</th></tr><tr><td>i64</td><td>i64</td><td>i32</td><td>f64</td><td>f64</td><td>f64</td><td>f64</td><td>f64</td><td>f64</td><td>f64</td><td>i64</td><td>i64</td><td>str</td><td>f64</td><td>str</td><td>i64</td><td>i64</td><td>i64</td></tr></thead><tbody><tr><td>10</td><td>12</td><td>0</td><td>3.588739</td><td>0.087801</td><td>40.873459</td><td>0.0</td><td>inf</td><td>3.416652</td><td>3.760827</td><td>1418</td><td>0</td><td>&quot;female&quot;</td><td>32.487521</td><td>&quot;yes&quot;</td><td>4</td><td>5</td><td>5</td></tr><tr><td>10</td><td>18</td><td>1</td><td>3.947971</td><td>0.055455</td><td>71.192319</td><td>0.0</td><td>inf</td><td>3.839281</td><td>4.056661</td><td>1418</td><td>0</td><td>&quot;female&quot;</td><td>32.487521</td><td>&quot;yes&quot;</td><td>4</td><td>5</td><td>5</td></tr><tr><td>20</td><td>12</td><td>2</td><td>2.572324</td><td>0.189634</td><td>13.564647</td><td>0.0</td><td>inf</td><td>2.200648</td><td>2.944001</td><td>1418</td><td>0</td><td>&quot;female&quot;</td><td>32.487521</td><td>&quot;yes&quot;</td><td>4</td><td>5</td><td>5</td></tr><tr><td>20</td><td>18</td><td>3</td><td>3.71052</td><td>0.123796</td><td>29.972765</td><td>0.0</td><td>inf</td><td>3.467884</td><td>3.953156</td><td>1418</td><td>0</td><td>&quot;female&quot;</td><td>32.487521</td><td>&quot;yes&quot;</td><td>4</td><td>5</td><td>5</td></tr></tbody></table></div>"
      ],
      "text/plain": [
       "shape: (4, 9)\n",
       "┌──────────────┬───────────┬──────────┬───────────┬───┬─────────┬─────┬──────┬───────┐\n",
       "│ yearsmarried ┆ education ┆ Estimate ┆ Std.Error ┆ … ┆ P(>|z|) ┆ S   ┆ 2.5% ┆ 97.5% │\n",
       "│ ---          ┆ ---       ┆ ---      ┆ ---       ┆   ┆ ---     ┆ --- ┆ ---  ┆ ---   │\n",
       "│ str          ┆ str       ┆ str      ┆ str       ┆   ┆ str     ┆ str ┆ str  ┆ str   │\n",
       "╞══════════════╪═══════════╪══════════╪═══════════╪═══╪═════════╪═════╪══════╪═══════╡\n",
       "│ 10           ┆ 12        ┆ 3.59     ┆ 0.0878    ┆ … ┆ 0       ┆ inf ┆ 3.42 ┆ 3.76  │\n",
       "│ 10           ┆ 18        ┆ 3.95     ┆ 0.0555    ┆ … ┆ 0       ┆ inf ┆ 3.84 ┆ 4.06  │\n",
       "│ 20           ┆ 12        ┆ 2.57     ┆ 0.19      ┆ … ┆ 0       ┆ inf ┆ 2.2  ┆ 2.94  │\n",
       "│ 20           ┆ 18        ┆ 3.71     ┆ 0.124     ┆ … ┆ 0       ┆ inf ┆ 3.47 ┆ 3.95  │\n",
       "└──────────────┴───────────┴──────────┴───────────┴───┴─────────┴─────┴──────┴───────┘\n",
       "\n",
       "Columns: yearsmarried, education, rowid, estimate, std_error, statistic, p_value, s_value, conf_low, conf_high, rownames, affairs, gender, age, children, religiousness, occupation, rating"
      ]
     },
     "metadata": {},
     "output_type": "display_data"
    }
   ],
   "source": [
    "# Sensible predictions\n",
    "display(me.predictions(model5, \n",
    "                       newdata=me.datagrid(model5, yearsmarried=[10, 20], education=[12, 18])\n",
    "                      )\n",
    "       )"
   ]
  },
  {
   "cell_type": "markdown",
   "id": "36151c6a-6f55-4aa1-b790-b87de264b292",
   "metadata": {},
   "source": [
    "Repeat and actually test difference between rows 1 and 2 (married = 10, education varies):"
   ]
  },
  {
   "cell_type": "code",
   "execution_count": 32,
   "id": "22085f91-e48b-48a0-a265-13b5b2d7f371",
   "metadata": {},
   "outputs": [
    {
     "data": {
      "text/html": [
       "<div><style>\n",
       ".dataframe > thead > tr,\n",
       ".dataframe > tbody > tr {\n",
       "  text-align: right;\n",
       "  white-space: pre-wrap;\n",
       "}\n",
       "</style>\n",
       "<small>shape: (1, 8)</small><table border=\"1\" class=\"dataframe\"><thead><tr><th>term</th><th>estimate</th><th>std_error</th><th>statistic</th><th>p_value</th><th>s_value</th><th>conf_low</th><th>conf_high</th></tr><tr><td>str</td><td>f64</td><td>f64</td><td>f64</td><td>f64</td><td>f64</td><td>f64</td><td>f64</td></tr></thead><tbody><tr><td>&quot;b2=b1&quot;</td><td>0.359231</td><td>0.107544</td><td>3.340332</td><td>0.000837</td><td>10.222862</td><td>0.14845</td><td>0.570013</td></tr></tbody></table></div>"
      ],
      "text/plain": [
       "shape: (1, 8)\n",
       "┌───────┬──────────┬───────────┬──────┬──────────┬──────┬───────┬───────┐\n",
       "│ Term  ┆ Estimate ┆ Std.Error ┆ z    ┆ P(>|z|)  ┆ S    ┆ 2.5%  ┆ 97.5% │\n",
       "│ ---   ┆ ---      ┆ ---       ┆ ---  ┆ ---      ┆ ---  ┆ ---   ┆ ---   │\n",
       "│ str   ┆ str      ┆ str       ┆ str  ┆ str      ┆ str  ┆ str   ┆ str   │\n",
       "╞═══════╪══════════╪═══════════╪══════╪══════════╪══════╪═══════╪═══════╡\n",
       "│ b2=b1 ┆ 0.359    ┆ 0.108     ┆ 3.34 ┆ 0.000837 ┆ 10.2 ┆ 0.148 ┆ 0.57  │\n",
       "└───────┴──────────┴───────────┴──────┴──────────┴──────┴───────┴───────┘\n",
       "\n",
       "Columns: term, estimate, std_error, statistic, p_value, s_value, conf_low, conf_high"
      ]
     },
     "execution_count": 32,
     "metadata": {},
     "output_type": "execute_result"
    }
   ],
   "source": [
    "# Testing one specific hypothesis\n",
    "me.predictions(model5, \n",
    "               newdata=me.datagrid(model5, yearsmarried=[10], education=[12, 18]),\n",
    "               hypothesis='b2=b1')"
   ]
  },
  {
   "cell_type": "code",
   "execution_count": 33,
   "id": "85afae59-d350-4d64-a911-736d82e70679",
   "metadata": {},
   "outputs": [
    {
     "data": {
      "text/html": [
       "<div><style>\n",
       ".dataframe > thead > tr,\n",
       ".dataframe > tbody > tr {\n",
       "  text-align: right;\n",
       "  white-space: pre-wrap;\n",
       "}\n",
       "</style>\n",
       "<small>shape: (1, 8)</small><table border=\"1\" class=\"dataframe\"><thead><tr><th>term</th><th>estimate</th><th>std_error</th><th>statistic</th><th>p_value</th><th>s_value</th><th>conf_low</th><th>conf_high</th></tr><tr><td>str</td><td>f64</td><td>f64</td><td>f64</td><td>f64</td><td>f64</td><td>f64</td><td>f64</td></tr></thead><tbody><tr><td>&quot;b2=b1&quot;</td><td>1.138196</td><td>0.232581</td><td>4.893761</td><td>9.8927e-7</td><td>19.947132</td><td>0.682345</td><td>1.594046</td></tr></tbody></table></div>"
      ],
      "text/plain": [
       "shape: (1, 8)\n",
       "┌───────┬──────────┬───────────┬──────┬──────────┬──────┬───────┬───────┐\n",
       "│ Term  ┆ Estimate ┆ Std.Error ┆ z    ┆ P(>|z|)  ┆ S    ┆ 2.5%  ┆ 97.5% │\n",
       "│ ---   ┆ ---      ┆ ---       ┆ ---  ┆ ---      ┆ ---  ┆ ---   ┆ ---   │\n",
       "│ str   ┆ str      ┆ str       ┆ str  ┆ str      ┆ str  ┆ str   ┆ str   │\n",
       "╞═══════╪══════════╪═══════════╪══════╪══════════╪══════╪═══════╪═══════╡\n",
       "│ b2=b1 ┆ 1.14     ┆ 0.233     ┆ 4.89 ┆ 9.89e-07 ┆ 19.9 ┆ 0.682 ┆ 1.59  │\n",
       "└───────┴──────────┴───────────┴──────┴──────────┴──────┴───────┴───────┘\n",
       "\n",
       "Columns: term, estimate, std_error, statistic, p_value, s_value, conf_low, conf_high"
      ]
     },
     "execution_count": 33,
     "metadata": {},
     "output_type": "execute_result"
    }
   ],
   "source": [
    "# And repeats for another\n",
    "me.predictions(model5, \n",
    "               newdata=me.datagrid(model5, yearsmarried=[20], education=[12, 18]),\n",
    "               hypothesis='b2=b1')"
   ]
  },
  {
   "cell_type": "markdown",
   "id": "c668ec49-6477-44bf-8d14-443f09e42aef",
   "metadata": {},
   "source": [
    "Clearly a bigger difference at 20 years between the low and high education groups...\n",
    "\n",
    "But what if you want to compare whether the *difference at 20 years between the education values* is *significantly bigger* than the difference *at 10 years?* Thats a neccessary and complex question, but you can ask it by actually performing the calculation with the `hypothesis` argument on the full set of comparisons. Lets see all the necessary predictions again first:"
   ]
  },
  {
   "cell_type": "code",
   "execution_count": 34,
   "id": "261b09b5-a274-4932-b790-90eb9ba483ce",
   "metadata": {},
   "outputs": [
    {
     "data": {
      "text/html": [
       "<div><style>\n",
       ".dataframe > thead > tr,\n",
       ".dataframe > tbody > tr {\n",
       "  text-align: right;\n",
       "  white-space: pre-wrap;\n",
       "}\n",
       "</style>\n",
       "<small>shape: (4, 18)</small><table border=\"1\" class=\"dataframe\"><thead><tr><th>yearsmarried</th><th>education</th><th>rowid</th><th>estimate</th><th>std_error</th><th>statistic</th><th>p_value</th><th>s_value</th><th>conf_low</th><th>conf_high</th><th>rownames</th><th>affairs</th><th>gender</th><th>age</th><th>children</th><th>religiousness</th><th>occupation</th><th>rating</th></tr><tr><td>i64</td><td>i64</td><td>i32</td><td>f64</td><td>f64</td><td>f64</td><td>f64</td><td>f64</td><td>f64</td><td>f64</td><td>i64</td><td>i64</td><td>str</td><td>f64</td><td>str</td><td>i64</td><td>i64</td><td>i64</td></tr></thead><tbody><tr><td>10</td><td>12</td><td>0</td><td>3.588739</td><td>0.087801</td><td>40.873459</td><td>0.0</td><td>inf</td><td>3.416652</td><td>3.760827</td><td>1930</td><td>0</td><td>&quot;female&quot;</td><td>32.487521</td><td>&quot;yes&quot;</td><td>4</td><td>5</td><td>5</td></tr><tr><td>10</td><td>18</td><td>1</td><td>3.947971</td><td>0.055455</td><td>71.192319</td><td>0.0</td><td>inf</td><td>3.839281</td><td>4.056661</td><td>1930</td><td>0</td><td>&quot;female&quot;</td><td>32.487521</td><td>&quot;yes&quot;</td><td>4</td><td>5</td><td>5</td></tr><tr><td>20</td><td>12</td><td>2</td><td>2.572324</td><td>0.189634</td><td>13.564647</td><td>0.0</td><td>inf</td><td>2.200648</td><td>2.944001</td><td>1930</td><td>0</td><td>&quot;female&quot;</td><td>32.487521</td><td>&quot;yes&quot;</td><td>4</td><td>5</td><td>5</td></tr><tr><td>20</td><td>18</td><td>3</td><td>3.71052</td><td>0.123796</td><td>29.972765</td><td>0.0</td><td>inf</td><td>3.467884</td><td>3.953156</td><td>1930</td><td>0</td><td>&quot;female&quot;</td><td>32.487521</td><td>&quot;yes&quot;</td><td>4</td><td>5</td><td>5</td></tr></tbody></table></div>"
      ],
      "text/plain": [
       "shape: (4, 9)\n",
       "┌──────────────┬───────────┬──────────┬───────────┬───┬─────────┬─────┬──────┬───────┐\n",
       "│ yearsmarried ┆ education ┆ Estimate ┆ Std.Error ┆ … ┆ P(>|z|) ┆ S   ┆ 2.5% ┆ 97.5% │\n",
       "│ ---          ┆ ---       ┆ ---      ┆ ---       ┆   ┆ ---     ┆ --- ┆ ---  ┆ ---   │\n",
       "│ str          ┆ str       ┆ str      ┆ str       ┆   ┆ str     ┆ str ┆ str  ┆ str   │\n",
       "╞══════════════╪═══════════╪══════════╪═══════════╪═══╪═════════╪═════╪══════╪═══════╡\n",
       "│ 10           ┆ 12        ┆ 3.59     ┆ 0.0878    ┆ … ┆ 0       ┆ inf ┆ 3.42 ┆ 3.76  │\n",
       "│ 10           ┆ 18        ┆ 3.95     ┆ 0.0555    ┆ … ┆ 0       ┆ inf ┆ 3.84 ┆ 4.06  │\n",
       "│ 20           ┆ 12        ┆ 2.57     ┆ 0.19      ┆ … ┆ 0       ┆ inf ┆ 2.2  ┆ 2.94  │\n",
       "│ 20           ┆ 18        ┆ 3.71     ┆ 0.124     ┆ … ┆ 0       ┆ inf ┆ 3.47 ┆ 3.95  │\n",
       "└──────────────┴───────────┴──────────┴───────────┴───┴─────────┴─────┴──────┴───────┘\n",
       "\n",
       "Columns: yearsmarried, education, rowid, estimate, std_error, statistic, p_value, s_value, conf_low, conf_high, rownames, affairs, gender, age, children, religiousness, occupation, rating"
      ]
     },
     "execution_count": 34,
     "metadata": {},
     "output_type": "execute_result"
    }
   ],
   "source": [
    "# These are the predictions\n",
    "me.predictions(model5, \n",
    "               newdata=me.datagrid(model5,\n",
    "                                   yearsmarried=[10, 20],\n",
    "                                   education=[12, 18])\n",
    "              )"
   ]
  },
  {
   "cell_type": "markdown",
   "id": "ce6fa121-791a-4df7-b413-930c5b7ade73",
   "metadata": {},
   "source": [
    "We specifically want to see whether the difference between rows 3 and 4 (years married = 20, education 12 and 18) is bigger than rows 1 and 2 (years married = 10, education 12 and 18). We can do that literally translating that query into a hypothesis."
   ]
  },
  {
   "cell_type": "code",
   "execution_count": 35,
   "id": "f77f1b30-b47d-4bfc-b087-58feca38a521",
   "metadata": {},
   "outputs": [
    {
     "data": {
      "text/html": [
       "<div><style>\n",
       ".dataframe > thead > tr,\n",
       ".dataframe > tbody > tr {\n",
       "  text-align: right;\n",
       "  white-space: pre-wrap;\n",
       "}\n",
       "</style>\n",
       "<small>shape: (1, 8)</small><table border=\"1\" class=\"dataframe\"><thead><tr><th>term</th><th>estimate</th><th>std_error</th><th>statistic</th><th>p_value</th><th>s_value</th><th>conf_low</th><th>conf_high</th></tr><tr><td>str</td><td>f64</td><td>f64</td><td>f64</td><td>f64</td><td>f64</td><td>f64</td><td>f64</td></tr></thead><tbody><tr><td>&quot;b4-b3=b2-b1&quot;</td><td>0.778964</td><td>0.198529</td><td>3.923689</td><td>0.000087</td><td>13.485259</td><td>0.389855</td><td>1.168073</td></tr></tbody></table></div>"
      ],
      "text/plain": [
       "shape: (1, 8)\n",
       "┌─────────────┬──────────┬───────────┬──────┬──────────┬──────┬──────┬───────┐\n",
       "│ Term        ┆ Estimate ┆ Std.Error ┆ z    ┆ P(>|z|)  ┆ S    ┆ 2.5% ┆ 97.5% │\n",
       "│ ---         ┆ ---      ┆ ---       ┆ ---  ┆ ---      ┆ ---  ┆ ---  ┆ ---   │\n",
       "│ str         ┆ str      ┆ str       ┆ str  ┆ str      ┆ str  ┆ str  ┆ str   │\n",
       "╞═════════════╪══════════╪═══════════╪══════╪══════════╪══════╪══════╪═══════╡\n",
       "│ b4-b3=b2-b1 ┆ 0.779    ┆ 0.199     ┆ 3.92 ┆ 8.72e-05 ┆ 13.5 ┆ 0.39 ┆ 1.17  │\n",
       "└─────────────┴──────────┴───────────┴──────┴──────────┴──────┴──────┴───────┘\n",
       "\n",
       "Columns: term, estimate, std_error, statistic, p_value, s_value, conf_low, conf_high"
      ]
     },
     "execution_count": 35,
     "metadata": {},
     "output_type": "execute_result"
    }
   ],
   "source": [
    "# Answer the question!\n",
    "me.predictions(model5, \n",
    "               newdata=me.datagrid(model5,\n",
    "                                   yearsmarried=[10, 20],\n",
    "                                   education=[12, 18]),\n",
    "               hypothesis='b4-b3 = b2-b1'\n",
    "              )"
   ]
  },
  {
   "cell_type": "markdown",
   "id": "c27b27b4-22b5-495f-957f-059118f23cf0",
   "metadata": {},
   "source": [
    "This is indeed significant and reveals a closer insight into what the model understands. \n",
    "\n",
    "Of course, another approach is to compare slopes. We saw how to do this earlier in a continuous by categorical interaction situation, but here, everything is continuous.\n",
    "\n",
    "The solution is essentially a combination of using a datagrid and the `slopes` command. We pick some candidate values for our predictors, generate a datagrid, and then compute the slopes for one over the other variable. \n",
    "\n",
    "To be explicit, first we will plot the slopes. I want the slopes for three levels of education - 9, 14, and 20. Call these low, medium, and high. I want these slopes for as many years married as we care to consider as we will be averaging over it soon enough. This looks like the below:"
   ]
  },
  {
   "cell_type": "code",
   "execution_count": 36,
   "id": "b19e37aa-1320-45f3-b3a8-8f4950f14128",
   "metadata": {},
   "outputs": [
    {
     "data": {
      "text/plain": [
       "<Axes: xlabel='yearsmarried', ylabel='estimate'>"
      ]
     },
     "execution_count": 36,
     "metadata": {},
     "output_type": "execute_result"
    },
    {
     "data": {
      "image/png": "[encoded data removed]",
      "text/plain": [
       "<Figure size 640x480 with 1 Axes>"
      ]
     },
     "metadata": {},
     "output_type": "display_data"
    }
   ],
   "source": [
    "# Get our datagrid\n",
    "slopes_datagrid = me.datagrid(model5, \n",
    "                              yearsmarried=[0.5, 1, 2, 3, 5, 10, 20],\n",
    "                              education=[9, 14, 20])\n",
    "\n",
    "# Predict them\n",
    "p = me.predictions(model5, newdata=slopes_datagrid)\n",
    "\n",
    "# Plot them\n",
    "sns.lineplot(data=p,\n",
    "             x='yearsmarried', y='estimate',\n",
    "             hue='education')"
   ]
  },
  {
   "cell_type": "markdown",
   "id": "fd6b9a2d-8c7e-40b1-a59f-b8ecc6f2eb99",
   "metadata": {},
   "source": [
    "What do we expect? The slope for an educational attainment of 20 is basically zero - a flat line! For 14, it is negative but not too steep, but for 9, it is very steep and negative. So lets obtain those three values and see how they look, which we do with a combination of our existing data grid and the variables/by arguments you've already seen:"
   ]
  },
  {
   "cell_type": "code",
   "execution_count": 37,
   "id": "6a14d692-53d0-44db-9c33-4faab39fa1fc",
   "metadata": {},
   "outputs": [
    {
     "data": {
      "text/html": [
       "<div><style>\n",
       ".dataframe > thead > tr,\n",
       ".dataframe > tbody > tr {\n",
       "  text-align: right;\n",
       "  white-space: pre-wrap;\n",
       "}\n",
       "</style>\n",
       "<small>shape: (3, 10)</small><table border=\"1\" class=\"dataframe\"><thead><tr><th>education</th><th>term</th><th>contrast</th><th>estimate</th><th>std_error</th><th>statistic</th><th>p_value</th><th>s_value</th><th>conf_low</th><th>conf_high</th></tr><tr><td>i64</td><td>str</td><td>str</td><td>f64</td><td>f64</td><td>f64</td><td>f64</td><td>f64</td><td>f64</td><td>f64</td></tr></thead><tbody><tr><td>9</td><td>&quot;yearsmarried&quot;</td><td>&quot;mean(dY/dX)&quot;</td><td>-0.14059</td><td>0.024533</td><td>-5.730699</td><td>1.0002e-8</td><td>26.57517</td><td>-0.188673</td><td>-0.092506</td></tr><tr><td>14</td><td>&quot;yearsmarried&quot;</td><td>&quot;mean(dY/dX)&quot;</td><td>-0.075676</td><td>0.010247</td><td>-7.385323</td><td>1.5210e-13</td><td>42.58004</td><td>-0.095759</td><td>-0.055593</td></tr><tr><td>20</td><td>&quot;yearsmarried&quot;</td><td>&quot;mean(dY/dX)&quot;</td><td>0.00222</td><td>0.015143</td><td>0.146624</td><td>0.883429</td><td>0.178814</td><td>-0.02746</td><td>0.031901</td></tr></tbody></table></div>"
      ],
      "text/plain": [
       "shape: (3, 10)\n",
       "┌───────────┬──────────────┬─────────────┬──────────┬───┬──────────┬───────┬─────────┬─────────┐\n",
       "│ education ┆ Term         ┆ Contrast    ┆ Estimate ┆ … ┆ P(>|z|)  ┆ S     ┆ 2.5%    ┆ 97.5%   │\n",
       "│ ---       ┆ ---          ┆ ---         ┆ ---      ┆   ┆ ---      ┆ ---   ┆ ---     ┆ ---     │\n",
       "│ str       ┆ str          ┆ str         ┆ str      ┆   ┆ str      ┆ str   ┆ str     ┆ str     │\n",
       "╞═══════════╪══════════════╪═════════════╪══════════╪═══╪══════════╪═══════╪═════════╪═════════╡\n",
       "│ 9         ┆ yearsmarried ┆ mean(dY/dX) ┆ -0.141   ┆ … ┆ 1e-08    ┆ 26.6  ┆ -0.189  ┆ -0.0925 │\n",
       "│ 14        ┆ yearsmarried ┆ mean(dY/dX) ┆ -0.0757  ┆ … ┆ 1.52e-13 ┆ 42.6  ┆ -0.0958 ┆ -0.0556 │\n",
       "│ 20        ┆ yearsmarried ┆ mean(dY/dX) ┆ 0.00222  ┆ … ┆ 0.883    ┆ 0.179 ┆ -0.0275 ┆ 0.0319  │\n",
       "└───────────┴──────────────┴─────────────┴──────────┴───┴──────────┴───────┴─────────┴─────────┘\n",
       "\n",
       "Columns: education, term, contrast, estimate, std_error, statistic, p_value, s_value, conf_low, conf_high"
      ]
     },
     "execution_count": 37,
     "metadata": {},
     "output_type": "execute_result"
    }
   ],
   "source": [
    "# Slopes for ultimate insight\n",
    "final_slopes = me.slopes(model5,\n",
    "                         newdata=slopes_datagrid,\n",
    "                         variables='yearsmarried', # average over this\n",
    "                         by='education') # for each of these\n",
    "final_slopes"
   ]
  },
  {
   "cell_type": "markdown",
   "id": "6f107c33-5016-44af-9dbe-8b97e7967941",
   "metadata": {},
   "source": [
    "The slope for an educational attainment of 20 is not significantly different from zero. As we predicted, for 14 its negative, and for 9, its much more steep. We can infact compare those if we want to using `hypothesis` - e.g - does the jump from 9 to 14 really slow your decline in marital satisfaction?"
   ]
  },
  {
   "cell_type": "code",
   "execution_count": 38,
   "id": "a7bcb038-3484-4e27-8ad6-b90ce71e1b47",
   "metadata": {},
   "outputs": [
    {
     "data": {
      "text/html": [
       "<div><style>\n",
       ".dataframe > thead > tr,\n",
       ".dataframe > tbody > tr {\n",
       "  text-align: right;\n",
       "  white-space: pre-wrap;\n",
       "}\n",
       "</style>\n",
       "<small>shape: (1, 8)</small><table border=\"1\" class=\"dataframe\"><thead><tr><th>term</th><th>estimate</th><th>std_error</th><th>statistic</th><th>p_value</th><th>s_value</th><th>conf_low</th><th>conf_high</th></tr><tr><td>str</td><td>f64</td><td>f64</td><td>f64</td><td>f64</td><td>f64</td><td>f64</td><td>f64</td></tr></thead><tbody><tr><td>&quot;b2=b1&quot;</td><td>0.064914</td><td>0.016538</td><td>3.925054</td><td>0.000087</td><td>13.493439</td><td>0.032499</td><td>0.097328</td></tr></tbody></table></div>"
      ],
      "text/plain": [
       "shape: (1, 8)\n",
       "┌───────┬──────────┬───────────┬──────┬──────────┬──────┬────────┬────────┐\n",
       "│ Term  ┆ Estimate ┆ Std.Error ┆ z    ┆ P(>|z|)  ┆ S    ┆ 2.5%   ┆ 97.5%  │\n",
       "│ ---   ┆ ---      ┆ ---       ┆ ---  ┆ ---      ┆ ---  ┆ ---    ┆ ---    │\n",
       "│ str   ┆ str      ┆ str       ┆ str  ┆ str      ┆ str  ┆ str    ┆ str    │\n",
       "╞═══════╪══════════╪═══════════╪══════╪══════════╪══════╪════════╪════════╡\n",
       "│ b2=b1 ┆ 0.0649   ┆ 0.0165    ┆ 3.93 ┆ 8.67e-05 ┆ 13.5 ┆ 0.0325 ┆ 0.0973 │\n",
       "└───────┴──────────┴───────────┴──────┴──────────┴──────┴────────┴────────┘\n",
       "\n",
       "Columns: term, estimate, std_error, statistic, p_value, s_value, conf_low, conf_high"
      ]
     },
     "execution_count": 38,
     "metadata": {},
     "output_type": "execute_result"
    }
   ],
   "source": [
    "# Yes!\n",
    "me.slopes(model5,\n",
    "          newdata=slopes_datagrid,\n",
    "          variables='yearsmarried', # average over this\n",
    "          by='education', # for each of these\n",
    "          hypothesis='b2 = b1')"
   ]
  },
  {
   "cell_type": "markdown",
   "id": "bd536fd4-b321-418a-a662-57f4376ddc0c",
   "metadata": {},
   "source": [
    "### Answering bespoke questions\n",
    "You have seen so far how the model-based approach can answer some more complex questions than are usually posed and answered by psychology. We can now turn to an advanced use case, which is to use models to answer questions about individuals.\n",
    "\n",
    "Imagine a female friend who has been married to her partner for 10 years, has a high level of educational attainment, and is aged 32. Her partner and her are considering having a child. She wants to know how this will change her marital happiness. How can we help? Traditional statistics in psychology cannot, despite this being a very psychologically based question. Our model can answer this for us. All we need do is build a model that considers the interactions of these variables, and have it predict two things.\n",
    "\n",
    "The first should be our friends characteristics exactly as they are now. \n",
    "The second should be our friends altered characteristics, e.g., she then has a child.\n",
    "\n",
    "Then we can work out the difference and provide an answer. Lets do this, using the exact same logic we have already seen.\n",
    "\n",
    "First, the model."
   ]
  },
  {
   "cell_type": "code",
   "execution_count": 43,
   "id": "97faa05d-b18c-4ee2-84e3-3b54264a1c84",
   "metadata": {},
   "outputs": [
    {
     "data": {
      "text/html": [
       "<div><style>\n",
       ".dataframe > thead > tr,\n",
       ".dataframe > tbody > tr {\n",
       "  text-align: right;\n",
       "  white-space: pre-wrap;\n",
       "}\n",
       "</style>\n",
       "<small>shape: (2, 10)</small><table border=\"1\" class=\"dataframe\"><thead><tr><th>gender</th><th>yearsmarried</th><th>age</th><th>education</th><th>children</th><th>rownames</th><th>affairs</th><th>religiousness</th><th>occupation</th><th>rating</th></tr><tr><td>str</td><td>i64</td><td>i64</td><td>i64</td><td>str</td><td>i64</td><td>i64</td><td>i64</td><td>i64</td><td>i64</td></tr></thead><tbody><tr><td>&quot;female&quot;</td><td>10</td><td>32</td><td>20</td><td>&quot;no&quot;</td><td>172</td><td>0</td><td>4</td><td>5</td><td>5</td></tr><tr><td>&quot;female&quot;</td><td>10</td><td>32</td><td>20</td><td>&quot;yes&quot;</td><td>172</td><td>0</td><td>4</td><td>5</td><td>5</td></tr></tbody></table></div>"
      ],
      "text/plain": [
       "shape: (2, 10)\n",
       "┌────────┬──────────────┬─────┬───────────┬───┬─────────┬───────────────┬────────────┬────────┐\n",
       "│ gender ┆ yearsmarried ┆ age ┆ education ┆ … ┆ affairs ┆ religiousness ┆ occupation ┆ rating │\n",
       "│ ---    ┆ ---          ┆ --- ┆ ---       ┆   ┆ ---     ┆ ---           ┆ ---        ┆ ---    │\n",
       "│ str    ┆ i64          ┆ i64 ┆ i64       ┆   ┆ i64     ┆ i64           ┆ i64        ┆ i64    │\n",
       "╞════════╪══════════════╪═════╪═══════════╪═══╪═════════╪═══════════════╪════════════╪════════╡\n",
       "│ female ┆ 10           ┆ 32  ┆ 20        ┆ … ┆ 0       ┆ 4             ┆ 5          ┆ 5      │\n",
       "│ female ┆ 10           ┆ 32  ┆ 20        ┆ … ┆ 0       ┆ 4             ┆ 5          ┆ 5      │\n",
       "└────────┴──────────────┴─────┴───────────┴───┴─────────┴───────────────┴────────────┴────────┘"
      ]
     },
     "metadata": {},
     "output_type": "display_data"
    }
   ],
   "source": [
    "# Fit the model with all variables in it\n",
    "individual_mod = smf.ols('rating ~ gender * scale(yearsmarried) * scale(age) * scale(education) * children', data=affairs).fit()\n",
    "\n",
    "# Create a datagrid that fits the profile\n",
    "profile = me.datagrid(individual_mod,\n",
    "                      gender='female',\n",
    "                      yearsmarried=10,\n",
    "                      age=32,\n",
    "                      education=20,\n",
    "                      children=['no', 'yes']\n",
    "                     )\n",
    "\n",
    "# Show the profile\n",
    "display(profile)"
   ]
  },
  {
   "cell_type": "markdown",
   "id": "086d0f16-7187-45ae-8ba5-cef685d89b83",
   "metadata": {},
   "source": [
    "All we now need do is recover these predictions and examine the difference."
   ]
  },
  {
   "cell_type": "code",
   "execution_count": 44,
   "id": "8341ae5e-69ab-4d9c-bac1-ad1468c69f90",
   "metadata": {},
   "outputs": [
    {
     "data": {
      "text/html": [
       "<div><style>\n",
       ".dataframe > thead > tr,\n",
       ".dataframe > tbody > tr {\n",
       "  text-align: right;\n",
       "  white-space: pre-wrap;\n",
       "}\n",
       "</style>\n",
       "<small>shape: (2, 18)</small><table border=\"1\" class=\"dataframe\"><thead><tr><th>gender</th><th>yearsmarried</th><th>age</th><th>education</th><th>children</th><th>rowid</th><th>estimate</th><th>std_error</th><th>statistic</th><th>p_value</th><th>s_value</th><th>conf_low</th><th>conf_high</th><th>rownames</th><th>affairs</th><th>religiousness</th><th>occupation</th><th>rating</th></tr><tr><td>str</td><td>i64</td><td>i64</td><td>i64</td><td>str</td><td>i32</td><td>f64</td><td>f64</td><td>f64</td><td>f64</td><td>f64</td><td>f64</td><td>f64</td><td>i64</td><td>i64</td><td>i64</td><td>i64</td><td>i64</td></tr></thead><tbody><tr><td>&quot;female&quot;</td><td>10</td><td>32</td><td>20</td><td>&quot;no&quot;</td><td>0</td><td>3.233479</td><td>0.726611</td><td>4.450081</td><td>0.000009</td><td>16.829955</td><td>1.809347</td><td>4.65761</td><td>172</td><td>0</td><td>4</td><td>5</td><td>5</td></tr><tr><td>&quot;female&quot;</td><td>10</td><td>32</td><td>20</td><td>&quot;yes&quot;</td><td>1</td><td>4.414754</td><td>0.284761</td><td>15.503391</td><td>0.0</td><td>inf</td><td>3.856634</td><td>4.972875</td><td>172</td><td>0</td><td>4</td><td>5</td><td>5</td></tr></tbody></table></div>"
      ],
      "text/plain": [
       "shape: (2, 12)\n",
       "┌────────┬──────────────┬─────┬───────────┬───┬──────────┬──────┬──────┬───────┐\n",
       "│ gender ┆ yearsmarried ┆ age ┆ education ┆ … ┆ P(>|z|)  ┆ S    ┆ 2.5% ┆ 97.5% │\n",
       "│ ---    ┆ ---          ┆ --- ┆ ---       ┆   ┆ ---      ┆ ---  ┆ ---  ┆ ---   │\n",
       "│ str    ┆ str          ┆ str ┆ str       ┆   ┆ str      ┆ str  ┆ str  ┆ str   │\n",
       "╞════════╪══════════════╪═════╪═══════════╪═══╪══════════╪══════╪══════╪═══════╡\n",
       "│ female ┆ 10           ┆ 32  ┆ 20        ┆ … ┆ 8.58e-06 ┆ 16.8 ┆ 1.81 ┆ 4.66  │\n",
       "│ female ┆ 10           ┆ 32  ┆ 20        ┆ … ┆ 0        ┆ inf  ┆ 3.86 ┆ 4.97  │\n",
       "└────────┴──────────────┴─────┴───────────┴───┴──────────┴──────┴──────┴───────┘\n",
       "\n",
       "Columns: gender, yearsmarried, age, education, children, rowid, estimate, std_error, statistic, p_value, s_value, conf_low, conf_high, rownames, affairs, religiousness, occupation, rating"
      ]
     },
     "execution_count": 44,
     "metadata": {},
     "output_type": "execute_result"
    }
   ],
   "source": [
    "# Make the predictions\n",
    "me.predictions(individual_mod, newdata=profile)"
   ]
  },
  {
   "cell_type": "markdown",
   "id": "c043e631-9e33-4df2-8a23-cb3ff39c1a13",
   "metadata": {},
   "source": [
    "And the contrast:"
   ]
  },
  {
   "cell_type": "code",
   "execution_count": 49,
   "id": "e11958b6-ca07-42e8-b525-5a99b4e2161c",
   "metadata": {},
   "outputs": [
    {
     "data": {
      "text/html": [
       "<div><style>\n",
       ".dataframe > thead > tr,\n",
       ".dataframe > tbody > tr {\n",
       "  text-align: right;\n",
       "  white-space: pre-wrap;\n",
       "}\n",
       "</style>\n",
       "<small>shape: (1, 8)</small><table border=\"1\" class=\"dataframe\"><thead><tr><th>term</th><th>estimate</th><th>std_error</th><th>statistic</th><th>p_value</th><th>s_value</th><th>conf_low</th><th>conf_high</th></tr><tr><td>str</td><td>f64</td><td>f64</td><td>f64</td><td>f64</td><td>f64</td><td>f64</td><td>f64</td></tr></thead><tbody><tr><td>&quot;b2=b1&quot;</td><td>1.181275</td><td>0.780418</td><td>1.513644</td><td>0.130116</td><td>2.942129</td><td>-0.348316</td><td>2.710867</td></tr></tbody></table></div>"
      ],
      "text/plain": [
       "shape: (1, 8)\n",
       "┌───────┬──────────┬───────────┬──────┬─────────┬──────┬────────┬───────┐\n",
       "│ Term  ┆ Estimate ┆ Std.Error ┆ z    ┆ P(>|z|) ┆ S    ┆ 2.5%   ┆ 97.5% │\n",
       "│ ---   ┆ ---      ┆ ---       ┆ ---  ┆ ---     ┆ ---  ┆ ---    ┆ ---   │\n",
       "│ str   ┆ str      ┆ str       ┆ str  ┆ str     ┆ str  ┆ str    ┆ str   │\n",
       "╞═══════╪══════════╪═══════════╪══════╪═════════╪══════╪════════╪═══════╡\n",
       "│ b2=b1 ┆ 1.18     ┆ 0.78      ┆ 1.51 ┆ 0.13    ┆ 2.94 ┆ -0.348 ┆ 2.71  │\n",
       "└───────┴──────────┴───────────┴──────┴─────────┴──────┴────────┴───────┘\n",
       "\n",
       "Columns: term, estimate, std_error, statistic, p_value, s_value, conf_low, conf_high"
      ]
     },
     "execution_count": 49,
     "metadata": {},
     "output_type": "execute_result"
    }
   ],
   "source": [
    "me.predictions(individual_mod, newdata=profile, hypothesis='b2=b1')"
   ]
  },
  {
   "cell_type": "markdown",
   "id": "252bacfa-6c29-4e0e-bc77-1256c0452dd4",
   "metadata": {},
   "source": [
    "According to the model, while our friend would see a rather large jump in their satisfaction of 1.18 units, this is a very uncertain outcome, and is not statistically significant. "
   ]
  }
 ],
 "metadata": {
  "kernelspec": {
   "display_name": "Python 3 (ipykernel)",
   "language": "python",
   "name": "python3"
  },
  "language_info": {
   "codemirror_mode": {
    "name": "ipython",
    "version": 3
   },
   "file_extension": ".py",
   "mimetype": "text/x-python",
   "name": "python",
   "nbconvert_exporter": "python",
   "pygments_lexer": "ipython3",
   "version": "3.11.8"
  }
 },
 "nbformat": 4,
 "nbformat_minor": 5
}
